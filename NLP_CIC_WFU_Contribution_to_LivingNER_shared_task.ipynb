{
  "cells": [
    {
      "cell_type": "markdown",
      "metadata": {
        "id": "view-in-github",
        "colab_type": "text"
      },
      "source": [
        "<a href=\"https://colab.research.google.com/github/ajtamayoh/NLP-CIC-WFU-Contribution-to-LivingNER-shared-task-2022/blob/main/NLP_CIC_WFU_Contribution_to_LivingNER_shared_task.ipynb\" target=\"_parent\"><img src=\"https://colab.research.google.com/assets/colab-badge.svg\" alt=\"Open In Colab\"/></a>"
      ]
    },
    {
      "cell_type": "markdown",
      "metadata": {
        "id": "Nml9hXt1NHXr"
      },
      "source": [
        "# NLP-CIC-WFU contribution to LivingNER shared task 2022 \n",
        "\n",
        "Here you are the source code for the paper:\n",
        "\n",
        "### Multilingual BERT for Spanish Named Entity Recognition and Normalization in Clinical Cases\n",
        "\n",
        "Authors:\n",
        "\n",
        "Antonio Tamayo (ajtamayo2019@ipn.cic.mx, ajtamayoh@gmail.com)\n",
        "\n",
        "Diego A. Burgos (burgosda@wfu.edu)\n",
        "\n",
        "Alexander Gelbulkh (gelbukh@gelbukh.com)\n",
        "\n",
        "For bugs or questions related to the code, do not hesitate to contact us (Antonio Tamayo: ajtamayoh@gmail.com)\n",
        "\n",
        "If you use this code please cite our work:\n",
        "\n"
      ]
    },
    {
      "cell_type": "markdown",
      "metadata": {
        "id": "6S9L_KErP3yM"
      },
      "source": [
        "# Requirements\n",
        "\n",
        "To run this code you need to download the dataset at: https://drive.google.com/drive/folders/1Tn7h3RMez23aF-iyD1YLQH4VxMNSq5sf?usp=sharing\n",
        "\n",
        "You must unzip and then upload, in the root of your Google Drive, the folder called \"Dataset\" previously downloaded."
      ]
    },
    {
      "cell_type": "markdown",
      "metadata": {
        "id": "3gGu8XvkQuHU"
      },
      "source": [
        "## About the infrastructure"
      ]
    },
    {
      "cell_type": "code",
      "execution_count": null,
      "metadata": {
        "colab": {
          "base_uri": "https://localhost:8080/"
        },
        "id": "9YCD8Yn8QvCr",
        "outputId": "b40ca597-26c9-4121-c802-002eb9da240c"
      },
      "outputs": [
        {
          "name": "stdout",
          "output_type": "stream",
          "text": [
            "Thu Jun  9 23:01:05 2022       \n",
            "+-----------------------------------------------------------------------------+\n",
            "| NVIDIA-SMI 460.32.03    Driver Version: 460.32.03    CUDA Version: 11.2     |\n",
            "|-------------------------------+----------------------+----------------------+\n",
            "| GPU  Name        Persistence-M| Bus-Id        Disp.A | Volatile Uncorr. ECC |\n",
            "| Fan  Temp  Perf  Pwr:Usage/Cap|         Memory-Usage | GPU-Util  Compute M. |\n",
            "|                               |                      |               MIG M. |\n",
            "|===============================+======================+======================|\n",
            "|   0  Tesla P100-PCIE...  Off  | 00000000:00:04.0 Off |                    0 |\n",
            "| N/A   38C    P0    32W / 250W |   8319MiB / 16280MiB |      0%      Default |\n",
            "|                               |                      |                  N/A |\n",
            "+-------------------------------+----------------------+----------------------+\n",
            "                                                                               \n",
            "+-----------------------------------------------------------------------------+\n",
            "| Processes:                                                                  |\n",
            "|  GPU   GI   CI        PID   Type   Process name                  GPU Memory |\n",
            "|        ID   ID                                                   Usage      |\n",
            "|=============================================================================|\n",
            "+-----------------------------------------------------------------------------+\n"
          ]
        }
      ],
      "source": [
        "gpu_info = !nvidia-smi\n",
        "gpu_info = '\\n'.join(gpu_info)\n",
        "if gpu_info.find('failed') >= 0:\n",
        "  print('Not connected to a GPU')\n",
        "else:\n",
        "  print(gpu_info)"
      ]
    },
    {
      "cell_type": "code",
      "execution_count": null,
      "metadata": {
        "colab": {
          "base_uri": "https://localhost:8080/"
        },
        "id": "PDijHzOMQzwA",
        "outputId": "12be6011-433a-4ca6-f735-ceb18bf09c65"
      },
      "outputs": [
        {
          "name": "stdout",
          "output_type": "stream",
          "text": [
            "Your runtime has 27.3 gigabytes of available RAM\n",
            "\n",
            "You are using a high-RAM runtime!\n"
          ]
        }
      ],
      "source": [
        "from psutil import virtual_memory\n",
        "ram_gb = virtual_memory().total / 1e9\n",
        "print('Your runtime has {:.1f} gigabytes of available RAM\\n'.format(ram_gb))\n",
        "\n",
        "if ram_gb < 20:\n",
        "  print('Not using a high-RAM runtime')\n",
        "else:\n",
        "  print('You are using a high-RAM runtime!')"
      ]
    },
    {
      "cell_type": "markdown",
      "metadata": {
        "id": "U64pk_flQ-nw"
      },
      "source": [
        "## Connecting to Google drive"
      ]
    },
    {
      "cell_type": "code",
      "execution_count": null,
      "metadata": {
        "colab": {
          "base_uri": "https://localhost:8080/"
        },
        "id": "rgzIfAnfaDR1",
        "outputId": "4c91e8c5-8bd0-4f6d-919a-5e88ee0ff9cb"
      },
      "outputs": [
        {
          "output_type": "stream",
          "name": "stdout",
          "text": [
            "Drive already mounted at /content/drive; to attempt to forcibly remount, call drive.mount(\"/content/drive\", force_remount=True).\n"
          ]
        }
      ],
      "source": [
        "from google.colab import drive\n",
        "drive.mount('/content/drive')"
      ]
    },
    {
      "cell_type": "markdown",
      "source": [
        "# Subtask 1 - NER"
      ],
      "metadata": {
        "id": "_HVY4mAtmMFL"
      }
    },
    {
      "cell_type": "markdown",
      "metadata": {
        "id": "V1ncKARiLoRQ"
      },
      "source": [
        "## Exploring & Preprocessing Data"
      ]
    },
    {
      "cell_type": "code",
      "execution_count": null,
      "metadata": {
        "id": "wZaPi7EMLrz8"
      },
      "outputs": [],
      "source": [
        "import pandas as pd\n",
        "import numpy as np\n",
        "import spacy"
      ]
    },
    {
      "cell_type": "code",
      "execution_count": null,
      "metadata": {
        "colab": {
          "base_uri": "https://localhost:8080/",
          "height": 206
        },
        "id": "5PLlHg0aLtGp",
        "outputId": "f5053dd8-5178-44c0-9364-ad07988ef32c"
      },
      "outputs": [
        {
          "output_type": "execute_result",
          "data": {
            "text/plain": [
              "      filename mark    label  off0  off1       span\n",
              "0  32032497_ES   T1    HUMAN   112   118     hombre\n",
              "1  32032497_ES   T2    HUMAN  1025  1033   paciente\n",
              "2  32032497_ES   T3    HUMAN  1098  1106   paciente\n",
              "3  32032497_ES   T4    HUMAN  1395  1403   paciente\n",
              "4  32032497_ES   T5  SPECIES  1075  1084  2019-nCoV"
            ],
            "text/html": [
              "\n",
              "  <div id=\"df-f6cce873-be35-44eb-8220-d357a3d200b7\">\n",
              "    <div class=\"colab-df-container\">\n",
              "      <div>\n",
              "<style scoped>\n",
              "    .dataframe tbody tr th:only-of-type {\n",
              "        vertical-align: middle;\n",
              "    }\n",
              "\n",
              "    .dataframe tbody tr th {\n",
              "        vertical-align: top;\n",
              "    }\n",
              "\n",
              "    .dataframe thead th {\n",
              "        text-align: right;\n",
              "    }\n",
              "</style>\n",
              "<table border=\"1\" class=\"dataframe\">\n",
              "  <thead>\n",
              "    <tr style=\"text-align: right;\">\n",
              "      <th></th>\n",
              "      <th>filename</th>\n",
              "      <th>mark</th>\n",
              "      <th>label</th>\n",
              "      <th>off0</th>\n",
              "      <th>off1</th>\n",
              "      <th>span</th>\n",
              "    </tr>\n",
              "  </thead>\n",
              "  <tbody>\n",
              "    <tr>\n",
              "      <th>0</th>\n",
              "      <td>32032497_ES</td>\n",
              "      <td>T1</td>\n",
              "      <td>HUMAN</td>\n",
              "      <td>112</td>\n",
              "      <td>118</td>\n",
              "      <td>hombre</td>\n",
              "    </tr>\n",
              "    <tr>\n",
              "      <th>1</th>\n",
              "      <td>32032497_ES</td>\n",
              "      <td>T2</td>\n",
              "      <td>HUMAN</td>\n",
              "      <td>1025</td>\n",
              "      <td>1033</td>\n",
              "      <td>paciente</td>\n",
              "    </tr>\n",
              "    <tr>\n",
              "      <th>2</th>\n",
              "      <td>32032497_ES</td>\n",
              "      <td>T3</td>\n",
              "      <td>HUMAN</td>\n",
              "      <td>1098</td>\n",
              "      <td>1106</td>\n",
              "      <td>paciente</td>\n",
              "    </tr>\n",
              "    <tr>\n",
              "      <th>3</th>\n",
              "      <td>32032497_ES</td>\n",
              "      <td>T4</td>\n",
              "      <td>HUMAN</td>\n",
              "      <td>1395</td>\n",
              "      <td>1403</td>\n",
              "      <td>paciente</td>\n",
              "    </tr>\n",
              "    <tr>\n",
              "      <th>4</th>\n",
              "      <td>32032497_ES</td>\n",
              "      <td>T5</td>\n",
              "      <td>SPECIES</td>\n",
              "      <td>1075</td>\n",
              "      <td>1084</td>\n",
              "      <td>2019-nCoV</td>\n",
              "    </tr>\n",
              "  </tbody>\n",
              "</table>\n",
              "</div>\n",
              "      <button class=\"colab-df-convert\" onclick=\"convertToInteractive('df-f6cce873-be35-44eb-8220-d357a3d200b7')\"\n",
              "              title=\"Convert this dataframe to an interactive table.\"\n",
              "              style=\"display:none;\">\n",
              "        \n",
              "  <svg xmlns=\"http://www.w3.org/2000/svg\" height=\"24px\"viewBox=\"0 0 24 24\"\n",
              "       width=\"24px\">\n",
              "    <path d=\"M0 0h24v24H0V0z\" fill=\"none\"/>\n",
              "    <path d=\"M18.56 5.44l.94 2.06.94-2.06 2.06-.94-2.06-.94-.94-2.06-.94 2.06-2.06.94zm-11 1L8.5 8.5l.94-2.06 2.06-.94-2.06-.94L8.5 2.5l-.94 2.06-2.06.94zm10 10l.94 2.06.94-2.06 2.06-.94-2.06-.94-.94-2.06-.94 2.06-2.06.94z\"/><path d=\"M17.41 7.96l-1.37-1.37c-.4-.4-.92-.59-1.43-.59-.52 0-1.04.2-1.43.59L10.3 9.45l-7.72 7.72c-.78.78-.78 2.05 0 2.83L4 21.41c.39.39.9.59 1.41.59.51 0 1.02-.2 1.41-.59l7.78-7.78 2.81-2.81c.8-.78.8-2.07 0-2.86zM5.41 20L4 18.59l7.72-7.72 1.47 1.35L5.41 20z\"/>\n",
              "  </svg>\n",
              "      </button>\n",
              "      \n",
              "  <style>\n",
              "    .colab-df-container {\n",
              "      display:flex;\n",
              "      flex-wrap:wrap;\n",
              "      gap: 12px;\n",
              "    }\n",
              "\n",
              "    .colab-df-convert {\n",
              "      background-color: #E8F0FE;\n",
              "      border: none;\n",
              "      border-radius: 50%;\n",
              "      cursor: pointer;\n",
              "      display: none;\n",
              "      fill: #1967D2;\n",
              "      height: 32px;\n",
              "      padding: 0 0 0 0;\n",
              "      width: 32px;\n",
              "    }\n",
              "\n",
              "    .colab-df-convert:hover {\n",
              "      background-color: #E2EBFA;\n",
              "      box-shadow: 0px 1px 2px rgba(60, 64, 67, 0.3), 0px 1px 3px 1px rgba(60, 64, 67, 0.15);\n",
              "      fill: #174EA6;\n",
              "    }\n",
              "\n",
              "    [theme=dark] .colab-df-convert {\n",
              "      background-color: #3B4455;\n",
              "      fill: #D2E3FC;\n",
              "    }\n",
              "\n",
              "    [theme=dark] .colab-df-convert:hover {\n",
              "      background-color: #434B5C;\n",
              "      box-shadow: 0px 1px 3px 1px rgba(0, 0, 0, 0.15);\n",
              "      filter: drop-shadow(0px 1px 2px rgba(0, 0, 0, 0.3));\n",
              "      fill: #FFFFFF;\n",
              "    }\n",
              "  </style>\n",
              "\n",
              "      <script>\n",
              "        const buttonEl =\n",
              "          document.querySelector('#df-f6cce873-be35-44eb-8220-d357a3d200b7 button.colab-df-convert');\n",
              "        buttonEl.style.display =\n",
              "          google.colab.kernel.accessAllowed ? 'block' : 'none';\n",
              "\n",
              "        async function convertToInteractive(key) {\n",
              "          const element = document.querySelector('#df-f6cce873-be35-44eb-8220-d357a3d200b7');\n",
              "          const dataTable =\n",
              "            await google.colab.kernel.invokeFunction('convertToInteractive',\n",
              "                                                     [key], {});\n",
              "          if (!dataTable) return;\n",
              "\n",
              "          const docLinkHtml = 'Like what you see? Visit the ' +\n",
              "            '<a target=\"_blank\" href=https://colab.research.google.com/notebooks/data_table.ipynb>data table notebook</a>'\n",
              "            + ' to learn more about interactive tables.';\n",
              "          element.innerHTML = '';\n",
              "          dataTable['output_type'] = 'display_data';\n",
              "          await google.colab.output.renderOutput(dataTable, element);\n",
              "          const docLink = document.createElement('div');\n",
              "          docLink.innerHTML = docLinkHtml;\n",
              "          element.appendChild(docLink);\n",
              "        }\n",
              "      </script>\n",
              "    </div>\n",
              "  </div>\n",
              "  "
            ]
          },
          "metadata": {},
          "execution_count": 3
        }
      ],
      "source": [
        "livingner_subtask1_training = pd.read_csv(\"/content/drive/MyDrive/Dataset/training_valid_test_background_multilingual/training/subtask1-NER/training_entities_subtask1.tsv\", delimiter=\"\\t\")\n",
        "livingner_subtask1_training.head()"
      ]
    },
    {
      "cell_type": "code",
      "execution_count": null,
      "metadata": {
        "colab": {
          "base_uri": "https://localhost:8080/"
        },
        "id": "hvUzO2FOALU6",
        "outputId": "58afa7b8-b9a4-4ad4-b396-0ad3d1eff755"
      },
      "outputs": [
        {
          "data": {
            "text/plain": [
              "array(['HUMAN', 'SPECIES'], dtype=object)"
            ]
          },
          "execution_count": 109,
          "metadata": {},
          "output_type": "execute_result"
        }
      ],
      "source": [
        "livingner_subtask1_training[\"label\"].unique()"
      ]
    },
    {
      "cell_type": "code",
      "execution_count": null,
      "metadata": {
        "id": "JnhX_oQ5CJfh"
      },
      "outputs": [],
      "source": [
        "text_files_path = \"/content/drive/MyDrive/Dataset/training_valid_test_background_multilingual/training/text-files\""
      ]
    },
    {
      "cell_type": "code",
      "execution_count": null,
      "metadata": {
        "colab": {
          "base_uri": "https://localhost:8080/"
        },
        "id": "DNIun4SYCzP5",
        "outputId": "7478619b-f77e-42a2-dacd-b2bfb989e8e6"
      },
      "outputs": [
        {
          "name": "stdout",
          "output_type": "stream",
          "text": [
            "﻿El 21 de enero de 2020, ingresó en el Hospital Popular de Wuwei un hombre de 47 años con fiebre sin foco y tos de 7 días de evolución. El paciente refirió que había tenido fiebre (hasta un máximo de 39,3 °C), tos productiva con esputo blanco, congestión nasal, rinorrea, mareo, fatiga, opresión torácica y náuseas, pero sin dolor torácico, irritación de garganta ni problemas respiratorios. Informó que había llegado a la ciudad de Wuwei en coche el 18 de enero, procedente de Wuhan. El paciente tenía antecedentes de hipertensión de grado 2 y diabetes de tipo 2 y era fumador desde los 27 años; no refirió antecedentes de alcoholismo. El 23, 29 y 30 de enero se tomaron frotis nasofaríngeos, de acuerdo con las directrices del CDC. Tras introducir un frotis nasofaríngeo en las fosas nasales, se gira sobre la mucosa nasofaríngea, de 10 a 15 segundos y, luego, se retira; finalmente se inserta en un tubo estéril con un medio de transporte vírico. Las muestras se analizaron mediante RT-PCR. Se detectaron tres genes objetivo: RdRP, E y N. La expresión positiva (valor CT ≤ 43) de los tres genes, de los genes RdRP y E o de los genes RdRP y N identifica el SARS-CoV-2 de modo concluyente. También se realizaron otras pruebas. El estudio fue autorizado por el comité de ética del Primer Hospital Asociado de la facultad de medicina de Wanan, observando los principios de la Declaración de Helsinki. Se obtuvo el consentimiento informado del paciente para usar su historia clínica en este estudio. \n",
            "\n",
            "\n",
            "\n",
            "A partir de las pruebas analíticas, radiografía torácica y la información clínica y epidemiológica, se trató al paciente con interferón α y metilprednisolona. No obstante, a causa del agravamiento súbito de los síntomas clínicos, como disnea espiratoria, deficiencia alimentaria y letargia, el 23 de enero se transfirió el paciente al Primer Hospital Asociado de la facultad de medicina de Wanan (Wuhu, China). Las pruebas analíticas se muestran en la tabla 1 (día 0). Los resultados indicaron que el paciente tenía constantes vitales estables, valores reducidos de linfocitos, valores altos de proteína C-reactiva y valores moderadamente altos de fibrinógeno, neutrófilos y deshidrogenasa láctica. Una TAC pulmonar mostró varias sombras dispersas de alta densidad repartidas principalmente en los márgenes de los pulmones, cambios consistentes con la observación de broncograma o de cambios de opacidad en vidrio esmerilado, además de un ligero engrosamiento pleural. Se inició politerapia con comprimidos de lopinavir y ritonavir (800/200 mg por día), metilprednisolona (40 mg por día), interferón humano recombinante α-2b (10 millones IU por día), clorhidrato de ambroxol (60 mg por día) y clorhidrato de moxifloxacino (0,4 g por día) para inhibir la proliferación del virus, aliviar el asma, eliminar la flema y aplicar el tratamiento antibiótico empírico. Además, se usó terapia de inhalación de oxígeno de alto flujo con humidificación para evitar la insuficiencia respiratoria aguda. También se aplicó tratamiento para el control de la glucemia y presión arterial y terapia de rehidratación. El segundo día de tratamiento, el paciente presentó febrícula intermitente (intervalo entre 36,0 °C y 37,2 °C). Con la excepción de una ocasional opresión torácica y disnea, se observó una mejora de los otros síntomas, como tos productiva con esputo blanco, congestión nasal, rinorrea, mareo y fatiga. El tercer día de tratamiento se redujo la metilprednisolona a 20 mg por día y el quinto día se retiró por completo. Además, el octavo día de tratamiento, se retiró la oxigenoterapia, gracias a la clara mejora de la capacidad respiratoria. A partir de los resultados negativos persistentes de SARS-CoV-2 los días 6 y 7, así como la eliminación parcial de las lesiones pulmonares (figura S1b), el paciente fue dado de alta el día 10. Durante el tratamiento, la temperatura, el pulso y la frecuencia respiratoria del paciente presentaron fluctuaciones leves (figura S1c) y las pruebas analíticas mostraron una mejora, sobre todo en la cifra de linfocitos.\n",
            "\n"
          ]
        }
      ],
      "source": [
        "f = open(text_files_path + \"/\" + livingner_subtask1_training.iloc[6,0] + \".txt\", \"r\", encoding=\"UTF-8\")\n",
        "for l in f:\n",
        "  print(l)"
      ]
    },
    {
      "cell_type": "code",
      "execution_count": null,
      "metadata": {
        "id": "mhs3W80KM7ZG"
      },
      "outputs": [],
      "source": [
        "#Clinical cases\n",
        "HCs = {}\n",
        "for fname in livingner_subtask1_training[\"filename\"]:\n",
        "  with open(text_files_path + \"/\" + fname + \".txt\", \"r\", encoding=\"UTF-8\") as f:\n",
        "    HCs.update({fname: f.read()})"
      ]
    },
    {
      "cell_type": "code",
      "execution_count": null,
      "metadata": {
        "colab": {
          "base_uri": "https://localhost:8080/"
        },
        "id": "kPDGRBTdLw_W",
        "outputId": "2d9a396e-2da2-454e-8bd6-49a047d2e1c6"
      },
      "outputs": [
        {
          "data": {
            "text/plain": [
              "1000"
            ]
          },
          "execution_count": 113,
          "metadata": {},
          "output_type": "execute_result"
        }
      ],
      "source": [
        "len(HCs)"
      ]
    },
    {
      "cell_type": "code",
      "execution_count": null,
      "metadata": {
        "id": "4D_CPkKjsCzz"
      },
      "outputs": [],
      "source": [
        "#Entities\n",
        "ENT = {}\n",
        "entities = []\n",
        "fn = livingner_subtask1_training[\"filename\"][0]\n",
        "for fname, ent, label in zip(livingner_subtask1_training[\"filename\"], livingner_subtask1_training[\"span\"], livingner_subtask1_training[\"label\"]):\n",
        "    if fname!=fn:\n",
        "      entities = []\n",
        "    entities.append((ent,label))\n",
        "    ENT.update({fname: entities})\n",
        "    fn = fname"
      ]
    },
    {
      "cell_type": "code",
      "execution_count": null,
      "metadata": {
        "colab": {
          "base_uri": "https://localhost:8080/"
        },
        "id": "8-aDUgrHULAi",
        "outputId": "a5df6f8c-5797-4bec-ac54-841e73de1ffe"
      },
      "outputs": [
        {
          "data": {
            "text/plain": [
              "1000"
            ]
          },
          "execution_count": 115,
          "metadata": {},
          "output_type": "execute_result"
        }
      ],
      "source": [
        "len(ENT)"
      ]
    },
    {
      "cell_type": "code",
      "execution_count": null,
      "metadata": {
        "colab": {
          "base_uri": "https://localhost:8080/",
          "height": 123
        },
        "id": "tNRlMovPn5mi",
        "outputId": "bb4d9d0d-f586-476b-af9f-0cc5c002287b"
      },
      "outputs": [
        {
          "data": {
            "application/vnd.google.colaboratory.intrinsic+json": {
              "type": "string"
            },
            "text/plain": [
              "'El 1 de enero de 2020, ingresó en el Union Hospital (facultad de medicina Tongji, Wuhan, provincia de Hubei) un hombre de 42 años con hipertermia (39,6 °C), tos y que refería fatiga de una semana de evolución. A la auscultación, se percibieron ruidos respiratorios bilaterales con estertores húmedos en las bases de ambos pulmones. Las pruebas analíticas mostraron leucocitopenia (cifra de leucocitos: 2,88 3 109/L) y linfocitosis (cifra de linfocitos: 0,90 3 109/L). La fórmula leucocitaria mostró un 56,6% de neutrófilos, un 32,1% de linfocitos y un 10,2% de monocitos. Varias pruebas analíticas adicionales dieron resultados anormales, como proteína C-reactiva (158,95 mg/L; intervalo normal: 0-10 mg/L), velocidad de sedimentación globular (38 mm/h; valor normal: 20 mm/h), proteína amiloide A sérica (607,1 mg/L; valor normal: 10 mg/L), aspartato-aminotransferasa (53 U/L; intervalo normal: 8-40 U/L) y alanina-aminotransferasa (60 U/L; intervalo normal: 5-40 U/L). La PCR de fluorescencia en tiempo real del esputo del paciente resultó positiva para ácido nucleico del 2019-nCoV . Se trató al paciente con antivirales (ganciclovir, oseltamivir) y antiinflamatorios (meropenem, linezolid), con tratamiento sintomático, desde el 1 de enero de 2020 hasta su alta el 25 de enero de 2020. Las pruebas consecutivas de diagnóstico por la imagen que se muestran en la figura ilustran la mejora del paciente tras la terapia.\\n'"
            ]
          },
          "execution_count": 116,
          "metadata": {},
          "output_type": "execute_result"
        }
      ],
      "source": [
        "HCs[\"32032497_ES\"]"
      ]
    },
    {
      "cell_type": "code",
      "execution_count": null,
      "metadata": {
        "colab": {
          "base_uri": "https://localhost:8080/"
        },
        "id": "mjmYjm_u7LBl",
        "outputId": "8d5aaef7-a990-47ad-bad4-1d6782f00ef7"
      },
      "outputs": [
        {
          "data": {
            "text/plain": [
              "[('hombre', 'HUMAN'),\n",
              " ('paciente', 'HUMAN'),\n",
              " ('paciente', 'HUMAN'),\n",
              " ('paciente', 'HUMAN'),\n",
              " ('2019-nCoV', 'SPECIES'),\n",
              " ('antivirales', 'SPECIES')]"
            ]
          },
          "execution_count": 117,
          "metadata": {},
          "output_type": "execute_result"
        }
      ],
      "source": [
        "ENT[\"32032497_ES\"]"
      ]
    },
    {
      "cell_type": "markdown",
      "metadata": {
        "id": "4ZSJ6gatRc9r"
      },
      "source": [
        "## Tokenization using SpaCy"
      ]
    },
    {
      "cell_type": "code",
      "execution_count": null,
      "metadata": {
        "id": "ocmTmRkiLtJM"
      },
      "outputs": [],
      "source": [
        "from spacy.lang.es import Spanish\n",
        "nlp = Spanish()\n",
        "# Create a Tokenizer with the default settings for Spanish\n",
        "# including punctuation rules and exceptions\n",
        "tokenizer_spacy = nlp.tokenizer"
      ]
    },
    {
      "cell_type": "code",
      "execution_count": null,
      "metadata": {
        "id": "orQHlLHJM7b3"
      },
      "outputs": [],
      "source": [
        "HCs_tokenized = []\n",
        "for hc in HCs:\n",
        "    hl = []\n",
        "    tokens = tokenizer_spacy(HCs[hc])\n",
        "    #tokens = HCs[hc].split(\" \") #The simplest option. It was not used in our work.\n",
        "    for t in tokens:\n",
        "        hl.append(str(t))\n",
        "    HCs_tokenized.append(hl)"
      ]
    },
    {
      "cell_type": "code",
      "execution_count": null,
      "metadata": {
        "colab": {
          "base_uri": "https://localhost:8080/"
        },
        "id": "rClFCgxnM7e4",
        "outputId": "3668407d-19c5-49a8-db27-8969b0ed7304"
      },
      "outputs": [
        {
          "data": {
            "text/plain": [
              "1000"
            ]
          },
          "execution_count": 120,
          "metadata": {},
          "output_type": "execute_result"
        }
      ],
      "source": [
        "len(HCs_tokenized)"
      ]
    },
    {
      "cell_type": "code",
      "execution_count": null,
      "metadata": {
        "id": "R0v803fyUFSM"
      },
      "outputs": [],
      "source": [
        "#HCs_tokenized[0]"
      ]
    },
    {
      "cell_type": "code",
      "execution_count": null,
      "metadata": {
        "id": "8xE2NudYNHey"
      },
      "outputs": [],
      "source": [
        "Ent_tokenized = []\n",
        "for ent in ENT:\n",
        "    Tks = []\n",
        "    for e in ENT[ent]:\n",
        "      sl = []\n",
        "      tokens = tokenizer_spacy(e[0])\n",
        "      #tokens = e.split(\" \")\n",
        "      for t in tokens:\n",
        "          sl.append(str(t))\n",
        "      Tks.append((sl,e[1]))\n",
        "    Ent_tokenized.append(Tks)"
      ]
    },
    {
      "cell_type": "code",
      "execution_count": null,
      "metadata": {
        "colab": {
          "base_uri": "https://localhost:8080/"
        },
        "id": "lMuPfY-XNHh4",
        "outputId": "2768b417-3d41-464d-e9d5-0540d44a97ff"
      },
      "outputs": [
        {
          "data": {
            "text/plain": [
              "1000"
            ]
          },
          "execution_count": 123,
          "metadata": {},
          "output_type": "execute_result"
        }
      ],
      "source": [
        "len(Ent_tokenized)"
      ]
    },
    {
      "cell_type": "code",
      "execution_count": null,
      "metadata": {
        "colab": {
          "base_uri": "https://localhost:8080/"
        },
        "id": "lR--IobbNHj6",
        "outputId": "3669def4-d17d-4f64-fd5b-084c323497b4"
      },
      "outputs": [
        {
          "data": {
            "text/plain": [
              "[(['enfermera', 'de', 'urgencias'], 'HUMAN'),\n",
              " (['hombre'], 'HUMAN'),\n",
              " (['médico', 'de', 'urgencias'], 'HUMAN'),\n",
              " (['paciente'], 'HUMAN'),\n",
              " (['paciente'], 'HUMAN'),\n",
              " (['paciente'], 'HUMAN'),\n",
              " (['pacientes'], 'HUMAN'),\n",
              " (['virus', 'respiratorios'], 'SPECIES'),\n",
              " (['personas'], 'HUMAN'),\n",
              " (['nCoV-19'], 'SPECIES'),\n",
              " (['nCoV-19'], 'SPECIES'),\n",
              " (['nCoV-19'], 'SPECIES'),\n",
              " (['nCoV-19'], 'SPECIES'),\n",
              " (['nCoV-19'], 'SPECIES'),\n",
              " (['operador', '1'], 'HUMAN'),\n",
              " (['operador', '2'], 'HUMAN'),\n",
              " (['operador', '1'], 'HUMAN'),\n",
              " (['operador', '2'], 'HUMAN'),\n",
              " (['operadores'], 'HUMAN'),\n",
              " (['contactos'], 'HUMAN')]"
            ]
          },
          "execution_count": 124,
          "metadata": {},
          "output_type": "execute_result"
        }
      ],
      "source": [
        "Ent_tokenized[4]"
      ]
    },
    {
      "cell_type": "markdown",
      "metadata": {
        "id": "vQu4uagdNePZ"
      },
      "source": [
        "## Tagging Data with IO scheme"
      ]
    },
    {
      "cell_type": "code",
      "execution_count": null,
      "metadata": {
        "id": "lKy-FSGdiWhY"
      },
      "outputs": [],
      "source": [
        "def find_idx(list_to_check, item_to_find):\n",
        "    indices = []\n",
        "    for idx, value in enumerate(list_to_check):\n",
        "        if value == item_to_find:\n",
        "            indices.append(idx)\n",
        "    return indices"
      ]
    },
    {
      "cell_type": "code",
      "execution_count": null,
      "metadata": {
        "colab": {
          "base_uri": "https://localhost:8080/"
        },
        "id": "ZH1kttsduhYF",
        "outputId": "b6fe2488-9030-4b04-b29f-4a56b454c8ff"
      },
      "outputs": [
        {
          "output_type": "stream",
          "name": "stdout",
          "text": [
            "['a', 'b', 'c', 'd', 'e', 'f', 'g', 'h', 'i', 'j', 'k', 'l', 'm', 'n', 'o', 'p', 'q', 'r', 's', 't', 'u', 'v', 'w', 'x', 'y', 'z']\n",
            "['A', 'B', 'C', 'D', 'E', 'F', 'G', 'H', 'I', 'J', 'K', 'L', 'M', 'N', 'O', 'P', 'Q', 'R', 'S', 'T', 'U', 'V', 'W', 'X', 'Y', 'Z']\n"
          ]
        }
      ],
      "source": [
        "# Generate a list of the alphabet in Python with a for loop\n",
        "Calphabet = []\n",
        "alphabet = []\n",
        "for i in range(97, 123):\n",
        "    Calphabet.append(chr(i).upper())\n",
        "    alphabet.append(chr(i))\n",
        "print(alphabet)\n",
        "print(Calphabet)"
      ]
    },
    {
      "cell_type": "code",
      "execution_count": null,
      "metadata": {
        "id": "pfSEt5AnK8eh"
      },
      "outputs": [],
      "source": [
        "import sys\n",
        "numbers = ['1','2','3','4','5','6','7','8','9','0']\n",
        "labels_tokenized = []\n",
        "idx =-1\n",
        "for hct, et in zip(HCs_tokenized, Ent_tokenized):\n",
        "    idx+=1\n",
        "    labels = []\n",
        "    for i in range(len(hct)):\n",
        "        #Labels: 0->'O'; 1->'Species'; 2->'Human'\n",
        "        #labels.append('O')\n",
        "        labels.append(0)\n",
        "\n",
        "    #For Entities\n",
        "    for enf in et:\n",
        "      s = enf[1]\n",
        "      for e in enf[0]:\n",
        "          if s == 'SPECIES':\n",
        "            try:\n",
        "              #labels[hct.index(e)] = 'S'\n",
        "              #labels[posLab] = 'S'\n",
        "              indices = find_idx(hct, e)\n",
        "              if len(indices) > 1:\n",
        "                for id in indices:\n",
        "                    if (e=='-' or e=='de' or e=='del' or e=='y' or e=='la' or e=='las' or e=='los' or e in numbers or e in Calphabet) and (labels[id-1])==0:\n",
        "                      continue\n",
        "                    labels[id] = 1\n",
        "              else:\n",
        "                labels[hct.index(e)] = 1\n",
        "            except:\n",
        "              if e == \"VIH)-1\" or e == \"VIH)-1/2\":\n",
        "                continue\n",
        "              print(hct)\n",
        "              print(et)\n",
        "              print(enf)\n",
        "              print(e)\n",
        "              print(idx)\n",
        "              sys.exit(0)\n",
        "          else:\n",
        "            try:\n",
        "              #labels[hct.index(e)] = 'H'\n",
        "              #labels[posLab] = 'H'\n",
        "              indices = find_idx(hct, e)\n",
        "              if len(indices) > 1:\n",
        "                for id in indices:\n",
        "                    if (e=='-' or e=='de' or e=='del' or e=='y' or e=='la' or e=='las' or e=='los' or e in numbers or e in Calphabet) and (labels[id-1]==0):\n",
        "                      continue\n",
        "                    labels[id] = 2\n",
        "              else:\n",
        "                labels[hct.index(e)] = 2\n",
        "            except:\n",
        "              if e == \"VIH)-1\" or e == \"VIH)-1/2\":\n",
        "                continue\n",
        "              print(hct)\n",
        "              print(et)\n",
        "              print(enf)\n",
        "              print(e)\n",
        "              print(idx)\n",
        "              sys.exit(0)\n",
        "\n",
        "    labels_tokenized.append(labels)"
      ]
    },
    {
      "cell_type": "code",
      "execution_count": null,
      "metadata": {
        "colab": {
          "base_uri": "https://localhost:8080/",
          "height": 36
        },
        "id": "qQHwlZqjL4QQ",
        "outputId": "60bce41b-cbe1-43ca-cb93-99d1ae55b03e"
      },
      "outputs": [
        {
          "data": {
            "application/vnd.google.colaboratory.intrinsic+json": {
              "type": "string"
            },
            "text/plain": [
              "'32161941_ES'"
            ]
          },
          "execution_count": 128,
          "metadata": {},
          "output_type": "execute_result"
        }
      ],
      "source": [
        "livingner_subtask1_training[\"filename\"].unique()[3]"
      ]
    },
    {
      "cell_type": "code",
      "execution_count": null,
      "metadata": {
        "colab": {
          "base_uri": "https://localhost:8080/",
          "height": 123
        },
        "id": "0M0Ed5TUSE3Q",
        "outputId": "437f9173-38b9-4307-c2a1-808d90e88579"
      },
      "outputs": [
        {
          "data": {
            "application/vnd.google.colaboratory.intrinsic+json": {
              "type": "string"
            },
            "text/plain": [
              "'La madre del paciente neonatal es una mujer embarazada de 34 años que vive cerca del mercado mayorista de marisco de Huanan (a unos 1,2 km de distancia), en Wuhan. No ha visitado el mercado durante su embarazo y su familia no tiene casos confirmados ni presuntos de COVID-19, pero en la misma comunidad en la que vive se han diagnosticado más de 15 personas. Tiene antecedentes de hipotiroidismo de 4 años de evolución y se ha tratado con fármacos por vía oral; no tiene antecedentes de hipertensión, diabetes ni cardiopatías. Tuvo un aborto en 2016 a causa de alteraciones cromosómicas. Es alérgica a la penicilina y a las cefalosporinas de primera generación (positivo en pruebas cutáneas).\\n\\nA las 20:00 h del 1 de febrero de 2020, la mujer, de 40 semanas de gestación, presentó una pequeña hemorragia vaginal y dolor en la región abdominal inferior. Dos horas después, presentó fiebre (37,8 °C) y acudió al centro de asistencia maternoinfantil de Wuhan. Como tenía fiebre, fue derivada al consultorio de enfermedades infecciosas del hospital Tongji de Wuhan a la mañana siguiente. Una TAC torácica mostró opacidades de vidrio esmerilado en los lóbulos superior e inferior izquierdos, lo que indicaba la posibilidad de neumonía vírica.\\n\\nTAC torácica de la madre, obtenida el 2 de febrero de 2020, que muestra signos de infección en los lóbulos inferior y superior izquierdos e indica la posibilidad de neumonía vírica, con enfisema reducido en el lóbulo inferior derecho y una pequeña afectación en el lóbulo medio derecho.\\n\\nLos análisis de sangre mostraron linfocitopenia (0,97 × 109 células/L [normal: 1,1–3,2 × 109 células/L]), neutrofilia (9,97 × 109 células/L [normal: 1,8–6,3 × 109 células/L]) y concentraciones altas de proteína C-reactiva (11,5 mg/L [normal: < 1 mg/L]). Se decidió hospitalizarla por presunta neumonía vírica.\\n\\nAl ingreso, su temperatura era de 37,8 °C, la presión arterial de 131/89 mmHg, la frecuencia respiratoria de 20 r.p.m. y el pulso de 96 l.p.m. No presentaba tos ni expectoración. El pulso fetal era de 136 l.p.m. y su registro no mostró anomalías. Se realizó una cesárea de urgencia. Intraoperatoriamente se observó líquido amniótico con meconio. A las 8:45 la paciente dio a luz un niño con un peso de 3025 g. Los índices de Apgar a 1 y 5 minutos fueron de 8 y 9, respectivamente. El niño no regurgitó tras el parto. La piel era rojiza y el lloro, alto. La madre llevó una mascarilla N95 durante la intervención y, tras el alumbramiento, el niño no tuvo contacto con la madre. El niño se transfirió a la planta de neonatología 10 minutos después del parto para estrecha vigilancia; la madre se transfirió a la planta de enfermedades infecciosas para su aislamiento tras la intervención.\\n\\nMedia hora después del parto, el niño vomitó una vez tras ser alimentado con leche artificial, y se consideró que tenía disfagia. Tras un lavado gástrico, el niño pudo ser alimentado sin complicaciones. Los análisis de sangre del recién nacido mostraron linfocitopenia (2,43 × 109 células/L [normal: 3–8 × 109 células/L]), pruebas funcionales hepáticas alteradas (aspartato-aminotransferasa 143 U/L [normal: ≤  41 U/L]; bilirrubina total 33,0 μmol/L [normal: ≤ 26 μmol/L]; bilirrubina indirecta 26,0 μmol/L [normal: ≤ 16,8 μmol/L]) y alta concentración de creatina-cinasa (479 U/L [normal: ≤  41 U/L]). Se administró penicilina G (150.000 U una vez por día, bolo intravenoso) y vitamina K1 (1 mg una vez por día, i.v.) como profilaxis antibiótica y para evitar coagulopatías, respectivamente.\\n\\nLa madre permaneció en buen estado y afebril durante el periodo posoperatorio inmediato. No presentó tos ni ninguna otra molestia, como diarrea, náuseas o vómitos. Sus constantes vitales fueron estables, con una saturación de oxígeno del 99%. Se le administró un tratamiento antivírico, con 40 μg de interferón α1b humano recombinante atomizado por vía inhalatoria con 2 mL de solución de esterilización dos veces por día y ganciclovir (0,25 g cada 12 horas, i.v.). También se le administró abipenem (0,3 g cada 12 horas, i.v.) y moxifloxacina (0,4 g una vez por día, i.v.) para prevenir infecciones. La madre tuvo fiebre intermitente durante el primer día del posoperatorio, llegando a 38,3 °C; se le administró metilprednisolona (20 mg i.v.). Su frotis faríngeo para detección del SARS-CoV-2 resultó positivo ese mismo día. Inmediatamente, se obtuvo un frotis faríngeo del recién nacido (36 horas tras el parto) junto con leche de la madre. Recomendamos a la madre no amamantar al niño y extraerse leche para evitar mastitis.\\n\\nLa respuesta neurológica del recién nacido resultó aceptable durante el primer día después del parto y su saturación de oxígeno se mantuvo > 92% sin oxigenoterapia. Las pruebas analíticas del niño fueron negativas para Legionella pneumophila, Chlamydia pneumoniae, Mycoplasma pneumoniae, Rickettsia, adenovirus, virus respiratorio sincicial, virus de la gripe A virus de la gripe B y virus paragripal 1–3.\\n\\nEl 4 de febrero, el segundo día posoperatorio, las constantes vitales de la madre eran estables y se le administró prednisolona (40 mg una vez por día i.v.). El recién nacido se mantuvo sano y su gasometría mostró pH de 7,476↑, presión parcial de dióxido de carbono de 28,2 mm Hg↓, presión parcial de oxígeno de 116,0 mm Hg↑, bicarbonato de 20,6 mmol/L↓, exceso de base de 1,30 mmol/L y saturación de oxígeno periférico de 98,4%. Las pruebas para un conjunto de virus pediátricos resultaron negativas para citomegalovirus, virus de la rubéola, Toxoplasma gondii, virus del herpes común tipos 1 y 2, ecovirus, parvovirus B19, virus de Epstein-Barr, virus de Coxsackie A16, virus de Coxsackie B, virus del sarampión y virus de la varicela zóster. La TAC torácica del recién nacido mostró un engrosamiento de la textura de los pulmones sin anormalidades cardíacas. TAC torácica del recién nacido, obtenida el 4 de febrero de 2020, que muestra un engrosamiento de la textura de los pulmones sin anormalidades cardíacas. Se alimentó al niño con leche artificial, 25 mL cada 3 horas, y se supervisó estrechamente.\\n\\nEl 5 de febrero, las constantes vitales del recién nacido eran estables, con una saturación de oxígeno por encima del 90% y sin molestias como apnea o vómitos. El resultado del frotis faríngeo para detección del SARS-CoV-2 fue positivo a las 36 horas después del parto. Combinando todas las pruebas analíticas y un intercambio exhaustivo de ideas, diagnosticamos que el niño presentaba infección por SARS-CoV-2. Como el departamento neonatal del Hospital Tingji no dispone de las condiciones de aislamiento para el recién nacido, se transfirió al Hospital Maternoinfantil de Wuhan ese mismo día, para un mejor aislamiento. Tras hallar las pruebas de la infección neonatal, efectuamos pruebas de ácido nucleico del SARS-CoV-2 en la sangre del cordón umbilical y muestras de la placenta que habíamos conservado durante la intervención; los resultados fueron negativos. La muestra de la leche materna también fue negativa para SARS-CoV-2.\\n\\nHicimos un seguimiento del estado del recién nacido después de ser transferido al Hospital Maternoinfantil de Wuhan. Su estado era bueno y afebril, sin tos ni vómitos. Fue supervisado estrechamente en condiciones de aislamiento y no se le administró ningún tratamiento especial. Una TAC torácica el 6 de febrero mostró sombras nodulares de alta densidad bajo la pleura del segmento posterior del lóbulo superior del pulmón derecho. En una TAC torácica del 12 de febrero se observaron pequeños núcleos de sombras parcheadas en los lóbulos inferior y superior del pulmón derecho. En una TAC torácica del 17 de febrero se observaron unos pocos y pequeños núcleos de sombras parcheadas en los lóbulos inferior y superior del pulmón derecho, absorbidas en comparación con las anteriores. El 17 de febrero de 2020, las pruebas de ácido nucleico de frotis faríngeos y anales para detección del SARS-CoV-2 resultaron negativas. El recién nacido fue dado de alta el 18 de febrero de 2020.\\n'"
            ]
          },
          "execution_count": 129,
          "metadata": {},
          "output_type": "execute_result"
        }
      ],
      "source": [
        "HCs[\"32161941_ES\"]"
      ]
    },
    {
      "cell_type": "code",
      "execution_count": null,
      "metadata": {
        "id": "1nIrLIwjVxXo"
      },
      "outputs": [],
      "source": [
        "#HCs_tokenized[40]"
      ]
    },
    {
      "cell_type": "code",
      "execution_count": null,
      "metadata": {
        "colab": {
          "base_uri": "https://localhost:8080/"
        },
        "id": "uo_WB3uUWmlK",
        "outputId": "80a84e07-7ef7-48e4-ca2f-85f489c5a237"
      },
      "outputs": [
        {
          "name": "stdout",
          "output_type": "stream",
          "text": [
            "En\t0\n",
            "nuestro\t0\n",
            "servicio\t0\n",
            "de\t0\n",
            "urgencias\t2\n",
            "se\t0\n",
            "presentó\t0\n",
            "un\t0\n",
            "hombre\t2\n",
            "de\t2\n",
            "52\t0\n",
            "años\t0\n",
            "que\t0\n",
            "reportó\t0\n",
            "fiebre\t0\n",
            ",\t0\n",
            "tos\t0\n",
            ",\t0\n",
            "astenia\t0\n",
            ",\t0\n",
            "cefalea\t0\n",
            ",\t0\n",
            "mialgia\t0\n",
            "y\t0\n",
            "fotofobia\t0\n",
            "de\t0\n",
            "una\t0\n",
            "semana\t0\n",
            "de\t0\n",
            "evolución\t0\n",
            ".\t0\n",
            "Afirmó\t0\n",
            "no\t0\n",
            "haber\t0\n",
            "viajado\t0\n",
            "durante\t0\n",
            "los\t0\n",
            "últimos\t0\n",
            "meses\t0\n",
            ",\t0\n",
            "pero\t0\n",
            "informó\t0\n",
            "de\t0\n",
            "contactos\t2\n",
            "con\t0\n",
            "diversas\t0\n",
            "personas\t2\n",
            "chinas\t0\n",
            "(\t0\n",
            "ninguna\t0\n",
            "de\t0\n",
            "ellas\t0\n",
            "con\t0\n",
            "antecedentes\t0\n",
            "de\t0\n",
            "infección\t0\n",
            "por\t0\n",
            "nCoV-19\t1\n",
            ")\t0\n",
            "e\t0\n",
            "italianas\t0\n",
            "procedentes\t0\n",
            "de\t0\n",
            "la\t0\n",
            "ciudad\t0\n",
            "de\t0\n",
            "Bérgamo\t0\n",
            "(\t0\n",
            "norte\t0\n",
            "de\t0\n",
            "Italia\t0\n",
            ")\t0\n",
            ",\t0\n",
            "actualmente\t0\n",
            "considerada\t0\n",
            "zona\t0\n",
            "de\t0\n",
            "alto\t0\n",
            "riesgo\t0\n",
            "para\t0\n",
            "las\t0\n",
            "infecciones\t0\n",
            "por\t0\n",
            "nCoV-19\t1\n",
            "por\t0\n",
            "parte\t0\n",
            "del\t0\n",
            "ministerio\t0\n",
            "de\t0\n",
            "salud\t0\n",
            "de\t0\n",
            "Italia\t0\n",
            ".\t0\n",
            "\n",
            "\t0\n",
            "Su\t0\n",
            "saturación\t0\n",
            "de\t0\n",
            "oxígeno\t0\n",
            "con\t0\n",
            "aire\t0\n",
            "ambiental\t0\n",
            "era\t0\n",
            "de\t0\n",
            "90\t0\n",
            "%\t0\n",
            "y\t0\n",
            "se\t0\n",
            "inició\t0\n",
            "oxigenoterapia\t0\n",
            "de\t0\n",
            "bajo\t0\n",
            "flujo\t0\n",
            ".\t0\n",
            "A\t0\n",
            "la\t0\n",
            "exploración\t0\n",
            ",\t0\n",
            "el\t0\n",
            "paciente\t2\n",
            "tenía\t0\n",
            "aspecto\t0\n",
            "enfermo\t0\n",
            "y\t0\n",
            "disneico\t0\n",
            ";\t0\n",
            "a\t0\n",
            "la\t0\n",
            "auscultación\t0\n",
            "se\t0\n",
            "percibieron\t0\n",
            "crepitantes\t0\n",
            "bilaterales\t0\n",
            ".\t0\n",
            "El\t0\n",
            "resto\t0\n",
            "de\t0\n",
            "la\t0\n",
            "exploración\t0\n",
            "no\t0\n",
            "aportó\t0\n",
            "más\t0\n",
            "datos\t0\n",
            "relevantes\t0\n",
            ".\t0\n",
            "Las\t0\n",
            "pruebas\t0\n",
            "analíticas\t0\n",
            "mostraron\t0\n",
            "linfocitopenia\t0\n",
            ",\t0\n",
            "trombocitopenia\t0\n",
            ",\t0\n",
            "valores\t0\n",
            "altos\t0\n",
            "de\t0\n",
            "LDH\t0\n",
            "y\t0\n",
            "marcadores\t0\n",
            "inflamatorios\t0\n",
            ".\t0\n",
            "Se\t0\n",
            "realizaron\t0\n",
            "hemocultivos\t0\n",
            "y\t0\n",
            "se\t0\n",
            "inició\t0\n",
            "un\t0\n",
            "tratamiento\t0\n",
            "antibiótico\t0\n",
            ".\t0\n",
            "Una\t0\n",
            "radiografía\t0\n",
            "torácica\t0\n",
            "mostró\t0\n",
            "una\t0\n",
            "posible\t0\n",
            "condensación\t0\n",
            "perihiliar\t0\n",
            "izquierda\t0\n",
            ".\t0\n",
            "También\t0\n",
            "se\t0\n",
            "realizó\t0\n",
            "una\t0\n",
            "ecografía\t0\n",
            "pulmonar\t0\n",
            ".\t0\n",
            "Tras\t0\n",
            "estas\t0\n",
            "intervenciones\t0\n",
            ",\t0\n",
            "se\t0\n",
            "realizó\t0\n",
            "un\t0\n",
            "frotis\t0\n",
            "para\t0\n",
            "pruebas\t0\n",
            "de\t0\n",
            "virus\t1\n",
            "respiratorios\t1\n",
            "y\t0\n",
            "nCoV-19\t1\n",
            ";\t0\n",
            "el\t0\n",
            "resultado\t0\n",
            "fue\t0\n",
            "positivo\t0\n",
            "para\t0\n",
            "nCoV-19\t1\n",
            ".\t0\n",
            "\n",
            "\t0\n",
            "La\t0\n",
            "ecografía\t0\n",
            "pulmonar\t0\n",
            "se\t0\n",
            "realizó\t0\n",
            "con\t0\n",
            "un\t0\n",
            "transductor\t0\n",
            "convexo\t0\n",
            "portátil\t0\n",
            "(\t0\n",
            "3,5\t0\n",
            "mHz\t0\n",
            ")\t0\n",
            "con\t0\n",
            "conexión\t0\n",
            "inalámbrica\t0\n",
            "a\t0\n",
            "una\t0\n",
            "tableta\t0\n",
            ".\t0\n",
            "Se\t0\n",
            "escogió\t0\n",
            "este\t0\n",
            "dispositivo\t0\n",
            "porque\t0\n",
            ",\t0\n",
            "si\t0\n",
            "bien\t0\n",
            "proporciona\t0\n",
            "imágenes\t0\n",
            "de\t0\n",
            "baja\t0\n",
            "calidad\t0\n",
            "en\t0\n",
            "comparación\t0\n",
            "con\t0\n",
            "los\t0\n",
            "aparatos\t0\n",
            "de\t0\n",
            "última\t0\n",
            "generación\t0\n",
            ",\t0\n",
            "permitía\t0\n",
            "minimizar\t0\n",
            "el\t0\n",
            "riesgo\t0\n",
            "de\t0\n",
            "contaminación\t0\n",
            "de\t0\n",
            "aparatos\t0\n",
            "y\t0\n",
            "la\t0\n",
            "consiguiente\t0\n",
            "propagación\t0\n",
            "de\t0\n",
            "infecciones\t0\n",
            "nosocomiales\t0\n",
            ".\t0\n",
            "Dos\t0\n",
            "operadores\t2\n",
            ",\t0\n",
            "un\t0\n",
            "médico\t2\n",
            "de\t2\n",
            "urgencias\t2\n",
            "(\t0\n",
            "operador\t2\n",
            "1\t2\n",
            ")\t0\n",
            "y\t0\n",
            "una\t0\n",
            "enfermera\t2\n",
            "de\t2\n",
            "urgencias\t2\n",
            "(\t0\n",
            "operador\t2\n",
            "2\t2\n",
            ")\t0\n",
            ",\t0\n",
            "entraron\t0\n",
            "en\t0\n",
            "la\t0\n",
            "sala\t0\n",
            "de\t0\n",
            "aislamiento\t0\n",
            "respetando\t0\n",
            "todas\t0\n",
            "las\t0\n",
            "medidas\t0\n",
            "de\t0\n",
            "prevención\t0\n",
            "para\t0\n",
            "aislamiento\t0\n",
            "respiratorio\t0\n",
            ",\t0\n",
            "de\t0\n",
            "gotículas\t0\n",
            "y\t0\n",
            "de\t0\n",
            "contacto\t0\n",
            "establecidas\t0\n",
            "por\t0\n",
            "la\t0\n",
            "Organización\t0\n",
            "Mundial\t0\n",
            "de\t0\n",
            "la\t0\n",
            "Salud\t0\n",
            "para\t0\n",
            "el\t0\n",
            "brote\t0\n",
            "de\t0\n",
            "nCoV-19\t1\n",
            ".\t0\n",
            "El\t0\n",
            "transductor\t0\n",
            "y\t0\n",
            "la\t0\n",
            "tableta\t0\n",
            "se\t0\n",
            "introdujeron\t0\n",
            "en\t0\n",
            "dos\t0\n",
            "fundas\t0\n",
            "de\t0\n",
            "plástico\t0\n",
            "diferentes\t0\n",
            ".\t0\n",
            "El\t0\n",
            "operador\t2\n",
            "1\t2\n",
            "realizó\t0\n",
            "la\t0\n",
            "ecografía\t0\n",
            "pulmonar\t0\n",
            "mediante\t0\n",
            "el\t0\n",
            "transductor\t0\n",
            "inalámbrico\t0\n",
            "y\t0\n",
            ",\t0\n",
            "en\t0\n",
            "consecuencia\t0\n",
            ",\t0\n",
            "entró\t0\n",
            "en\t0\n",
            "contacto\t0\n",
            "con\t0\n",
            "el\t0\n",
            "paciente\t2\n",
            ".\t0\n",
            "El\t0\n",
            "operador\t2\n",
            "2\t2\n",
            "sostuvo\t0\n",
            "la\t0\n",
            "tableta\t0\n",
            "y\t0\n",
            "era\t0\n",
            "el\t0\n",
            "responsable\t0\n",
            "de\t0\n",
            "capturar\t0\n",
            "y\t0\n",
            "guardar\t0\n",
            "las\t0\n",
            "imágenes\t0\n",
            "y\t0\n",
            "vídeos\t0\n",
            ";\t0\n",
            "en\t0\n",
            "consecuencia\t0\n",
            "no\t0\n",
            "entró\t0\n",
            "en\t0\n",
            "contacto\t0\n",
            "con\t0\n",
            "el\t0\n",
            "paciente\t2\n",
            "ni\t0\n",
            "con\t0\n",
            "ningún\t0\n",
            "otro\t0\n",
            "objeto\t0\n",
            "de\t0\n",
            "la\t0\n",
            "sala\t0\n",
            ".\t0\n",
            "El\t0\n",
            "protocolo\t0\n",
            "fue\t0\n",
            "compartido\t0\n",
            "y\t0\n",
            "aceptado\t0\n",
            "por\t0\n",
            "los\t0\n",
            "dos\t0\n",
            "operadores\t2\n",
            "antes\t0\n",
            "de\t0\n",
            "entrar\t0\n",
            "en\t0\n",
            "la\t0\n",
            "sala\t0\n",
            ",\t0\n",
            "para\t0\n",
            "minimizar\t0\n",
            "el\t0\n",
            "riesgo\t0\n",
            "de\t0\n",
            "contaminación\t0\n",
            "en\t0\n",
            "un\t0\n",
            "ambiente\t0\n",
            "de\t0\n",
            "alto\t0\n",
            "riesgo\t0\n",
            ".\t0\n",
            "Al\t0\n",
            "finalizar\t0\n",
            "la\t0\n",
            "intervención\t0\n",
            ",\t0\n",
            "la\t0\n",
            "tableta\t0\n",
            "y\t0\n",
            "el\t0\n",
            "transductor\t0\n",
            "se\t0\n",
            "esterilizaron\t0\n",
            "en\t0\n",
            "una\t0\n",
            "zona\t0\n",
            "destinada\t0\n",
            "a\t0\n",
            "tal\t0\n",
            "efecto\t0\n",
            "y\t0\n",
            "luego\t0\n",
            "se\t0\n",
            "introdujeron\t0\n",
            "en\t0\n",
            "dos\t0\n",
            "nuevas\t0\n",
            "bolsas\t0\n",
            "de\t0\n",
            "plástico\t0\n",
            "estériles\t0\n",
            ".\t0\n",
            "\n",
            "\t0\n",
            "Se\t0\n",
            "exploró\t0\n",
            "el\t0\n",
            "tórax\t0\n",
            "en\t0\n",
            "las\t0\n",
            "siguientes\t0\n",
            "12\t0\n",
            "áreas\t0\n",
            ":\t0\n",
            "anterior\t0\n",
            "superior\t0\n",
            "e\t0\n",
            "inferior\t0\n",
            ",\t0\n",
            "lateral\t0\n",
            "superior\t0\n",
            "e\t0\n",
            "inferior\t0\n",
            ",\t0\n",
            "posterior\t0\n",
            "superior\t0\n",
            "e\t0\n",
            "inferior\t0\n",
            ",\t0\n",
            "bilateralmente\t0\n",
            ".\t0\n",
            "Se\t0\n",
            "obtuvo\t0\n",
            "el\t0\n",
            "consentimiento\t0\n",
            "informado\t0\n",
            ".\t0\n",
            "En\t0\n",
            "nuestra\t0\n",
            "institución\t0\n",
            ",\t0\n",
            "el\t0\n",
            "uso\t0\n",
            "de\t0\n",
            "ecografías\t0\n",
            "pulmonares\t0\n",
            "se\t0\n",
            "incluye\t0\n",
            "de\t0\n",
            "forma\t0\n",
            "rutinaria\t0\n",
            "en\t0\n",
            "la\t0\n",
            "atención\t0\n",
            "a\t0\n",
            "pacientes\t2\n",
            "con\t0\n",
            "afecciones\t0\n",
            "respiratorias\t0\n",
            "y\t0\n",
            "está\t0\n",
            "autorizado\t0\n",
            "por\t0\n",
            "el\t0\n",
            "comité\t0\n",
            "de\t0\n",
            "ética\t0\n",
            ".\t0\n",
            "La\t0\n",
            "ecografía\t0\n",
            "pulmonar\t0\n",
            "mostró\t0\n",
            ",\t0\n",
            "en\t0\n",
            "los\t0\n",
            "hemitórax\t0\n",
            "anterior\t0\n",
            "y\t0\n",
            "posterior\t0\n",
            ",\t0\n",
            "bilateralmente\t0\n",
            ",\t0\n",
            "una\t0\n",
            "línea\t0\n",
            "pleural\t0\n",
            "irregular\t0\n",
            ",\t0\n",
            "con\t0\n",
            "pequeñas\t0\n",
            "consolidaciones\t0\n",
            "subpleurales\t0\n",
            ",\t0\n",
            "zonas\t0\n",
            "de\t0\n",
            "pulmón\t0\n",
            "blanco\t0\n",
            "y\t0\n",
            "artefactos\t0\n",
            "verticales\t0\n",
            "irregulares\t0\n",
            ",\t0\n",
            "confluentes\t0\n",
            "y\t0\n",
            "gruesos\t0\n",
            "(\t0\n",
            "líneas\t0\n",
            "B\t0\n",
            ")\t0\n",
            ".\t0\n",
            "Las\t0\n",
            "zonas\t0\n",
            "sanas\t0\n",
            "se\t0\n",
            "presentaban\t0\n",
            "bilateralmente\t0\n",
            ",\t0\n",
            "mezcladas\t0\n",
            "con\t0\n",
            "zonas\t0\n",
            "patológicas\t0\n",
            ".\t0\n",
            "\n",
            "\n",
            "\t0\n"
          ]
        }
      ],
      "source": [
        "j = 4\n",
        "for i in range(len(HCs_tokenized[j])):\n",
        "  print(str(HCs_tokenized[j][i]) + \"\\t\" + str(labels_tokenized[j][i]))"
      ]
    },
    {
      "cell_type": "markdown",
      "metadata": {
        "id": "E0OdnKiDSCn-"
      },
      "source": [
        "## Validating tokenization and alignment with the IO tags (S: Species, H: Human, O: Outside).\n",
        "\n",
        "\n"
      ]
    },
    {
      "cell_type": "code",
      "execution_count": null,
      "metadata": {
        "colab": {
          "base_uri": "https://localhost:8080/"
        },
        "id": "61hktW4PR-bt",
        "outputId": "9123b237-264b-4451-d2a8-1d73fba1f4cf"
      },
      "outputs": [
        {
          "name": "stdout",
          "output_type": "stream",
          "text": [
            "Everything is aligned!\n"
          ]
        }
      ],
      "source": [
        "flag = 0\n",
        "for st, lt in zip(HCs_tokenized, labels_tokenized):\n",
        "    if len(st) != len(lt):\n",
        "        print(st)\n",
        "        print(lt)\n",
        "        flag = 1\n",
        "if flag==0:\n",
        "    print(\"Everything is aligned!\")"
      ]
    },
    {
      "cell_type": "markdown",
      "metadata": {
        "id": "fPDzmJE6Wgho"
      },
      "source": [
        "## Sentence tokenization"
      ]
    },
    {
      "cell_type": "code",
      "execution_count": null,
      "metadata": {
        "id": "SeFfLm3Ubu7x"
      },
      "outputs": [],
      "source": [
        "sent_tokenized = []\n",
        "label_sent_tokenized = []\n",
        "for ht, lht in zip(HCs_tokenized, labels_tokenized):\n",
        "  st = []; lbst = []\n",
        "  for h, l in zip(ht,lht):\n",
        "    if h != \".\":\n",
        "      st.append(h)\n",
        "      lbst.append(l)\n",
        "    else:\n",
        "      st.append(\".\")\n",
        "      lbst.append(0)\n",
        "      sent_tokenized.append(st)\n",
        "      label_sent_tokenized.append(lbst)\n",
        "      st = []; lbst = []"
      ]
    },
    {
      "cell_type": "code",
      "execution_count": null,
      "metadata": {
        "colab": {
          "base_uri": "https://localhost:8080/"
        },
        "id": "nT7Ig0bcmOQR",
        "outputId": "231f12bc-5881-4caa-9a5e-54734150e222"
      },
      "outputs": [
        {
          "data": {
            "text/plain": [
              "27388"
            ]
          },
          "execution_count": 134,
          "metadata": {},
          "output_type": "execute_result"
        }
      ],
      "source": [
        "len(sent_tokenized)"
      ]
    },
    {
      "cell_type": "code",
      "execution_count": null,
      "metadata": {
        "colab": {
          "base_uri": "https://localhost:8080/"
        },
        "id": "czWqzs_pmch5",
        "outputId": "e44c35f9-46e9-4c61-f47e-170370df51e4"
      },
      "outputs": [
        {
          "data": {
            "text/plain": [
              "['El',\n",
              " '1',\n",
              " 'de',\n",
              " 'enero',\n",
              " 'de',\n",
              " '2020',\n",
              " ',',\n",
              " 'ingresó',\n",
              " 'en',\n",
              " 'el',\n",
              " 'Union',\n",
              " 'Hospital',\n",
              " '(',\n",
              " 'facultad',\n",
              " 'de',\n",
              " 'medicina',\n",
              " 'Tongji',\n",
              " ',',\n",
              " 'Wuhan',\n",
              " ',',\n",
              " 'provincia',\n",
              " 'de',\n",
              " 'Hubei',\n",
              " ')',\n",
              " 'un',\n",
              " 'hombre',\n",
              " 'de',\n",
              " '42',\n",
              " 'años',\n",
              " 'con',\n",
              " 'hipertermia',\n",
              " '(',\n",
              " '39,6',\n",
              " '°',\n",
              " 'C',\n",
              " ')',\n",
              " ',',\n",
              " 'tos',\n",
              " 'y',\n",
              " 'que',\n",
              " 'refería',\n",
              " 'fatiga',\n",
              " 'de',\n",
              " 'una',\n",
              " 'semana',\n",
              " 'de',\n",
              " 'evolución',\n",
              " '.']"
            ]
          },
          "execution_count": 135,
          "metadata": {},
          "output_type": "execute_result"
        }
      ],
      "source": [
        "sent_tokenized[0]"
      ]
    },
    {
      "cell_type": "code",
      "execution_count": null,
      "metadata": {
        "colab": {
          "base_uri": "https://localhost:8080/"
        },
        "id": "HOsSFm0wmS2I",
        "outputId": "3a52d70f-ccbe-4176-ebdb-1501644ca38c"
      },
      "outputs": [
        {
          "data": {
            "text/plain": [
              "27388"
            ]
          },
          "execution_count": 136,
          "metadata": {},
          "output_type": "execute_result"
        }
      ],
      "source": [
        "len(label_sent_tokenized)"
      ]
    },
    {
      "cell_type": "code",
      "execution_count": null,
      "metadata": {
        "colab": {
          "base_uri": "https://localhost:8080/"
        },
        "id": "tx6NtMpxmg2N",
        "outputId": "c5e833c8-dd8c-4045-c448-839ffeaff639"
      },
      "outputs": [
        {
          "data": {
            "text/plain": [
              "[0,\n",
              " 0,\n",
              " 0,\n",
              " 0,\n",
              " 0,\n",
              " 0,\n",
              " 0,\n",
              " 0,\n",
              " 0,\n",
              " 0,\n",
              " 0,\n",
              " 0,\n",
              " 0,\n",
              " 0,\n",
              " 0,\n",
              " 0,\n",
              " 0,\n",
              " 0,\n",
              " 0,\n",
              " 0,\n",
              " 0,\n",
              " 0,\n",
              " 0,\n",
              " 0,\n",
              " 0,\n",
              " 2,\n",
              " 0,\n",
              " 0,\n",
              " 0,\n",
              " 0,\n",
              " 0,\n",
              " 0,\n",
              " 0,\n",
              " 0,\n",
              " 0,\n",
              " 0,\n",
              " 0,\n",
              " 0,\n",
              " 0,\n",
              " 0,\n",
              " 0,\n",
              " 0,\n",
              " 0,\n",
              " 0,\n",
              " 0,\n",
              " 0,\n",
              " 0,\n",
              " 0]"
            ]
          },
          "execution_count": 137,
          "metadata": {},
          "output_type": "execute_result"
        }
      ],
      "source": [
        "label_sent_tokenized[0]"
      ]
    },
    {
      "cell_type": "markdown",
      "metadata": {
        "id": "t5NRWTbvotd7"
      },
      "source": [
        "## An approximation to paragraph-based approach\n",
        "\n",
        "### (Maximum 5 sentences per paragraph)"
      ]
    },
    {
      "cell_type": "code",
      "execution_count": null,
      "metadata": {
        "id": "gDqhRz9qo7MI"
      },
      "outputs": [],
      "source": [
        "paragraph_tokenized = []\n",
        "label_paragraph_tokenized = []\n",
        "p_tokenized = []\n",
        "lp_tokenized = []\n",
        "count_sents = 0\n",
        "for sentt, lsentt in zip(sent_tokenized, label_sent_tokenized):\n",
        "  if count_sents < 5:\n",
        "    p_tokenized = p_tokenized + sentt\n",
        "    lp_tokenized = lp_tokenized + lsentt\n",
        "  else:\n",
        "    paragraph_tokenized.append(p_tokenized)\n",
        "    label_paragraph_tokenized.append(lp_tokenized)\n",
        "    count_sents = 0\n",
        "    p_tokenized = []\n",
        "    lp_tokenized = []\n",
        "  count_sents+=1"
      ]
    },
    {
      "cell_type": "code",
      "execution_count": null,
      "metadata": {
        "colab": {
          "base_uri": "https://localhost:8080/"
        },
        "id": "puWo2kffrx6h",
        "outputId": "cb91b964-72e0-4dfe-c4e7-7977c3cccaa5"
      },
      "outputs": [
        {
          "data": {
            "text/plain": [
              "5477"
            ]
          },
          "execution_count": 139,
          "metadata": {},
          "output_type": "execute_result"
        }
      ],
      "source": [
        "len(paragraph_tokenized)"
      ]
    },
    {
      "cell_type": "code",
      "execution_count": null,
      "metadata": {
        "colab": {
          "base_uri": "https://localhost:8080/"
        },
        "id": "eC-9_KA9r4_4",
        "outputId": "7baa3b6b-c900-4775-faa3-c5e9ab5481c6"
      },
      "outputs": [
        {
          "data": {
            "text/plain": [
              "5477"
            ]
          },
          "execution_count": 140,
          "metadata": {},
          "output_type": "execute_result"
        }
      ],
      "source": [
        "len(label_paragraph_tokenized)"
      ]
    },
    {
      "cell_type": "markdown",
      "metadata": {
        "id": "9RIR3iRCUc0h"
      },
      "source": [
        "# Species and Human entities identification (NER) as a token classification problem"
      ]
    },
    {
      "cell_type": "markdown",
      "metadata": {
        "id": "1WaBFjAEUc0l"
      },
      "source": [
        "## Install the Transformers and Datasets libraries to run this notebook."
      ]
    },
    {
      "cell_type": "code",
      "execution_count": null,
      "metadata": {
        "colab": {
          "base_uri": "https://localhost:8080/",
          "height": 1000
        },
        "id": "zEX7xfLiUc0m",
        "outputId": "4b87c4d0-3ba0-4a43-d4cc-c8641c001258"
      },
      "outputs": [
        {
          "output_type": "stream",
          "name": "stdout",
          "text": [
            "Looking in indexes: https://pypi.org/simple, https://us-python.pkg.dev/colab-wheels/public/simple/\n",
            "Collecting datasets\n",
            "  Downloading datasets-2.2.2-py3-none-any.whl (346 kB)\n",
            "\u001b[K     |████████████████████████████████| 346 kB 9.6 MB/s \n",
            "\u001b[?25hCollecting transformers[sentencepiece]\n",
            "  Downloading transformers-4.19.4-py3-none-any.whl (4.2 MB)\n",
            "\u001b[K     |████████████████████████████████| 4.2 MB 60.3 MB/s \n",
            "\u001b[?25hRequirement already satisfied: importlib-metadata in /usr/local/lib/python3.7/dist-packages (from datasets) (4.11.4)\n",
            "Collecting fsspec[http]>=2021.05.0\n",
            "  Downloading fsspec-2022.5.0-py3-none-any.whl (140 kB)\n",
            "\u001b[K     |████████████████████████████████| 140 kB 86.7 MB/s \n",
            "\u001b[?25hCollecting huggingface-hub<1.0.0,>=0.1.0\n",
            "  Downloading huggingface_hub-0.7.0-py3-none-any.whl (86 kB)\n",
            "\u001b[K     |████████████████████████████████| 86 kB 5.9 MB/s \n",
            "\u001b[?25hCollecting responses<0.19\n",
            "  Downloading responses-0.18.0-py3-none-any.whl (38 kB)\n",
            "Requirement already satisfied: multiprocess in /usr/local/lib/python3.7/dist-packages (from datasets) (0.70.13)\n",
            "Requirement already satisfied: pyarrow>=6.0.0 in /usr/local/lib/python3.7/dist-packages (from datasets) (6.0.1)\n",
            "Requirement already satisfied: numpy>=1.17 in /usr/local/lib/python3.7/dist-packages (from datasets) (1.21.6)\n",
            "Collecting xxhash\n",
            "  Downloading xxhash-3.0.0-cp37-cp37m-manylinux_2_17_x86_64.manylinux2014_x86_64.whl (212 kB)\n",
            "\u001b[K     |████████████████████████████████| 212 kB 71.1 MB/s \n",
            "\u001b[?25hRequirement already satisfied: packaging in /usr/local/lib/python3.7/dist-packages (from datasets) (21.3)\n",
            "Collecting aiohttp\n",
            "  Downloading aiohttp-3.8.1-cp37-cp37m-manylinux_2_5_x86_64.manylinux1_x86_64.manylinux_2_12_x86_64.manylinux2010_x86_64.whl (1.1 MB)\n",
            "\u001b[K     |████████████████████████████████| 1.1 MB 64.8 MB/s \n",
            "\u001b[?25hRequirement already satisfied: pandas in /usr/local/lib/python3.7/dist-packages (from datasets) (1.3.5)\n",
            "Requirement already satisfied: requests>=2.19.0 in /usr/local/lib/python3.7/dist-packages (from datasets) (2.23.0)\n",
            "Requirement already satisfied: tqdm>=4.62.1 in /usr/local/lib/python3.7/dist-packages (from datasets) (4.64.0)\n",
            "Collecting dill<0.3.5\n",
            "  Downloading dill-0.3.4-py2.py3-none-any.whl (86 kB)\n",
            "\u001b[K     |████████████████████████████████| 86 kB 7.1 MB/s \n",
            "\u001b[?25hCollecting pyyaml>=5.1\n",
            "  Downloading PyYAML-6.0-cp37-cp37m-manylinux_2_5_x86_64.manylinux1_x86_64.manylinux_2_12_x86_64.manylinux2010_x86_64.whl (596 kB)\n",
            "\u001b[K     |████████████████████████████████| 596 kB 72.3 MB/s \n",
            "\u001b[?25hRequirement already satisfied: filelock in /usr/local/lib/python3.7/dist-packages (from huggingface-hub<1.0.0,>=0.1.0->datasets) (3.7.0)\n",
            "Requirement already satisfied: typing-extensions>=3.7.4.3 in /usr/local/lib/python3.7/dist-packages (from huggingface-hub<1.0.0,>=0.1.0->datasets) (4.2.0)\n",
            "Requirement already satisfied: pyparsing!=3.0.5,>=2.0.2 in /usr/local/lib/python3.7/dist-packages (from packaging->datasets) (3.0.9)\n",
            "Requirement already satisfied: urllib3!=1.25.0,!=1.25.1,<1.26,>=1.21.1 in /usr/local/lib/python3.7/dist-packages (from requests>=2.19.0->datasets) (1.24.3)\n",
            "Requirement already satisfied: chardet<4,>=3.0.2 in /usr/local/lib/python3.7/dist-packages (from requests>=2.19.0->datasets) (3.0.4)\n",
            "Requirement already satisfied: idna<3,>=2.5 in /usr/local/lib/python3.7/dist-packages (from requests>=2.19.0->datasets) (2.10)\n",
            "Requirement already satisfied: certifi>=2017.4.17 in /usr/local/lib/python3.7/dist-packages (from requests>=2.19.0->datasets) (2022.5.18.1)\n",
            "Collecting urllib3!=1.25.0,!=1.25.1,<1.26,>=1.21.1\n",
            "  Downloading urllib3-1.25.11-py2.py3-none-any.whl (127 kB)\n",
            "\u001b[K     |████████████████████████████████| 127 kB 96.0 MB/s \n",
            "\u001b[?25hRequirement already satisfied: charset-normalizer<3.0,>=2.0 in /usr/local/lib/python3.7/dist-packages (from aiohttp->datasets) (2.0.12)\n",
            "Collecting aiosignal>=1.1.2\n",
            "  Downloading aiosignal-1.2.0-py3-none-any.whl (8.2 kB)\n",
            "Collecting frozenlist>=1.1.1\n",
            "  Downloading frozenlist-1.3.0-cp37-cp37m-manylinux_2_5_x86_64.manylinux1_x86_64.manylinux_2_17_x86_64.manylinux2014_x86_64.whl (144 kB)\n",
            "\u001b[K     |████████████████████████████████| 144 kB 74.1 MB/s \n",
            "\u001b[?25hCollecting asynctest==0.13.0\n",
            "  Downloading asynctest-0.13.0-py3-none-any.whl (26 kB)\n",
            "Collecting multidict<7.0,>=4.5\n",
            "  Downloading multidict-6.0.2-cp37-cp37m-manylinux_2_17_x86_64.manylinux2014_x86_64.whl (94 kB)\n",
            "\u001b[K     |████████████████████████████████| 94 kB 4.2 MB/s \n",
            "\u001b[?25hRequirement already satisfied: attrs>=17.3.0 in /usr/local/lib/python3.7/dist-packages (from aiohttp->datasets) (21.4.0)\n",
            "Collecting async-timeout<5.0,>=4.0.0a3\n",
            "  Downloading async_timeout-4.0.2-py3-none-any.whl (5.8 kB)\n",
            "Collecting yarl<2.0,>=1.0\n",
            "  Downloading yarl-1.7.2-cp37-cp37m-manylinux_2_5_x86_64.manylinux1_x86_64.manylinux_2_12_x86_64.manylinux2010_x86_64.whl (271 kB)\n",
            "\u001b[K     |████████████████████████████████| 271 kB 73.0 MB/s \n",
            "\u001b[?25hRequirement already satisfied: zipp>=0.5 in /usr/local/lib/python3.7/dist-packages (from importlib-metadata->datasets) (3.8.0)\n",
            "Collecting multiprocess\n",
            "  Downloading multiprocess-0.70.12.2-py37-none-any.whl (112 kB)\n",
            "\u001b[K     |████████████████████████████████| 112 kB 75.5 MB/s \n",
            "\u001b[?25hRequirement already satisfied: python-dateutil>=2.7.3 in /usr/local/lib/python3.7/dist-packages (from pandas->datasets) (2.8.2)\n",
            "Requirement already satisfied: pytz>=2017.3 in /usr/local/lib/python3.7/dist-packages (from pandas->datasets) (2022.1)\n",
            "Requirement already satisfied: six>=1.5 in /usr/local/lib/python3.7/dist-packages (from python-dateutil>=2.7.3->pandas->datasets) (1.15.0)\n",
            "Collecting tokenizers!=0.11.3,<0.13,>=0.11.1\n",
            "  Downloading tokenizers-0.12.1-cp37-cp37m-manylinux_2_12_x86_64.manylinux2010_x86_64.whl (6.6 MB)\n",
            "\u001b[K     |████████████████████████████████| 6.6 MB 56.2 MB/s \n",
            "\u001b[?25hRequirement already satisfied: regex!=2019.12.17 in /usr/local/lib/python3.7/dist-packages (from transformers[sentencepiece]) (2019.12.20)\n",
            "Collecting sentencepiece!=0.1.92,>=0.1.91\n",
            "  Downloading sentencepiece-0.1.96-cp37-cp37m-manylinux_2_17_x86_64.manylinux2014_x86_64.whl (1.2 MB)\n",
            "\u001b[K     |████████████████████████████████| 1.2 MB 77.1 MB/s \n",
            "\u001b[?25hRequirement already satisfied: protobuf<=3.20.1 in /usr/local/lib/python3.7/dist-packages (from transformers[sentencepiece]) (3.17.3)\n",
            "Installing collected packages: urllib3, multidict, frozenlist, yarl, pyyaml, asynctest, async-timeout, aiosignal, tokenizers, huggingface-hub, fsspec, dill, aiohttp, xxhash, transformers, sentencepiece, responses, multiprocess, datasets\n",
            "  Attempting uninstall: urllib3\n",
            "    Found existing installation: urllib3 1.24.3\n",
            "    Uninstalling urllib3-1.24.3:\n",
            "      Successfully uninstalled urllib3-1.24.3\n",
            "  Attempting uninstall: pyyaml\n",
            "    Found existing installation: PyYAML 3.13\n",
            "    Uninstalling PyYAML-3.13:\n",
            "      Successfully uninstalled PyYAML-3.13\n",
            "  Attempting uninstall: dill\n",
            "    Found existing installation: dill 0.3.5.1\n",
            "    Uninstalling dill-0.3.5.1:\n",
            "      Successfully uninstalled dill-0.3.5.1\n",
            "  Attempting uninstall: multiprocess\n",
            "    Found existing installation: multiprocess 0.70.13\n",
            "    Uninstalling multiprocess-0.70.13:\n",
            "      Successfully uninstalled multiprocess-0.70.13\n",
            "\u001b[31mERROR: pip's dependency resolver does not currently take into account all the packages that are installed. This behaviour is the source of the following dependency conflicts.\n",
            "datascience 0.10.6 requires folium==0.2.1, but you have folium 0.8.3 which is incompatible.\u001b[0m\n",
            "Successfully installed aiohttp-3.8.1 aiosignal-1.2.0 async-timeout-4.0.2 asynctest-0.13.0 datasets-2.2.2 dill-0.3.4 frozenlist-1.3.0 fsspec-2022.5.0 huggingface-hub-0.7.0 multidict-6.0.2 multiprocess-0.70.12.2 pyyaml-6.0 responses-0.18.0 sentencepiece-0.1.96 tokenizers-0.12.1 transformers-4.19.4 urllib3-1.25.11 xxhash-3.0.0 yarl-1.7.2\n"
          ]
        },
        {
          "output_type": "display_data",
          "data": {
            "application/vnd.colab-display-data+json": {
              "pip_warning": {
                "packages": [
                  "urllib3"
                ]
              }
            }
          },
          "metadata": {}
        },
        {
          "output_type": "stream",
          "name": "stdout",
          "text": [
            "Looking in indexes: https://pypi.org/simple, https://us-python.pkg.dev/colab-wheels/public/simple/\n",
            "Collecting accelerate\n",
            "  Downloading accelerate-0.9.0-py3-none-any.whl (106 kB)\n",
            "\u001b[K     |████████████████████████████████| 106 kB 8.8 MB/s \n",
            "\u001b[?25hRequirement already satisfied: pyyaml in /usr/local/lib/python3.7/dist-packages (from accelerate) (6.0)\n",
            "Requirement already satisfied: numpy>=1.17 in /usr/local/lib/python3.7/dist-packages (from accelerate) (1.21.6)\n",
            "Requirement already satisfied: torch>=1.4.0 in /usr/local/lib/python3.7/dist-packages (from accelerate) (1.11.0+cu113)\n",
            "Requirement already satisfied: typing-extensions in /usr/local/lib/python3.7/dist-packages (from torch>=1.4.0->accelerate) (4.2.0)\n",
            "Installing collected packages: accelerate\n",
            "Successfully installed accelerate-0.9.0\n",
            "Reading package lists... Done\n",
            "Building dependency tree       \n",
            "Reading state information... Done\n",
            "git-lfs is already the newest version (2.3.4-1).\n",
            "The following package was automatically installed and is no longer required:\n",
            "  libnvidia-common-460\n",
            "Use 'apt autoremove' to remove it.\n",
            "0 upgraded, 0 newly installed, 0 to remove and 45 not upgraded.\n"
          ]
        }
      ],
      "source": [
        "!pip install datasets transformers[sentencepiece]\n",
        "!pip install accelerate\n",
        "# To run the training on TPU, you will need to uncomment the followin line:\n",
        "# !pip install cloud-tpu-client==0.10 torch==1.9.0 https://storage.googleapis.com/tpu-pytorch/wheels/torch_xla-1.9-cp37-cp37m-linux_x86_64.whl\n",
        "!apt install git-lfs"
      ]
    },
    {
      "cell_type": "markdown",
      "metadata": {
        "id": "i9FTB991Sl12"
      },
      "source": [
        "## Building the Dataset"
      ]
    },
    {
      "cell_type": "code",
      "execution_count": null,
      "metadata": {
        "id": "_KVP5DQ7ZLuG"
      },
      "outputs": [],
      "source": [
        "#dic = {\"tokens\": HCs_tokenized, \"ner_tags\": labels_tokenized} #For the whole clinical case.\n",
        "dic = {\"tokens\": sent_tokenized, \"ner_tags\": label_sent_tokenized} # We used this option for our paper. Use this option if you want to check the model performance with sentences tokenized by \". \" but the whole clinical cases.\n",
        "#dic = {\"tokens\": paragraph_tokenized, \"ner_tags\": label_paragraph_tokenized} #Use this option if you want to check the model performance with an approximation to paragraph tokenizing but the whole clinical cases."
      ]
    },
    {
      "cell_type": "code",
      "execution_count": null,
      "metadata": {
        "id": "ZawOY4qqSoz6"
      },
      "outputs": [],
      "source": [
        "from datasets import Dataset, DatasetDict\n",
        "dataset = Dataset.from_dict(dic)"
      ]
    },
    {
      "cell_type": "code",
      "execution_count": null,
      "metadata": {
        "colab": {
          "base_uri": "https://localhost:8080/"
        },
        "id": "sTBNV4yzYuzc",
        "outputId": "b3ca094b-2748-4232-c09e-f49e22909a2b"
      },
      "outputs": [
        {
          "data": {
            "text/plain": [
              "Dataset({\n",
              "    features: ['tokens', 'ner_tags'],\n",
              "    num_rows: 5477\n",
              "})"
            ]
          },
          "execution_count": 144,
          "metadata": {},
          "output_type": "execute_result"
        }
      ],
      "source": [
        "dataset"
      ]
    },
    {
      "cell_type": "code",
      "execution_count": null,
      "metadata": {
        "id": "SMZbF0mSaOiS"
      },
      "outputs": [],
      "source": [
        "#For training, validation, and test partitions\n",
        "\"\"\"\n",
        "#Train, val, test partitions\n",
        "train_test = dataset.train_test_split()\n",
        "test_val = train_test['test'].train_test_split()\n",
        "raw_datasets = DatasetDict({\n",
        "    'train': train_test['train'],\n",
        "    'validation': test_val['train'],\n",
        "    'test': test_val['test']\n",
        "    })\n",
        "\"\"\"\n",
        "\n",
        "#Just for training and validation partitions\n",
        "train_test = dataset.train_test_split()\n",
        "raw_datasets = DatasetDict({\n",
        "    'train': train_test['train'],\n",
        "    'validation': train_test['test']\n",
        "    })\n"
      ]
    },
    {
      "cell_type": "code",
      "execution_count": null,
      "metadata": {
        "colab": {
          "base_uri": "https://localhost:8080/"
        },
        "id": "AFQfd5u9Uc0q",
        "outputId": "38c2ddaf-affd-42ca-ab1c-ea69254cde23"
      },
      "outputs": [
        {
          "data": {
            "text/plain": [
              "DatasetDict({\n",
              "    train: Dataset({\n",
              "        features: ['tokens', 'ner_tags'],\n",
              "        num_rows: 4107\n",
              "    })\n",
              "    validation: Dataset({\n",
              "        features: ['tokens', 'ner_tags'],\n",
              "        num_rows: 1370\n",
              "    })\n",
              "})"
            ]
          },
          "execution_count": 146,
          "metadata": {},
          "output_type": "execute_result"
        }
      ],
      "source": [
        "raw_datasets"
      ]
    },
    {
      "cell_type": "code",
      "execution_count": null,
      "metadata": {
        "colab": {
          "base_uri": "https://localhost:8080/"
        },
        "id": "eI0wWv0aUc0t",
        "outputId": "bc2b61d8-15f9-46ad-f86b-f50d5c324d55"
      },
      "outputs": [
        {
          "data": {
            "text/plain": [
              "[0,\n",
              " 0,\n",
              " 0,\n",
              " 1,\n",
              " 0,\n",
              " 0,\n",
              " 0,\n",
              " 0,\n",
              " 1,\n",
              " 0,\n",
              " 0,\n",
              " 0,\n",
              " 0,\n",
              " 0,\n",
              " 0,\n",
              " 0,\n",
              " 0,\n",
              " 0,\n",
              " 0,\n",
              " 0,\n",
              " 0,\n",
              " 0,\n",
              " 0,\n",
              " 0,\n",
              " 0,\n",
              " 0,\n",
              " 0]"
            ]
          },
          "execution_count": 147,
          "metadata": {},
          "output_type": "execute_result"
        }
      ],
      "source": [
        "raw_datasets[\"train\"][0][\"ner_tags\"]"
      ]
    },
    {
      "cell_type": "code",
      "execution_count": null,
      "metadata": {
        "colab": {
          "base_uri": "https://localhost:8080/"
        },
        "id": "-usgjZalK7E9",
        "outputId": "bde57dbe-55a5-48ef-e693-ec6f933fd5b5"
      },
      "outputs": [
        {
          "data": {
            "text/plain": [
              "Dataset({\n",
              "    features: ['tokens', 'ner_tags'],\n",
              "    num_rows: 4107\n",
              "})"
            ]
          },
          "execution_count": 148,
          "metadata": {},
          "output_type": "execute_result"
        }
      ],
      "source": [
        "raw_datasets['train']"
      ]
    },
    {
      "cell_type": "code",
      "execution_count": null,
      "metadata": {
        "colab": {
          "base_uri": "https://localhost:8080/"
        },
        "id": "CLHqEaOVUc0u",
        "outputId": "ef831f57-539d-4ab0-ef65-9c7d3eb574fa"
      },
      "outputs": [
        {
          "data": {
            "text/plain": [
              "['O', 'S', 'H']"
            ]
          },
          "execution_count": 149,
          "metadata": {},
          "output_type": "execute_result"
        }
      ],
      "source": [
        "label_names = ['O','S','H']\n",
        "label_names"
      ]
    },
    {
      "cell_type": "code",
      "execution_count": null,
      "metadata": {
        "colab": {
          "base_uri": "https://localhost:8080/"
        },
        "id": "2iCYOiwZUc0u",
        "outputId": "7d5c1c18-93ab-46c4-cb26-b7c1f222e876"
      },
      "outputs": [
        {
          "name": "stdout",
          "output_type": "stream",
          "text": [
            "No se observan BAAR . No desarrollo de micobacterias . \n",
            " • Radiografía de tórax : Índice cardiotorácico normal . No imagen de infiltrado ni condensaciones . \n",
            "O  O  O        S    O O  O          O  S             O O O O           O  O     O O      O              O      O O  O      O  O          O  O              O \n"
          ]
        }
      ],
      "source": [
        "words = raw_datasets[\"train\"][0][\"tokens\"]\n",
        "labels = [int(n) for n in raw_datasets[\"train\"][0][\"ner_tags\"]]\n",
        "#labels = raw_datasets[\"train\"][0][\"pos_tags\"]\n",
        "#labels = raw_datasets[\"train\"][0][\"chunk_tags\"]\n",
        "line1 = \"\"\n",
        "line2 = \"\"\n",
        "for word, label in zip(words, labels):\n",
        "    full_label = label_names[label]\n",
        "    max_length = max(len(word), len(full_label))\n",
        "    line1 += word + \" \" * (max_length - len(word) + 1)\n",
        "    line2 += full_label + \" \" * (max_length - len(full_label) + 1)\n",
        "\n",
        "print(line1)\n",
        "print(line2)"
      ]
    },
    {
      "cell_type": "markdown",
      "metadata": {
        "id": "CRKUqAVVbvf7"
      },
      "source": [
        "## Loading mBERT as a pre-trained model"
      ]
    },
    {
      "cell_type": "code",
      "execution_count": null,
      "metadata": {
        "colab": {
          "base_uri": "https://localhost:8080/",
          "height": 1000,
          "referenced_widgets": [
            "fce9f37802c84ff98a261f69c7b927fc",
            "fd112dc0665747fc9fbe9d271c8a029b",
            "de00e6dbc55a4302884713fc6f43422d",
            "8383d81d45ff46da95a9d61e2d4e70f1",
            "b44b050e5b9e41c3883c60fbf57a5ce0",
            "ba3268f645744355947a5e0a8411b505",
            "ce2adb39b8c44dd9a47ab3df8f3bb0a7",
            "4258f110b73d4407b3a43d67fad81d53",
            "04dc4e1d79504b49892ca457522b5074",
            "ad7dfc1892b84d3dab9bb853e8990949",
            "a96549024c4a403d8d1ed7674c1f8fac",
            "c69ca31b54324dd68169e0d3a2e4ad78",
            "bfdb7fa5d4b346d1b7bc47ed79fac8d4",
            "4f07814a82614f84b4fc15ba245975fa",
            "985b7df52b6b4988818edddafcea4d1e",
            "8ca7b68241f143e9a5b3caa34fd16201",
            "28d335e5e21b4fcca92d8c70f60fd573",
            "bcbf4832dc4a47d9b5eda76c3267c0e1",
            "51c7f6ee5823426382dc7c868a0cbcde",
            "a83f7d4125f74765b3fbda406e8e2842",
            "68f6d6ef366647fe8606d335ca12e7ac",
            "9d91e1d5a48e4ba2b0ade6bb262e2c83",
            "8b1457712bc64c149782e609eded3dd1",
            "0d704997657b4867873102ea5cdde120",
            "972681626bd8491a9d04d5342ff4d644",
            "f737c757087a4a49882514aa969b1d48",
            "ef11db03883f48139a82f10d48f84b32",
            "27befeb724c04791aff6311b5944a2d0",
            "1a19430497d84ad1b9cb2859c96749bf",
            "fa84bfdbeb1646b8857c2e941f30d1fa",
            "63684204c3314ca4934ab490f0a0f4fa",
            "243a09d94ecd4e9fb0acfe1df21bcc8d",
            "6cee8dfd923d41aaa1101d39d4ef48bc",
            "24d9ae45458940ebbf0328688c222308",
            "b368bc09597f4146a9007494487b52f1",
            "0a42375cd4ff429ca60ecc61f7a129f6",
            "12d606d87d1f4cc89ad94c7def13dbcf",
            "1eb1d2c80f5346c9a4e41be37803d47f",
            "a2bd588ae2154487bbaed6f2be59252c",
            "fc403e4c8b6c4027a033f539b2ef073d",
            "5df53f69054a4dae81f849bf7e63156a",
            "9d8391335d254936b1a1ee31f091ec37",
            "cdc483e9dd424df9a3b14b24b7a10ead",
            "1c2e1a11fae04019a8780fc38c369958"
          ]
        },
        "id": "nuZTRxLPUc0v",
        "outputId": "4963d57f-1c35-4d8f-e057-8e9d53bebc13"
      },
      "outputs": [
        {
          "name": "stderr",
          "output_type": "stream",
          "text": [
            "https://huggingface.co/bert-base-multilingual-cased/resolve/main/tokenizer_config.json not found in cache or force_download set to True, downloading to /root/.cache/huggingface/transformers/tmpd7b3qe68\n"
          ]
        },
        {
          "data": {
            "application/vnd.jupyter.widget-view+json": {
              "model_id": "fce9f37802c84ff98a261f69c7b927fc",
              "version_major": 2,
              "version_minor": 0
            },
            "text/plain": [
              "Downloading:   0%|          | 0.00/29.0 [00:00<?, ?B/s]"
            ]
          },
          "metadata": {},
          "output_type": "display_data"
        },
        {
          "name": "stderr",
          "output_type": "stream",
          "text": [
            "storing https://huggingface.co/bert-base-multilingual-cased/resolve/main/tokenizer_config.json in cache at /root/.cache/huggingface/transformers/f55e7a2ad4f8d0fff2733b3f79777e1e99247f2e4583703e92ce74453af8c235.ec5c189f89475aac7d8cbd243960a0655cfadc3d0474da8ff2ed0bf1699c2a5f\n",
            "creating metadata file for /root/.cache/huggingface/transformers/f55e7a2ad4f8d0fff2733b3f79777e1e99247f2e4583703e92ce74453af8c235.ec5c189f89475aac7d8cbd243960a0655cfadc3d0474da8ff2ed0bf1699c2a5f\n",
            "https://huggingface.co/bert-base-multilingual-cased/resolve/main/config.json not found in cache or force_download set to True, downloading to /root/.cache/huggingface/transformers/tmpk7uqwo47\n"
          ]
        },
        {
          "data": {
            "application/vnd.jupyter.widget-view+json": {
              "model_id": "c69ca31b54324dd68169e0d3a2e4ad78",
              "version_major": 2,
              "version_minor": 0
            },
            "text/plain": [
              "Downloading:   0%|          | 0.00/625 [00:00<?, ?B/s]"
            ]
          },
          "metadata": {},
          "output_type": "display_data"
        },
        {
          "name": "stderr",
          "output_type": "stream",
          "text": [
            "storing https://huggingface.co/bert-base-multilingual-cased/resolve/main/config.json in cache at /root/.cache/huggingface/transformers/6c4a5d81a58c9791cdf76a09bce1b5abfb9cf958aebada51200f4515403e5d08.0fe59f3f4f1335dadeb4bce8b8146199d9083512b50d07323c1c319f96df450c\n",
            "creating metadata file for /root/.cache/huggingface/transformers/6c4a5d81a58c9791cdf76a09bce1b5abfb9cf958aebada51200f4515403e5d08.0fe59f3f4f1335dadeb4bce8b8146199d9083512b50d07323c1c319f96df450c\n",
            "loading configuration file https://huggingface.co/bert-base-multilingual-cased/resolve/main/config.json from cache at /root/.cache/huggingface/transformers/6c4a5d81a58c9791cdf76a09bce1b5abfb9cf958aebada51200f4515403e5d08.0fe59f3f4f1335dadeb4bce8b8146199d9083512b50d07323c1c319f96df450c\n",
            "Model config BertConfig {\n",
            "  \"_name_or_path\": \"bert-base-multilingual-cased\",\n",
            "  \"architectures\": [\n",
            "    \"BertForMaskedLM\"\n",
            "  ],\n",
            "  \"attention_probs_dropout_prob\": 0.1,\n",
            "  \"classifier_dropout\": null,\n",
            "  \"directionality\": \"bidi\",\n",
            "  \"hidden_act\": \"gelu\",\n",
            "  \"hidden_dropout_prob\": 0.1,\n",
            "  \"hidden_size\": 768,\n",
            "  \"initializer_range\": 0.02,\n",
            "  \"intermediate_size\": 3072,\n",
            "  \"layer_norm_eps\": 1e-12,\n",
            "  \"max_position_embeddings\": 512,\n",
            "  \"model_type\": \"bert\",\n",
            "  \"num_attention_heads\": 12,\n",
            "  \"num_hidden_layers\": 12,\n",
            "  \"pad_token_id\": 0,\n",
            "  \"pooler_fc_size\": 768,\n",
            "  \"pooler_num_attention_heads\": 12,\n",
            "  \"pooler_num_fc_layers\": 3,\n",
            "  \"pooler_size_per_head\": 128,\n",
            "  \"pooler_type\": \"first_token_transform\",\n",
            "  \"position_embedding_type\": \"absolute\",\n",
            "  \"transformers_version\": \"4.19.2\",\n",
            "  \"type_vocab_size\": 2,\n",
            "  \"use_cache\": true,\n",
            "  \"vocab_size\": 119547\n",
            "}\n",
            "\n",
            "https://huggingface.co/bert-base-multilingual-cased/resolve/main/vocab.txt not found in cache or force_download set to True, downloading to /root/.cache/huggingface/transformers/tmplyrzi5cp\n"
          ]
        },
        {
          "data": {
            "application/vnd.jupyter.widget-view+json": {
              "model_id": "8b1457712bc64c149782e609eded3dd1",
              "version_major": 2,
              "version_minor": 0
            },
            "text/plain": [
              "Downloading:   0%|          | 0.00/972k [00:00<?, ?B/s]"
            ]
          },
          "metadata": {},
          "output_type": "display_data"
        },
        {
          "name": "stderr",
          "output_type": "stream",
          "text": [
            "storing https://huggingface.co/bert-base-multilingual-cased/resolve/main/vocab.txt in cache at /root/.cache/huggingface/transformers/eff018e45de5364a8368df1f2df3461d506e2a111e9dd50af1fae061cd460ead.6c5b6600e968f4b5e08c86d8891ea99e51537fc2bf251435fb46922e8f7a7b29\n",
            "creating metadata file for /root/.cache/huggingface/transformers/eff018e45de5364a8368df1f2df3461d506e2a111e9dd50af1fae061cd460ead.6c5b6600e968f4b5e08c86d8891ea99e51537fc2bf251435fb46922e8f7a7b29\n",
            "https://huggingface.co/bert-base-multilingual-cased/resolve/main/tokenizer.json not found in cache or force_download set to True, downloading to /root/.cache/huggingface/transformers/tmp_1f8s16i\n"
          ]
        },
        {
          "data": {
            "application/vnd.jupyter.widget-view+json": {
              "model_id": "24d9ae45458940ebbf0328688c222308",
              "version_major": 2,
              "version_minor": 0
            },
            "text/plain": [
              "Downloading:   0%|          | 0.00/1.87M [00:00<?, ?B/s]"
            ]
          },
          "metadata": {},
          "output_type": "display_data"
        },
        {
          "name": "stderr",
          "output_type": "stream",
          "text": [
            "storing https://huggingface.co/bert-base-multilingual-cased/resolve/main/tokenizer.json in cache at /root/.cache/huggingface/transformers/46880f3b0081fda494a4e15b05787692aa4c1e21e0ff2428ba8b14d4eda0784d.b33e51591f94f17c238ee9b1fac75b96ff2678cbaed6e108feadb3449d18dc24\n",
            "creating metadata file for /root/.cache/huggingface/transformers/46880f3b0081fda494a4e15b05787692aa4c1e21e0ff2428ba8b14d4eda0784d.b33e51591f94f17c238ee9b1fac75b96ff2678cbaed6e108feadb3449d18dc24\n",
            "loading file https://huggingface.co/bert-base-multilingual-cased/resolve/main/vocab.txt from cache at /root/.cache/huggingface/transformers/eff018e45de5364a8368df1f2df3461d506e2a111e9dd50af1fae061cd460ead.6c5b6600e968f4b5e08c86d8891ea99e51537fc2bf251435fb46922e8f7a7b29\n",
            "loading file https://huggingface.co/bert-base-multilingual-cased/resolve/main/tokenizer.json from cache at /root/.cache/huggingface/transformers/46880f3b0081fda494a4e15b05787692aa4c1e21e0ff2428ba8b14d4eda0784d.b33e51591f94f17c238ee9b1fac75b96ff2678cbaed6e108feadb3449d18dc24\n",
            "loading file https://huggingface.co/bert-base-multilingual-cased/resolve/main/added_tokens.json from cache at None\n",
            "loading file https://huggingface.co/bert-base-multilingual-cased/resolve/main/special_tokens_map.json from cache at None\n",
            "loading file https://huggingface.co/bert-base-multilingual-cased/resolve/main/tokenizer_config.json from cache at /root/.cache/huggingface/transformers/f55e7a2ad4f8d0fff2733b3f79777e1e99247f2e4583703e92ce74453af8c235.ec5c189f89475aac7d8cbd243960a0655cfadc3d0474da8ff2ed0bf1699c2a5f\n",
            "loading configuration file https://huggingface.co/bert-base-multilingual-cased/resolve/main/config.json from cache at /root/.cache/huggingface/transformers/6c4a5d81a58c9791cdf76a09bce1b5abfb9cf958aebada51200f4515403e5d08.0fe59f3f4f1335dadeb4bce8b8146199d9083512b50d07323c1c319f96df450c\n",
            "Model config BertConfig {\n",
            "  \"_name_or_path\": \"bert-base-multilingual-cased\",\n",
            "  \"architectures\": [\n",
            "    \"BertForMaskedLM\"\n",
            "  ],\n",
            "  \"attention_probs_dropout_prob\": 0.1,\n",
            "  \"classifier_dropout\": null,\n",
            "  \"directionality\": \"bidi\",\n",
            "  \"hidden_act\": \"gelu\",\n",
            "  \"hidden_dropout_prob\": 0.1,\n",
            "  \"hidden_size\": 768,\n",
            "  \"initializer_range\": 0.02,\n",
            "  \"intermediate_size\": 3072,\n",
            "  \"layer_norm_eps\": 1e-12,\n",
            "  \"max_position_embeddings\": 512,\n",
            "  \"model_type\": \"bert\",\n",
            "  \"num_attention_heads\": 12,\n",
            "  \"num_hidden_layers\": 12,\n",
            "  \"pad_token_id\": 0,\n",
            "  \"pooler_fc_size\": 768,\n",
            "  \"pooler_num_attention_heads\": 12,\n",
            "  \"pooler_num_fc_layers\": 3,\n",
            "  \"pooler_size_per_head\": 128,\n",
            "  \"pooler_type\": \"first_token_transform\",\n",
            "  \"position_embedding_type\": \"absolute\",\n",
            "  \"transformers_version\": \"4.19.2\",\n",
            "  \"type_vocab_size\": 2,\n",
            "  \"use_cache\": true,\n",
            "  \"vocab_size\": 119547\n",
            "}\n",
            "\n"
          ]
        }
      ],
      "source": [
        "from transformers import AutoTokenizer\n",
        "\n",
        "model_checkpoint = \"bert-base-multilingual-cased\"\n",
        "tokenizer = AutoTokenizer.from_pretrained(model_checkpoint, add_prefix_space=True)"
      ]
    },
    {
      "cell_type": "code",
      "execution_count": null,
      "metadata": {
        "colab": {
          "base_uri": "https://localhost:8080/"
        },
        "id": "Kr7qjUe7Uc0v",
        "outputId": "2c751f19-e61c-4db4-f1fa-ecc615a669ed"
      },
      "outputs": [
        {
          "data": {
            "text/plain": [
              "True"
            ]
          },
          "execution_count": 152,
          "metadata": {},
          "output_type": "execute_result"
        }
      ],
      "source": [
        "tokenizer.is_fast"
      ]
    },
    {
      "cell_type": "code",
      "execution_count": null,
      "metadata": {
        "colab": {
          "base_uri": "https://localhost:8080/"
        },
        "id": "wbchCgPGUc0v",
        "outputId": "c81011a0-a503-4466-eda8-72ec49f8259c"
      },
      "outputs": [
        {
          "data": {
            "text/plain": [
              "['[CLS]',\n",
              " 'No',\n",
              " 'se',\n",
              " 'observa',\n",
              " '##n',\n",
              " 'BA',\n",
              " '##AR',\n",
              " '.',\n",
              " 'No',\n",
              " 'desarrollo',\n",
              " 'de',\n",
              " 'mic',\n",
              " '##oba',\n",
              " '##cter',\n",
              " '##ias',\n",
              " '.',\n",
              " '•',\n",
              " 'Radio',\n",
              " '##grafía',\n",
              " 'de',\n",
              " 'tó',\n",
              " '##rax',\n",
              " ':',\n",
              " 'Í',\n",
              " '##ndi',\n",
              " '##ce',\n",
              " 'card',\n",
              " '##iot',\n",
              " '##or',\n",
              " '##áci',\n",
              " '##co',\n",
              " 'normal',\n",
              " '.',\n",
              " 'No',\n",
              " 'imagen',\n",
              " 'de',\n",
              " 'in',\n",
              " '##fil',\n",
              " '##tra',\n",
              " '##do',\n",
              " 'ni',\n",
              " 'conde',\n",
              " '##nsa',\n",
              " '##ciones',\n",
              " '.',\n",
              " '[SEP]']"
            ]
          },
          "execution_count": 153,
          "metadata": {},
          "output_type": "execute_result"
        }
      ],
      "source": [
        "inputs = tokenizer(raw_datasets[\"train\"][0][\"tokens\"], is_split_into_words=True)\n",
        "inputs.tokens()"
      ]
    },
    {
      "cell_type": "code",
      "execution_count": null,
      "metadata": {
        "colab": {
          "base_uri": "https://localhost:8080/"
        },
        "id": "udiVaGenUc0w",
        "outputId": "df099832-d5ca-43ad-8024-42c416e3ffeb"
      },
      "outputs": [
        {
          "data": {
            "text/plain": [
              "[None,\n",
              " 0,\n",
              " 1,\n",
              " 2,\n",
              " 2,\n",
              " 3,\n",
              " 3,\n",
              " 4,\n",
              " 5,\n",
              " 6,\n",
              " 7,\n",
              " 8,\n",
              " 8,\n",
              " 8,\n",
              " 8,\n",
              " 9,\n",
              " 11,\n",
              " 12,\n",
              " 12,\n",
              " 13,\n",
              " 14,\n",
              " 14,\n",
              " 15,\n",
              " 16,\n",
              " 16,\n",
              " 16,\n",
              " 17,\n",
              " 17,\n",
              " 17,\n",
              " 17,\n",
              " 17,\n",
              " 18,\n",
              " 19,\n",
              " 20,\n",
              " 21,\n",
              " 22,\n",
              " 23,\n",
              " 23,\n",
              " 23,\n",
              " 23,\n",
              " 24,\n",
              " 25,\n",
              " 25,\n",
              " 25,\n",
              " 26,\n",
              " None]"
            ]
          },
          "execution_count": 154,
          "metadata": {},
          "output_type": "execute_result"
        }
      ],
      "source": [
        "inputs.word_ids()"
      ]
    },
    {
      "cell_type": "code",
      "execution_count": null,
      "metadata": {
        "id": "zhu4Cl3-Uc0w"
      },
      "outputs": [],
      "source": [
        "def align_labels_with_tokens(labels, word_ids):\n",
        "    new_labels = []\n",
        "    current_word = None\n",
        "    for word_id in word_ids:\n",
        "        if word_id != current_word:\n",
        "            # Start of a new word!\n",
        "            current_word = word_id\n",
        "            label = -100 if word_id is None else labels[word_id]\n",
        "            new_labels.append(label)\n",
        "        elif word_id is None:\n",
        "            # Special token\n",
        "            new_labels.append(-100)\n",
        "        else:\n",
        "            # Same word as previous token\n",
        "            label = labels[word_id]\n",
        "            # If the label is B-XXX we change it to I-XXX\n",
        "            if label % 2 == 1:\n",
        "                label += 1\n",
        "            new_labels.append(label)\n",
        "\n",
        "    return new_labels"
      ]
    },
    {
      "cell_type": "code",
      "execution_count": null,
      "metadata": {
        "colab": {
          "base_uri": "https://localhost:8080/"
        },
        "id": "H820wg0sUc0x",
        "outputId": "535d245f-d373-4bf1-f663-e8aaf46a73e7"
      },
      "outputs": [
        {
          "name": "stdout",
          "output_type": "stream",
          "text": [
            "[0, 0, 0, 1, 0, 0, 0, 0, 1, 0, 0, 0, 0, 0, 0, 0, 0, 0, 0, 0, 0, 0, 0, 0, 0, 0, 0]\n",
            "[-100, 0, 0, 0, 0, 1, 2, 0, 0, 0, 0, 1, 2, 2, 2, 0, 0, 0, 0, 0, 0, 0, 0, 0, 0, 0, 0, 0, 0, 0, 0, 0, 0, 0, 0, 0, 0, 0, 0, 0, 0, 0, 0, 0, 0, -100]\n"
          ]
        }
      ],
      "source": [
        "labels = raw_datasets[\"train\"][0][\"ner_tags\"]\n",
        "word_ids = inputs.word_ids()\n",
        "print(labels)\n",
        "print(align_labels_with_tokens(labels, word_ids))"
      ]
    },
    {
      "cell_type": "code",
      "execution_count": null,
      "metadata": {
        "id": "G-ZxnhGSUc0x"
      },
      "outputs": [],
      "source": [
        "def tokenize_and_align_labels(examples):\n",
        "    tokenized_inputs = tokenizer(\n",
        "        examples[\"tokens\"], truncation=True, is_split_into_words=True\n",
        "    )\n",
        "    all_labels = examples[\"ner_tags\"]\n",
        "    new_labels = []\n",
        "    for i, labels in enumerate(all_labels):\n",
        "        word_ids = tokenized_inputs.word_ids(i)\n",
        "        new_labels.append(align_labels_with_tokens(labels, word_ids))\n",
        "\n",
        "    tokenized_inputs[\"labels\"] = new_labels\n",
        "    return tokenized_inputs"
      ]
    },
    {
      "cell_type": "code",
      "execution_count": null,
      "metadata": {
        "colab": {
          "base_uri": "https://localhost:8080/",
          "height": 81,
          "referenced_widgets": [
            "e5543bd71ca54883b8a8142ba96301d6",
            "a427535f85df41cdb20fe3df9ff2d43a",
            "e3065f56818b45f68deb199f3a9b066a",
            "7e375bc143424928a5aac3cdcfc8adbc",
            "76fc655b667c4c5392333c2662c584bd",
            "893aa1acdd8a4238bd5a738c8ac61d67",
            "743da34002e34209977ea784f3ea70cc",
            "5ed639e29558449ea786a43bc9b4ab58",
            "b6a8c9131f7c4d739167c726fadcdde5",
            "dedc103de3cf4d14b13533bf3829c75e",
            "f1a6c5a0773541f194ee414ca074a2cf",
            "c7fa90698e504ee28aa643238345749b",
            "29dc19db5e8a4cde907c640ae99d1198",
            "0f1a476d2e4f4e509b7b74573f000d78",
            "45a031a35a0b437b8cbb4cdd6d1428d5",
            "5b9533fc414944c7b53fdefca1749ca1",
            "2562aa26ccd947fea075e9202968a9ae",
            "46e044e2ff134773915ab12fbdb2dfc9",
            "f7a48f63ce874a4b83232116289d2032",
            "8ac2a36b95ab498596cfc13cc872602a",
            "c6cc51c72c9e4bb195be07c37f83389e",
            "dd2708e16d7b4740b20407f9082b6bde"
          ]
        },
        "id": "INNjCms4Uc0y",
        "outputId": "832b39b8-5722-466f-b32d-08db6aec7fa8"
      },
      "outputs": [
        {
          "data": {
            "application/vnd.jupyter.widget-view+json": {
              "model_id": "e5543bd71ca54883b8a8142ba96301d6",
              "version_major": 2,
              "version_minor": 0
            },
            "text/plain": [
              "  0%|          | 0/5 [00:00<?, ?ba/s]"
            ]
          },
          "metadata": {},
          "output_type": "display_data"
        },
        {
          "data": {
            "application/vnd.jupyter.widget-view+json": {
              "model_id": "c7fa90698e504ee28aa643238345749b",
              "version_major": 2,
              "version_minor": 0
            },
            "text/plain": [
              "  0%|          | 0/2 [00:00<?, ?ba/s]"
            ]
          },
          "metadata": {},
          "output_type": "display_data"
        }
      ],
      "source": [
        "tokenized_datasets = raw_datasets.map(\n",
        "    tokenize_and_align_labels,\n",
        "    batched=True,\n",
        "    remove_columns=raw_datasets[\"train\"].column_names,\n",
        ")"
      ]
    },
    {
      "cell_type": "code",
      "execution_count": null,
      "metadata": {
        "id": "lFpUXjvmUc0y"
      },
      "outputs": [],
      "source": [
        "from transformers import DataCollatorForTokenClassification\n",
        "\n",
        "data_collator = DataCollatorForTokenClassification(tokenizer=tokenizer)"
      ]
    },
    {
      "cell_type": "code",
      "execution_count": null,
      "metadata": {
        "colab": {
          "base_uri": "https://localhost:8080/"
        },
        "id": "VHCuXD5EUc0y",
        "outputId": "573e48ad-e4a0-4d30-cf0f-06d3bef16362"
      },
      "outputs": [
        {
          "data": {
            "text/plain": [
              "tensor([[-100,    0,    0,    0,    0,    1,    2,    0,    0,    0,    0,    1,\n",
              "            2,    2,    2,    0,    0,    0,    0,    0,    0,    0,    0,    0,\n",
              "            0,    0,    0,    0,    0,    0,    0,    0,    0,    0,    0,    0,\n",
              "            0,    0,    0,    0,    0,    0,    0,    0,    0, -100, -100, -100,\n",
              "         -100, -100, -100, -100, -100, -100, -100, -100, -100, -100, -100, -100,\n",
              "         -100, -100, -100, -100, -100, -100, -100, -100, -100, -100, -100, -100,\n",
              "         -100, -100, -100, -100, -100, -100, -100, -100, -100, -100, -100, -100,\n",
              "         -100, -100, -100, -100, -100, -100, -100, -100, -100, -100, -100, -100,\n",
              "         -100, -100, -100, -100, -100, -100, -100, -100, -100, -100, -100, -100],\n",
              "        [-100,    0,    0,    0,    0,    0,    0,    0,    0,    0,    0,    0,\n",
              "            0,    0,    0,    0,    0,    0,    0,    0,    0,    0,    0,    0,\n",
              "            0,    0,    0,    0,    0,    0,    0,    0,    0,    0,    0,    0,\n",
              "            0,    0,    0,    0,    0,    0,    0,    0,    0,    0,    0,    0,\n",
              "            0,    0,    0,    0,    0,    0,    0,    0,    0,    0,    0,    0,\n",
              "            0,    0,    0,    0,    0,    0,    0,    0,    0,    0,    0,    0,\n",
              "            0,    0,    0,    0,    0,    0,    0,    0,    0,    0,    0,    0,\n",
              "            0,    0,    0,    0,    0,    0,    0,    0,    0,    0,    0,    0,\n",
              "            1,    0,    0,    0,    0,    0,    0,    0,    0,    0,    0, -100]])"
            ]
          },
          "execution_count": 160,
          "metadata": {},
          "output_type": "execute_result"
        }
      ],
      "source": [
        "batch = data_collator([tokenized_datasets[\"train\"][i] for i in range(2)])\n",
        "batch[\"labels\"]"
      ]
    },
    {
      "cell_type": "code",
      "execution_count": null,
      "metadata": {
        "colab": {
          "base_uri": "https://localhost:8080/"
        },
        "id": "i6GW37IPUc0z",
        "outputId": "7c0998c8-b5a5-4ea8-d23b-0da728b3ba2d"
      },
      "outputs": [
        {
          "name": "stdout",
          "output_type": "stream",
          "text": [
            "[-100, 0, 0, 0, 0, 1, 2, 0, 0, 0, 0, 1, 2, 2, 2, 0, 0, 0, 0, 0, 0, 0, 0, 0, 0, 0, 0, 0, 0, 0, 0, 0, 0, 0, 0, 0, 0, 0, 0, 0, 0, 0, 0, 0, 0, -100]\n",
            "[-100, 0, 0, 0, 0, 0, 0, 0, 0, 0, 0, 0, 0, 0, 0, 0, 0, 0, 0, 0, 0, 0, 0, 0, 0, 0, 0, 0, 0, 0, 0, 0, 0, 0, 0, 0, 0, 0, 0, 0, 0, 0, 0, 0, 0, 0, 0, 0, 0, 0, 0, 0, 0, 0, 0, 0, 0, 0, 0, 0, 0, 0, 0, 0, 0, 0, 0, 0, 0, 0, 0, 0, 0, 0, 0, 0, 0, 0, 0, 0, 0, 0, 0, 0, 0, 0, 0, 0, 0, 0, 0, 0, 0, 0, 0, 0, 1, 0, 0, 0, 0, 0, 0, 0, 0, 0, 0, -100]\n"
          ]
        }
      ],
      "source": [
        "for i in range(2):\n",
        "    print(tokenized_datasets[\"train\"][i][\"labels\"])"
      ]
    },
    {
      "cell_type": "code",
      "execution_count": null,
      "metadata": {
        "colab": {
          "base_uri": "https://localhost:8080/"
        },
        "id": "ImHtQb6HUc0z",
        "outputId": "7e7c4de8-270e-4678-e830-69b96b389380"
      },
      "outputs": [
        {
          "name": "stdout",
          "output_type": "stream",
          "text": [
            "Looking in indexes: https://pypi.org/simple, https://us-python.pkg.dev/colab-wheels/public/simple/\n",
            "Requirement already satisfied: seqeval in /usr/local/lib/python3.7/dist-packages (1.2.2)\n",
            "Requirement already satisfied: scikit-learn>=0.21.3 in /usr/local/lib/python3.7/dist-packages (from seqeval) (1.0.2)\n",
            "Requirement already satisfied: numpy>=1.14.0 in /usr/local/lib/python3.7/dist-packages (from seqeval) (1.21.6)\n",
            "Requirement already satisfied: joblib>=0.11 in /usr/local/lib/python3.7/dist-packages (from scikit-learn>=0.21.3->seqeval) (1.1.0)\n",
            "Requirement already satisfied: threadpoolctl>=2.0.0 in /usr/local/lib/python3.7/dist-packages (from scikit-learn>=0.21.3->seqeval) (3.1.0)\n",
            "Requirement already satisfied: scipy>=1.1.0 in /usr/local/lib/python3.7/dist-packages (from scikit-learn>=0.21.3->seqeval) (1.4.1)\n"
          ]
        }
      ],
      "source": [
        "!pip install seqeval"
      ]
    },
    {
      "cell_type": "code",
      "execution_count": null,
      "metadata": {
        "id": "bDjn2La4Uc0z"
      },
      "outputs": [],
      "source": [
        "from datasets import load_metric\n",
        "\n",
        "metric = load_metric(\"seqeval\")"
      ]
    },
    {
      "cell_type": "code",
      "execution_count": null,
      "metadata": {
        "colab": {
          "base_uri": "https://localhost:8080/"
        },
        "id": "2mqjInn4Uc0z",
        "outputId": "62112bb0-6c46-46ad-d782-2641889c94b1"
      },
      "outputs": [
        {
          "data": {
            "text/plain": [
              "['O',\n",
              " 'O',\n",
              " 'O',\n",
              " 'S',\n",
              " 'O',\n",
              " 'O',\n",
              " 'O',\n",
              " 'O',\n",
              " 'S',\n",
              " 'O',\n",
              " 'O',\n",
              " 'O',\n",
              " 'O',\n",
              " 'O',\n",
              " 'O',\n",
              " 'O',\n",
              " 'O',\n",
              " 'O',\n",
              " 'O',\n",
              " 'O',\n",
              " 'O',\n",
              " 'O',\n",
              " 'O',\n",
              " 'O',\n",
              " 'O',\n",
              " 'O',\n",
              " 'O']"
            ]
          },
          "execution_count": 164,
          "metadata": {},
          "output_type": "execute_result"
        }
      ],
      "source": [
        "labels = raw_datasets[\"train\"][0][\"ner_tags\"]\n",
        "labels = [label_names[i] for i in labels]\n",
        "labels"
      ]
    },
    {
      "cell_type": "code",
      "execution_count": null,
      "metadata": {
        "colab": {
          "base_uri": "https://localhost:8080/"
        },
        "id": "EIaLt4n-Uc00",
        "outputId": "f9fdde8a-dc16-4cb1-b203-962b1072ff4d"
      },
      "outputs": [
        {
          "data": {
            "text/plain": [
              "{'_': {'f1': 1.0, 'number': 2, 'precision': 1.0, 'recall': 1.0},\n",
              " 'overall_accuracy': 1.0,\n",
              " 'overall_f1': 1.0,\n",
              " 'overall_precision': 1.0,\n",
              " 'overall_recall': 1.0}"
            ]
          },
          "execution_count": 165,
          "metadata": {},
          "output_type": "execute_result"
        }
      ],
      "source": [
        "predictions = labels.copy()\n",
        "predictions[2] = \"O\"\n",
        "metric.compute(predictions=[predictions], references=[labels])"
      ]
    },
    {
      "cell_type": "code",
      "execution_count": null,
      "metadata": {
        "id": "7xewJhf6Uc00"
      },
      "outputs": [],
      "source": [
        "import numpy as np\n",
        "\n",
        "\n",
        "def compute_metrics(eval_preds):\n",
        "    logits, labels = eval_preds\n",
        "    predictions = np.argmax(logits, axis=-1)\n",
        "\n",
        "    # Remove ignored index (special tokens) and convert to labels\n",
        "    true_labels = [[label_names[l] for l in label if l != -100] for label in labels]\n",
        "    true_predictions = [\n",
        "        [label_names[p] for (p, l) in zip(prediction, label) if l != -100]\n",
        "        for prediction, label in zip(predictions, labels)\n",
        "    ]\n",
        "    all_metrics = metric.compute(predictions=true_predictions, references=true_labels)\n",
        "    return {\n",
        "        \"precision\": all_metrics[\"overall_precision\"],\n",
        "        \"recall\": all_metrics[\"overall_recall\"],\n",
        "        \"f1\": all_metrics[\"overall_f1\"],\n",
        "        \"accuracy\": all_metrics[\"overall_accuracy\"],\n",
        "    }"
      ]
    },
    {
      "cell_type": "code",
      "execution_count": null,
      "metadata": {
        "id": "DdmwR_2HUc00"
      },
      "outputs": [],
      "source": [
        "id2label = {str(i): label for i, label in enumerate(label_names)}\n",
        "label2id = {v: k for k, v in id2label.items()}"
      ]
    },
    {
      "cell_type": "code",
      "execution_count": null,
      "metadata": {
        "colab": {
          "base_uri": "https://localhost:8080/"
        },
        "id": "svP0J1bWs3pK",
        "outputId": "ba2b25db-fc80-488a-ba8d-30fd3eddfa16"
      },
      "outputs": [
        {
          "data": {
            "text/plain": [
              "{'0': 'O', '1': 'S', '2': 'H'}"
            ]
          },
          "execution_count": 168,
          "metadata": {},
          "output_type": "execute_result"
        }
      ],
      "source": [
        "id2label"
      ]
    },
    {
      "cell_type": "code",
      "execution_count": null,
      "metadata": {
        "colab": {
          "base_uri": "https://localhost:8080/"
        },
        "id": "zvIvq5wxs8P8",
        "outputId": "c8cff40f-2e1e-4e8f-a968-8b1aacf2399a"
      },
      "outputs": [
        {
          "data": {
            "text/plain": [
              "{'H': '2', 'O': '0', 'S': '1'}"
            ]
          },
          "execution_count": 169,
          "metadata": {},
          "output_type": "execute_result"
        }
      ],
      "source": [
        "label2id"
      ]
    },
    {
      "cell_type": "markdown",
      "metadata": {
        "id": "FKNvor68cVQs"
      },
      "source": [
        "## Changing the head of prediction for NER under the IO scheme"
      ]
    },
    {
      "cell_type": "code",
      "execution_count": null,
      "metadata": {
        "colab": {
          "base_uri": "https://localhost:8080/",
          "height": 954,
          "referenced_widgets": [
            "18dabcaf57034588a3cb4d06ec635f6f",
            "c78b052153c24c17883ae4afbf28db82",
            "f333119ee33345f0a76ff66f70a667ae",
            "215b17215d814b6ea81841232cc1de1a",
            "359055bf8a694acda48c87a93cb23eb0",
            "aa43d6487ec14856b7e70bdd69c06ee3",
            "652fc2d468944f948cd5f3815c4925d9",
            "fb6d943aa4724fecbbfb477f1a2dcdb1",
            "05bb63adaff041abbba3ef6febe65a97",
            "ea6c5ff70a83428e977f74086bef6664",
            "8b0f8fa80f0f47ee8486d944c8fc3923"
          ]
        },
        "id": "z9Rrve75Uc00",
        "outputId": "23efd370-c1b3-4eab-dbe4-7d586e21d3fe"
      },
      "outputs": [
        {
          "name": "stderr",
          "output_type": "stream",
          "text": [
            "loading configuration file https://huggingface.co/bert-base-multilingual-cased/resolve/main/config.json from cache at /root/.cache/huggingface/transformers/6c4a5d81a58c9791cdf76a09bce1b5abfb9cf958aebada51200f4515403e5d08.0fe59f3f4f1335dadeb4bce8b8146199d9083512b50d07323c1c319f96df450c\n",
            "Model config BertConfig {\n",
            "  \"_name_or_path\": \"bert-base-multilingual-cased\",\n",
            "  \"architectures\": [\n",
            "    \"BertForMaskedLM\"\n",
            "  ],\n",
            "  \"attention_probs_dropout_prob\": 0.1,\n",
            "  \"classifier_dropout\": null,\n",
            "  \"directionality\": \"bidi\",\n",
            "  \"hidden_act\": \"gelu\",\n",
            "  \"hidden_dropout_prob\": 0.1,\n",
            "  \"hidden_size\": 768,\n",
            "  \"id2label\": {\n",
            "    \"0\": \"O\",\n",
            "    \"1\": \"S\",\n",
            "    \"2\": \"H\"\n",
            "  },\n",
            "  \"initializer_range\": 0.02,\n",
            "  \"intermediate_size\": 3072,\n",
            "  \"label2id\": {\n",
            "    \"H\": \"2\",\n",
            "    \"O\": \"0\",\n",
            "    \"S\": \"1\"\n",
            "  },\n",
            "  \"layer_norm_eps\": 1e-12,\n",
            "  \"max_position_embeddings\": 512,\n",
            "  \"model_type\": \"bert\",\n",
            "  \"num_attention_heads\": 12,\n",
            "  \"num_hidden_layers\": 12,\n",
            "  \"pad_token_id\": 0,\n",
            "  \"pooler_fc_size\": 768,\n",
            "  \"pooler_num_attention_heads\": 12,\n",
            "  \"pooler_num_fc_layers\": 3,\n",
            "  \"pooler_size_per_head\": 128,\n",
            "  \"pooler_type\": \"first_token_transform\",\n",
            "  \"position_embedding_type\": \"absolute\",\n",
            "  \"transformers_version\": \"4.19.2\",\n",
            "  \"type_vocab_size\": 2,\n",
            "  \"use_cache\": true,\n",
            "  \"vocab_size\": 119547\n",
            "}\n",
            "\n",
            "https://huggingface.co/bert-base-multilingual-cased/resolve/main/pytorch_model.bin not found in cache or force_download set to True, downloading to /root/.cache/huggingface/transformers/tmp217oi4ke\n"
          ]
        },
        {
          "data": {
            "application/vnd.jupyter.widget-view+json": {
              "model_id": "18dabcaf57034588a3cb4d06ec635f6f",
              "version_major": 2,
              "version_minor": 0
            },
            "text/plain": [
              "Downloading:   0%|          | 0.00/681M [00:00<?, ?B/s]"
            ]
          },
          "metadata": {},
          "output_type": "display_data"
        },
        {
          "name": "stderr",
          "output_type": "stream",
          "text": [
            "storing https://huggingface.co/bert-base-multilingual-cased/resolve/main/pytorch_model.bin in cache at /root/.cache/huggingface/transformers/0a3fd51713dcbb4def175c7f85bddc995d5976ce1dde327f99104e4d33069f17.aa7be4c79d76f4066d9b354496ea477c9ee39c5d889156dd1efb680643c2b052\n",
            "creating metadata file for /root/.cache/huggingface/transformers/0a3fd51713dcbb4def175c7f85bddc995d5976ce1dde327f99104e4d33069f17.aa7be4c79d76f4066d9b354496ea477c9ee39c5d889156dd1efb680643c2b052\n",
            "loading weights file https://huggingface.co/bert-base-multilingual-cased/resolve/main/pytorch_model.bin from cache at /root/.cache/huggingface/transformers/0a3fd51713dcbb4def175c7f85bddc995d5976ce1dde327f99104e4d33069f17.aa7be4c79d76f4066d9b354496ea477c9ee39c5d889156dd1efb680643c2b052\n",
            "Some weights of the model checkpoint at bert-base-multilingual-cased were not used when initializing BertForTokenClassification: ['cls.predictions.bias', 'cls.predictions.transform.dense.weight', 'cls.seq_relationship.weight', 'cls.seq_relationship.bias', 'cls.predictions.transform.LayerNorm.weight', 'cls.predictions.decoder.weight', 'cls.predictions.transform.dense.bias', 'cls.predictions.transform.LayerNorm.bias']\n",
            "- This IS expected if you are initializing BertForTokenClassification from the checkpoint of a model trained on another task or with another architecture (e.g. initializing a BertForSequenceClassification model from a BertForPreTraining model).\n",
            "- This IS NOT expected if you are initializing BertForTokenClassification from the checkpoint of a model that you expect to be exactly identical (initializing a BertForSequenceClassification model from a BertForSequenceClassification model).\n",
            "Some weights of BertForTokenClassification were not initialized from the model checkpoint at bert-base-multilingual-cased and are newly initialized: ['classifier.weight', 'classifier.bias']\n",
            "You should probably TRAIN this model on a down-stream task to be able to use it for predictions and inference.\n"
          ]
        }
      ],
      "source": [
        "from transformers import AutoModelForTokenClassification\n",
        "\n",
        "model = AutoModelForTokenClassification.from_pretrained(    \n",
        "    model_checkpoint,\n",
        "    id2label=id2label,\n",
        "    label2id=label2id,\n",
        "    num_labels = 3,\n",
        ")"
      ]
    },
    {
      "cell_type": "code",
      "execution_count": null,
      "metadata": {
        "colab": {
          "base_uri": "https://localhost:8080/"
        },
        "id": "LDiAYqsYUc00",
        "outputId": "c32642af-e8cc-4ea2-89c6-5f767df169f1"
      },
      "outputs": [
        {
          "data": {
            "text/plain": [
              "3"
            ]
          },
          "execution_count": 171,
          "metadata": {},
          "output_type": "execute_result"
        }
      ],
      "source": [
        "model.config.num_labels"
      ]
    },
    {
      "cell_type": "code",
      "execution_count": null,
      "metadata": {
        "colab": {
          "base_uri": "https://localhost:8080/"
        },
        "id": "sS-L0U1XUc01",
        "outputId": "ea345670-3bc2-4382-adeb-77fd3d7a34d6"
      },
      "outputs": [
        {
          "name": "stderr",
          "output_type": "stream",
          "text": [
            "PyTorch: setting up devices\n",
            "The default value for the training argument `--report_to` will change in v5 (from all installed integrations to none). In v5, you will need to use `--report_to all` to get the same behavior as now. You should start updating your code and make this info disappear :-).\n"
          ]
        }
      ],
      "source": [
        "from transformers import TrainingArguments\n",
        "\n",
        "args = TrainingArguments(\n",
        "    \"NLP-CIC-WFU_Clinical_Cases_NER_Sents_tokenized_mBERT_cased_fine_tuned\",\n",
        "    evaluation_strategy=\"epoch\",\n",
        "    save_strategy=\"epoch\",\n",
        "    learning_rate=5e-5,\n",
        "    num_train_epochs=7,\n",
        "    weight_decay=0.01,\n",
        "    push_to_hub=True,\n",
        ")"
      ]
    },
    {
      "cell_type": "markdown",
      "metadata": {
        "id": "K90ROU-SaLC5"
      },
      "source": [
        "## Hugging Face Authentication\n",
        "\n",
        "If you want to save your own model and make it available online we strongly recommend signing up at: https://huggingface.co/"
      ]
    },
    {
      "cell_type": "markdown",
      "metadata": {
        "id": "lgxCB7y8Uc0n"
      },
      "source": [
        "You will need to setup git, adapt your email and name in the following cell."
      ]
    },
    {
      "cell_type": "code",
      "execution_count": null,
      "metadata": {
        "id": "Hstit1gRUc0o"
      },
      "outputs": [],
      "source": [
        "!git config --global user.email \"your_email\"\n",
        "!git config --global user.name \"your_username\""
      ]
    },
    {
      "cell_type": "markdown",
      "metadata": {
        "id": "UXbs9i1fUc0o"
      },
      "source": [
        "You will also need to be logged in to the Hugging Face Hub. Execute the following and enter your credentials."
      ]
    },
    {
      "cell_type": "code",
      "execution_count": null,
      "metadata": {
        "colab": {
          "base_uri": "https://localhost:8080/",
          "height": 387
        },
        "id": "G6SkGUEUUc0p",
        "outputId": "d997cbb4-70da-44bd-b94f-d563f4cd3a05"
      },
      "outputs": [
        {
          "name": "stdout",
          "output_type": "stream",
          "text": [
            "Login successful\n",
            "Your token has been saved to /root/.huggingface/token\n",
            "\u001b[1m\u001b[31mAuthenticated through git-credential store but this isn't the helper defined on your machine.\n",
            "You might have to re-authenticate when pushing to the Hugging Face Hub. Run the following command in your terminal in case you want to set this credential helper as the default\n",
            "\n",
            "git config --global credential.helper store\u001b[0m\n"
          ]
        }
      ],
      "source": [
        "from huggingface_hub import notebook_login\n",
        "\n",
        "notebook_login()"
      ]
    },
    {
      "cell_type": "markdown",
      "metadata": {
        "id": "tdHv4CMvctoB"
      },
      "source": [
        "## Fine-tuning mBERT for NER"
      ]
    },
    {
      "cell_type": "code",
      "execution_count": null,
      "metadata": {
        "colab": {
          "base_uri": "https://localhost:8080/",
          "height": 1000
        },
        "id": "RvHls_JJUc01",
        "outputId": "7db982ba-d66f-4962-a6b4-843b14a05ffe"
      },
      "outputs": [
        {
          "name": "stderr",
          "output_type": "stream",
          "text": [
            "Cloning https://huggingface.co/ajtamayoh/NLP-CIC-WFU_Clinical_Cases_NER_Paragraph_Tokenized_mBERT_cased_fine_tuned into local empty directory.\n",
            "/usr/local/lib/python3.7/dist-packages/transformers/optimization.py:309: FutureWarning: This implementation of AdamW is deprecated and will be removed in a future version. Use the PyTorch implementation torch.optim.AdamW instead, or set `no_deprecation_warning=True` to disable this warning\n",
            "  FutureWarning,\n",
            "***** Running training *****\n",
            "  Num examples = 4107\n",
            "  Num Epochs = 7\n",
            "  Instantaneous batch size per device = 8\n",
            "  Total train batch size (w. parallel, distributed & accumulation) = 8\n",
            "  Gradient Accumulation steps = 1\n",
            "  Total optimization steps = 3598\n"
          ]
        },
        {
          "data": {
            "text/html": [
              "\n",
              "    <div>\n",
              "      \n",
              "      <progress value='3598' max='3598' style='width:300px; height:20px; vertical-align: middle;'></progress>\n",
              "      [3598/3598 17:31, Epoch 7/7]\n",
              "    </div>\n",
              "    <table border=\"1\" class=\"dataframe\">\n",
              "  <thead>\n",
              " <tr style=\"text-align: left;\">\n",
              "      <th>Epoch</th>\n",
              "      <th>Training Loss</th>\n",
              "      <th>Validation Loss</th>\n",
              "      <th>Precision</th>\n",
              "      <th>Recall</th>\n",
              "      <th>F1</th>\n",
              "      <th>Accuracy</th>\n",
              "    </tr>\n",
              "  </thead>\n",
              "  <tbody>\n",
              "    <tr>\n",
              "      <td>1</td>\n",
              "      <td>0.069300</td>\n",
              "      <td>0.041590</td>\n",
              "      <td>0.948512</td>\n",
              "      <td>0.649229</td>\n",
              "      <td>0.770840</td>\n",
              "      <td>0.988430</td>\n",
              "    </tr>\n",
              "    <tr>\n",
              "      <td>2</td>\n",
              "      <td>0.036700</td>\n",
              "      <td>0.039589</td>\n",
              "      <td>0.939114</td>\n",
              "      <td>0.670980</td>\n",
              "      <td>0.782720</td>\n",
              "      <td>0.989238</td>\n",
              "    </tr>\n",
              "    <tr>\n",
              "      <td>3</td>\n",
              "      <td>0.028300</td>\n",
              "      <td>0.038541</td>\n",
              "      <td>0.938837</td>\n",
              "      <td>0.688877</td>\n",
              "      <td>0.794664</td>\n",
              "      <td>0.989933</td>\n",
              "    </tr>\n",
              "    <tr>\n",
              "      <td>4</td>\n",
              "      <td>0.022200</td>\n",
              "      <td>0.042248</td>\n",
              "      <td>0.945552</td>\n",
              "      <td>0.678965</td>\n",
              "      <td>0.790385</td>\n",
              "      <td>0.989845</td>\n",
              "    </tr>\n",
              "    <tr>\n",
              "      <td>5</td>\n",
              "      <td>0.018200</td>\n",
              "      <td>0.045671</td>\n",
              "      <td>0.934944</td>\n",
              "      <td>0.692456</td>\n",
              "      <td>0.795634</td>\n",
              "      <td>0.990095</td>\n",
              "    </tr>\n",
              "    <tr>\n",
              "      <td>6</td>\n",
              "      <td>0.013000</td>\n",
              "      <td>0.048440</td>\n",
              "      <td>0.894663</td>\n",
              "      <td>0.706222</td>\n",
              "      <td>0.789352</td>\n",
              "      <td>0.989860</td>\n",
              "    </tr>\n",
              "    <tr>\n",
              "      <td>7</td>\n",
              "      <td>0.008400</td>\n",
              "      <td>0.053715</td>\n",
              "      <td>0.858522</td>\n",
              "      <td>0.710077</td>\n",
              "      <td>0.777275</td>\n",
              "      <td>0.989287</td>\n",
              "    </tr>\n",
              "  </tbody>\n",
              "</table><p>"
            ],
            "text/plain": [
              "<IPython.core.display.HTML object>"
            ]
          },
          "metadata": {},
          "output_type": "display_data"
        },
        {
          "name": "stderr",
          "output_type": "stream",
          "text": [
            "***** Running Evaluation *****\n",
            "  Num examples = 1370\n",
            "  Batch size = 8\n",
            "/usr/local/lib/python3.7/dist-packages/seqeval/metrics/sequence_labeling.py:171: UserWarning: H seems not to be NE tag.\n",
            "  warnings.warn('{} seems not to be NE tag.'.format(chunk))\n",
            "Saving model checkpoint to NLP-CIC-WFU_Clinical_Cases_NER_Paragraph_Tokenized_mBERT_cased_fine_tuned/checkpoint-514\n",
            "Configuration saved in NLP-CIC-WFU_Clinical_Cases_NER_Paragraph_Tokenized_mBERT_cased_fine_tuned/checkpoint-514/config.json\n",
            "Model weights saved in NLP-CIC-WFU_Clinical_Cases_NER_Paragraph_Tokenized_mBERT_cased_fine_tuned/checkpoint-514/pytorch_model.bin\n",
            "tokenizer config file saved in NLP-CIC-WFU_Clinical_Cases_NER_Paragraph_Tokenized_mBERT_cased_fine_tuned/checkpoint-514/tokenizer_config.json\n",
            "Special tokens file saved in NLP-CIC-WFU_Clinical_Cases_NER_Paragraph_Tokenized_mBERT_cased_fine_tuned/checkpoint-514/special_tokens_map.json\n",
            "tokenizer config file saved in NLP-CIC-WFU_Clinical_Cases_NER_Paragraph_Tokenized_mBERT_cased_fine_tuned/tokenizer_config.json\n",
            "Special tokens file saved in NLP-CIC-WFU_Clinical_Cases_NER_Paragraph_Tokenized_mBERT_cased_fine_tuned/special_tokens_map.json\n",
            "***** Running Evaluation *****\n",
            "  Num examples = 1370\n",
            "  Batch size = 8\n",
            "/usr/local/lib/python3.7/dist-packages/seqeval/metrics/sequence_labeling.py:171: UserWarning: H seems not to be NE tag.\n",
            "  warnings.warn('{} seems not to be NE tag.'.format(chunk))\n",
            "Saving model checkpoint to NLP-CIC-WFU_Clinical_Cases_NER_Paragraph_Tokenized_mBERT_cased_fine_tuned/checkpoint-1028\n",
            "Configuration saved in NLP-CIC-WFU_Clinical_Cases_NER_Paragraph_Tokenized_mBERT_cased_fine_tuned/checkpoint-1028/config.json\n",
            "Model weights saved in NLP-CIC-WFU_Clinical_Cases_NER_Paragraph_Tokenized_mBERT_cased_fine_tuned/checkpoint-1028/pytorch_model.bin\n",
            "tokenizer config file saved in NLP-CIC-WFU_Clinical_Cases_NER_Paragraph_Tokenized_mBERT_cased_fine_tuned/checkpoint-1028/tokenizer_config.json\n",
            "Special tokens file saved in NLP-CIC-WFU_Clinical_Cases_NER_Paragraph_Tokenized_mBERT_cased_fine_tuned/checkpoint-1028/special_tokens_map.json\n",
            "***** Running Evaluation *****\n",
            "  Num examples = 1370\n",
            "  Batch size = 8\n",
            "/usr/local/lib/python3.7/dist-packages/seqeval/metrics/sequence_labeling.py:171: UserWarning: H seems not to be NE tag.\n",
            "  warnings.warn('{} seems not to be NE tag.'.format(chunk))\n",
            "Saving model checkpoint to NLP-CIC-WFU_Clinical_Cases_NER_Paragraph_Tokenized_mBERT_cased_fine_tuned/checkpoint-1542\n",
            "Configuration saved in NLP-CIC-WFU_Clinical_Cases_NER_Paragraph_Tokenized_mBERT_cased_fine_tuned/checkpoint-1542/config.json\n",
            "Model weights saved in NLP-CIC-WFU_Clinical_Cases_NER_Paragraph_Tokenized_mBERT_cased_fine_tuned/checkpoint-1542/pytorch_model.bin\n",
            "tokenizer config file saved in NLP-CIC-WFU_Clinical_Cases_NER_Paragraph_Tokenized_mBERT_cased_fine_tuned/checkpoint-1542/tokenizer_config.json\n",
            "Special tokens file saved in NLP-CIC-WFU_Clinical_Cases_NER_Paragraph_Tokenized_mBERT_cased_fine_tuned/checkpoint-1542/special_tokens_map.json\n",
            "***** Running Evaluation *****\n",
            "  Num examples = 1370\n",
            "  Batch size = 8\n",
            "/usr/local/lib/python3.7/dist-packages/seqeval/metrics/sequence_labeling.py:171: UserWarning: H seems not to be NE tag.\n",
            "  warnings.warn('{} seems not to be NE tag.'.format(chunk))\n",
            "Saving model checkpoint to NLP-CIC-WFU_Clinical_Cases_NER_Paragraph_Tokenized_mBERT_cased_fine_tuned/checkpoint-2056\n",
            "Configuration saved in NLP-CIC-WFU_Clinical_Cases_NER_Paragraph_Tokenized_mBERT_cased_fine_tuned/checkpoint-2056/config.json\n",
            "Model weights saved in NLP-CIC-WFU_Clinical_Cases_NER_Paragraph_Tokenized_mBERT_cased_fine_tuned/checkpoint-2056/pytorch_model.bin\n",
            "tokenizer config file saved in NLP-CIC-WFU_Clinical_Cases_NER_Paragraph_Tokenized_mBERT_cased_fine_tuned/checkpoint-2056/tokenizer_config.json\n",
            "Special tokens file saved in NLP-CIC-WFU_Clinical_Cases_NER_Paragraph_Tokenized_mBERT_cased_fine_tuned/checkpoint-2056/special_tokens_map.json\n",
            "***** Running Evaluation *****\n",
            "  Num examples = 1370\n",
            "  Batch size = 8\n",
            "/usr/local/lib/python3.7/dist-packages/seqeval/metrics/sequence_labeling.py:171: UserWarning: H seems not to be NE tag.\n",
            "  warnings.warn('{} seems not to be NE tag.'.format(chunk))\n",
            "Saving model checkpoint to NLP-CIC-WFU_Clinical_Cases_NER_Paragraph_Tokenized_mBERT_cased_fine_tuned/checkpoint-2570\n",
            "Configuration saved in NLP-CIC-WFU_Clinical_Cases_NER_Paragraph_Tokenized_mBERT_cased_fine_tuned/checkpoint-2570/config.json\n",
            "Model weights saved in NLP-CIC-WFU_Clinical_Cases_NER_Paragraph_Tokenized_mBERT_cased_fine_tuned/checkpoint-2570/pytorch_model.bin\n",
            "tokenizer config file saved in NLP-CIC-WFU_Clinical_Cases_NER_Paragraph_Tokenized_mBERT_cased_fine_tuned/checkpoint-2570/tokenizer_config.json\n",
            "Special tokens file saved in NLP-CIC-WFU_Clinical_Cases_NER_Paragraph_Tokenized_mBERT_cased_fine_tuned/checkpoint-2570/special_tokens_map.json\n",
            "***** Running Evaluation *****\n",
            "  Num examples = 1370\n",
            "  Batch size = 8\n",
            "/usr/local/lib/python3.7/dist-packages/seqeval/metrics/sequence_labeling.py:171: UserWarning: H seems not to be NE tag.\n",
            "  warnings.warn('{} seems not to be NE tag.'.format(chunk))\n",
            "Saving model checkpoint to NLP-CIC-WFU_Clinical_Cases_NER_Paragraph_Tokenized_mBERT_cased_fine_tuned/checkpoint-3084\n",
            "Configuration saved in NLP-CIC-WFU_Clinical_Cases_NER_Paragraph_Tokenized_mBERT_cased_fine_tuned/checkpoint-3084/config.json\n",
            "Model weights saved in NLP-CIC-WFU_Clinical_Cases_NER_Paragraph_Tokenized_mBERT_cased_fine_tuned/checkpoint-3084/pytorch_model.bin\n",
            "tokenizer config file saved in NLP-CIC-WFU_Clinical_Cases_NER_Paragraph_Tokenized_mBERT_cased_fine_tuned/checkpoint-3084/tokenizer_config.json\n",
            "Special tokens file saved in NLP-CIC-WFU_Clinical_Cases_NER_Paragraph_Tokenized_mBERT_cased_fine_tuned/checkpoint-3084/special_tokens_map.json\n",
            "***** Running Evaluation *****\n",
            "  Num examples = 1370\n",
            "  Batch size = 8\n",
            "/usr/local/lib/python3.7/dist-packages/seqeval/metrics/sequence_labeling.py:171: UserWarning: H seems not to be NE tag.\n",
            "  warnings.warn('{} seems not to be NE tag.'.format(chunk))\n",
            "Saving model checkpoint to NLP-CIC-WFU_Clinical_Cases_NER_Paragraph_Tokenized_mBERT_cased_fine_tuned/checkpoint-3598\n",
            "Configuration saved in NLP-CIC-WFU_Clinical_Cases_NER_Paragraph_Tokenized_mBERT_cased_fine_tuned/checkpoint-3598/config.json\n",
            "Model weights saved in NLP-CIC-WFU_Clinical_Cases_NER_Paragraph_Tokenized_mBERT_cased_fine_tuned/checkpoint-3598/pytorch_model.bin\n",
            "tokenizer config file saved in NLP-CIC-WFU_Clinical_Cases_NER_Paragraph_Tokenized_mBERT_cased_fine_tuned/checkpoint-3598/tokenizer_config.json\n",
            "Special tokens file saved in NLP-CIC-WFU_Clinical_Cases_NER_Paragraph_Tokenized_mBERT_cased_fine_tuned/checkpoint-3598/special_tokens_map.json\n",
            "\n",
            "\n",
            "Training completed. Do not forget to share your model on huggingface.co/models =)\n",
            "\n",
            "\n"
          ]
        },
        {
          "data": {
            "text/plain": [
              "TrainOutput(global_step=3598, training_loss=0.02750393009437595, metrics={'train_runtime': 1052.0302, 'train_samples_per_second': 27.327, 'train_steps_per_second': 3.42, 'total_flos': 3673367002806606.0, 'train_loss': 0.02750393009437595, 'epoch': 7.0})"
            ]
          },
          "execution_count": 173,
          "metadata": {},
          "output_type": "execute_result"
        }
      ],
      "source": [
        "from transformers import Trainer\n",
        "\n",
        "trainer = Trainer(\n",
        "    model=model,\n",
        "    args=args,\n",
        "    train_dataset=tokenized_datasets[\"train\"],\n",
        "    eval_dataset=tokenized_datasets[\"validation\"],\n",
        "    data_collator=data_collator,\n",
        "    compute_metrics=compute_metrics,\n",
        "    tokenizer=tokenizer,\n",
        ")\n",
        "trainer.train()"
      ]
    },
    {
      "cell_type": "markdown",
      "metadata": {
        "id": "0rGdJ42qc3sh"
      },
      "source": [
        "## Saving the fine-tuned model at Hugging Face (It requires previous authentication)"
      ]
    },
    {
      "cell_type": "code",
      "execution_count": null,
      "metadata": {
        "colab": {
          "base_uri": "https://localhost:8080/",
          "height": 449,
          "referenced_widgets": [
            "7daa971fa73643c183fcf1f23c32a3a4",
            "018ce2a73bde47cfb5d7cb937839dd5c",
            "e291a5bb57584a3caf41fd71b5c34f91",
            "cc48a3eb8c8f48ada0fdad0284e7d578",
            "db0326f194054ef5abedb128c6b8cb18",
            "36ed99cd4df3418f9c0060b99d875de8",
            "560d1f0e8e3f4074a9851151744b4bb6",
            "41fd11eb86d64308b30875ae509e0c2f",
            "a350f9004c8f46138562e44e6b6c86af",
            "c5dd9d7e7bd141a492fb3dcd85555f20",
            "60aa5fb951244804b7c865ad7506ce8d",
            "94be078c767346a89945d8cb55de1dbc",
            "7fd7d50fbc3c4972a9debd07205dd31d",
            "ff1278c6e899418f859778da4c49162f",
            "6c3e75f4f73c497ab25822ed2c748ac6",
            "54883d7ca37e43c59d650958178844b0",
            "b0f5cf3cc89a4b23913617932bd37434",
            "dbe968e25df64d2a96b81d98b5ed8cdc",
            "31f5f0d53b96475f8926d55ce3004b13",
            "fda8529e77c5410a88d9b44f48cb6db9",
            "ca19a2b120fc4bbfbf6cae8e6a65a809",
            "2009995827b344b9af14f2a1cec0facb"
          ]
        },
        "id": "TAvTQZClUc01",
        "outputId": "b80e7315-076e-4931-cce3-c1a1ef074b3f"
      },
      "outputs": [
        {
          "name": "stderr",
          "output_type": "stream",
          "text": [
            "Saving model checkpoint to NLP-CIC-WFU_Clinical_Cases_NER_Paragraph_Tokenized_mBERT_cased_fine_tuned\n",
            "Configuration saved in NLP-CIC-WFU_Clinical_Cases_NER_Paragraph_Tokenized_mBERT_cased_fine_tuned/config.json\n",
            "Model weights saved in NLP-CIC-WFU_Clinical_Cases_NER_Paragraph_Tokenized_mBERT_cased_fine_tuned/pytorch_model.bin\n",
            "tokenizer config file saved in NLP-CIC-WFU_Clinical_Cases_NER_Paragraph_Tokenized_mBERT_cased_fine_tuned/tokenizer_config.json\n",
            "Special tokens file saved in NLP-CIC-WFU_Clinical_Cases_NER_Paragraph_Tokenized_mBERT_cased_fine_tuned/special_tokens_map.json\n",
            "Several commits (2) will be pushed upstream.\n",
            "The progress bars may be unreliable.\n"
          ]
        },
        {
          "data": {
            "application/vnd.jupyter.widget-view+json": {
              "model_id": "7daa971fa73643c183fcf1f23c32a3a4",
              "version_major": 2,
              "version_minor": 0
            },
            "text/plain": [
              "Upload file pytorch_model.bin:   0%|          | 3.34k/676M [00:00<?, ?B/s]"
            ]
          },
          "metadata": {},
          "output_type": "display_data"
        },
        {
          "data": {
            "application/vnd.jupyter.widget-view+json": {
              "model_id": "94be078c767346a89945d8cb55de1dbc",
              "version_major": 2,
              "version_minor": 0
            },
            "text/plain": [
              "Upload file runs/Jun09_23-02-14_cd70aa5e2986/events.out.tfevents.1654815761.cd70aa5e2986.82.2:  39%|###9      …"
            ]
          },
          "metadata": {},
          "output_type": "display_data"
        },
        {
          "name": "stderr",
          "output_type": "stream",
          "text": [
            "remote: Enforcing permissions...        \n",
            "remote: Allowed refs: all\n",
            "To https://huggingface.co/ajtamayoh/NLP-CIC-WFU_Clinical_Cases_NER_Paragraph_Tokenized_mBERT_cased_fine_tuned\n",
            "   577e064..6016158  main -> main\n",
            "\n",
            "Dropping the following result as it does not have all the necessary fields:\n",
            "{'task': {'name': 'Token Classification', 'type': 'token-classification'}, 'metrics': [{'name': 'Precision', 'type': 'precision', 'value': 0.8585219707057257}, {'name': 'Recall', 'type': 'recall', 'value': 0.7100770925110133}, {'name': 'F1', 'type': 'f1', 'value': 0.7772754671488848}, {'name': 'Accuracy', 'type': 'accuracy', 'value': 0.9892868689441663}]}\n",
            "remote: Enforcing permissions...        \n",
            "remote: Allowed refs: all        \n",
            "To https://huggingface.co/ajtamayoh/NLP-CIC-WFU_Clinical_Cases_NER_Paragraph_Tokenized_mBERT_cased_fine_tuned\n",
            "   6016158..ed75ffc  main -> main\n",
            "\n"
          ]
        },
        {
          "data": {
            "application/vnd.google.colaboratory.intrinsic+json": {
              "type": "string"
            },
            "text/plain": [
              "'https://huggingface.co/ajtamayoh/NLP-CIC-WFU_Clinical_Cases_NER_Paragraph_Tokenized_mBERT_cased_fine_tuned/commit/601615881c21b387ab613b97aacc56f7e3aadcdb'"
            ]
          },
          "execution_count": 174,
          "metadata": {},
          "output_type": "execute_result"
        }
      ],
      "source": [
        "trainer.push_to_hub(commit_message=\"Fine-tuning completed\")"
      ]
    },
    {
      "cell_type": "markdown",
      "metadata": {
        "id": "485I5jdmd6Dr"
      },
      "source": [
        "## Analyzing predictions"
      ]
    },
    {
      "cell_type": "code",
      "execution_count": null,
      "metadata": {
        "colab": {
          "base_uri": "https://localhost:8080/",
          "height": 141
        },
        "id": "qk5cSus7d5cA",
        "outputId": "149961c3-d6d2-4f8e-c5f6-8e4783f4ec03"
      },
      "outputs": [
        {
          "name": "stderr",
          "output_type": "stream",
          "text": [
            "***** Running Prediction *****\n",
            "  Num examples = 250\n",
            "  Batch size = 8\n"
          ]
        },
        {
          "data": {
            "text/html": [
              "\n",
              "    <div>\n",
              "      \n",
              "      <progress value='32' max='32' style='width:300px; height:20px; vertical-align: middle;'></progress>\n",
              "      [32/32 00:04]\n",
              "    </div>\n",
              "    "
            ],
            "text/plain": [
              "<IPython.core.display.HTML object>"
            ]
          },
          "metadata": {},
          "output_type": "display_data"
        },
        {
          "name": "stderr",
          "output_type": "stream",
          "text": [
            "/usr/local/lib/python3.7/dist-packages/seqeval/metrics/sequence_labeling.py:171: UserWarning: H seems not to be NE tag.\n",
            "  warnings.warn('{} seems not to be NE tag.'.format(chunk))\n"
          ]
        },
        {
          "name": "stdout",
          "output_type": "stream",
          "text": [
            "(250, 512, 3) (250, 512)\n"
          ]
        }
      ],
      "source": [
        "import numpy as np\n",
        "\n",
        "predictions = trainer.predict(tokenized_datasets[\"validation\"])\n",
        "print(predictions.predictions.shape, predictions.label_ids.shape)\n",
        "\n",
        "preds = np.argmax(predictions.predictions, axis=-1)\n"
      ]
    },
    {
      "cell_type": "code",
      "execution_count": null,
      "metadata": {
        "colab": {
          "base_uri": "https://localhost:8080/",
          "height": 53
        },
        "id": "1puArlhRe7_o",
        "outputId": "e2e783ef-eb5b-40e5-c3e9-dd8aaef13810"
      },
      "outputs": [
        {
          "data": {
            "application/vnd.google.colaboratory.intrinsic+json": {
              "type": "string"
            },
            "text/plain": [
              "'\\ni=0\\nprint(raw_datasets[\"validation\"][i][\\'tokens\\'])\\nfor j in range(len(preds[i])):\\n  print(raw_datasets[\"validation\"][i][\\'ner_tags\\'][j], \"\\t\", preds[i][j])\\nprint(\\' \\'.join(raw_datasets[\"validation\"][i][\\'tokens\\']))\\n'"
            ]
          },
          "execution_count": 475,
          "metadata": {},
          "output_type": "execute_result"
        }
      ],
      "source": [
        "\"\"\"\n",
        "i=0\n",
        "print(raw_datasets[\"validation\"][i]['tokens'])\n",
        "for j in range(len(preds[i])):\n",
        "  print(raw_datasets[\"validation\"][i]['ner_tags'][j], \"\\t\", preds[i][j])\n",
        "print(' '.join(raw_datasets[\"validation\"][i]['tokens']))\n",
        "\"\"\""
      ]
    },
    {
      "cell_type": "markdown",
      "metadata": {
        "id": "SjEM4d77Toxs"
      },
      "source": [
        "## Loading the model for inference"
      ]
    },
    {
      "cell_type": "code",
      "execution_count": null,
      "metadata": {
        "colab": {
          "base_uri": "https://localhost:8080/",
          "height": 209,
          "referenced_widgets": [
            "a4d8302506a8471ea2841906313f7bba",
            "a92d74d0673b4a9f88fa94a222f20ecf",
            "0721331c1dcc41999ed26aaea1689e90",
            "462ccb934d5541f2b11b825b5b462a4d",
            "9596dae9de494e21a0480e6fde07165d",
            "7475859fc27a40028d134aabf4cdd1b1",
            "a0a2d8cd4c6847d7aac4fd3a9defeeef",
            "4d2e51c270af4430a13b0732f48c4847",
            "f4d20a99296641609062da07edb46909",
            "f9d62ca3a4a54034958779d102eb8f95",
            "2249199a8c7342a8816e9b9b592e5a70",
            "a1543a007498419aab7028308a42b656",
            "9827cafcd77b4c03a91c46f005075df1",
            "778ed375807644b2baaeb2f6677ead5e",
            "29c00b19aea14941950975e155742b0f",
            "3612f6e1364241af9ad872d6693e65ae",
            "261ebf8294d649cbb878e905a2bc2478",
            "488c611578ea4db3a4301470ea469767",
            "07ef83bd5f994cc3b7cd923d4adc2ea7",
            "f7faadf58ded4d85aa87fbb8e8b24aab",
            "3b0466f8c82d4bdca51356877ef83bf6",
            "ef383be8d51c44e1b542c95aad7141e2",
            "78581334a5174ceeb3c87b1d0c8969dc",
            "f1c2c482ac8e4233b6371f379c85a570",
            "9de1e7a610114df583edaf037183820b",
            "f4e3acf7c2cf4242aac8fb162cfcf467",
            "f1ead711677145438a560406e2abd781",
            "954d6ff6f7e04efa95cee7ce61bfd567",
            "59470ffceb9c4935ad86deb823dbeb01",
            "ee8da3555cdc48f6bb64aa6ab78751fc",
            "8eb7b74ad0c543988b7cfbd9478ec54f",
            "7f338348cd864d888922dccdc822434c",
            "cb0196f513b0448aa6b5560444b80545",
            "01b65f157423499f9c4d032068c99473",
            "9e93decdf45547418dc5c1af978fcbdb",
            "1fa3cb0e522c4d16994a4012021abdc5",
            "61d8e8cbdffc4bdcb2b7c3a30137ee78",
            "20a4fc6880924cb5bcacf160183fa30e",
            "765231473e5d480fa62319b737692a5d",
            "397c1f3ca72741208c502cd835f2b50e",
            "9f7f3d0d6206462d9dacbea3f37dca10",
            "ab26556262ef4359aa4f69fc82c987d6",
            "e6aeab333b944468b517a49ea4c7725b",
            "c80cf233e266493d92af24343d48597f",
            "80a3b6a8658c4c94baf655e64c31ac97",
            "65366ec987d94aaab6bf2875d347fb0d",
            "abdec00e9a7f4979a4fb30f8709fecb7",
            "e80e8aa34ce2424cae5a6ad313e05c59",
            "5fb69377d74c43e897de1513770c5710",
            "fee46e683f6d414fb4b354ed96024207",
            "ae9f7304ee734043943f269e6d335d89",
            "8ad98a41592b4924a3160fd6f46cbbf4",
            "0a07b226458e4c189578c82068c940f1",
            "94a788135a51488884f769b17a3b3116",
            "8b6928430df147c599ca38f8aed30be9",
            "f22f82fde5fc42ae8fc8d344a9cc8168",
            "c67991df708e49128889c1998af6ca3a",
            "844f567620414ca982596bc039b35bbe",
            "ee12048aae2e41d09456fa362b513eed",
            "c6fa1a11a22d412a95c5f7fb574b5e81",
            "862595115d9e477aac9022d89c994cd3",
            "b40872801bab46bcad2832182ebb9314",
            "170cea3808014d12a4325ef5f4203d62",
            "a07095400feb4ab3923a01fdb423a64e",
            "2a016601cbea450890914ea5e9d237aa",
            "588ef054e5944b819a3465552793e746"
          ]
        },
        "id": "HKO5fyKyUc04",
        "outputId": "326a36b0-384c-4284-ee50-d90708c4ab42"
      },
      "outputs": [
        {
          "output_type": "display_data",
          "data": {
            "text/plain": [
              "Downloading:   0%|          | 0.00/967 [00:00<?, ?B/s]"
            ],
            "application/vnd.jupyter.widget-view+json": {
              "version_major": 2,
              "version_minor": 0,
              "model_id": "a4d8302506a8471ea2841906313f7bba"
            }
          },
          "metadata": {}
        },
        {
          "output_type": "display_data",
          "data": {
            "text/plain": [
              "Downloading:   0%|          | 0.00/676M [00:00<?, ?B/s]"
            ],
            "application/vnd.jupyter.widget-view+json": {
              "version_major": 2,
              "version_minor": 0,
              "model_id": "a1543a007498419aab7028308a42b656"
            }
          },
          "metadata": {}
        },
        {
          "output_type": "display_data",
          "data": {
            "text/plain": [
              "Downloading:   0%|          | 0.00/359 [00:00<?, ?B/s]"
            ],
            "application/vnd.jupyter.widget-view+json": {
              "version_major": 2,
              "version_minor": 0,
              "model_id": "78581334a5174ceeb3c87b1d0c8969dc"
            }
          },
          "metadata": {}
        },
        {
          "output_type": "display_data",
          "data": {
            "text/plain": [
              "Downloading:   0%|          | 0.00/972k [00:00<?, ?B/s]"
            ],
            "application/vnd.jupyter.widget-view+json": {
              "version_major": 2,
              "version_minor": 0,
              "model_id": "01b65f157423499f9c4d032068c99473"
            }
          },
          "metadata": {}
        },
        {
          "output_type": "display_data",
          "data": {
            "text/plain": [
              "Downloading:   0%|          | 0.00/2.78M [00:00<?, ?B/s]"
            ],
            "application/vnd.jupyter.widget-view+json": {
              "version_major": 2,
              "version_minor": 0,
              "model_id": "80a3b6a8658c4c94baf655e64c31ac97"
            }
          },
          "metadata": {}
        },
        {
          "output_type": "display_data",
          "data": {
            "text/plain": [
              "Downloading:   0%|          | 0.00/112 [00:00<?, ?B/s]"
            ],
            "application/vnd.jupyter.widget-view+json": {
              "version_major": 2,
              "version_minor": 0,
              "model_id": "f22f82fde5fc42ae8fc8d344a9cc8168"
            }
          },
          "metadata": {}
        }
      ],
      "source": [
        "from transformers import pipeline\n",
        "\n",
        "#Replace this with your own checkpoint. If you have run all the previous cells successfully, the model should be available at your hugging face account with the name: NLP-CIC-WFU_Clinical_Cases_NER_Sents_tokenized_mBERT_cased_fine_tuned\n",
        "model_checkpoint = \"ajtamayoh/NLP-CIC-WFU_Clinical_Cases_NER_Sents_tokenized_mBERT_cased_fine_tuned\"\n",
        "token_classifier = pipeline(\n",
        "    \"token-classification\", model=model_checkpoint, aggregation_strategy=\"simple\"\n",
        ")"
      ]
    },
    {
      "cell_type": "markdown",
      "source": [
        "## Some examples"
      ],
      "metadata": {
        "id": "JiGKz2zHic7b"
      }
    },
    {
      "cell_type": "code",
      "execution_count": null,
      "metadata": {
        "colab": {
          "base_uri": "https://localhost:8080/"
        },
        "id": "Gr7QlXqoaaMZ",
        "outputId": "e317a89e-8b46-4e3a-c8b2-27e60ce405c1"
      },
      "outputs": [
        {
          "output_type": "execute_result",
          "data": {
            "text/plain": [
              "[{'end': 114,\n",
              "  'entity_group': 'H',\n",
              "  'score': 0.9997085,\n",
              "  'start': 107,\n",
              "  'word': 'familia'},\n",
              " {'end': 195,\n",
              "  'entity_group': 'H',\n",
              "  'score': 0.99993587,\n",
              "  'start': 187,\n",
              "  'word': 'paciente'},\n",
              " {'end': 224,\n",
              "  'entity_group': 'S',\n",
              "  'score': 0.999673,\n",
              "  'start': 222,\n",
              "  'word': 'gu'},\n",
              " {'end': 228,\n",
              "  'entity_group': 'H',\n",
              "  'score': 0.99980944,\n",
              "  'start': 224,\n",
              "  'word': '##sano'},\n",
              " {'end': 403,\n",
              "  'entity_group': 'S',\n",
              "  'score': 0.9998394,\n",
              "  'start': 398,\n",
              "  'word': 'micro'},\n",
              " {'end': 411,\n",
              "  'entity_group': 'H',\n",
              "  'score': 0.99972594,\n",
              "  'start': 403,\n",
              "  'word': '##filarias'},\n",
              " {'end': 568,\n",
              "  'entity_group': 'S',\n",
              "  'score': 0.99974626,\n",
              "  'start': 564,\n",
              "  'word': 'fila'},\n",
              " {'end': 571,\n",
              "  'entity_group': 'H',\n",
              "  'score': 0.99970335,\n",
              "  'start': 568,\n",
              "  'word': '##ria'},\n",
              " {'end': 636,\n",
              "  'entity_group': 'S',\n",
              "  'score': 0.9998555,\n",
              "  'start': 633,\n",
              "  'word': 'par'},\n",
              " {'end': 641,\n",
              "  'entity_group': 'H',\n",
              "  'score': 0.9997669,\n",
              "  'start': 636,\n",
              "  'word': '##ásito'},\n",
              " {'end': 654,\n",
              "  'entity_group': 'S',\n",
              "  'score': 0.9951168,\n",
              "  'start': 642,\n",
              "  'word': 'adulto de Br'},\n",
              " {'end': 658,\n",
              "  'entity_group': 'H',\n",
              "  'score': 0.9996479,\n",
              "  'start': 654,\n",
              "  'word': '##ugia'},\n",
              " {'end': 663,\n",
              "  'entity_group': 'S',\n",
              "  'score': 0.99914193,\n",
              "  'start': 659,\n",
              "  'word': 'mala'},\n",
              " {'end': 665,\n",
              "  'entity_group': 'H',\n",
              "  'score': 0.9997484,\n",
              "  'start': 663,\n",
              "  'word': '##ya'},\n",
              " {'end': 670,\n",
              "  'entity_group': 'S',\n",
              "  'score': 0.9998512,\n",
              "  'start': 668,\n",
              "  'word': 'On'},\n",
              " {'end': 678,\n",
              "  'entity_group': 'H',\n",
              "  'score': 0.9998451,\n",
              "  'start': 670,\n",
              "  'word': '##chocerca'},\n",
              " {'end': 682,\n",
              "  'entity_group': 'S',\n",
              "  'score': 0.9998523,\n",
              "  'start': 679,\n",
              "  'word': 'vol'},\n",
              " {'end': 687,\n",
              "  'entity_group': 'H',\n",
              "  'score': 0.99986553,\n",
              "  'start': 682,\n",
              "  'word': '##vulus'}]"
            ]
          },
          "metadata": {},
          "execution_count": 37
        }
      ],
      "source": [
        "#pred = token_classifier(\"El 2 de febrero de 2020, una mujer de 28 años y 30 semanas de gestación acudió a un consultorio de enfermedades infecciosas del hospital municipal de Suzhóu refiriendo fiebre intermitente de una semana de evolución. Informó de que había llegado a Suzhóu el 24 de enero tras visitar a su familia en Wuhan tres semanas antes. Teniendo en cuenta los antecedentes del paciente de fiebre y de desplazamiento a Wuhan, se recogieron dos frotis faríngeos, que dieron resultado negativo para el SARS-CoV-2 al ser analizados con el kit recomendado por el Centro de Control de Enfermedades chino (BioGerm, Shanghái, China) y de acuerdo con las directrices de la OMS para la RT-PCR cuantitativa. Una TAC torácica el día 4 de febrero mostró consolidaciones parcheadas subpleurales en el lado izquierdo y opacidades en vidrio esmerilado en el lado derecho. Se le puso en aislamiento en el mismo hospital. El 6 de febrero, los resultados de la segunda RT-PCR del esputo de la paciente para detectar SARS-CoV-2 fueron positivos, de modo que se transfirió a la unidad de cuidados intensivos (UCI) en una planta de enfermedades infecciosas del Hospital Asociado de Enfermedades Infecciosas de la universidad de Suchow, el centro hospitalario de referencia para la COVID-19 en Suzhóu. Al ingreso, la exploración física mostró una temperatura de 36,2 °C, presión arterial de 95/64 mmHg, pulso de 92 l.p.m., y saturación de oxígeno de 97% con mascarilla de Venturi a 5 litros por minuto de oxígeno. La auscultación pulmonar reveló roncus en el campo pulmonar inferior izquierdo. Otros resultados analíticos fueron: cifra de leucocitos de 10,60*109/L; cifra de neutrófilos de 9,14*109/L; cifra de linfocitos de 0,86*109/L; seroalbúmina de 24,6 g/L, proteína C-reactiva de 19,6 mg/L, dímero D de 840 ug/L, procalcitonina (PCT) de 0,288 ng/ml; lactato-deshidrogenasa (LDH) de 544 U/L; prohormona N-terminal del péptido natriurético cerebral (NT-proBNP) de 318 pg/ml. Las concentraciones de creatinina y aminotransferasa estaban dentro del intervalo normal. Una ecografía fetal mostró un feto intrauterino con características anatómicas normales de unas 30 semanas de gestación.\")\n",
        "#pred = token_classifier(\"En cuanto a la radiografía de tórax y al ecocardiograma no presentaron alteraciones. En la ecografía abdominal se observó una discreta hepatomegalia. Los hemocultivos y las serologías frente a Salmonella, Brucella, Rickettsia, Coxiella, Borrelia, Leishmania, Parvovirus B19, Citomegalovirus, virus de Epstein-Barr y herpes simplex, Toxoplasma y sífilis fueron negativos.\")\n",
        "#pred = token_classifier('Una niña de 55 días, por lo demás sana, con lactancia mixta, se puso enferma con rinorrea y tos seca el 28 de enero de 2020. Ingresó en nuestro hospital el 2 de febrero de 2020. Antes del inicio de los síntomas, entre el 16 y el 24 de enero, sus padres la habían llevado a Lu\"an (provincia de Hubei) para una fiesta familiar. En dicha fiesta, el tío y la tía de la niña, residentes en Wuhan, presentaron tos y fiebre. Luego, el 31 de enero de 2020, se diagnosticó COVID-19 a los padres de la niña, a partir de sus síntomas, de radiografías torácicas y de pruebas de ácido nucleico de frotis faríngeos. El frotis nasofaríngeo obtenido de la niña también resultó positivo para el síndrome respiratorio agudo grave de coronavirus (SARS-CoV-2) en una RT-PCR en tiempo real.')\n",
        "#pred = token_classifier(\"En la bioquímica mostró unos niveles de glucosa, iones, CPK, urea y creatinina normales. GOT/GPT 140/176 U/L; LDH 691 U/L; PCR 12,24 mg/dL. En la gasometría venosa se detectó un pH 7,41; pCO2 34 mmHg; HCO3 16 mEq/dL. En el sedimento de orina presentaba indicios de proteinuria. La radiografía de tórax y la ecografía abdominal fueron normales. La gota gruesa y el frotis de sangre periférica fueron negativos, así como los hemocultivos seriados. La serología frente a los virus de la hepatitis A, B y C, Coxiella, Borrellia, Rickettsia, dengue y VIH fue negativa.\")\n",
        "pred = token_classifier('Un mes después comenzó con episodios ocasionales de visión borrosa y picor en el ojo izquierdo. \\nLa propia familia y posteriormente el servicio de Oftalmología apreciaron en el ojo de la paciente un elemento con forma de \"gusano\" de aproximadamente 1 cm de longitud, que se desplazaba bajo la conjuntiva.\\n\\nSe realizó un hemograma que mostró ligera eosinofilia (700/μl) y se estudió la presencia de microfilarias, en preparaciones directas y tras concentración (técnica de Knott) de sangre periférica extraída a las 12:00 h, siendo negativa. \\nLa serología frente a filaria mediante ELISA utilizando como antígeno un extracto crudo de parásito adulto de Brugia malaya y Onchocerca volvulus (Centro Nacional de Microbiología, Majadahonda) presentó el siguiente patrón de anticuerpos: IgG total, IgG1 e IgG3: positivas; IgG2 e IgG4: negativas.\\n\\nAnte la sospecha diagnóstica de loiasis, recibió tratamiento con dietilcarbamazina a dosis progresivas los primeros 3 días, y continuando hasta completar 21 días de tratamiento, con lo que desapareció el exantema y el prurito de muslos y no volvió a presentar sintomatología ocular.')\n",
        "pred"
      ]
    },
    {
      "cell_type": "code",
      "execution_count": null,
      "metadata": {
        "id": "gL4mdo1umfTJ"
      },
      "outputs": [],
      "source": [
        "val_path = \"/content/drive/MyDrive/Dataset/training_valid_test_background_multilingual/valid/text-files/\"\n",
        "test_path = \"/content/drive/MyDrive/Dataset/training_valid_test_background_multilingual/test_background/text-files/\""
      ]
    },
    {
      "cell_type": "code",
      "execution_count": null,
      "metadata": {
        "colab": {
          "base_uri": "https://localhost:8080/",
          "height": 206
        },
        "id": "nr_G6X_STnsE",
        "outputId": "6d822b16-ea14-4baf-c6a8-c1a1499559f2"
      },
      "outputs": [
        {
          "data": {
            "text/html": [
              "\n",
              "  <div id=\"df-7c4a870d-602c-43f6-90a6-33ef46b4d143\">\n",
              "    <div class=\"colab-df-container\">\n",
              "      <div>\n",
              "<style scoped>\n",
              "    .dataframe tbody tr th:only-of-type {\n",
              "        vertical-align: middle;\n",
              "    }\n",
              "\n",
              "    .dataframe tbody tr th {\n",
              "        vertical-align: top;\n",
              "    }\n",
              "\n",
              "    .dataframe thead th {\n",
              "        text-align: right;\n",
              "    }\n",
              "</style>\n",
              "<table border=\"1\" class=\"dataframe\">\n",
              "  <thead>\n",
              "    <tr style=\"text-align: right;\">\n",
              "      <th></th>\n",
              "      <th>filename</th>\n",
              "      <th>mark</th>\n",
              "      <th>label</th>\n",
              "      <th>off0</th>\n",
              "      <th>off1</th>\n",
              "      <th>span</th>\n",
              "    </tr>\n",
              "  </thead>\n",
              "  <tbody>\n",
              "    <tr>\n",
              "      <th>0</th>\n",
              "      <td>32119083_ES</td>\n",
              "      <td>T1</td>\n",
              "      <td>HUMAN</td>\n",
              "      <td>287</td>\n",
              "      <td>294</td>\n",
              "      <td>familia</td>\n",
              "    </tr>\n",
              "    <tr>\n",
              "      <th>1</th>\n",
              "      <td>32119083_ES</td>\n",
              "      <td>T2</td>\n",
              "      <td>HUMAN</td>\n",
              "      <td>4827</td>\n",
              "      <td>4831</td>\n",
              "      <td>hijo</td>\n",
              "    </tr>\n",
              "    <tr>\n",
              "      <th>2</th>\n",
              "      <td>32119083_ES</td>\n",
              "      <td>T3</td>\n",
              "      <td>HUMAN</td>\n",
              "      <td>3948</td>\n",
              "      <td>3953</td>\n",
              "      <td>madre</td>\n",
              "    </tr>\n",
              "    <tr>\n",
              "      <th>3</th>\n",
              "      <td>32119083_ES</td>\n",
              "      <td>T4</td>\n",
              "      <td>HUMAN</td>\n",
              "      <td>4499</td>\n",
              "      <td>4504</td>\n",
              "      <td>madre</td>\n",
              "    </tr>\n",
              "    <tr>\n",
              "      <th>4</th>\n",
              "      <td>32119083_ES</td>\n",
              "      <td>T5</td>\n",
              "      <td>HUMAN</td>\n",
              "      <td>4567</td>\n",
              "      <td>4572</td>\n",
              "      <td>madre</td>\n",
              "    </tr>\n",
              "  </tbody>\n",
              "</table>\n",
              "</div>\n",
              "      <button class=\"colab-df-convert\" onclick=\"convertToInteractive('df-7c4a870d-602c-43f6-90a6-33ef46b4d143')\"\n",
              "              title=\"Convert this dataframe to an interactive table.\"\n",
              "              style=\"display:none;\">\n",
              "        \n",
              "  <svg xmlns=\"http://www.w3.org/2000/svg\" height=\"24px\"viewBox=\"0 0 24 24\"\n",
              "       width=\"24px\">\n",
              "    <path d=\"M0 0h24v24H0V0z\" fill=\"none\"/>\n",
              "    <path d=\"M18.56 5.44l.94 2.06.94-2.06 2.06-.94-2.06-.94-.94-2.06-.94 2.06-2.06.94zm-11 1L8.5 8.5l.94-2.06 2.06-.94-2.06-.94L8.5 2.5l-.94 2.06-2.06.94zm10 10l.94 2.06.94-2.06 2.06-.94-2.06-.94-.94-2.06-.94 2.06-2.06.94z\"/><path d=\"M17.41 7.96l-1.37-1.37c-.4-.4-.92-.59-1.43-.59-.52 0-1.04.2-1.43.59L10.3 9.45l-7.72 7.72c-.78.78-.78 2.05 0 2.83L4 21.41c.39.39.9.59 1.41.59.51 0 1.02-.2 1.41-.59l7.78-7.78 2.81-2.81c.8-.78.8-2.07 0-2.86zM5.41 20L4 18.59l7.72-7.72 1.47 1.35L5.41 20z\"/>\n",
              "  </svg>\n",
              "      </button>\n",
              "      \n",
              "  <style>\n",
              "    .colab-df-container {\n",
              "      display:flex;\n",
              "      flex-wrap:wrap;\n",
              "      gap: 12px;\n",
              "    }\n",
              "\n",
              "    .colab-df-convert {\n",
              "      background-color: #E8F0FE;\n",
              "      border: none;\n",
              "      border-radius: 50%;\n",
              "      cursor: pointer;\n",
              "      display: none;\n",
              "      fill: #1967D2;\n",
              "      height: 32px;\n",
              "      padding: 0 0 0 0;\n",
              "      width: 32px;\n",
              "    }\n",
              "\n",
              "    .colab-df-convert:hover {\n",
              "      background-color: #E2EBFA;\n",
              "      box-shadow: 0px 1px 2px rgba(60, 64, 67, 0.3), 0px 1px 3px 1px rgba(60, 64, 67, 0.15);\n",
              "      fill: #174EA6;\n",
              "    }\n",
              "\n",
              "    [theme=dark] .colab-df-convert {\n",
              "      background-color: #3B4455;\n",
              "      fill: #D2E3FC;\n",
              "    }\n",
              "\n",
              "    [theme=dark] .colab-df-convert:hover {\n",
              "      background-color: #434B5C;\n",
              "      box-shadow: 0px 1px 3px 1px rgba(0, 0, 0, 0.15);\n",
              "      filter: drop-shadow(0px 1px 2px rgba(0, 0, 0, 0.3));\n",
              "      fill: #FFFFFF;\n",
              "    }\n",
              "  </style>\n",
              "\n",
              "      <script>\n",
              "        const buttonEl =\n",
              "          document.querySelector('#df-7c4a870d-602c-43f6-90a6-33ef46b4d143 button.colab-df-convert');\n",
              "        buttonEl.style.display =\n",
              "          google.colab.kernel.accessAllowed ? 'block' : 'none';\n",
              "\n",
              "        async function convertToInteractive(key) {\n",
              "          const element = document.querySelector('#df-7c4a870d-602c-43f6-90a6-33ef46b4d143');\n",
              "          const dataTable =\n",
              "            await google.colab.kernel.invokeFunction('convertToInteractive',\n",
              "                                                     [key], {});\n",
              "          if (!dataTable) return;\n",
              "\n",
              "          const docLinkHtml = 'Like what you see? Visit the ' +\n",
              "            '<a target=\"_blank\" href=https://colab.research.google.com/notebooks/data_table.ipynb>data table notebook</a>'\n",
              "            + ' to learn more about interactive tables.';\n",
              "          element.innerHTML = '';\n",
              "          dataTable['output_type'] = 'display_data';\n",
              "          await google.colab.output.renderOutput(dataTable, element);\n",
              "          const docLink = document.createElement('div');\n",
              "          docLink.innerHTML = docLinkHtml;\n",
              "          element.appendChild(docLink);\n",
              "        }\n",
              "      </script>\n",
              "    </div>\n",
              "  </div>\n",
              "  "
            ],
            "text/plain": [
              "      filename mark  label  off0  off1     span\n",
              "0  32119083_ES   T1  HUMAN   287   294  familia\n",
              "1  32119083_ES   T2  HUMAN  4827  4831     hijo\n",
              "2  32119083_ES   T3  HUMAN  3948  3953    madre\n",
              "3  32119083_ES   T4  HUMAN  4499  4504    madre\n",
              "4  32119083_ES   T5  HUMAN  4567  4572    madre"
            ]
          },
          "execution_count": 80,
          "metadata": {},
          "output_type": "execute_result"
        }
      ],
      "source": [
        "livingner_subtask1_validation = pd.read_csv(\"/content/drive/MyDrive/Dataset/training_valid_test_background_multilingual/valid/subtask1-NER/validation_entities_subtask1.tsv\", delimiter=\"\\t\")\n",
        "livingner_subtask1_validation.head()"
      ]
    },
    {
      "cell_type": "code",
      "execution_count": null,
      "metadata": {
        "colab": {
          "base_uri": "https://localhost:8080/"
        },
        "id": "G55Lg0BER22I",
        "outputId": "54399cc8-1dc5-43cf-93e7-34e9d6a1e587"
      },
      "outputs": [
        {
          "data": {
            "text/plain": [
              "[{'end': 34,\n",
              "  'entity_group': 'H',\n",
              "  'score': 0.99941397,\n",
              "  'start': 29,\n",
              "  'word': 'mujer'},\n",
              " {'end': 294,\n",
              "  'entity_group': 'H',\n",
              "  'score': 0.9996308,\n",
              "  'start': 287,\n",
              "  'word': 'familia'},\n",
              " {'end': 372,\n",
              "  'entity_group': 'H',\n",
              "  'score': 0.9996573,\n",
              "  'start': 364,\n",
              "  'word': 'paciente'},\n",
              " {'end': 489,\n",
              "  'entity_group': 'S',\n",
              "  'score': 0.9982133,\n",
              "  'start': 486,\n",
              "  'word': 'SAR'},\n",
              " {'end': 490,\n",
              "  'entity_group': 'H',\n",
              "  'score': 0.99902165,\n",
              "  'start': 489,\n",
              "  'word': '##S'},\n",
              " {'end': 493,\n",
              "  'entity_group': 'S',\n",
              "  'score': 0.9974661,\n",
              "  'start': 490,\n",
              "  'word': '- Co'},\n",
              " {'end': 496,\n",
              "  'entity_group': 'H',\n",
              "  'score': 0.9994777,\n",
              "  'start': 493,\n",
              "  'word': '##V - 2'},\n",
              " {'end': 969,\n",
              "  'entity_group': 'H',\n",
              "  'score': 0.9996933,\n",
              "  'start': 961,\n",
              "  'word': 'paciente'},\n",
              " {'end': 987,\n",
              "  'entity_group': 'S',\n",
              "  'score': 0.9979159,\n",
              "  'start': 984,\n",
              "  'word': 'SAR'},\n",
              " {'end': 988,\n",
              "  'entity_group': 'H',\n",
              "  'score': 0.9986725,\n",
              "  'start': 987,\n",
              "  'word': '##S'},\n",
              " {'end': 991,\n",
              "  'entity_group': 'S',\n",
              "  'score': 0.9969368,\n",
              "  'start': 988,\n",
              "  'word': '- Co'},\n",
              " {'end': 994,\n",
              "  'entity_group': 'H',\n",
              "  'score': 0.9994321,\n",
              "  'start': 991,\n",
              "  'word': '##V - 2'}]"
            ]
          },
          "execution_count": 230,
          "metadata": {},
          "output_type": "execute_result"
        }
      ],
      "source": [
        "i = 0\n",
        "with open(val_path + livingner_subtask1_validation[\"filename\"].unique()[i] + \".txt\", \"r\", encoding=\"UTF-8\") as fval:\n",
        "  pred = token_classifier(fval.read())\n",
        "pred"
      ]
    },
    {
      "cell_type": "markdown",
      "metadata": {
        "id": "5SXdOl-E6Qk6"
      },
      "source": [
        "## Post-Processing"
      ]
    },
    {
      "cell_type": "code",
      "execution_count": null,
      "metadata": {
        "id": "blQLws4pLuBP"
      },
      "outputs": [],
      "source": [
        "def grouping_entities(pred):\n",
        "  import re\n",
        "  output = []\n",
        "  for e in pred:\n",
        "    if \"##\" not in e['word']:\n",
        "      output.append(e)\n",
        "    else:\n",
        "      try:\n",
        "        if e['start'] == (output[-1]['end']):\n",
        "          output[-1]['word'] = output[-1]['word']+re.sub(\"##\",\"\",e['word'])\n",
        "          output[-1]['end'] = e['end']\n",
        "      except:\n",
        "        pass\n",
        "    \n",
        "    try:\n",
        "      if (e['entity_group'] == \"S\" or e['entity_group'] == \"H\") and (e['start'] == (output[-2]['end']+1)) and (e['entity_group'] == output[-2]['entity_group']):\n",
        "        output[-2]['word'] = output[-2]['word']+\" \"+e['word']\n",
        "        output[-2]['end'] = e['end']\n",
        "        output.pop(-1)\n",
        "    except:\n",
        "      pass\n",
        "\n",
        "    try:\n",
        "      if e['start'] == (output[-2]['end']):\n",
        "        output[-2]['word'] = output[-2]['word']+e['word']\n",
        "        output[-2]['end'] = e['end']\n",
        "        output.pop(-1)\n",
        "    except:\n",
        "      pass\n",
        "    \n",
        "\n",
        "  return output\n"
      ]
    },
    {
      "cell_type": "code",
      "execution_count": null,
      "metadata": {
        "colab": {
          "base_uri": "https://localhost:8080/"
        },
        "id": "_hPi30NgqtDQ",
        "outputId": "549e2212-60e6-4c23-9294-317f47f9500c"
      },
      "outputs": [
        {
          "output_type": "execute_result",
          "data": {
            "text/plain": [
              "[{'end': 114,\n",
              "  'entity_group': 'H',\n",
              "  'score': 0.9997085,\n",
              "  'start': 107,\n",
              "  'word': 'familia'},\n",
              " {'end': 195,\n",
              "  'entity_group': 'H',\n",
              "  'score': 0.99993587,\n",
              "  'start': 187,\n",
              "  'word': 'paciente'},\n",
              " {'end': 228,\n",
              "  'entity_group': 'S',\n",
              "  'score': 0.999673,\n",
              "  'start': 222,\n",
              "  'word': 'gusano'},\n",
              " {'end': 411,\n",
              "  'entity_group': 'S',\n",
              "  'score': 0.9998394,\n",
              "  'start': 398,\n",
              "  'word': 'microfilarias'},\n",
              " {'end': 571,\n",
              "  'entity_group': 'S',\n",
              "  'score': 0.99974626,\n",
              "  'start': 564,\n",
              "  'word': 'filaria'},\n",
              " {'end': 665,\n",
              "  'entity_group': 'S',\n",
              "  'score': 0.9998555,\n",
              "  'start': 633,\n",
              "  'word': 'parásito adulto de Brugia malaya'},\n",
              " {'end': 687,\n",
              "  'entity_group': 'S',\n",
              "  'score': 0.9998512,\n",
              "  'start': 668,\n",
              "  'word': 'Onchocerca volvulus'}]"
            ]
          },
          "metadata": {},
          "execution_count": 38
        }
      ],
      "source": [
        "grouping_entities(pred)"
      ]
    },
    {
      "cell_type": "markdown",
      "metadata": {
        "id": "cYqYhgl_S3Lz"
      },
      "source": [
        "## Inference on validation dataset"
      ]
    },
    {
      "cell_type": "code",
      "execution_count": null,
      "metadata": {
        "id": "lc44uk2n15sR"
      },
      "outputs": [],
      "source": [
        "val_file_names = listdir(val_path)\n",
        "#for individual testing\n",
        "#val_file_names = ['caso_clinico_medtropical103.txt']\n",
        "#val_file_names = ['32168162_ES.txt']"
      ]
    },
    {
      "cell_type": "code",
      "execution_count": null,
      "metadata": {
        "colab": {
          "base_uri": "https://localhost:8080/",
          "height": 36
        },
        "id": "ZgokrjPf660j",
        "outputId": "b9054d5f-f33b-4740-b4f4-e7f8d91c90c0"
      },
      "outputs": [
        {
          "data": {
            "application/vnd.google.colaboratory.intrinsic+json": {
              "type": "string"
            },
            "text/plain": [
              "'caso_clinico_medicina_interna424.txt'"
            ]
          },
          "execution_count": 83,
          "metadata": {},
          "output_type": "execute_result"
        }
      ],
      "source": [
        "val_file_names[0]"
      ]
    },
    {
      "cell_type": "markdown",
      "metadata": {
        "id": "ULFtPMEzVnwk"
      },
      "source": [
        "### Using whole clinical cases"
      ]
    },
    {
      "cell_type": "code",
      "execution_count": null,
      "metadata": {
        "colab": {
          "base_uri": "https://localhost:8080/"
        },
        "id": "bFWbjQ4NS-nt",
        "outputId": "68192ebc-ced5-400f-81fd-8f5b41432f09"
      },
      "outputs": [
        {
          "name": "stdout",
          "output_type": "stream",
          "text": [
            "Processing...\n",
            "Completo.\n"
          ]
        }
      ],
      "source": [
        "print(\"Processing...\")\n",
        "import re\n",
        "\n",
        "f = open(\"/content/drive/MyDrive/LivingNER_subtask1NER_validation_predictions_NLP-CIC-WFU_Clinical_Cases_NER_mBERT_cased_fine_tuned.tsv\", \"w\", encoding=\"UTF-8\")\n",
        "f.write(\"filename\\tmark\\tlabel\\toff0\\toff1\\tspan\\n\")\n",
        "\n",
        "for filename in val_file_names:\n",
        "  print(f\"Text: {i}\", end=\"\\r\")\n",
        "  with open(val_path + filename, \"r\", encoding=\"UTF-8\") as fval:\n",
        "    lista_spans = []\n",
        "    hc = fval.read()\n",
        "    pred = token_classifier(hc)\n",
        "    pred_grouped = grouping_entities(pred)\n",
        "    t = 1\n",
        "    for p in pred_grouped:\n",
        "\n",
        "      off0 = int(p['start'])\n",
        "      off1 = int(p['end'])\n",
        "      if p['entity_group'] == 'S':\n",
        "        label = 'SPECIES'\n",
        "      else:\n",
        "        label = 'HUMAN'\n",
        "      span = hc[off0:off1]\n",
        "      \n",
        "      spant = span\n",
        "      span = re.sub(\"^, |^\\. |^: |^; |^\\( |^\\) \",\"\",span)\n",
        "      \n",
        "      if span != spant:\n",
        "        off0 = off0+2\n",
        "      else:\n",
        "        span = re.sub(\"^,|^\\.|^:|^;||^\\(|^\\)\",\"\",span)\n",
        "        if span != spant:\n",
        "          off0 = off0+1\n",
        " \n",
        "\n",
        "      if \"\\n\" in span:\n",
        "        span = re.sub(\"\\n\",\" \",span)\n",
        "\n",
        "      if \" - \" in span:\n",
        "        span = re.sub(\" - \",\"-\",span)\n",
        "        off1 = off1-2\n",
        "\n",
        "      if \"- \" in span:\n",
        "        span = re.sub(\"- \",\"-\",span)\n",
        "        off1 = off1-2\n",
        "\n",
        "      if \" -\" in span:\n",
        "        span = re.sub(\" -\",\"-\",span)\n",
        "        off1 = off1-2\n",
        "\n",
        "      if \"( \" in span:\n",
        "        span = re.sub(\"\\( \",\"(\",span)\n",
        "        off1 = off1-1\n",
        "\n",
        "      if \" )\" in span:\n",
        "        span = re.sub(\" \\)\",\")\",span)\n",
        "        off1 = off1-1\n",
        "\n",
        "      if span.endswith(\" y\") :\n",
        "        span = span[:-2]\n",
        "        off1 = off1-2\n",
        "      \n",
        "      if span.endswith(\" de\") or span.endswith(\" en\"):\n",
        "        span = span[:-3]\n",
        "        off1 = off1-3\n",
        "\n",
        "      if span.endswith(\" por\") or span.endswith(\" con\"):\n",
        "        span = span[:-4]\n",
        "        off1 = off1-4\n",
        "\n",
        "      if span.endswith(\".\") or span.endswith(\",\") or span.endswith(\";\") or span.endswith(\":\") or span.endswith(\"–\") or span.endswith(\"-\"):\n",
        "        span = span[:-1]\n",
        "        off1 = off1-1\n",
        "\n",
        "      if span.endswith(\" .\") or span.endswith(\" ,\") or span.endswith(\" ;\") or span.endswith(\" :\") or span.endswith(\" –\") or span.endswith(\" -\"):\n",
        "        span = span[:-2]\n",
        "        off1 = off1-2\n",
        "\n",
        "      pattern = r\"^[a-z|á|é|í|ó|ú|/]{0,3}$|^[0-9]+$|^[A-Z]$\"\n",
        "        match = re.findall(pattern, span)\n",
        "        if len(match) > 0 and match[0] != 'tía' and match[0] != 'tío':\n",
        "          continue\n",
        "\n",
        "        if span not in lista_spans:\n",
        "          # Find all indices of 'span'\n",
        "          indices = [index for index in range(len(hc)) if hc.startswith(span, index)]\n",
        "          #print(indices)\n",
        "          for ind in indices:\n",
        "            off0 = ind\n",
        "            off1 = ind+len(span)\n",
        "            f.write(filename[:-4]+\"\\t\"+\"T\"+str(t)+\"\\t\"+label+\"\\t\"+str(off0)+\"\\t\"+str(off1)+\"\\t\"+span+\"\\n\")\n",
        "            #print(filename[:-4]+\"\\t\"+\"T\"+str(t)+\"\\t\"+label+\"\\t\"+str(off0)+\"\\t\"+str(off1)+\"\\t\"+span+\"\\n\")\n",
        "            t+=1\n",
        "\n",
        "          lista_spans.append(span)\n",
        "f.close()\n",
        "print(\"Completo.\")"
      ]
    },
    {
      "cell_type": "markdown",
      "metadata": {
        "id": "_EsM433-VxJd"
      },
      "source": [
        "### Using the texts partitioned "
      ]
    },
    {
      "cell_type": "code",
      "execution_count": null,
      "metadata": {
        "colab": {
          "base_uri": "https://localhost:8080/"
        },
        "id": "aiUxDyAuV0r5",
        "outputId": "1cfd2bc1-187f-4267-a2e4-793677133e85"
      },
      "outputs": [
        {
          "output_type": "stream",
          "name": "stdout",
          "text": [
            "Processing...\n",
            "Completo.\n"
          ]
        }
      ],
      "source": [
        "print(\"Processing...\")\n",
        "import re\n",
        "f = open(\"/content/drive/MyDrive/LivingNER_subtask1NER_validation_predictions_Texts_Partitioned_pl_1_NLP-CIC-WFU_Clinical_Cases_NER_Sents_Tokenized_mBERT_cased_fine_tuned.tsv\", \"w\", encoding=\"UTF-8\")\n",
        "f.write(\"filename\\tmark\\tlabel\\toff0\\toff1\\tspan\\n\")\n",
        "\n",
        "for filename in val_file_names:\n",
        "  print(f\"Text: {filename}\", end=\"\\r\")\n",
        "  with open(val_path + filename, \"r\", encoding=\"UTF-8\") as fval:\n",
        "    lista_spans = []\n",
        "    hc = fval.read()\n",
        "    #Partitioning the texts.\n",
        "    t = 1\n",
        "    pattern = r'\\. |\\.\\n|\\. \\n'\n",
        "    sents = re.split(pattern, hc)\n",
        "\n",
        "    paragraphs = []\n",
        "    prgh = \"\"\n",
        "    \n",
        "    #Paragraphs with \"pl\" sentences no overlapping\n",
        "    #Here you can change the parameters pl and step to test the different experiments carried out in our work.\n",
        "    ant = 0\n",
        "    step = 3\n",
        "    pl = 3 #paragraph length\n",
        "    for lpr in range(pl,len(sents),step):\n",
        "      paragraphs.append(\" \".join(sents[ant:lpr]))  \n",
        "      ant = lpr\n",
        "    if lpr != len(sents):\n",
        "      paragraphs.append(\" \".join(sents[lpr:]))\n",
        "\n",
        "    #Inference per paragraphs\n",
        "    for ph in paragraphs: \n",
        "\n",
        "      pred = token_classifier(ph)\n",
        "      pred_grouped = grouping_entities(pred)\n",
        "  \n",
        "      for p in pred_grouped:\n",
        "\n",
        "        off0 = int(p['start'])\n",
        "        off1 = int(p['end'])\n",
        "        if p['entity_group'] == 'S':\n",
        "          label = 'SPECIES'\n",
        "        else:\n",
        "          label = 'HUMAN'\n",
        "        \n",
        "        span = p['word']\n",
        "\n",
        "        span = re.sub(\"^, |^,|^\\. |^\\.|^: |^:|^; |^;|^\\( |^\\(|^\\) |^\\)\",\"\",span)\n",
        "\n",
        "        if \"\\n\" in span:\n",
        "          span = re.sub(\"\\n\",\" \",span)\n",
        "\n",
        "        if \" - \" in span:\n",
        "          span = re.sub(\" - \",\"-\",span)\n",
        "\n",
        "        if \"- \" in span:\n",
        "          span = re.sub(\"- \",\"-\",span)\n",
        "\n",
        "        if \" -\" in span:\n",
        "          span = re.sub(\" -\",\"-\",span)\n",
        "\n",
        "        if \"( \" in span:\n",
        "          span = re.sub(\"\\( \",\"(\",span)\n",
        "\n",
        "        if \" )\" in span:\n",
        "          span = re.sub(\" \\)\",\")\",span)\n",
        "\n",
        "        if span.endswith(\" y\") :\n",
        "          span = span[:-2]\n",
        "        \n",
        "        if span.endswith(\" de\") or span.endswith(\" en\"):\n",
        "          span = span[:-3]\n",
        "\n",
        "        if span.endswith(\" por\") or span.endswith(\" con\"):\n",
        "          span = span[:-4]\n",
        "\n",
        "        if span.endswith(\".\") or span.endswith(\",\") or span.endswith(\";\") or span.endswith(\":\") or span.endswith(\"–\") or span.endswith(\"-\"):\n",
        "          span = span[:-1]\n",
        "\n",
        "        if span.endswith(\" .\") or span.endswith(\" ,\") or span.endswith(\" ;\") or span.endswith(\" :\") or span.endswith(\" –\") or span.endswith(\" -\"):\n",
        "          span = span[:-2]\n",
        "\n",
        "        pattern = r\"^[a-z|á|é|í|ó|ú|/]{0,3}$|^[0-9]+$|^[A-Z]$\"\n",
        "        match = re.findall(pattern, span)\n",
        "        if len(match) > 0 and match[0] != 'tía' and match[0] != 'tío':\n",
        "          continue\n",
        "\n",
        "        if span not in lista_spans:\n",
        "          # Find all indices of 'span'\n",
        "          indices = [index for index in range(len(hc)) if hc.startswith(span, index)]\n",
        "          #print(indices)\n",
        "          for ind in indices:\n",
        "            off0 = ind\n",
        "            off1 = ind+len(span)\n",
        "            f.write(filename[:-4]+\"\\t\"+\"T\"+str(t)+\"\\t\"+label+\"\\t\"+str(off0)+\"\\t\"+str(off1)+\"\\t\"+span+\"\\n\")\n",
        "            #print(filename[:-4]+\"\\t\"+\"T\"+str(t)+\"\\t\"+label+\"\\t\"+str(off0)+\"\\t\"+str(off1)+\"\\t\"+span+\"\\n\")\n",
        "            t+=1\n",
        "\n",
        "          lista_spans.append(span)\n",
        "f.close()\n",
        "print(\"Completo.\")"
      ]
    },
    {
      "cell_type": "markdown",
      "metadata": {
        "id": "FZwOFHailsVL"
      },
      "source": [
        "## Inference on test dataset"
      ]
    },
    {
      "cell_type": "code",
      "source": [
        "from os import listdir\n",
        "test_file_names = listdir(test_path)"
      ],
      "metadata": {
        "id": "NHqPBSKj-msn"
      },
      "execution_count": null,
      "outputs": []
    },
    {
      "cell_type": "code",
      "execution_count": null,
      "metadata": {
        "colab": {
          "base_uri": "https://localhost:8080/"
        },
        "id": "CF2yE2iJtAJy",
        "outputId": "2c0f7498-9415-4e88-fb24-d8b7523aaf9d"
      },
      "outputs": [
        {
          "output_type": "execute_result",
          "data": {
            "text/plain": [
              "[{'end': 5,\n",
              "  'entity_group': 'H',\n",
              "  'score': 0.999522,\n",
              "  'start': 0,\n",
              "  'word': 'Varón'},\n",
              " {'end': 37,\n",
              "  'entity_group': 'H',\n",
              "  'score': 0.99865144,\n",
              "  'start': 33,\n",
              "  'word': 'hijo'},\n",
              " {'end': 47,\n",
              "  'entity_group': 'H',\n",
              "  'score': 0.9995177,\n",
              "  'start': 41,\n",
              "  'word': 'padres'},\n",
              " {'end': 106,\n",
              "  'entity_group': 'H',\n",
              "  'score': 0.9992803,\n",
              "  'start': 98,\n",
              "  'word': 'hermanos'},\n",
              " {'end': 1702,\n",
              "  'entity_group': 'H',\n",
              "  'score': 0.99990165,\n",
              "  'start': 1694,\n",
              "  'word': 'paciente'}]"
            ]
          },
          "metadata": {},
          "execution_count": 132
        }
      ],
      "source": [
        "i = 1\n",
        "with open(test_path + test_file_names[i], \"r\", encoding=\"UTF-8\") as ftest:\n",
        "  pred = token_classifier(ftest.read())\n",
        "pred"
      ]
    },
    {
      "cell_type": "code",
      "source": [
        "len(test_file_names)"
      ],
      "metadata": {
        "colab": {
          "base_uri": "https://localhost:8080/"
        },
        "id": "IbULLzxe_Juo",
        "outputId": "3c40400a-44bc-4f66-902a-a24acd5084ad"
      },
      "execution_count": null,
      "outputs": [
        {
          "output_type": "execute_result",
          "data": {
            "text/plain": [
              "13472"
            ]
          },
          "metadata": {},
          "execution_count": 133
        }
      ]
    },
    {
      "cell_type": "code",
      "source": [
        "#This cell is used to pass the testing data in batches. It is setting for the first 1000 testing clinical cases. There are 13472 in total.\n",
        "test_files_part = test_file_names[0:1000]"
      ],
      "metadata": {
        "id": "I89RyRzh_TDD"
      },
      "execution_count": null,
      "outputs": []
    },
    {
      "cell_type": "code",
      "source": [
        "len(test_files_part)"
      ],
      "metadata": {
        "colab": {
          "base_uri": "https://localhost:8080/"
        },
        "id": "IeUMs-yKZFi_",
        "outputId": "d5933ca2-ecb9-4c24-a6ab-b7cf116e70e8"
      },
      "execution_count": null,
      "outputs": [
        {
          "output_type": "execute_result",
          "data": {
            "text/plain": [
              "972"
            ]
          },
          "metadata": {},
          "execution_count": 24
        }
      ]
    },
    {
      "cell_type": "markdown",
      "metadata": {
        "id": "FsYlaZgd1jIf"
      },
      "source": [
        "### Using whole clinical cases"
      ]
    },
    {
      "cell_type": "code",
      "execution_count": null,
      "metadata": {
        "id": "0D_RSE3ulwJw"
      },
      "outputs": [],
      "source": [
        "print(\"Processing...\")\n",
        "import re\n",
        "f = open(\"/content/drive/MyDrive/LivingNER_subtask1NER_test_predictions_NLP-CIC-WFU_Clinical_Cases_NER_mBERT_cased_fine_tuned.tsv\", \"w\", encoding=\"UTF-8\")\n",
        "f.write(\"filename\\tmark\\tlabel\\toff0\\toff1\\tspan\\n\")\n",
        "for filename in test_files_part:\n",
        "  print(f\"Text: {filename}\", end=\"\\r\")\n",
        "  with open(test_path + filename, \"r\", encoding=\"UTF-8\") as ftest:\n",
        "    lista_spans = []\n",
        "    hc = ftest.read()\n",
        "    pred = token_classifier(hc)\n",
        "    pred_grouped = grouping_entities(pred)\n",
        "    t = 1\n",
        "    for p in pred_grouped:\n",
        "\n",
        "      off0 = int(p['start'])\n",
        "      off1 = int(p['end'])\n",
        "      if p['entity_group'] == 'S':\n",
        "        label = 'SPECIES'\n",
        "      else:\n",
        "        label = 'HUMAN'\n",
        "      span = hc[off0:off1]\n",
        "\n",
        "      spant = span\n",
        "      span = re.sub(\"^, |^\\. |^: |^; |^\\( |^\\) \",\"\",span)\n",
        "      \n",
        "      if span != spant:\n",
        "        off0 = off0+2\n",
        "      else:\n",
        "        span = re.sub(\"^,|^\\.|^:|^;||^\\(|^\\)\",\"\",span)\n",
        "        if span != spant:\n",
        "          off0 = off0+1\n",
        "\n",
        "      if \"\\n\" in span:\n",
        "        span = re.sub(\"\\n\",\" \",span)\n",
        "\n",
        "      if \" - \" in span:\n",
        "        span = re.sub(\" - \",\"-\",span)\n",
        "        off1 = off1-2\n",
        "\n",
        "      if \"- \" in span:\n",
        "        span = re.sub(\"- \",\"-\",span)\n",
        "        off1 = off1-2\n",
        "\n",
        "      if \" -\" in span:\n",
        "        span = re.sub(\" -\",\"-\",span)\n",
        "        off1 = off1-2\n",
        "\n",
        "      if \"( \" in span:\n",
        "        span = re.sub(\"\\( \",\"(\",span)\n",
        "        off1 = off1-1\n",
        "\n",
        "      if \" )\" in span:\n",
        "        span = re.sub(\" \\)\",\")\",span)\n",
        "        off1 = off1-1\n",
        "\n",
        "      if span.endswith(\" y\") :\n",
        "        span = span[:-2]\n",
        "        off1 = off1-2\n",
        "\n",
        "      if span.endswith(\" de\") or span.endswith(\" en\"):\n",
        "        span = span[:-3]\n",
        "        off1 = off1-3\n",
        "\n",
        "      if span.endswith(\" por\") or span.endswith(\" con\"):\n",
        "        span = span[:-4]\n",
        "        off1 = off1-4\n",
        "\n",
        "      if span.endswith(\".\") or span.endswith(\",\") or span.endswith(\";\") or span.endswith(\":\") or span.endswith(\"–\") or span.endswith(\"-\"):\n",
        "        span = span[:-1]\n",
        "        off1 = off1-1\n",
        "\n",
        "      if span.endswith(\" .\") or span.endswith(\" ,\") or span.endswith(\" ;\") or span.endswith(\" :\") or span.endswith(\" –\") or span.endswith(\" -\"):\n",
        "        span = span[:-2]\n",
        "        off1 = off1-2\n",
        "\n",
        "      pattern = r\"^[a-z|á|é|í|ó|ú|/]{0,3}$|^[0-9]+$|^[A-Z]$\"\n",
        "        match = re.findall(pattern, span)\n",
        "        if len(match) > 0 and match[0] != 'tía' and match[0] != 'tío':\n",
        "          continue\n",
        "\n",
        "        if span not in lista_spans:\n",
        "          # Find all indices of 'span'\n",
        "          indices = [index for index in range(len(hc)) if hc.startswith(span, index)]\n",
        "\n",
        "          for ind in indices:\n",
        "            off0 = ind\n",
        "            off1 = ind+len(span)\n",
        "            f.write(filename[:-4]+\"\\t\"+\"T\"+str(t)+\"\\t\"+label+\"\\t\"+str(off0)+\"\\t\"+str(off1)+\"\\t\"+span+\"\\n\")\n",
        "            #print(filename[:-4]+\"\\t\"+\"T\"+str(t)+\"\\t\"+label+\"\\t\"+str(off0)+\"\\t\"+str(off1)+\"\\t\"+span+\"\\n\")\n",
        "            t+=1\n",
        "\n",
        "          lista_spans.append(span)\n",
        "f.close()\n",
        "print(\"Completo.\")"
      ]
    },
    {
      "cell_type": "markdown",
      "metadata": {
        "id": "N6_5AuI91rS3"
      },
      "source": [
        "### using the texts partitioned"
      ]
    },
    {
      "cell_type": "code",
      "execution_count": null,
      "metadata": {
        "colab": {
          "base_uri": "https://localhost:8080/"
        },
        "id": "WYbp-Vn-1uYe",
        "outputId": "b8308b2f-5539-41c4-8c49-b4813f30bdcc"
      },
      "outputs": [
        {
          "output_type": "stream",
          "name": "stdout",
          "text": [
            "Processing...\n",
            "Completo.\n"
          ]
        }
      ],
      "source": [
        "print(\"Processing...\")\n",
        "import re\n",
        "\n",
        "f = open(\"/content/drive/MyDrive/LivingNER_subtask1NER_test_predictions_Texts_Partitioned_pl_3_NLP-CIC-WFU_Clinical_Cases_NER_Sents_Tokenized_mBERT_cased_fine_tuned.tsv\", \"a\", encoding=\"UTF-8\")\n",
        "f.write(\"filename\\tmark\\tlabel\\toff0\\toff1\\tspan\\n\")\n",
        "\n",
        "for filename in test_files_part:\n",
        "  print(f\"Text: {filename}\", end=\"\\r\")\n",
        "  with open(test_path + filename, \"r\", encoding=\"UTF-8\") as ftest:\n",
        "    lista_spans = []\n",
        "    hc = ftest.read()\n",
        "    #Partitioning the texts.\n",
        "    t = 1\n",
        "    pattern = r'\\. |\\.\\n|\\. \\n'\n",
        "    sents = re.split(pattern, hc)\n",
        "\n",
        "    paragraphs = []\n",
        "    prgh = \"\"\n",
        "\n",
        "    #Paragraphs with \"pl\" sentences no overlapping\n",
        "    #Here you can change the parameters pl and step to test the different experiments carried out in our work.\n",
        "    ant = 0\n",
        "    step = 3\n",
        "    pl = 3 #paragraph length\n",
        "    for lpr in range(pl,len(sents),step):\n",
        "      paragraphs.append(\" \".join(sents[ant:lpr]))\n",
        "      ant = lpr\n",
        "    if lpr != len(sents):\n",
        "      paragraphs.append(\" \".join(sents[lpr:]))\n",
        "  \n",
        "    #Inference per paragraphs\n",
        "    for ph in paragraphs: \n",
        "\n",
        "      pred = token_classifier(ph)\n",
        "      pred_grouped = grouping_entities(pred)\n",
        "  \n",
        "      for p in pred_grouped:\n",
        "\n",
        "        off0 = int(p['start'])\n",
        "        off1 = int(p['end'])\n",
        "        if p['entity_group'] == 'S':\n",
        "          label = 'SPECIES'\n",
        "        else:\n",
        "          label = 'HUMAN'\n",
        "\n",
        "        span = p['word']\n",
        "\n",
        "        span = re.sub(\"^, |^,|^\\. |^\\.|^: |^:|^; |^;|^\\( |^\\(|^\\) |^\\)\",\"\",span)\n",
        "\n",
        "        if \"\\n\" in span:\n",
        "          span = re.sub(\"\\n\",\" \",span)\n",
        "\n",
        "        if \" - \" in span:\n",
        "          span = re.sub(\" - \",\"-\",span)\n",
        "\n",
        "        if \"- \" in span:\n",
        "          span = re.sub(\"- \",\"-\",span)\n",
        "\n",
        "        if \" -\" in span:\n",
        "          span = re.sub(\" -\",\"-\",span)\n",
        "\n",
        "        if \"( \" in span:\n",
        "          span = re.sub(\"\\( \",\"(\",span)\n",
        "\n",
        "        if \" )\" in span:\n",
        "          span = re.sub(\" \\)\",\")\",span)\n",
        "\n",
        "        if span.endswith(\" y\") :\n",
        "          span = span[:-2]\n",
        "\n",
        "        if span.endswith(\" de\") or span.endswith(\" en\"):\n",
        "          span = span[:-3]\n",
        "\n",
        "        if span.endswith(\" por\") or span.endswith(\" con\"):\n",
        "          span = span[:-4]\n",
        "\n",
        "        if span.endswith(\".\") or span.endswith(\",\") or span.endswith(\";\") or span.endswith(\":\") or span.endswith(\"–\") or span.endswith(\"-\"):\n",
        "          span = span[:-1]\n",
        "\n",
        "        if span.endswith(\" .\") or span.endswith(\" ,\") or span.endswith(\" ;\") or span.endswith(\" :\") or span.endswith(\" –\") or span.endswith(\" -\"):\n",
        "          span = span[:-2]\n",
        "\n",
        "        pattern = r\"^[a-z|á|é|í|ó|ú|/]{0,3}$|^[0-9]+$|^[A-Z]$\"\n",
        "        match = re.findall(pattern, span)\n",
        "        if len(match) > 0 and match[0] != 'tía' and match[0] != 'tío':\n",
        "          continue\n",
        "\n",
        "        if span not in lista_spans:\n",
        "          # Find all indices of 'span'\n",
        "          indices = [index for index in range(len(hc)) if hc.startswith(span, index)]\n",
        "\n",
        "          for ind in indices:\n",
        "            off0 = ind\n",
        "            off1 = ind+len(span)\n",
        "            f.write(filename[:-4]+\"\\t\"+\"T\"+str(t)+\"\\t\"+label+\"\\t\"+str(off0)+\"\\t\"+str(off1)+\"\\t\"+span+\"\\n\")\n",
        "            #print(filename[:-4]+\"\\t\"+\"T\"+str(t)+\"\\t\"+label+\"\\t\"+str(off0)+\"\\t\"+str(off1)+\"\\t\"+span+\"\\n\")\n",
        "            t+=1\n",
        "\n",
        "          lista_spans.append(span)\n",
        "f.close()\n",
        "print(\"Completo.\")"
      ]
    },
    {
      "cell_type": "markdown",
      "source": [
        "# Subtask 2 - Normalization"
      ],
      "metadata": {
        "id": "8e9qLd4KmSk2"
      }
    },
    {
      "cell_type": "markdown",
      "source": [
        "## Loading datasets"
      ],
      "metadata": {
        "id": "qI3i_uRnK6x-"
      }
    },
    {
      "cell_type": "code",
      "source": [
        "livingner_subtask2_training = pd.read_csv(\"/content/drive/MyDrive/Dataset/training_valid_test_background_multilingual/training/subtask2-Norm/training_entities_subtask2.tsv\", delimiter=\"\\t\")\n",
        "livingner_subtask2_training.head()"
      ],
      "metadata": {
        "id": "rdk8g-OkmVB3",
        "colab": {
          "base_uri": "https://localhost:8080/",
          "height": 206
        },
        "outputId": "1bc49974-2016-45d3-8a83-82cfbb1ba2da"
      },
      "execution_count": null,
      "outputs": [
        {
          "output_type": "execute_result",
          "data": {
            "text/plain": [
              "      filename mark    label  off0  off1       span    isH    isN  iscomplex  \\\n",
              "0  32032497_ES   T1    HUMAN   112   118     hombre  False  False      False   \n",
              "1  32032497_ES   T2    HUMAN  1025  1033   paciente  False  False      False   \n",
              "2  32032497_ES   T3    HUMAN  1098  1106   paciente  False  False      False   \n",
              "3  32032497_ES   T4    HUMAN  1395  1403   paciente  False  False      False   \n",
              "4  32032497_ES   T5  SPECIES  1075  1084  2019-nCoV  False  False      False   \n",
              "\n",
              "      code  \n",
              "0     9606  \n",
              "1     9606  \n",
              "2     9606  \n",
              "3     9606  \n",
              "4  2697049  "
            ],
            "text/html": [
              "\n",
              "  <div id=\"df-6e0910d7-3125-4f97-bf7a-50ef9d493705\">\n",
              "    <div class=\"colab-df-container\">\n",
              "      <div>\n",
              "<style scoped>\n",
              "    .dataframe tbody tr th:only-of-type {\n",
              "        vertical-align: middle;\n",
              "    }\n",
              "\n",
              "    .dataframe tbody tr th {\n",
              "        vertical-align: top;\n",
              "    }\n",
              "\n",
              "    .dataframe thead th {\n",
              "        text-align: right;\n",
              "    }\n",
              "</style>\n",
              "<table border=\"1\" class=\"dataframe\">\n",
              "  <thead>\n",
              "    <tr style=\"text-align: right;\">\n",
              "      <th></th>\n",
              "      <th>filename</th>\n",
              "      <th>mark</th>\n",
              "      <th>label</th>\n",
              "      <th>off0</th>\n",
              "      <th>off1</th>\n",
              "      <th>span</th>\n",
              "      <th>isH</th>\n",
              "      <th>isN</th>\n",
              "      <th>iscomplex</th>\n",
              "      <th>code</th>\n",
              "    </tr>\n",
              "  </thead>\n",
              "  <tbody>\n",
              "    <tr>\n",
              "      <th>0</th>\n",
              "      <td>32032497_ES</td>\n",
              "      <td>T1</td>\n",
              "      <td>HUMAN</td>\n",
              "      <td>112</td>\n",
              "      <td>118</td>\n",
              "      <td>hombre</td>\n",
              "      <td>False</td>\n",
              "      <td>False</td>\n",
              "      <td>False</td>\n",
              "      <td>9606</td>\n",
              "    </tr>\n",
              "    <tr>\n",
              "      <th>1</th>\n",
              "      <td>32032497_ES</td>\n",
              "      <td>T2</td>\n",
              "      <td>HUMAN</td>\n",
              "      <td>1025</td>\n",
              "      <td>1033</td>\n",
              "      <td>paciente</td>\n",
              "      <td>False</td>\n",
              "      <td>False</td>\n",
              "      <td>False</td>\n",
              "      <td>9606</td>\n",
              "    </tr>\n",
              "    <tr>\n",
              "      <th>2</th>\n",
              "      <td>32032497_ES</td>\n",
              "      <td>T3</td>\n",
              "      <td>HUMAN</td>\n",
              "      <td>1098</td>\n",
              "      <td>1106</td>\n",
              "      <td>paciente</td>\n",
              "      <td>False</td>\n",
              "      <td>False</td>\n",
              "      <td>False</td>\n",
              "      <td>9606</td>\n",
              "    </tr>\n",
              "    <tr>\n",
              "      <th>3</th>\n",
              "      <td>32032497_ES</td>\n",
              "      <td>T4</td>\n",
              "      <td>HUMAN</td>\n",
              "      <td>1395</td>\n",
              "      <td>1403</td>\n",
              "      <td>paciente</td>\n",
              "      <td>False</td>\n",
              "      <td>False</td>\n",
              "      <td>False</td>\n",
              "      <td>9606</td>\n",
              "    </tr>\n",
              "    <tr>\n",
              "      <th>4</th>\n",
              "      <td>32032497_ES</td>\n",
              "      <td>T5</td>\n",
              "      <td>SPECIES</td>\n",
              "      <td>1075</td>\n",
              "      <td>1084</td>\n",
              "      <td>2019-nCoV</td>\n",
              "      <td>False</td>\n",
              "      <td>False</td>\n",
              "      <td>False</td>\n",
              "      <td>2697049</td>\n",
              "    </tr>\n",
              "  </tbody>\n",
              "</table>\n",
              "</div>\n",
              "      <button class=\"colab-df-convert\" onclick=\"convertToInteractive('df-6e0910d7-3125-4f97-bf7a-50ef9d493705')\"\n",
              "              title=\"Convert this dataframe to an interactive table.\"\n",
              "              style=\"display:none;\">\n",
              "        \n",
              "  <svg xmlns=\"http://www.w3.org/2000/svg\" height=\"24px\"viewBox=\"0 0 24 24\"\n",
              "       width=\"24px\">\n",
              "    <path d=\"M0 0h24v24H0V0z\" fill=\"none\"/>\n",
              "    <path d=\"M18.56 5.44l.94 2.06.94-2.06 2.06-.94-2.06-.94-.94-2.06-.94 2.06-2.06.94zm-11 1L8.5 8.5l.94-2.06 2.06-.94-2.06-.94L8.5 2.5l-.94 2.06-2.06.94zm10 10l.94 2.06.94-2.06 2.06-.94-2.06-.94-.94-2.06-.94 2.06-2.06.94z\"/><path d=\"M17.41 7.96l-1.37-1.37c-.4-.4-.92-.59-1.43-.59-.52 0-1.04.2-1.43.59L10.3 9.45l-7.72 7.72c-.78.78-.78 2.05 0 2.83L4 21.41c.39.39.9.59 1.41.59.51 0 1.02-.2 1.41-.59l7.78-7.78 2.81-2.81c.8-.78.8-2.07 0-2.86zM5.41 20L4 18.59l7.72-7.72 1.47 1.35L5.41 20z\"/>\n",
              "  </svg>\n",
              "      </button>\n",
              "      \n",
              "  <style>\n",
              "    .colab-df-container {\n",
              "      display:flex;\n",
              "      flex-wrap:wrap;\n",
              "      gap: 12px;\n",
              "    }\n",
              "\n",
              "    .colab-df-convert {\n",
              "      background-color: #E8F0FE;\n",
              "      border: none;\n",
              "      border-radius: 50%;\n",
              "      cursor: pointer;\n",
              "      display: none;\n",
              "      fill: #1967D2;\n",
              "      height: 32px;\n",
              "      padding: 0 0 0 0;\n",
              "      width: 32px;\n",
              "    }\n",
              "\n",
              "    .colab-df-convert:hover {\n",
              "      background-color: #E2EBFA;\n",
              "      box-shadow: 0px 1px 2px rgba(60, 64, 67, 0.3), 0px 1px 3px 1px rgba(60, 64, 67, 0.15);\n",
              "      fill: #174EA6;\n",
              "    }\n",
              "\n",
              "    [theme=dark] .colab-df-convert {\n",
              "      background-color: #3B4455;\n",
              "      fill: #D2E3FC;\n",
              "    }\n",
              "\n",
              "    [theme=dark] .colab-df-convert:hover {\n",
              "      background-color: #434B5C;\n",
              "      box-shadow: 0px 1px 3px 1px rgba(0, 0, 0, 0.15);\n",
              "      filter: drop-shadow(0px 1px 2px rgba(0, 0, 0, 0.3));\n",
              "      fill: #FFFFFF;\n",
              "    }\n",
              "  </style>\n",
              "\n",
              "      <script>\n",
              "        const buttonEl =\n",
              "          document.querySelector('#df-6e0910d7-3125-4f97-bf7a-50ef9d493705 button.colab-df-convert');\n",
              "        buttonEl.style.display =\n",
              "          google.colab.kernel.accessAllowed ? 'block' : 'none';\n",
              "\n",
              "        async function convertToInteractive(key) {\n",
              "          const element = document.querySelector('#df-6e0910d7-3125-4f97-bf7a-50ef9d493705');\n",
              "          const dataTable =\n",
              "            await google.colab.kernel.invokeFunction('convertToInteractive',\n",
              "                                                     [key], {});\n",
              "          if (!dataTable) return;\n",
              "\n",
              "          const docLinkHtml = 'Like what you see? Visit the ' +\n",
              "            '<a target=\"_blank\" href=https://colab.research.google.com/notebooks/data_table.ipynb>data table notebook</a>'\n",
              "            + ' to learn more about interactive tables.';\n",
              "          element.innerHTML = '';\n",
              "          dataTable['output_type'] = 'display_data';\n",
              "          await google.colab.output.renderOutput(dataTable, element);\n",
              "          const docLink = document.createElement('div');\n",
              "          docLink.innerHTML = docLinkHtml;\n",
              "          element.appendChild(docLink);\n",
              "        }\n",
              "      </script>\n",
              "    </div>\n",
              "  </div>\n",
              "  "
            ]
          },
          "metadata": {},
          "execution_count": 6
        }
      ]
    },
    {
      "cell_type": "code",
      "source": [
        "livingner_subtask2_validation = pd.read_csv(\"/content/drive/MyDrive/Dataset/training_valid_test_background_multilingual/valid/subtask2-Norm/validation_entities_subtask2.tsv\", delimiter=\"\\t\")\n",
        "livingner_subtask2_validation.head()"
      ],
      "metadata": {
        "colab": {
          "base_uri": "https://localhost:8080/",
          "height": 206
        },
        "id": "6Og5WnU_C8O_",
        "outputId": "c03f7e5e-ec15-4ce9-f122-f234cb0a67ff"
      },
      "execution_count": null,
      "outputs": [
        {
          "output_type": "execute_result",
          "data": {
            "text/plain": [
              "      filename mark  label  off0  off1     span    isH    isN  iscomplex  code\n",
              "0  32119083_ES   T1  HUMAN   287   294  familia  False  False      False  9606\n",
              "1  32119083_ES   T2  HUMAN  4827  4831     hijo  False  False      False  9606\n",
              "2  32119083_ES   T3  HUMAN  3948  3953    madre  False  False      False  9606\n",
              "3  32119083_ES   T4  HUMAN  4499  4504    madre  False  False      False  9606\n",
              "4  32119083_ES   T5  HUMAN  4567  4572    madre  False  False      False  9606"
            ],
            "text/html": [
              "\n",
              "  <div id=\"df-4c1572ce-f781-46ff-9af0-2bd7c7b71775\">\n",
              "    <div class=\"colab-df-container\">\n",
              "      <div>\n",
              "<style scoped>\n",
              "    .dataframe tbody tr th:only-of-type {\n",
              "        vertical-align: middle;\n",
              "    }\n",
              "\n",
              "    .dataframe tbody tr th {\n",
              "        vertical-align: top;\n",
              "    }\n",
              "\n",
              "    .dataframe thead th {\n",
              "        text-align: right;\n",
              "    }\n",
              "</style>\n",
              "<table border=\"1\" class=\"dataframe\">\n",
              "  <thead>\n",
              "    <tr style=\"text-align: right;\">\n",
              "      <th></th>\n",
              "      <th>filename</th>\n",
              "      <th>mark</th>\n",
              "      <th>label</th>\n",
              "      <th>off0</th>\n",
              "      <th>off1</th>\n",
              "      <th>span</th>\n",
              "      <th>isH</th>\n",
              "      <th>isN</th>\n",
              "      <th>iscomplex</th>\n",
              "      <th>code</th>\n",
              "    </tr>\n",
              "  </thead>\n",
              "  <tbody>\n",
              "    <tr>\n",
              "      <th>0</th>\n",
              "      <td>32119083_ES</td>\n",
              "      <td>T1</td>\n",
              "      <td>HUMAN</td>\n",
              "      <td>287</td>\n",
              "      <td>294</td>\n",
              "      <td>familia</td>\n",
              "      <td>False</td>\n",
              "      <td>False</td>\n",
              "      <td>False</td>\n",
              "      <td>9606</td>\n",
              "    </tr>\n",
              "    <tr>\n",
              "      <th>1</th>\n",
              "      <td>32119083_ES</td>\n",
              "      <td>T2</td>\n",
              "      <td>HUMAN</td>\n",
              "      <td>4827</td>\n",
              "      <td>4831</td>\n",
              "      <td>hijo</td>\n",
              "      <td>False</td>\n",
              "      <td>False</td>\n",
              "      <td>False</td>\n",
              "      <td>9606</td>\n",
              "    </tr>\n",
              "    <tr>\n",
              "      <th>2</th>\n",
              "      <td>32119083_ES</td>\n",
              "      <td>T3</td>\n",
              "      <td>HUMAN</td>\n",
              "      <td>3948</td>\n",
              "      <td>3953</td>\n",
              "      <td>madre</td>\n",
              "      <td>False</td>\n",
              "      <td>False</td>\n",
              "      <td>False</td>\n",
              "      <td>9606</td>\n",
              "    </tr>\n",
              "    <tr>\n",
              "      <th>3</th>\n",
              "      <td>32119083_ES</td>\n",
              "      <td>T4</td>\n",
              "      <td>HUMAN</td>\n",
              "      <td>4499</td>\n",
              "      <td>4504</td>\n",
              "      <td>madre</td>\n",
              "      <td>False</td>\n",
              "      <td>False</td>\n",
              "      <td>False</td>\n",
              "      <td>9606</td>\n",
              "    </tr>\n",
              "    <tr>\n",
              "      <th>4</th>\n",
              "      <td>32119083_ES</td>\n",
              "      <td>T5</td>\n",
              "      <td>HUMAN</td>\n",
              "      <td>4567</td>\n",
              "      <td>4572</td>\n",
              "      <td>madre</td>\n",
              "      <td>False</td>\n",
              "      <td>False</td>\n",
              "      <td>False</td>\n",
              "      <td>9606</td>\n",
              "    </tr>\n",
              "  </tbody>\n",
              "</table>\n",
              "</div>\n",
              "      <button class=\"colab-df-convert\" onclick=\"convertToInteractive('df-4c1572ce-f781-46ff-9af0-2bd7c7b71775')\"\n",
              "              title=\"Convert this dataframe to an interactive table.\"\n",
              "              style=\"display:none;\">\n",
              "        \n",
              "  <svg xmlns=\"http://www.w3.org/2000/svg\" height=\"24px\"viewBox=\"0 0 24 24\"\n",
              "       width=\"24px\">\n",
              "    <path d=\"M0 0h24v24H0V0z\" fill=\"none\"/>\n",
              "    <path d=\"M18.56 5.44l.94 2.06.94-2.06 2.06-.94-2.06-.94-.94-2.06-.94 2.06-2.06.94zm-11 1L8.5 8.5l.94-2.06 2.06-.94-2.06-.94L8.5 2.5l-.94 2.06-2.06.94zm10 10l.94 2.06.94-2.06 2.06-.94-2.06-.94-.94-2.06-.94 2.06-2.06.94z\"/><path d=\"M17.41 7.96l-1.37-1.37c-.4-.4-.92-.59-1.43-.59-.52 0-1.04.2-1.43.59L10.3 9.45l-7.72 7.72c-.78.78-.78 2.05 0 2.83L4 21.41c.39.39.9.59 1.41.59.51 0 1.02-.2 1.41-.59l7.78-7.78 2.81-2.81c.8-.78.8-2.07 0-2.86zM5.41 20L4 18.59l7.72-7.72 1.47 1.35L5.41 20z\"/>\n",
              "  </svg>\n",
              "      </button>\n",
              "      \n",
              "  <style>\n",
              "    .colab-df-container {\n",
              "      display:flex;\n",
              "      flex-wrap:wrap;\n",
              "      gap: 12px;\n",
              "    }\n",
              "\n",
              "    .colab-df-convert {\n",
              "      background-color: #E8F0FE;\n",
              "      border: none;\n",
              "      border-radius: 50%;\n",
              "      cursor: pointer;\n",
              "      display: none;\n",
              "      fill: #1967D2;\n",
              "      height: 32px;\n",
              "      padding: 0 0 0 0;\n",
              "      width: 32px;\n",
              "    }\n",
              "\n",
              "    .colab-df-convert:hover {\n",
              "      background-color: #E2EBFA;\n",
              "      box-shadow: 0px 1px 2px rgba(60, 64, 67, 0.3), 0px 1px 3px 1px rgba(60, 64, 67, 0.15);\n",
              "      fill: #174EA6;\n",
              "    }\n",
              "\n",
              "    [theme=dark] .colab-df-convert {\n",
              "      background-color: #3B4455;\n",
              "      fill: #D2E3FC;\n",
              "    }\n",
              "\n",
              "    [theme=dark] .colab-df-convert:hover {\n",
              "      background-color: #434B5C;\n",
              "      box-shadow: 0px 1px 3px 1px rgba(0, 0, 0, 0.15);\n",
              "      filter: drop-shadow(0px 1px 2px rgba(0, 0, 0, 0.3));\n",
              "      fill: #FFFFFF;\n",
              "    }\n",
              "  </style>\n",
              "\n",
              "      <script>\n",
              "        const buttonEl =\n",
              "          document.querySelector('#df-4c1572ce-f781-46ff-9af0-2bd7c7b71775 button.colab-df-convert');\n",
              "        buttonEl.style.display =\n",
              "          google.colab.kernel.accessAllowed ? 'block' : 'none';\n",
              "\n",
              "        async function convertToInteractive(key) {\n",
              "          const element = document.querySelector('#df-4c1572ce-f781-46ff-9af0-2bd7c7b71775');\n",
              "          const dataTable =\n",
              "            await google.colab.kernel.invokeFunction('convertToInteractive',\n",
              "                                                     [key], {});\n",
              "          if (!dataTable) return;\n",
              "\n",
              "          const docLinkHtml = 'Like what you see? Visit the ' +\n",
              "            '<a target=\"_blank\" href=https://colab.research.google.com/notebooks/data_table.ipynb>data table notebook</a>'\n",
              "            + ' to learn more about interactive tables.';\n",
              "          element.innerHTML = '';\n",
              "          dataTable['output_type'] = 'display_data';\n",
              "          await google.colab.output.renderOutput(dataTable, element);\n",
              "          const docLink = document.createElement('div');\n",
              "          docLink.innerHTML = docLinkHtml;\n",
              "          element.appendChild(docLink);\n",
              "        }\n",
              "      </script>\n",
              "    </div>\n",
              "  </div>\n",
              "  "
            ]
          },
          "metadata": {},
          "execution_count": 7
        }
      ]
    },
    {
      "cell_type": "markdown",
      "source": [
        "## Loading the NCBI Taxonomy"
      ],
      "metadata": {
        "id": "AO-LJJ7CLGEj"
      }
    },
    {
      "cell_type": "code",
      "source": [
        "NCBITax_tr = livingner_subtask2_training[['span','code']]\n",
        "NCBITax_vl = livingner_subtask2_validation[['span','code']]\n",
        "NCBITax = pd.concat([NCBITax_tr, NCBITax_vl], axis=0) \n",
        "NCBITax.head()"
      ],
      "metadata": {
        "colab": {
          "base_uri": "https://localhost:8080/",
          "height": 206
        },
        "id": "MdhEde5OF5vT",
        "outputId": "1243c1a8-7451-4ade-e244-c0215b3d61a5"
      },
      "execution_count": null,
      "outputs": [
        {
          "output_type": "execute_result",
          "data": {
            "text/plain": [
              "        span     code\n",
              "0     hombre     9606\n",
              "1   paciente     9606\n",
              "2   paciente     9606\n",
              "3   paciente     9606\n",
              "4  2019-nCoV  2697049"
            ],
            "text/html": [
              "\n",
              "  <div id=\"df-e2eb2e7c-7e63-4a02-8ba2-c619f2b8e9f8\">\n",
              "    <div class=\"colab-df-container\">\n",
              "      <div>\n",
              "<style scoped>\n",
              "    .dataframe tbody tr th:only-of-type {\n",
              "        vertical-align: middle;\n",
              "    }\n",
              "\n",
              "    .dataframe tbody tr th {\n",
              "        vertical-align: top;\n",
              "    }\n",
              "\n",
              "    .dataframe thead th {\n",
              "        text-align: right;\n",
              "    }\n",
              "</style>\n",
              "<table border=\"1\" class=\"dataframe\">\n",
              "  <thead>\n",
              "    <tr style=\"text-align: right;\">\n",
              "      <th></th>\n",
              "      <th>span</th>\n",
              "      <th>code</th>\n",
              "    </tr>\n",
              "  </thead>\n",
              "  <tbody>\n",
              "    <tr>\n",
              "      <th>0</th>\n",
              "      <td>hombre</td>\n",
              "      <td>9606</td>\n",
              "    </tr>\n",
              "    <tr>\n",
              "      <th>1</th>\n",
              "      <td>paciente</td>\n",
              "      <td>9606</td>\n",
              "    </tr>\n",
              "    <tr>\n",
              "      <th>2</th>\n",
              "      <td>paciente</td>\n",
              "      <td>9606</td>\n",
              "    </tr>\n",
              "    <tr>\n",
              "      <th>3</th>\n",
              "      <td>paciente</td>\n",
              "      <td>9606</td>\n",
              "    </tr>\n",
              "    <tr>\n",
              "      <th>4</th>\n",
              "      <td>2019-nCoV</td>\n",
              "      <td>2697049</td>\n",
              "    </tr>\n",
              "  </tbody>\n",
              "</table>\n",
              "</div>\n",
              "      <button class=\"colab-df-convert\" onclick=\"convertToInteractive('df-e2eb2e7c-7e63-4a02-8ba2-c619f2b8e9f8')\"\n",
              "              title=\"Convert this dataframe to an interactive table.\"\n",
              "              style=\"display:none;\">\n",
              "        \n",
              "  <svg xmlns=\"http://www.w3.org/2000/svg\" height=\"24px\"viewBox=\"0 0 24 24\"\n",
              "       width=\"24px\">\n",
              "    <path d=\"M0 0h24v24H0V0z\" fill=\"none\"/>\n",
              "    <path d=\"M18.56 5.44l.94 2.06.94-2.06 2.06-.94-2.06-.94-.94-2.06-.94 2.06-2.06.94zm-11 1L8.5 8.5l.94-2.06 2.06-.94-2.06-.94L8.5 2.5l-.94 2.06-2.06.94zm10 10l.94 2.06.94-2.06 2.06-.94-2.06-.94-.94-2.06-.94 2.06-2.06.94z\"/><path d=\"M17.41 7.96l-1.37-1.37c-.4-.4-.92-.59-1.43-.59-.52 0-1.04.2-1.43.59L10.3 9.45l-7.72 7.72c-.78.78-.78 2.05 0 2.83L4 21.41c.39.39.9.59 1.41.59.51 0 1.02-.2 1.41-.59l7.78-7.78 2.81-2.81c.8-.78.8-2.07 0-2.86zM5.41 20L4 18.59l7.72-7.72 1.47 1.35L5.41 20z\"/>\n",
              "  </svg>\n",
              "      </button>\n",
              "      \n",
              "  <style>\n",
              "    .colab-df-container {\n",
              "      display:flex;\n",
              "      flex-wrap:wrap;\n",
              "      gap: 12px;\n",
              "    }\n",
              "\n",
              "    .colab-df-convert {\n",
              "      background-color: #E8F0FE;\n",
              "      border: none;\n",
              "      border-radius: 50%;\n",
              "      cursor: pointer;\n",
              "      display: none;\n",
              "      fill: #1967D2;\n",
              "      height: 32px;\n",
              "      padding: 0 0 0 0;\n",
              "      width: 32px;\n",
              "    }\n",
              "\n",
              "    .colab-df-convert:hover {\n",
              "      background-color: #E2EBFA;\n",
              "      box-shadow: 0px 1px 2px rgba(60, 64, 67, 0.3), 0px 1px 3px 1px rgba(60, 64, 67, 0.15);\n",
              "      fill: #174EA6;\n",
              "    }\n",
              "\n",
              "    [theme=dark] .colab-df-convert {\n",
              "      background-color: #3B4455;\n",
              "      fill: #D2E3FC;\n",
              "    }\n",
              "\n",
              "    [theme=dark] .colab-df-convert:hover {\n",
              "      background-color: #434B5C;\n",
              "      box-shadow: 0px 1px 3px 1px rgba(0, 0, 0, 0.15);\n",
              "      filter: drop-shadow(0px 1px 2px rgba(0, 0, 0, 0.3));\n",
              "      fill: #FFFFFF;\n",
              "    }\n",
              "  </style>\n",
              "\n",
              "      <script>\n",
              "        const buttonEl =\n",
              "          document.querySelector('#df-e2eb2e7c-7e63-4a02-8ba2-c619f2b8e9f8 button.colab-df-convert');\n",
              "        buttonEl.style.display =\n",
              "          google.colab.kernel.accessAllowed ? 'block' : 'none';\n",
              "\n",
              "        async function convertToInteractive(key) {\n",
              "          const element = document.querySelector('#df-e2eb2e7c-7e63-4a02-8ba2-c619f2b8e9f8');\n",
              "          const dataTable =\n",
              "            await google.colab.kernel.invokeFunction('convertToInteractive',\n",
              "                                                     [key], {});\n",
              "          if (!dataTable) return;\n",
              "\n",
              "          const docLinkHtml = 'Like what you see? Visit the ' +\n",
              "            '<a target=\"_blank\" href=https://colab.research.google.com/notebooks/data_table.ipynb>data table notebook</a>'\n",
              "            + ' to learn more about interactive tables.';\n",
              "          element.innerHTML = '';\n",
              "          dataTable['output_type'] = 'display_data';\n",
              "          await google.colab.output.renderOutput(dataTable, element);\n",
              "          const docLink = document.createElement('div');\n",
              "          docLink.innerHTML = docLinkHtml;\n",
              "          element.appendChild(docLink);\n",
              "        }\n",
              "      </script>\n",
              "    </div>\n",
              "  </div>\n",
              "  "
            ]
          },
          "metadata": {},
          "execution_count": 8
        }
      ]
    },
    {
      "cell_type": "code",
      "source": [
        "NCBITax.shape"
      ],
      "metadata": {
        "colab": {
          "base_uri": "https://localhost:8080/"
        },
        "id": "a-a3HvLNJVci",
        "outputId": "d7137eb6-312b-4e63-9338-be3d0afd0f2e"
      },
      "execution_count": null,
      "outputs": [
        {
          "output_type": "execute_result",
          "data": {
            "text/plain": [
              "(23203, 2)"
            ]
          },
          "metadata": {},
          "execution_count": 16
        }
      ]
    },
    {
      "cell_type": "code",
      "source": [
        "NCBI_dic = {}\n",
        "for s, c in zip (NCBITax['span'],NCBITax['code']):\n",
        "  NCBI_dic.update({s:c})"
      ],
      "metadata": {
        "id": "EVL8yrTTGa0-"
      },
      "execution_count": null,
      "outputs": []
    },
    {
      "cell_type": "code",
      "source": [
        "len(NCBI_dic)"
      ],
      "metadata": {
        "colab": {
          "base_uri": "https://localhost:8080/"
        },
        "id": "14OFPun3Dvg9",
        "outputId": "ba6cba6d-ea14-4f2d-8c05-ae1200fb14ab"
      },
      "execution_count": null,
      "outputs": [
        {
          "output_type": "execute_result",
          "data": {
            "text/plain": [
              "3792"
            ]
          },
          "metadata": {},
          "execution_count": 23
        }
      ]
    },
    {
      "cell_type": "code",
      "source": [
        "NCBI_Taxonomia = open(\"/content/drive/MyDrive/Dataset/training_valid_test_background_multilingual/Resources/ncbi-taxo-names-spanish_v2.dmp\", 'r', encoding='UTF-8')\n",
        "for t in NCBI_Taxonomia:\n",
        "  line = t.split('\\t')\n",
        "  code = line[0]\n",
        "  #spanEn = line[1]\n",
        "  spanEs = line[-1]\n",
        "  #NCBI_dic.update({spanEn: code})\n",
        "  NCBI_dic.update({spanEs: code})\n",
        "NCBI_Taxonomia.close()"
      ],
      "metadata": {
        "id": "J-kqDQVvB24y"
      },
      "execution_count": null,
      "outputs": []
    },
    {
      "cell_type": "code",
      "source": [
        "len(NCBI_dic)"
      ],
      "metadata": {
        "colab": {
          "base_uri": "https://localhost:8080/"
        },
        "id": "WrmeswCNEEFa",
        "outputId": "ab36554d-203f-4348-d218-68d25aab8cb9"
      },
      "execution_count": null,
      "outputs": [
        {
          "output_type": "execute_result",
          "data": {
            "text/plain": [
              "3299314"
            ]
          },
          "metadata": {},
          "execution_count": 26
        }
      ]
    },
    {
      "cell_type": "code",
      "source": [
        "NCBI_dic[\"SARS-CoV-2\"]"
      ],
      "metadata": {
        "colab": {
          "base_uri": "https://localhost:8080/",
          "height": 36
        },
        "id": "Lm3XQmpAKI9f",
        "outputId": "72d7ba19-4280-4d58-c4a2-97a5be24513e"
      },
      "execution_count": null,
      "outputs": [
        {
          "output_type": "execute_result",
          "data": {
            "text/plain": [
              "'2697049'"
            ],
            "application/vnd.google.colaboratory.intrinsic+json": {
              "type": "string"
            }
          },
          "metadata": {},
          "execution_count": 27
        }
      ]
    },
    {
      "cell_type": "markdown",
      "source": [
        "## Normalization on validation dataset"
      ],
      "metadata": {
        "id": "LOkZp0c0ZaoE"
      }
    },
    {
      "cell_type": "code",
      "source": [
        "output_task_1 = pd.read_csv(\"/content/drive/MyDrive/LivingNER_subtask1NER_validation_predictions_Texts_Partitioned_pl_3_NLP-CIC-WFU_Clinical_Cases_NER_Sents_Tokenized_mBERT_cased_fine_tuned.tsv\", delimiter=\"\\t\")\n",
        "output_task_1.head()"
      ],
      "metadata": {
        "colab": {
          "base_uri": "https://localhost:8080/",
          "height": 206
        },
        "id": "1o_PYyYUsrdl",
        "outputId": "fab49f52-744a-454b-96b2-af38daa4baf7"
      },
      "execution_count": null,
      "outputs": [
        {
          "output_type": "execute_result",
          "data": {
            "text/plain": [
              "                           filename mark  label  off0  off1        span\n",
              "0  caso_clinico_medicina_interna424   T1  HUMAN     0     5       Varón\n",
              "1  caso_clinico_medicina_interna424   T2  HUMAN    88    98  personales\n",
              "2  caso_clinico_medicina_interna424   T3  HUMAN   521   529    paciente\n",
              "3  caso_clinico_medicina_interna424   T4  HUMAN  1668  1676    paciente\n",
              "4  caso_clinico_medicina_interna424   T5  HUMAN  1738  1746    paciente"
            ],
            "text/html": [
              "\n",
              "  <div id=\"df-d620b0a4-9a24-4245-a34a-43676cb19969\">\n",
              "    <div class=\"colab-df-container\">\n",
              "      <div>\n",
              "<style scoped>\n",
              "    .dataframe tbody tr th:only-of-type {\n",
              "        vertical-align: middle;\n",
              "    }\n",
              "\n",
              "    .dataframe tbody tr th {\n",
              "        vertical-align: top;\n",
              "    }\n",
              "\n",
              "    .dataframe thead th {\n",
              "        text-align: right;\n",
              "    }\n",
              "</style>\n",
              "<table border=\"1\" class=\"dataframe\">\n",
              "  <thead>\n",
              "    <tr style=\"text-align: right;\">\n",
              "      <th></th>\n",
              "      <th>filename</th>\n",
              "      <th>mark</th>\n",
              "      <th>label</th>\n",
              "      <th>off0</th>\n",
              "      <th>off1</th>\n",
              "      <th>span</th>\n",
              "    </tr>\n",
              "  </thead>\n",
              "  <tbody>\n",
              "    <tr>\n",
              "      <th>0</th>\n",
              "      <td>caso_clinico_medicina_interna424</td>\n",
              "      <td>T1</td>\n",
              "      <td>HUMAN</td>\n",
              "      <td>0</td>\n",
              "      <td>5</td>\n",
              "      <td>Varón</td>\n",
              "    </tr>\n",
              "    <tr>\n",
              "      <th>1</th>\n",
              "      <td>caso_clinico_medicina_interna424</td>\n",
              "      <td>T2</td>\n",
              "      <td>HUMAN</td>\n",
              "      <td>88</td>\n",
              "      <td>98</td>\n",
              "      <td>personales</td>\n",
              "    </tr>\n",
              "    <tr>\n",
              "      <th>2</th>\n",
              "      <td>caso_clinico_medicina_interna424</td>\n",
              "      <td>T3</td>\n",
              "      <td>HUMAN</td>\n",
              "      <td>521</td>\n",
              "      <td>529</td>\n",
              "      <td>paciente</td>\n",
              "    </tr>\n",
              "    <tr>\n",
              "      <th>3</th>\n",
              "      <td>caso_clinico_medicina_interna424</td>\n",
              "      <td>T4</td>\n",
              "      <td>HUMAN</td>\n",
              "      <td>1668</td>\n",
              "      <td>1676</td>\n",
              "      <td>paciente</td>\n",
              "    </tr>\n",
              "    <tr>\n",
              "      <th>4</th>\n",
              "      <td>caso_clinico_medicina_interna424</td>\n",
              "      <td>T5</td>\n",
              "      <td>HUMAN</td>\n",
              "      <td>1738</td>\n",
              "      <td>1746</td>\n",
              "      <td>paciente</td>\n",
              "    </tr>\n",
              "  </tbody>\n",
              "</table>\n",
              "</div>\n",
              "      <button class=\"colab-df-convert\" onclick=\"convertToInteractive('df-d620b0a4-9a24-4245-a34a-43676cb19969')\"\n",
              "              title=\"Convert this dataframe to an interactive table.\"\n",
              "              style=\"display:none;\">\n",
              "        \n",
              "  <svg xmlns=\"http://www.w3.org/2000/svg\" height=\"24px\"viewBox=\"0 0 24 24\"\n",
              "       width=\"24px\">\n",
              "    <path d=\"M0 0h24v24H0V0z\" fill=\"none\"/>\n",
              "    <path d=\"M18.56 5.44l.94 2.06.94-2.06 2.06-.94-2.06-.94-.94-2.06-.94 2.06-2.06.94zm-11 1L8.5 8.5l.94-2.06 2.06-.94-2.06-.94L8.5 2.5l-.94 2.06-2.06.94zm10 10l.94 2.06.94-2.06 2.06-.94-2.06-.94-.94-2.06-.94 2.06-2.06.94z\"/><path d=\"M17.41 7.96l-1.37-1.37c-.4-.4-.92-.59-1.43-.59-.52 0-1.04.2-1.43.59L10.3 9.45l-7.72 7.72c-.78.78-.78 2.05 0 2.83L4 21.41c.39.39.9.59 1.41.59.51 0 1.02-.2 1.41-.59l7.78-7.78 2.81-2.81c.8-.78.8-2.07 0-2.86zM5.41 20L4 18.59l7.72-7.72 1.47 1.35L5.41 20z\"/>\n",
              "  </svg>\n",
              "      </button>\n",
              "      \n",
              "  <style>\n",
              "    .colab-df-container {\n",
              "      display:flex;\n",
              "      flex-wrap:wrap;\n",
              "      gap: 12px;\n",
              "    }\n",
              "\n",
              "    .colab-df-convert {\n",
              "      background-color: #E8F0FE;\n",
              "      border: none;\n",
              "      border-radius: 50%;\n",
              "      cursor: pointer;\n",
              "      display: none;\n",
              "      fill: #1967D2;\n",
              "      height: 32px;\n",
              "      padding: 0 0 0 0;\n",
              "      width: 32px;\n",
              "    }\n",
              "\n",
              "    .colab-df-convert:hover {\n",
              "      background-color: #E2EBFA;\n",
              "      box-shadow: 0px 1px 2px rgba(60, 64, 67, 0.3), 0px 1px 3px 1px rgba(60, 64, 67, 0.15);\n",
              "      fill: #174EA6;\n",
              "    }\n",
              "\n",
              "    [theme=dark] .colab-df-convert {\n",
              "      background-color: #3B4455;\n",
              "      fill: #D2E3FC;\n",
              "    }\n",
              "\n",
              "    [theme=dark] .colab-df-convert:hover {\n",
              "      background-color: #434B5C;\n",
              "      box-shadow: 0px 1px 3px 1px rgba(0, 0, 0, 0.15);\n",
              "      filter: drop-shadow(0px 1px 2px rgba(0, 0, 0, 0.3));\n",
              "      fill: #FFFFFF;\n",
              "    }\n",
              "  </style>\n",
              "\n",
              "      <script>\n",
              "        const buttonEl =\n",
              "          document.querySelector('#df-d620b0a4-9a24-4245-a34a-43676cb19969 button.colab-df-convert');\n",
              "        buttonEl.style.display =\n",
              "          google.colab.kernel.accessAllowed ? 'block' : 'none';\n",
              "\n",
              "        async function convertToInteractive(key) {\n",
              "          const element = document.querySelector('#df-d620b0a4-9a24-4245-a34a-43676cb19969');\n",
              "          const dataTable =\n",
              "            await google.colab.kernel.invokeFunction('convertToInteractive',\n",
              "                                                     [key], {});\n",
              "          if (!dataTable) return;\n",
              "\n",
              "          const docLinkHtml = 'Like what you see? Visit the ' +\n",
              "            '<a target=\"_blank\" href=https://colab.research.google.com/notebooks/data_table.ipynb>data table notebook</a>'\n",
              "            + ' to learn more about interactive tables.';\n",
              "          element.innerHTML = '';\n",
              "          dataTable['output_type'] = 'display_data';\n",
              "          await google.colab.output.renderOutput(dataTable, element);\n",
              "          const docLink = document.createElement('div');\n",
              "          docLink.innerHTML = docLinkHtml;\n",
              "          element.appendChild(docLink);\n",
              "        }\n",
              "      </script>\n",
              "    </div>\n",
              "  </div>\n",
              "  "
            ]
          },
          "metadata": {},
          "execution_count": 28
        }
      ]
    },
    {
      "cell_type": "code",
      "source": [
        "f = open(\"/content/drive/MyDrive/LivingNER_subtask2-Norm_validation_predictions.tsv\", \"w\", encoding=\"UTF-8\")\n",
        "\n",
        "f.write(\"filename\\tmark\\tlabel\\toff0\\toff1\\tspan\\tNCBITax\\n\")\n",
        "\n",
        "for fn, m, l, off0, off1, span in zip(output_task_1['filename'],output_task_1['mark'],output_task_1['label'],output_task_1['off0'],output_task_1['off1'],output_task_1['span']):\n",
        "  if l == \"HUMAN\":\n",
        "    f.write(fn+'\\t'+m+'\\t'+l+'\\t'+str(off0)+'\\t'+str(off1)+'\\t'+span+'\\t'+str(9606)+'\\n')\n",
        "  else:\n",
        "    try:\n",
        "      f.write(fn+'\\t'+m+'\\t'+l+'\\t'+str(off0)+'\\t'+str(off1)+'\\t'+span+'\\t'+NCBI_dic[span]+'\\n')\n",
        "    except:\n",
        "      f.write(fn+'\\t'+m+'\\t'+l+'\\t'+str(off0)+'\\t'+str(off1)+'\\t'+span+'\\t'+'_NOCODE_'+'\\n')\n",
        "f.close()"
      ],
      "metadata": {
        "id": "B03fluWrsrtM"
      },
      "execution_count": null,
      "outputs": []
    },
    {
      "cell_type": "markdown",
      "source": [
        "## Normalization on test dataset"
      ],
      "metadata": {
        "id": "cU4VoBewZWwM"
      }
    },
    {
      "cell_type": "code",
      "source": [
        "output_task_1 = pd.read_csv(\"/content/drive/MyDrive/LivingNER_subtask1NER_test_predictions_Texts_Partitioned_pl_3_NLP-CIC-WFU_Clinical_Cases_NER_Sents_Tokenized_mBERT_cased_fine_tuned.tsv\", delimiter=\"\\t\")\n",
        "output_task_1.head()"
      ],
      "metadata": {
        "colab": {
          "base_uri": "https://localhost:8080/",
          "height": 206
        },
        "id": "BzMZ_L8bDTdM",
        "outputId": "cb5f074d-6d2e-4e7d-cfc2-eb33ab288ce3"
      },
      "execution_count": null,
      "outputs": [
        {
          "output_type": "execute_result",
          "data": {
            "text/plain": [
              "      filename mark  label  off0  off1      span\n",
              "0  cc_onco1576   T1  HUMAN    10    15     Varón\n",
              "1  cc_onco1576   T2  HUMAN   511   519  paciente\n",
              "2  cc_onco1576   T3  HUMAN  2876  2884  paciente\n",
              "3  cc_onco1576   T4  HUMAN  3167  3175  paciente\n",
              "4  cc_onco1576   T5  HUMAN  3856  3864  paciente"
            ],
            "text/html": [
              "\n",
              "  <div id=\"df-3191a233-b79c-4784-9bc7-6c8c37879027\">\n",
              "    <div class=\"colab-df-container\">\n",
              "      <div>\n",
              "<style scoped>\n",
              "    .dataframe tbody tr th:only-of-type {\n",
              "        vertical-align: middle;\n",
              "    }\n",
              "\n",
              "    .dataframe tbody tr th {\n",
              "        vertical-align: top;\n",
              "    }\n",
              "\n",
              "    .dataframe thead th {\n",
              "        text-align: right;\n",
              "    }\n",
              "</style>\n",
              "<table border=\"1\" class=\"dataframe\">\n",
              "  <thead>\n",
              "    <tr style=\"text-align: right;\">\n",
              "      <th></th>\n",
              "      <th>filename</th>\n",
              "      <th>mark</th>\n",
              "      <th>label</th>\n",
              "      <th>off0</th>\n",
              "      <th>off1</th>\n",
              "      <th>span</th>\n",
              "    </tr>\n",
              "  </thead>\n",
              "  <tbody>\n",
              "    <tr>\n",
              "      <th>0</th>\n",
              "      <td>cc_onco1576</td>\n",
              "      <td>T1</td>\n",
              "      <td>HUMAN</td>\n",
              "      <td>10</td>\n",
              "      <td>15</td>\n",
              "      <td>Varón</td>\n",
              "    </tr>\n",
              "    <tr>\n",
              "      <th>1</th>\n",
              "      <td>cc_onco1576</td>\n",
              "      <td>T2</td>\n",
              "      <td>HUMAN</td>\n",
              "      <td>511</td>\n",
              "      <td>519</td>\n",
              "      <td>paciente</td>\n",
              "    </tr>\n",
              "    <tr>\n",
              "      <th>2</th>\n",
              "      <td>cc_onco1576</td>\n",
              "      <td>T3</td>\n",
              "      <td>HUMAN</td>\n",
              "      <td>2876</td>\n",
              "      <td>2884</td>\n",
              "      <td>paciente</td>\n",
              "    </tr>\n",
              "    <tr>\n",
              "      <th>3</th>\n",
              "      <td>cc_onco1576</td>\n",
              "      <td>T4</td>\n",
              "      <td>HUMAN</td>\n",
              "      <td>3167</td>\n",
              "      <td>3175</td>\n",
              "      <td>paciente</td>\n",
              "    </tr>\n",
              "    <tr>\n",
              "      <th>4</th>\n",
              "      <td>cc_onco1576</td>\n",
              "      <td>T5</td>\n",
              "      <td>HUMAN</td>\n",
              "      <td>3856</td>\n",
              "      <td>3864</td>\n",
              "      <td>paciente</td>\n",
              "    </tr>\n",
              "  </tbody>\n",
              "</table>\n",
              "</div>\n",
              "      <button class=\"colab-df-convert\" onclick=\"convertToInteractive('df-3191a233-b79c-4784-9bc7-6c8c37879027')\"\n",
              "              title=\"Convert this dataframe to an interactive table.\"\n",
              "              style=\"display:none;\">\n",
              "        \n",
              "  <svg xmlns=\"http://www.w3.org/2000/svg\" height=\"24px\"viewBox=\"0 0 24 24\"\n",
              "       width=\"24px\">\n",
              "    <path d=\"M0 0h24v24H0V0z\" fill=\"none\"/>\n",
              "    <path d=\"M18.56 5.44l.94 2.06.94-2.06 2.06-.94-2.06-.94-.94-2.06-.94 2.06-2.06.94zm-11 1L8.5 8.5l.94-2.06 2.06-.94-2.06-.94L8.5 2.5l-.94 2.06-2.06.94zm10 10l.94 2.06.94-2.06 2.06-.94-2.06-.94-.94-2.06-.94 2.06-2.06.94z\"/><path d=\"M17.41 7.96l-1.37-1.37c-.4-.4-.92-.59-1.43-.59-.52 0-1.04.2-1.43.59L10.3 9.45l-7.72 7.72c-.78.78-.78 2.05 0 2.83L4 21.41c.39.39.9.59 1.41.59.51 0 1.02-.2 1.41-.59l7.78-7.78 2.81-2.81c.8-.78.8-2.07 0-2.86zM5.41 20L4 18.59l7.72-7.72 1.47 1.35L5.41 20z\"/>\n",
              "  </svg>\n",
              "      </button>\n",
              "      \n",
              "  <style>\n",
              "    .colab-df-container {\n",
              "      display:flex;\n",
              "      flex-wrap:wrap;\n",
              "      gap: 12px;\n",
              "    }\n",
              "\n",
              "    .colab-df-convert {\n",
              "      background-color: #E8F0FE;\n",
              "      border: none;\n",
              "      border-radius: 50%;\n",
              "      cursor: pointer;\n",
              "      display: none;\n",
              "      fill: #1967D2;\n",
              "      height: 32px;\n",
              "      padding: 0 0 0 0;\n",
              "      width: 32px;\n",
              "    }\n",
              "\n",
              "    .colab-df-convert:hover {\n",
              "      background-color: #E2EBFA;\n",
              "      box-shadow: 0px 1px 2px rgba(60, 64, 67, 0.3), 0px 1px 3px 1px rgba(60, 64, 67, 0.15);\n",
              "      fill: #174EA6;\n",
              "    }\n",
              "\n",
              "    [theme=dark] .colab-df-convert {\n",
              "      background-color: #3B4455;\n",
              "      fill: #D2E3FC;\n",
              "    }\n",
              "\n",
              "    [theme=dark] .colab-df-convert:hover {\n",
              "      background-color: #434B5C;\n",
              "      box-shadow: 0px 1px 3px 1px rgba(0, 0, 0, 0.15);\n",
              "      filter: drop-shadow(0px 1px 2px rgba(0, 0, 0, 0.3));\n",
              "      fill: #FFFFFF;\n",
              "    }\n",
              "  </style>\n",
              "\n",
              "      <script>\n",
              "        const buttonEl =\n",
              "          document.querySelector('#df-3191a233-b79c-4784-9bc7-6c8c37879027 button.colab-df-convert');\n",
              "        buttonEl.style.display =\n",
              "          google.colab.kernel.accessAllowed ? 'block' : 'none';\n",
              "\n",
              "        async function convertToInteractive(key) {\n",
              "          const element = document.querySelector('#df-3191a233-b79c-4784-9bc7-6c8c37879027');\n",
              "          const dataTable =\n",
              "            await google.colab.kernel.invokeFunction('convertToInteractive',\n",
              "                                                     [key], {});\n",
              "          if (!dataTable) return;\n",
              "\n",
              "          const docLinkHtml = 'Like what you see? Visit the ' +\n",
              "            '<a target=\"_blank\" href=https://colab.research.google.com/notebooks/data_table.ipynb>data table notebook</a>'\n",
              "            + ' to learn more about interactive tables.';\n",
              "          element.innerHTML = '';\n",
              "          dataTable['output_type'] = 'display_data';\n",
              "          await google.colab.output.renderOutput(dataTable, element);\n",
              "          const docLink = document.createElement('div');\n",
              "          docLink.innerHTML = docLinkHtml;\n",
              "          element.appendChild(docLink);\n",
              "        }\n",
              "      </script>\n",
              "    </div>\n",
              "  </div>\n",
              "  "
            ]
          },
          "metadata": {},
          "execution_count": 30
        }
      ]
    },
    {
      "cell_type": "code",
      "source": [
        "f = open(\"/content/drive/MyDrive/LivingNER_subtask2-Norm_test_predictions.tsv\", \"w\", encoding=\"UTF-8\")\n",
        "\n",
        "f.write(\"filename\\tmark\\tlabel\\toff0\\toff1\\tspan\\tNCBITax\\n\")\n",
        "\n",
        "for fn, m, l, off0, off1, span in zip(output_task_1['filename'],output_task_1['mark'],output_task_1['label'],output_task_1['off0'],output_task_1['off1'],output_task_1['span']):\n",
        "  if l == \"HUMAN\":\n",
        "    f.write(fn+'\\t'+m+'\\t'+l+'\\t'+str(off0)+'\\t'+str(off1)+'\\t'+span+'\\t'+str(9606)+'\\n')\n",
        "  else:\n",
        "    try:\n",
        "      f.write(fn+'\\t'+m+'\\t'+l+'\\t'+str(off0)+'\\t'+str(off1)+'\\t'+span+'\\t'+NCBI_dic[span]+'\\n')\n",
        "    except:\n",
        "      f.write(fn+'\\t'+m+'\\t'+l+'\\t'+str(off0)+'\\t'+str(off1)+'\\t'+span+'\\t'+'_NOCODE_'+'\\n')\n",
        "f.close()"
      ],
      "metadata": {
        "id": "lVAw2CGILFR9"
      },
      "execution_count": null,
      "outputs": []
    }
  ],
  "metadata": {
    "accelerator": "GPU",
    "colab": {
      "collapsed_sections": [
        "Nml9hXt1NHXr"
      ],
      "machine_shape": "hm",
      "name": "NLP-CIC-WFU Contribution to LivingNER shared task",
      "provenance": [],
      "include_colab_link": true
    },
    "kernelspec": {
      "display_name": "Python 3",
      "name": "python3"
    },
    "language_info": {
      "name": "python"
    },
    "widgets": {
      "application/vnd.jupyter.widget-state+json": {
        "018ce2a73bde47cfb5d7cb937839dd5c": {
          "model_module": "@jupyter-widgets/controls",
          "model_module_version": "1.5.0",
          "model_name": "HTMLModel",
          "state": {
            "_dom_classes": [],
            "_model_module": "@jupyter-widgets/controls",
            "_model_module_version": "1.5.0",
            "_model_name": "HTMLModel",
            "_view_count": null,
            "_view_module": "@jupyter-widgets/controls",
            "_view_module_version": "1.5.0",
            "_view_name": "HTMLView",
            "description": "",
            "description_tooltip": null,
            "layout": "IPY_MODEL_36ed99cd4df3418f9c0060b99d875de8",
            "placeholder": "​",
            "style": "IPY_MODEL_560d1f0e8e3f4074a9851151744b4bb6",
            "value": "Upload file pytorch_model.bin: 100%"
          }
        },
        "04dc4e1d79504b49892ca457522b5074": {
          "model_module": "@jupyter-widgets/controls",
          "model_module_version": "1.5.0",
          "model_name": "ProgressStyleModel",
          "state": {
            "_model_module": "@jupyter-widgets/controls",
            "_model_module_version": "1.5.0",
            "_model_name": "ProgressStyleModel",
            "_view_count": null,
            "_view_module": "@jupyter-widgets/base",
            "_view_module_version": "1.2.0",
            "_view_name": "StyleView",
            "bar_color": null,
            "description_width": ""
          }
        },
        "05bb63adaff041abbba3ef6febe65a97": {
          "model_module": "@jupyter-widgets/controls",
          "model_module_version": "1.5.0",
          "model_name": "ProgressStyleModel",
          "state": {
            "_model_module": "@jupyter-widgets/controls",
            "_model_module_version": "1.5.0",
            "_model_name": "ProgressStyleModel",
            "_view_count": null,
            "_view_module": "@jupyter-widgets/base",
            "_view_module_version": "1.2.0",
            "_view_name": "StyleView",
            "bar_color": null,
            "description_width": ""
          }
        },
        "0a42375cd4ff429ca60ecc61f7a129f6": {
          "model_module": "@jupyter-widgets/controls",
          "model_module_version": "1.5.0",
          "model_name": "FloatProgressModel",
          "state": {
            "_dom_classes": [],
            "_model_module": "@jupyter-widgets/controls",
            "_model_module_version": "1.5.0",
            "_model_name": "FloatProgressModel",
            "_view_count": null,
            "_view_module": "@jupyter-widgets/controls",
            "_view_module_version": "1.5.0",
            "_view_name": "ProgressView",
            "bar_style": "success",
            "description": "",
            "description_tooltip": null,
            "layout": "IPY_MODEL_5df53f69054a4dae81f849bf7e63156a",
            "max": 1961828,
            "min": 0,
            "orientation": "horizontal",
            "style": "IPY_MODEL_9d8391335d254936b1a1ee31f091ec37",
            "value": 1961828
          }
        },
        "0d704997657b4867873102ea5cdde120": {
          "model_module": "@jupyter-widgets/controls",
          "model_module_version": "1.5.0",
          "model_name": "HTMLModel",
          "state": {
            "_dom_classes": [],
            "_model_module": "@jupyter-widgets/controls",
            "_model_module_version": "1.5.0",
            "_model_name": "HTMLModel",
            "_view_count": null,
            "_view_module": "@jupyter-widgets/controls",
            "_view_module_version": "1.5.0",
            "_view_name": "HTMLView",
            "description": "",
            "description_tooltip": null,
            "layout": "IPY_MODEL_27befeb724c04791aff6311b5944a2d0",
            "placeholder": "​",
            "style": "IPY_MODEL_1a19430497d84ad1b9cb2859c96749bf",
            "value": "Downloading: 100%"
          }
        },
        "0f1a476d2e4f4e509b7b74573f000d78": {
          "model_module": "@jupyter-widgets/controls",
          "model_module_version": "1.5.0",
          "model_name": "FloatProgressModel",
          "state": {
            "_dom_classes": [],
            "_model_module": "@jupyter-widgets/controls",
            "_model_module_version": "1.5.0",
            "_model_name": "FloatProgressModel",
            "_view_count": null,
            "_view_module": "@jupyter-widgets/controls",
            "_view_module_version": "1.5.0",
            "_view_name": "ProgressView",
            "bar_style": "success",
            "description": "",
            "description_tooltip": null,
            "layout": "IPY_MODEL_f7a48f63ce874a4b83232116289d2032",
            "max": 2,
            "min": 0,
            "orientation": "horizontal",
            "style": "IPY_MODEL_8ac2a36b95ab498596cfc13cc872602a",
            "value": 2
          }
        },
        "12d606d87d1f4cc89ad94c7def13dbcf": {
          "model_module": "@jupyter-widgets/controls",
          "model_module_version": "1.5.0",
          "model_name": "HTMLModel",
          "state": {
            "_dom_classes": [],
            "_model_module": "@jupyter-widgets/controls",
            "_model_module_version": "1.5.0",
            "_model_name": "HTMLModel",
            "_view_count": null,
            "_view_module": "@jupyter-widgets/controls",
            "_view_module_version": "1.5.0",
            "_view_name": "HTMLView",
            "description": "",
            "description_tooltip": null,
            "layout": "IPY_MODEL_cdc483e9dd424df9a3b14b24b7a10ead",
            "placeholder": "​",
            "style": "IPY_MODEL_1c2e1a11fae04019a8780fc38c369958",
            "value": " 1.87M/1.87M [00:01&lt;00:00, 2.59MB/s]"
          }
        },
        "18dabcaf57034588a3cb4d06ec635f6f": {
          "model_module": "@jupyter-widgets/controls",
          "model_module_version": "1.5.0",
          "model_name": "HBoxModel",
          "state": {
            "_dom_classes": [],
            "_model_module": "@jupyter-widgets/controls",
            "_model_module_version": "1.5.0",
            "_model_name": "HBoxModel",
            "_view_count": null,
            "_view_module": "@jupyter-widgets/controls",
            "_view_module_version": "1.5.0",
            "_view_name": "HBoxView",
            "box_style": "",
            "children": [
              "IPY_MODEL_c78b052153c24c17883ae4afbf28db82",
              "IPY_MODEL_f333119ee33345f0a76ff66f70a667ae",
              "IPY_MODEL_215b17215d814b6ea81841232cc1de1a"
            ],
            "layout": "IPY_MODEL_359055bf8a694acda48c87a93cb23eb0"
          }
        },
        "1a19430497d84ad1b9cb2859c96749bf": {
          "model_module": "@jupyter-widgets/controls",
          "model_module_version": "1.5.0",
          "model_name": "DescriptionStyleModel",
          "state": {
            "_model_module": "@jupyter-widgets/controls",
            "_model_module_version": "1.5.0",
            "_model_name": "DescriptionStyleModel",
            "_view_count": null,
            "_view_module": "@jupyter-widgets/base",
            "_view_module_version": "1.2.0",
            "_view_name": "StyleView",
            "description_width": ""
          }
        },
        "1c2e1a11fae04019a8780fc38c369958": {
          "model_module": "@jupyter-widgets/controls",
          "model_module_version": "1.5.0",
          "model_name": "DescriptionStyleModel",
          "state": {
            "_model_module": "@jupyter-widgets/controls",
            "_model_module_version": "1.5.0",
            "_model_name": "DescriptionStyleModel",
            "_view_count": null,
            "_view_module": "@jupyter-widgets/base",
            "_view_module_version": "1.2.0",
            "_view_name": "StyleView",
            "description_width": ""
          }
        },
        "1eb1d2c80f5346c9a4e41be37803d47f": {
          "model_module": "@jupyter-widgets/base",
          "model_module_version": "1.2.0",
          "model_name": "LayoutModel",
          "state": {
            "_model_module": "@jupyter-widgets/base",
            "_model_module_version": "1.2.0",
            "_model_name": "LayoutModel",
            "_view_count": null,
            "_view_module": "@jupyter-widgets/base",
            "_view_module_version": "1.2.0",
            "_view_name": "LayoutView",
            "align_content": null,
            "align_items": null,
            "align_self": null,
            "border": null,
            "bottom": null,
            "display": null,
            "flex": null,
            "flex_flow": null,
            "grid_area": null,
            "grid_auto_columns": null,
            "grid_auto_flow": null,
            "grid_auto_rows": null,
            "grid_column": null,
            "grid_gap": null,
            "grid_row": null,
            "grid_template_areas": null,
            "grid_template_columns": null,
            "grid_template_rows": null,
            "height": null,
            "justify_content": null,
            "justify_items": null,
            "left": null,
            "margin": null,
            "max_height": null,
            "max_width": null,
            "min_height": null,
            "min_width": null,
            "object_fit": null,
            "object_position": null,
            "order": null,
            "overflow": null,
            "overflow_x": null,
            "overflow_y": null,
            "padding": null,
            "right": null,
            "top": null,
            "visibility": null,
            "width": null
          }
        },
        "2009995827b344b9af14f2a1cec0facb": {
          "model_module": "@jupyter-widgets/controls",
          "model_module_version": "1.5.0",
          "model_name": "DescriptionStyleModel",
          "state": {
            "_model_module": "@jupyter-widgets/controls",
            "_model_module_version": "1.5.0",
            "_model_name": "DescriptionStyleModel",
            "_view_count": null,
            "_view_module": "@jupyter-widgets/base",
            "_view_module_version": "1.2.0",
            "_view_name": "StyleView",
            "description_width": ""
          }
        },
        "215b17215d814b6ea81841232cc1de1a": {
          "model_module": "@jupyter-widgets/controls",
          "model_module_version": "1.5.0",
          "model_name": "HTMLModel",
          "state": {
            "_dom_classes": [],
            "_model_module": "@jupyter-widgets/controls",
            "_model_module_version": "1.5.0",
            "_model_name": "HTMLModel",
            "_view_count": null,
            "_view_module": "@jupyter-widgets/controls",
            "_view_module_version": "1.5.0",
            "_view_name": "HTMLView",
            "description": "",
            "description_tooltip": null,
            "layout": "IPY_MODEL_ea6c5ff70a83428e977f74086bef6664",
            "placeholder": "​",
            "style": "IPY_MODEL_8b0f8fa80f0f47ee8486d944c8fc3923",
            "value": " 681M/681M [00:14&lt;00:00, 54.4MB/s]"
          }
        },
        "243a09d94ecd4e9fb0acfe1df21bcc8d": {
          "model_module": "@jupyter-widgets/base",
          "model_module_version": "1.2.0",
          "model_name": "LayoutModel",
          "state": {
            "_model_module": "@jupyter-widgets/base",
            "_model_module_version": "1.2.0",
            "_model_name": "LayoutModel",
            "_view_count": null,
            "_view_module": "@jupyter-widgets/base",
            "_view_module_version": "1.2.0",
            "_view_name": "LayoutView",
            "align_content": null,
            "align_items": null,
            "align_self": null,
            "border": null,
            "bottom": null,
            "display": null,
            "flex": null,
            "flex_flow": null,
            "grid_area": null,
            "grid_auto_columns": null,
            "grid_auto_flow": null,
            "grid_auto_rows": null,
            "grid_column": null,
            "grid_gap": null,
            "grid_row": null,
            "grid_template_areas": null,
            "grid_template_columns": null,
            "grid_template_rows": null,
            "height": null,
            "justify_content": null,
            "justify_items": null,
            "left": null,
            "margin": null,
            "max_height": null,
            "max_width": null,
            "min_height": null,
            "min_width": null,
            "object_fit": null,
            "object_position": null,
            "order": null,
            "overflow": null,
            "overflow_x": null,
            "overflow_y": null,
            "padding": null,
            "right": null,
            "top": null,
            "visibility": null,
            "width": null
          }
        },
        "24d9ae45458940ebbf0328688c222308": {
          "model_module": "@jupyter-widgets/controls",
          "model_module_version": "1.5.0",
          "model_name": "HBoxModel",
          "state": {
            "_dom_classes": [],
            "_model_module": "@jupyter-widgets/controls",
            "_model_module_version": "1.5.0",
            "_model_name": "HBoxModel",
            "_view_count": null,
            "_view_module": "@jupyter-widgets/controls",
            "_view_module_version": "1.5.0",
            "_view_name": "HBoxView",
            "box_style": "",
            "children": [
              "IPY_MODEL_b368bc09597f4146a9007494487b52f1",
              "IPY_MODEL_0a42375cd4ff429ca60ecc61f7a129f6",
              "IPY_MODEL_12d606d87d1f4cc89ad94c7def13dbcf"
            ],
            "layout": "IPY_MODEL_1eb1d2c80f5346c9a4e41be37803d47f"
          }
        },
        "2562aa26ccd947fea075e9202968a9ae": {
          "model_module": "@jupyter-widgets/base",
          "model_module_version": "1.2.0",
          "model_name": "LayoutModel",
          "state": {
            "_model_module": "@jupyter-widgets/base",
            "_model_module_version": "1.2.0",
            "_model_name": "LayoutModel",
            "_view_count": null,
            "_view_module": "@jupyter-widgets/base",
            "_view_module_version": "1.2.0",
            "_view_name": "LayoutView",
            "align_content": null,
            "align_items": null,
            "align_self": null,
            "border": null,
            "bottom": null,
            "display": null,
            "flex": null,
            "flex_flow": null,
            "grid_area": null,
            "grid_auto_columns": null,
            "grid_auto_flow": null,
            "grid_auto_rows": null,
            "grid_column": null,
            "grid_gap": null,
            "grid_row": null,
            "grid_template_areas": null,
            "grid_template_columns": null,
            "grid_template_rows": null,
            "height": null,
            "justify_content": null,
            "justify_items": null,
            "left": null,
            "margin": null,
            "max_height": null,
            "max_width": null,
            "min_height": null,
            "min_width": null,
            "object_fit": null,
            "object_position": null,
            "order": null,
            "overflow": null,
            "overflow_x": null,
            "overflow_y": null,
            "padding": null,
            "right": null,
            "top": null,
            "visibility": null,
            "width": null
          }
        },
        "27befeb724c04791aff6311b5944a2d0": {
          "model_module": "@jupyter-widgets/base",
          "model_module_version": "1.2.0",
          "model_name": "LayoutModel",
          "state": {
            "_model_module": "@jupyter-widgets/base",
            "_model_module_version": "1.2.0",
            "_model_name": "LayoutModel",
            "_view_count": null,
            "_view_module": "@jupyter-widgets/base",
            "_view_module_version": "1.2.0",
            "_view_name": "LayoutView",
            "align_content": null,
            "align_items": null,
            "align_self": null,
            "border": null,
            "bottom": null,
            "display": null,
            "flex": null,
            "flex_flow": null,
            "grid_area": null,
            "grid_auto_columns": null,
            "grid_auto_flow": null,
            "grid_auto_rows": null,
            "grid_column": null,
            "grid_gap": null,
            "grid_row": null,
            "grid_template_areas": null,
            "grid_template_columns": null,
            "grid_template_rows": null,
            "height": null,
            "justify_content": null,
            "justify_items": null,
            "left": null,
            "margin": null,
            "max_height": null,
            "max_width": null,
            "min_height": null,
            "min_width": null,
            "object_fit": null,
            "object_position": null,
            "order": null,
            "overflow": null,
            "overflow_x": null,
            "overflow_y": null,
            "padding": null,
            "right": null,
            "top": null,
            "visibility": null,
            "width": null
          }
        },
        "28d335e5e21b4fcca92d8c70f60fd573": {
          "model_module": "@jupyter-widgets/base",
          "model_module_version": "1.2.0",
          "model_name": "LayoutModel",
          "state": {
            "_model_module": "@jupyter-widgets/base",
            "_model_module_version": "1.2.0",
            "_model_name": "LayoutModel",
            "_view_count": null,
            "_view_module": "@jupyter-widgets/base",
            "_view_module_version": "1.2.0",
            "_view_name": "LayoutView",
            "align_content": null,
            "align_items": null,
            "align_self": null,
            "border": null,
            "bottom": null,
            "display": null,
            "flex": null,
            "flex_flow": null,
            "grid_area": null,
            "grid_auto_columns": null,
            "grid_auto_flow": null,
            "grid_auto_rows": null,
            "grid_column": null,
            "grid_gap": null,
            "grid_row": null,
            "grid_template_areas": null,
            "grid_template_columns": null,
            "grid_template_rows": null,
            "height": null,
            "justify_content": null,
            "justify_items": null,
            "left": null,
            "margin": null,
            "max_height": null,
            "max_width": null,
            "min_height": null,
            "min_width": null,
            "object_fit": null,
            "object_position": null,
            "order": null,
            "overflow": null,
            "overflow_x": null,
            "overflow_y": null,
            "padding": null,
            "right": null,
            "top": null,
            "visibility": null,
            "width": null
          }
        },
        "29dc19db5e8a4cde907c640ae99d1198": {
          "model_module": "@jupyter-widgets/controls",
          "model_module_version": "1.5.0",
          "model_name": "HTMLModel",
          "state": {
            "_dom_classes": [],
            "_model_module": "@jupyter-widgets/controls",
            "_model_module_version": "1.5.0",
            "_model_name": "HTMLModel",
            "_view_count": null,
            "_view_module": "@jupyter-widgets/controls",
            "_view_module_version": "1.5.0",
            "_view_name": "HTMLView",
            "description": "",
            "description_tooltip": null,
            "layout": "IPY_MODEL_2562aa26ccd947fea075e9202968a9ae",
            "placeholder": "​",
            "style": "IPY_MODEL_46e044e2ff134773915ab12fbdb2dfc9",
            "value": "100%"
          }
        },
        "31f5f0d53b96475f8926d55ce3004b13": {
          "model_module": "@jupyter-widgets/base",
          "model_module_version": "1.2.0",
          "model_name": "LayoutModel",
          "state": {
            "_model_module": "@jupyter-widgets/base",
            "_model_module_version": "1.2.0",
            "_model_name": "LayoutModel",
            "_view_count": null,
            "_view_module": "@jupyter-widgets/base",
            "_view_module_version": "1.2.0",
            "_view_name": "LayoutView",
            "align_content": null,
            "align_items": null,
            "align_self": null,
            "border": null,
            "bottom": null,
            "display": null,
            "flex": null,
            "flex_flow": null,
            "grid_area": null,
            "grid_auto_columns": null,
            "grid_auto_flow": null,
            "grid_auto_rows": null,
            "grid_column": null,
            "grid_gap": null,
            "grid_row": null,
            "grid_template_areas": null,
            "grid_template_columns": null,
            "grid_template_rows": null,
            "height": null,
            "justify_content": null,
            "justify_items": null,
            "left": null,
            "margin": null,
            "max_height": null,
            "max_width": null,
            "min_height": null,
            "min_width": null,
            "object_fit": null,
            "object_position": null,
            "order": null,
            "overflow": null,
            "overflow_x": null,
            "overflow_y": null,
            "padding": null,
            "right": null,
            "top": null,
            "visibility": null,
            "width": null
          }
        },
        "359055bf8a694acda48c87a93cb23eb0": {
          "model_module": "@jupyter-widgets/base",
          "model_module_version": "1.2.0",
          "model_name": "LayoutModel",
          "state": {
            "_model_module": "@jupyter-widgets/base",
            "_model_module_version": "1.2.0",
            "_model_name": "LayoutModel",
            "_view_count": null,
            "_view_module": "@jupyter-widgets/base",
            "_view_module_version": "1.2.0",
            "_view_name": "LayoutView",
            "align_content": null,
            "align_items": null,
            "align_self": null,
            "border": null,
            "bottom": null,
            "display": null,
            "flex": null,
            "flex_flow": null,
            "grid_area": null,
            "grid_auto_columns": null,
            "grid_auto_flow": null,
            "grid_auto_rows": null,
            "grid_column": null,
            "grid_gap": null,
            "grid_row": null,
            "grid_template_areas": null,
            "grid_template_columns": null,
            "grid_template_rows": null,
            "height": null,
            "justify_content": null,
            "justify_items": null,
            "left": null,
            "margin": null,
            "max_height": null,
            "max_width": null,
            "min_height": null,
            "min_width": null,
            "object_fit": null,
            "object_position": null,
            "order": null,
            "overflow": null,
            "overflow_x": null,
            "overflow_y": null,
            "padding": null,
            "right": null,
            "top": null,
            "visibility": null,
            "width": null
          }
        },
        "36ed99cd4df3418f9c0060b99d875de8": {
          "model_module": "@jupyter-widgets/base",
          "model_module_version": "1.2.0",
          "model_name": "LayoutModel",
          "state": {
            "_model_module": "@jupyter-widgets/base",
            "_model_module_version": "1.2.0",
            "_model_name": "LayoutModel",
            "_view_count": null,
            "_view_module": "@jupyter-widgets/base",
            "_view_module_version": "1.2.0",
            "_view_name": "LayoutView",
            "align_content": null,
            "align_items": null,
            "align_self": null,
            "border": null,
            "bottom": null,
            "display": null,
            "flex": null,
            "flex_flow": null,
            "grid_area": null,
            "grid_auto_columns": null,
            "grid_auto_flow": null,
            "grid_auto_rows": null,
            "grid_column": null,
            "grid_gap": null,
            "grid_row": null,
            "grid_template_areas": null,
            "grid_template_columns": null,
            "grid_template_rows": null,
            "height": null,
            "justify_content": null,
            "justify_items": null,
            "left": null,
            "margin": null,
            "max_height": null,
            "max_width": null,
            "min_height": null,
            "min_width": null,
            "object_fit": null,
            "object_position": null,
            "order": null,
            "overflow": null,
            "overflow_x": null,
            "overflow_y": null,
            "padding": null,
            "right": null,
            "top": null,
            "visibility": null,
            "width": null
          }
        },
        "41fd11eb86d64308b30875ae509e0c2f": {
          "model_module": "@jupyter-widgets/base",
          "model_module_version": "1.2.0",
          "model_name": "LayoutModel",
          "state": {
            "_model_module": "@jupyter-widgets/base",
            "_model_module_version": "1.2.0",
            "_model_name": "LayoutModel",
            "_view_count": null,
            "_view_module": "@jupyter-widgets/base",
            "_view_module_version": "1.2.0",
            "_view_name": "LayoutView",
            "align_content": null,
            "align_items": null,
            "align_self": null,
            "border": null,
            "bottom": null,
            "display": null,
            "flex": null,
            "flex_flow": null,
            "grid_area": null,
            "grid_auto_columns": null,
            "grid_auto_flow": null,
            "grid_auto_rows": null,
            "grid_column": null,
            "grid_gap": null,
            "grid_row": null,
            "grid_template_areas": null,
            "grid_template_columns": null,
            "grid_template_rows": null,
            "height": null,
            "justify_content": null,
            "justify_items": null,
            "left": null,
            "margin": null,
            "max_height": null,
            "max_width": null,
            "min_height": null,
            "min_width": null,
            "object_fit": null,
            "object_position": null,
            "order": null,
            "overflow": null,
            "overflow_x": null,
            "overflow_y": null,
            "padding": null,
            "right": null,
            "top": null,
            "visibility": null,
            "width": null
          }
        },
        "4258f110b73d4407b3a43d67fad81d53": {
          "model_module": "@jupyter-widgets/base",
          "model_module_version": "1.2.0",
          "model_name": "LayoutModel",
          "state": {
            "_model_module": "@jupyter-widgets/base",
            "_model_module_version": "1.2.0",
            "_model_name": "LayoutModel",
            "_view_count": null,
            "_view_module": "@jupyter-widgets/base",
            "_view_module_version": "1.2.0",
            "_view_name": "LayoutView",
            "align_content": null,
            "align_items": null,
            "align_self": null,
            "border": null,
            "bottom": null,
            "display": null,
            "flex": null,
            "flex_flow": null,
            "grid_area": null,
            "grid_auto_columns": null,
            "grid_auto_flow": null,
            "grid_auto_rows": null,
            "grid_column": null,
            "grid_gap": null,
            "grid_row": null,
            "grid_template_areas": null,
            "grid_template_columns": null,
            "grid_template_rows": null,
            "height": null,
            "justify_content": null,
            "justify_items": null,
            "left": null,
            "margin": null,
            "max_height": null,
            "max_width": null,
            "min_height": null,
            "min_width": null,
            "object_fit": null,
            "object_position": null,
            "order": null,
            "overflow": null,
            "overflow_x": null,
            "overflow_y": null,
            "padding": null,
            "right": null,
            "top": null,
            "visibility": null,
            "width": null
          }
        },
        "45a031a35a0b437b8cbb4cdd6d1428d5": {
          "model_module": "@jupyter-widgets/controls",
          "model_module_version": "1.5.0",
          "model_name": "HTMLModel",
          "state": {
            "_dom_classes": [],
            "_model_module": "@jupyter-widgets/controls",
            "_model_module_version": "1.5.0",
            "_model_name": "HTMLModel",
            "_view_count": null,
            "_view_module": "@jupyter-widgets/controls",
            "_view_module_version": "1.5.0",
            "_view_name": "HTMLView",
            "description": "",
            "description_tooltip": null,
            "layout": "IPY_MODEL_c6cc51c72c9e4bb195be07c37f83389e",
            "placeholder": "​",
            "style": "IPY_MODEL_dd2708e16d7b4740b20407f9082b6bde",
            "value": " 2/2 [00:00&lt;00:00,  3.47ba/s]"
          }
        },
        "46e044e2ff134773915ab12fbdb2dfc9": {
          "model_module": "@jupyter-widgets/controls",
          "model_module_version": "1.5.0",
          "model_name": "DescriptionStyleModel",
          "state": {
            "_model_module": "@jupyter-widgets/controls",
            "_model_module_version": "1.5.0",
            "_model_name": "DescriptionStyleModel",
            "_view_count": null,
            "_view_module": "@jupyter-widgets/base",
            "_view_module_version": "1.2.0",
            "_view_name": "StyleView",
            "description_width": ""
          }
        },
        "4f07814a82614f84b4fc15ba245975fa": {
          "model_module": "@jupyter-widgets/controls",
          "model_module_version": "1.5.0",
          "model_name": "FloatProgressModel",
          "state": {
            "_dom_classes": [],
            "_model_module": "@jupyter-widgets/controls",
            "_model_module_version": "1.5.0",
            "_model_name": "FloatProgressModel",
            "_view_count": null,
            "_view_module": "@jupyter-widgets/controls",
            "_view_module_version": "1.5.0",
            "_view_name": "ProgressView",
            "bar_style": "success",
            "description": "",
            "description_tooltip": null,
            "layout": "IPY_MODEL_51c7f6ee5823426382dc7c868a0cbcde",
            "max": 625,
            "min": 0,
            "orientation": "horizontal",
            "style": "IPY_MODEL_a83f7d4125f74765b3fbda406e8e2842",
            "value": 625
          }
        },
        "51c7f6ee5823426382dc7c868a0cbcde": {
          "model_module": "@jupyter-widgets/base",
          "model_module_version": "1.2.0",
          "model_name": "LayoutModel",
          "state": {
            "_model_module": "@jupyter-widgets/base",
            "_model_module_version": "1.2.0",
            "_model_name": "LayoutModel",
            "_view_count": null,
            "_view_module": "@jupyter-widgets/base",
            "_view_module_version": "1.2.0",
            "_view_name": "LayoutView",
            "align_content": null,
            "align_items": null,
            "align_self": null,
            "border": null,
            "bottom": null,
            "display": null,
            "flex": null,
            "flex_flow": null,
            "grid_area": null,
            "grid_auto_columns": null,
            "grid_auto_flow": null,
            "grid_auto_rows": null,
            "grid_column": null,
            "grid_gap": null,
            "grid_row": null,
            "grid_template_areas": null,
            "grid_template_columns": null,
            "grid_template_rows": null,
            "height": null,
            "justify_content": null,
            "justify_items": null,
            "left": null,
            "margin": null,
            "max_height": null,
            "max_width": null,
            "min_height": null,
            "min_width": null,
            "object_fit": null,
            "object_position": null,
            "order": null,
            "overflow": null,
            "overflow_x": null,
            "overflow_y": null,
            "padding": null,
            "right": null,
            "top": null,
            "visibility": null,
            "width": null
          }
        },
        "54883d7ca37e43c59d650958178844b0": {
          "model_module": "@jupyter-widgets/base",
          "model_module_version": "1.2.0",
          "model_name": "LayoutModel",
          "state": {
            "_model_module": "@jupyter-widgets/base",
            "_model_module_version": "1.2.0",
            "_model_name": "LayoutModel",
            "_view_count": null,
            "_view_module": "@jupyter-widgets/base",
            "_view_module_version": "1.2.0",
            "_view_name": "LayoutView",
            "align_content": null,
            "align_items": null,
            "align_self": null,
            "border": null,
            "bottom": null,
            "display": null,
            "flex": null,
            "flex_flow": null,
            "grid_area": null,
            "grid_auto_columns": null,
            "grid_auto_flow": null,
            "grid_auto_rows": null,
            "grid_column": null,
            "grid_gap": null,
            "grid_row": null,
            "grid_template_areas": null,
            "grid_template_columns": null,
            "grid_template_rows": null,
            "height": null,
            "justify_content": null,
            "justify_items": null,
            "left": null,
            "margin": null,
            "max_height": null,
            "max_width": null,
            "min_height": null,
            "min_width": null,
            "object_fit": null,
            "object_position": null,
            "order": null,
            "overflow": null,
            "overflow_x": null,
            "overflow_y": null,
            "padding": null,
            "right": null,
            "top": null,
            "visibility": null,
            "width": null
          }
        },
        "560d1f0e8e3f4074a9851151744b4bb6": {
          "model_module": "@jupyter-widgets/controls",
          "model_module_version": "1.5.0",
          "model_name": "DescriptionStyleModel",
          "state": {
            "_model_module": "@jupyter-widgets/controls",
            "_model_module_version": "1.5.0",
            "_model_name": "DescriptionStyleModel",
            "_view_count": null,
            "_view_module": "@jupyter-widgets/base",
            "_view_module_version": "1.2.0",
            "_view_name": "StyleView",
            "description_width": ""
          }
        },
        "5b9533fc414944c7b53fdefca1749ca1": {
          "model_module": "@jupyter-widgets/base",
          "model_module_version": "1.2.0",
          "model_name": "LayoutModel",
          "state": {
            "_model_module": "@jupyter-widgets/base",
            "_model_module_version": "1.2.0",
            "_model_name": "LayoutModel",
            "_view_count": null,
            "_view_module": "@jupyter-widgets/base",
            "_view_module_version": "1.2.0",
            "_view_name": "LayoutView",
            "align_content": null,
            "align_items": null,
            "align_self": null,
            "border": null,
            "bottom": null,
            "display": null,
            "flex": null,
            "flex_flow": null,
            "grid_area": null,
            "grid_auto_columns": null,
            "grid_auto_flow": null,
            "grid_auto_rows": null,
            "grid_column": null,
            "grid_gap": null,
            "grid_row": null,
            "grid_template_areas": null,
            "grid_template_columns": null,
            "grid_template_rows": null,
            "height": null,
            "justify_content": null,
            "justify_items": null,
            "left": null,
            "margin": null,
            "max_height": null,
            "max_width": null,
            "min_height": null,
            "min_width": null,
            "object_fit": null,
            "object_position": null,
            "order": null,
            "overflow": null,
            "overflow_x": null,
            "overflow_y": null,
            "padding": null,
            "right": null,
            "top": null,
            "visibility": null,
            "width": null
          }
        },
        "5df53f69054a4dae81f849bf7e63156a": {
          "model_module": "@jupyter-widgets/base",
          "model_module_version": "1.2.0",
          "model_name": "LayoutModel",
          "state": {
            "_model_module": "@jupyter-widgets/base",
            "_model_module_version": "1.2.0",
            "_model_name": "LayoutModel",
            "_view_count": null,
            "_view_module": "@jupyter-widgets/base",
            "_view_module_version": "1.2.0",
            "_view_name": "LayoutView",
            "align_content": null,
            "align_items": null,
            "align_self": null,
            "border": null,
            "bottom": null,
            "display": null,
            "flex": null,
            "flex_flow": null,
            "grid_area": null,
            "grid_auto_columns": null,
            "grid_auto_flow": null,
            "grid_auto_rows": null,
            "grid_column": null,
            "grid_gap": null,
            "grid_row": null,
            "grid_template_areas": null,
            "grid_template_columns": null,
            "grid_template_rows": null,
            "height": null,
            "justify_content": null,
            "justify_items": null,
            "left": null,
            "margin": null,
            "max_height": null,
            "max_width": null,
            "min_height": null,
            "min_width": null,
            "object_fit": null,
            "object_position": null,
            "order": null,
            "overflow": null,
            "overflow_x": null,
            "overflow_y": null,
            "padding": null,
            "right": null,
            "top": null,
            "visibility": null,
            "width": null
          }
        },
        "5ed639e29558449ea786a43bc9b4ab58": {
          "model_module": "@jupyter-widgets/base",
          "model_module_version": "1.2.0",
          "model_name": "LayoutModel",
          "state": {
            "_model_module": "@jupyter-widgets/base",
            "_model_module_version": "1.2.0",
            "_model_name": "LayoutModel",
            "_view_count": null,
            "_view_module": "@jupyter-widgets/base",
            "_view_module_version": "1.2.0",
            "_view_name": "LayoutView",
            "align_content": null,
            "align_items": null,
            "align_self": null,
            "border": null,
            "bottom": null,
            "display": null,
            "flex": null,
            "flex_flow": null,
            "grid_area": null,
            "grid_auto_columns": null,
            "grid_auto_flow": null,
            "grid_auto_rows": null,
            "grid_column": null,
            "grid_gap": null,
            "grid_row": null,
            "grid_template_areas": null,
            "grid_template_columns": null,
            "grid_template_rows": null,
            "height": null,
            "justify_content": null,
            "justify_items": null,
            "left": null,
            "margin": null,
            "max_height": null,
            "max_width": null,
            "min_height": null,
            "min_width": null,
            "object_fit": null,
            "object_position": null,
            "order": null,
            "overflow": null,
            "overflow_x": null,
            "overflow_y": null,
            "padding": null,
            "right": null,
            "top": null,
            "visibility": null,
            "width": null
          }
        },
        "60aa5fb951244804b7c865ad7506ce8d": {
          "model_module": "@jupyter-widgets/controls",
          "model_module_version": "1.5.0",
          "model_name": "DescriptionStyleModel",
          "state": {
            "_model_module": "@jupyter-widgets/controls",
            "_model_module_version": "1.5.0",
            "_model_name": "DescriptionStyleModel",
            "_view_count": null,
            "_view_module": "@jupyter-widgets/base",
            "_view_module_version": "1.2.0",
            "_view_name": "StyleView",
            "description_width": ""
          }
        },
        "63684204c3314ca4934ab490f0a0f4fa": {
          "model_module": "@jupyter-widgets/controls",
          "model_module_version": "1.5.0",
          "model_name": "ProgressStyleModel",
          "state": {
            "_model_module": "@jupyter-widgets/controls",
            "_model_module_version": "1.5.0",
            "_model_name": "ProgressStyleModel",
            "_view_count": null,
            "_view_module": "@jupyter-widgets/base",
            "_view_module_version": "1.2.0",
            "_view_name": "StyleView",
            "bar_color": null,
            "description_width": ""
          }
        },
        "652fc2d468944f948cd5f3815c4925d9": {
          "model_module": "@jupyter-widgets/controls",
          "model_module_version": "1.5.0",
          "model_name": "DescriptionStyleModel",
          "state": {
            "_model_module": "@jupyter-widgets/controls",
            "_model_module_version": "1.5.0",
            "_model_name": "DescriptionStyleModel",
            "_view_count": null,
            "_view_module": "@jupyter-widgets/base",
            "_view_module_version": "1.2.0",
            "_view_name": "StyleView",
            "description_width": ""
          }
        },
        "68f6d6ef366647fe8606d335ca12e7ac": {
          "model_module": "@jupyter-widgets/base",
          "model_module_version": "1.2.0",
          "model_name": "LayoutModel",
          "state": {
            "_model_module": "@jupyter-widgets/base",
            "_model_module_version": "1.2.0",
            "_model_name": "LayoutModel",
            "_view_count": null,
            "_view_module": "@jupyter-widgets/base",
            "_view_module_version": "1.2.0",
            "_view_name": "LayoutView",
            "align_content": null,
            "align_items": null,
            "align_self": null,
            "border": null,
            "bottom": null,
            "display": null,
            "flex": null,
            "flex_flow": null,
            "grid_area": null,
            "grid_auto_columns": null,
            "grid_auto_flow": null,
            "grid_auto_rows": null,
            "grid_column": null,
            "grid_gap": null,
            "grid_row": null,
            "grid_template_areas": null,
            "grid_template_columns": null,
            "grid_template_rows": null,
            "height": null,
            "justify_content": null,
            "justify_items": null,
            "left": null,
            "margin": null,
            "max_height": null,
            "max_width": null,
            "min_height": null,
            "min_width": null,
            "object_fit": null,
            "object_position": null,
            "order": null,
            "overflow": null,
            "overflow_x": null,
            "overflow_y": null,
            "padding": null,
            "right": null,
            "top": null,
            "visibility": null,
            "width": null
          }
        },
        "6c3e75f4f73c497ab25822ed2c748ac6": {
          "model_module": "@jupyter-widgets/controls",
          "model_module_version": "1.5.0",
          "model_name": "HTMLModel",
          "state": {
            "_dom_classes": [],
            "_model_module": "@jupyter-widgets/controls",
            "_model_module_version": "1.5.0",
            "_model_name": "HTMLModel",
            "_view_count": null,
            "_view_module": "@jupyter-widgets/controls",
            "_view_module_version": "1.5.0",
            "_view_name": "HTMLView",
            "description": "",
            "description_tooltip": null,
            "layout": "IPY_MODEL_ca19a2b120fc4bbfbf6cae8e6a65a809",
            "placeholder": "​",
            "style": "IPY_MODEL_2009995827b344b9af14f2a1cec0facb",
            "value": " 8.52k/8.52k [09:36&lt;00:00, 9.20B/s]"
          }
        },
        "6cee8dfd923d41aaa1101d39d4ef48bc": {
          "model_module": "@jupyter-widgets/controls",
          "model_module_version": "1.5.0",
          "model_name": "DescriptionStyleModel",
          "state": {
            "_model_module": "@jupyter-widgets/controls",
            "_model_module_version": "1.5.0",
            "_model_name": "DescriptionStyleModel",
            "_view_count": null,
            "_view_module": "@jupyter-widgets/base",
            "_view_module_version": "1.2.0",
            "_view_name": "StyleView",
            "description_width": ""
          }
        },
        "743da34002e34209977ea784f3ea70cc": {
          "model_module": "@jupyter-widgets/controls",
          "model_module_version": "1.5.0",
          "model_name": "DescriptionStyleModel",
          "state": {
            "_model_module": "@jupyter-widgets/controls",
            "_model_module_version": "1.5.0",
            "_model_name": "DescriptionStyleModel",
            "_view_count": null,
            "_view_module": "@jupyter-widgets/base",
            "_view_module_version": "1.2.0",
            "_view_name": "StyleView",
            "description_width": ""
          }
        },
        "76fc655b667c4c5392333c2662c584bd": {
          "model_module": "@jupyter-widgets/base",
          "model_module_version": "1.2.0",
          "model_name": "LayoutModel",
          "state": {
            "_model_module": "@jupyter-widgets/base",
            "_model_module_version": "1.2.0",
            "_model_name": "LayoutModel",
            "_view_count": null,
            "_view_module": "@jupyter-widgets/base",
            "_view_module_version": "1.2.0",
            "_view_name": "LayoutView",
            "align_content": null,
            "align_items": null,
            "align_self": null,
            "border": null,
            "bottom": null,
            "display": null,
            "flex": null,
            "flex_flow": null,
            "grid_area": null,
            "grid_auto_columns": null,
            "grid_auto_flow": null,
            "grid_auto_rows": null,
            "grid_column": null,
            "grid_gap": null,
            "grid_row": null,
            "grid_template_areas": null,
            "grid_template_columns": null,
            "grid_template_rows": null,
            "height": null,
            "justify_content": null,
            "justify_items": null,
            "left": null,
            "margin": null,
            "max_height": null,
            "max_width": null,
            "min_height": null,
            "min_width": null,
            "object_fit": null,
            "object_position": null,
            "order": null,
            "overflow": null,
            "overflow_x": null,
            "overflow_y": null,
            "padding": null,
            "right": null,
            "top": null,
            "visibility": null,
            "width": null
          }
        },
        "7daa971fa73643c183fcf1f23c32a3a4": {
          "model_module": "@jupyter-widgets/controls",
          "model_module_version": "1.5.0",
          "model_name": "HBoxModel",
          "state": {
            "_dom_classes": [],
            "_model_module": "@jupyter-widgets/controls",
            "_model_module_version": "1.5.0",
            "_model_name": "HBoxModel",
            "_view_count": null,
            "_view_module": "@jupyter-widgets/controls",
            "_view_module_version": "1.5.0",
            "_view_name": "HBoxView",
            "box_style": "",
            "children": [
              "IPY_MODEL_018ce2a73bde47cfb5d7cb937839dd5c",
              "IPY_MODEL_e291a5bb57584a3caf41fd71b5c34f91",
              "IPY_MODEL_cc48a3eb8c8f48ada0fdad0284e7d578"
            ],
            "layout": "IPY_MODEL_db0326f194054ef5abedb128c6b8cb18"
          }
        },
        "7e375bc143424928a5aac3cdcfc8adbc": {
          "model_module": "@jupyter-widgets/controls",
          "model_module_version": "1.5.0",
          "model_name": "HTMLModel",
          "state": {
            "_dom_classes": [],
            "_model_module": "@jupyter-widgets/controls",
            "_model_module_version": "1.5.0",
            "_model_name": "HTMLModel",
            "_view_count": null,
            "_view_module": "@jupyter-widgets/controls",
            "_view_module_version": "1.5.0",
            "_view_name": "HTMLView",
            "description": "",
            "description_tooltip": null,
            "layout": "IPY_MODEL_dedc103de3cf4d14b13533bf3829c75e",
            "placeholder": "​",
            "style": "IPY_MODEL_f1a6c5a0773541f194ee414ca074a2cf",
            "value": " 5/5 [00:02&lt;00:00,  2.08ba/s]"
          }
        },
        "7fd7d50fbc3c4972a9debd07205dd31d": {
          "model_module": "@jupyter-widgets/controls",
          "model_module_version": "1.5.0",
          "model_name": "HTMLModel",
          "state": {
            "_dom_classes": [],
            "_model_module": "@jupyter-widgets/controls",
            "_model_module_version": "1.5.0",
            "_model_name": "HTMLModel",
            "_view_count": null,
            "_view_module": "@jupyter-widgets/controls",
            "_view_module_version": "1.5.0",
            "_view_name": "HTMLView",
            "description": "",
            "description_tooltip": null,
            "layout": "IPY_MODEL_b0f5cf3cc89a4b23913617932bd37434",
            "placeholder": "​",
            "style": "IPY_MODEL_dbe968e25df64d2a96b81d98b5ed8cdc",
            "value": "Upload file runs/Jun09_23-02-14_cd70aa5e2986/events.out.tfevents.1654815761.cd70aa5e2986.82.2: 100%"
          }
        },
        "8383d81d45ff46da95a9d61e2d4e70f1": {
          "model_module": "@jupyter-widgets/controls",
          "model_module_version": "1.5.0",
          "model_name": "HTMLModel",
          "state": {
            "_dom_classes": [],
            "_model_module": "@jupyter-widgets/controls",
            "_model_module_version": "1.5.0",
            "_model_name": "HTMLModel",
            "_view_count": null,
            "_view_module": "@jupyter-widgets/controls",
            "_view_module_version": "1.5.0",
            "_view_name": "HTMLView",
            "description": "",
            "description_tooltip": null,
            "layout": "IPY_MODEL_ad7dfc1892b84d3dab9bb853e8990949",
            "placeholder": "​",
            "style": "IPY_MODEL_a96549024c4a403d8d1ed7674c1f8fac",
            "value": " 29.0/29.0 [00:00&lt;00:00, 1.16kB/s]"
          }
        },
        "893aa1acdd8a4238bd5a738c8ac61d67": {
          "model_module": "@jupyter-widgets/base",
          "model_module_version": "1.2.0",
          "model_name": "LayoutModel",
          "state": {
            "_model_module": "@jupyter-widgets/base",
            "_model_module_version": "1.2.0",
            "_model_name": "LayoutModel",
            "_view_count": null,
            "_view_module": "@jupyter-widgets/base",
            "_view_module_version": "1.2.0",
            "_view_name": "LayoutView",
            "align_content": null,
            "align_items": null,
            "align_self": null,
            "border": null,
            "bottom": null,
            "display": null,
            "flex": null,
            "flex_flow": null,
            "grid_area": null,
            "grid_auto_columns": null,
            "grid_auto_flow": null,
            "grid_auto_rows": null,
            "grid_column": null,
            "grid_gap": null,
            "grid_row": null,
            "grid_template_areas": null,
            "grid_template_columns": null,
            "grid_template_rows": null,
            "height": null,
            "justify_content": null,
            "justify_items": null,
            "left": null,
            "margin": null,
            "max_height": null,
            "max_width": null,
            "min_height": null,
            "min_width": null,
            "object_fit": null,
            "object_position": null,
            "order": null,
            "overflow": null,
            "overflow_x": null,
            "overflow_y": null,
            "padding": null,
            "right": null,
            "top": null,
            "visibility": null,
            "width": null
          }
        },
        "8ac2a36b95ab498596cfc13cc872602a": {
          "model_module": "@jupyter-widgets/controls",
          "model_module_version": "1.5.0",
          "model_name": "ProgressStyleModel",
          "state": {
            "_model_module": "@jupyter-widgets/controls",
            "_model_module_version": "1.5.0",
            "_model_name": "ProgressStyleModel",
            "_view_count": null,
            "_view_module": "@jupyter-widgets/base",
            "_view_module_version": "1.2.0",
            "_view_name": "StyleView",
            "bar_color": null,
            "description_width": ""
          }
        },
        "8b0f8fa80f0f47ee8486d944c8fc3923": {
          "model_module": "@jupyter-widgets/controls",
          "model_module_version": "1.5.0",
          "model_name": "DescriptionStyleModel",
          "state": {
            "_model_module": "@jupyter-widgets/controls",
            "_model_module_version": "1.5.0",
            "_model_name": "DescriptionStyleModel",
            "_view_count": null,
            "_view_module": "@jupyter-widgets/base",
            "_view_module_version": "1.2.0",
            "_view_name": "StyleView",
            "description_width": ""
          }
        },
        "8b1457712bc64c149782e609eded3dd1": {
          "model_module": "@jupyter-widgets/controls",
          "model_module_version": "1.5.0",
          "model_name": "HBoxModel",
          "state": {
            "_dom_classes": [],
            "_model_module": "@jupyter-widgets/controls",
            "_model_module_version": "1.5.0",
            "_model_name": "HBoxModel",
            "_view_count": null,
            "_view_module": "@jupyter-widgets/controls",
            "_view_module_version": "1.5.0",
            "_view_name": "HBoxView",
            "box_style": "",
            "children": [
              "IPY_MODEL_0d704997657b4867873102ea5cdde120",
              "IPY_MODEL_972681626bd8491a9d04d5342ff4d644",
              "IPY_MODEL_f737c757087a4a49882514aa969b1d48"
            ],
            "layout": "IPY_MODEL_ef11db03883f48139a82f10d48f84b32"
          }
        },
        "8ca7b68241f143e9a5b3caa34fd16201": {
          "model_module": "@jupyter-widgets/base",
          "model_module_version": "1.2.0",
          "model_name": "LayoutModel",
          "state": {
            "_model_module": "@jupyter-widgets/base",
            "_model_module_version": "1.2.0",
            "_model_name": "LayoutModel",
            "_view_count": null,
            "_view_module": "@jupyter-widgets/base",
            "_view_module_version": "1.2.0",
            "_view_name": "LayoutView",
            "align_content": null,
            "align_items": null,
            "align_self": null,
            "border": null,
            "bottom": null,
            "display": null,
            "flex": null,
            "flex_flow": null,
            "grid_area": null,
            "grid_auto_columns": null,
            "grid_auto_flow": null,
            "grid_auto_rows": null,
            "grid_column": null,
            "grid_gap": null,
            "grid_row": null,
            "grid_template_areas": null,
            "grid_template_columns": null,
            "grid_template_rows": null,
            "height": null,
            "justify_content": null,
            "justify_items": null,
            "left": null,
            "margin": null,
            "max_height": null,
            "max_width": null,
            "min_height": null,
            "min_width": null,
            "object_fit": null,
            "object_position": null,
            "order": null,
            "overflow": null,
            "overflow_x": null,
            "overflow_y": null,
            "padding": null,
            "right": null,
            "top": null,
            "visibility": null,
            "width": null
          }
        },
        "94be078c767346a89945d8cb55de1dbc": {
          "model_module": "@jupyter-widgets/controls",
          "model_module_version": "1.5.0",
          "model_name": "HBoxModel",
          "state": {
            "_dom_classes": [],
            "_model_module": "@jupyter-widgets/controls",
            "_model_module_version": "1.5.0",
            "_model_name": "HBoxModel",
            "_view_count": null,
            "_view_module": "@jupyter-widgets/controls",
            "_view_module_version": "1.5.0",
            "_view_name": "HBoxView",
            "box_style": "",
            "children": [
              "IPY_MODEL_7fd7d50fbc3c4972a9debd07205dd31d",
              "IPY_MODEL_ff1278c6e899418f859778da4c49162f",
              "IPY_MODEL_6c3e75f4f73c497ab25822ed2c748ac6"
            ],
            "layout": "IPY_MODEL_54883d7ca37e43c59d650958178844b0"
          }
        },
        "972681626bd8491a9d04d5342ff4d644": {
          "model_module": "@jupyter-widgets/controls",
          "model_module_version": "1.5.0",
          "model_name": "FloatProgressModel",
          "state": {
            "_dom_classes": [],
            "_model_module": "@jupyter-widgets/controls",
            "_model_module_version": "1.5.0",
            "_model_name": "FloatProgressModel",
            "_view_count": null,
            "_view_module": "@jupyter-widgets/controls",
            "_view_module_version": "1.5.0",
            "_view_name": "ProgressView",
            "bar_style": "success",
            "description": "",
            "description_tooltip": null,
            "layout": "IPY_MODEL_fa84bfdbeb1646b8857c2e941f30d1fa",
            "max": 995526,
            "min": 0,
            "orientation": "horizontal",
            "style": "IPY_MODEL_63684204c3314ca4934ab490f0a0f4fa",
            "value": 995526
          }
        },
        "985b7df52b6b4988818edddafcea4d1e": {
          "model_module": "@jupyter-widgets/controls",
          "model_module_version": "1.5.0",
          "model_name": "HTMLModel",
          "state": {
            "_dom_classes": [],
            "_model_module": "@jupyter-widgets/controls",
            "_model_module_version": "1.5.0",
            "_model_name": "HTMLModel",
            "_view_count": null,
            "_view_module": "@jupyter-widgets/controls",
            "_view_module_version": "1.5.0",
            "_view_name": "HTMLView",
            "description": "",
            "description_tooltip": null,
            "layout": "IPY_MODEL_68f6d6ef366647fe8606d335ca12e7ac",
            "placeholder": "​",
            "style": "IPY_MODEL_9d91e1d5a48e4ba2b0ade6bb262e2c83",
            "value": " 625/625 [00:00&lt;00:00, 18.5kB/s]"
          }
        },
        "9d8391335d254936b1a1ee31f091ec37": {
          "model_module": "@jupyter-widgets/controls",
          "model_module_version": "1.5.0",
          "model_name": "ProgressStyleModel",
          "state": {
            "_model_module": "@jupyter-widgets/controls",
            "_model_module_version": "1.5.0",
            "_model_name": "ProgressStyleModel",
            "_view_count": null,
            "_view_module": "@jupyter-widgets/base",
            "_view_module_version": "1.2.0",
            "_view_name": "StyleView",
            "bar_color": null,
            "description_width": ""
          }
        },
        "9d91e1d5a48e4ba2b0ade6bb262e2c83": {
          "model_module": "@jupyter-widgets/controls",
          "model_module_version": "1.5.0",
          "model_name": "DescriptionStyleModel",
          "state": {
            "_model_module": "@jupyter-widgets/controls",
            "_model_module_version": "1.5.0",
            "_model_name": "DescriptionStyleModel",
            "_view_count": null,
            "_view_module": "@jupyter-widgets/base",
            "_view_module_version": "1.2.0",
            "_view_name": "StyleView",
            "description_width": ""
          }
        },
        "a2bd588ae2154487bbaed6f2be59252c": {
          "model_module": "@jupyter-widgets/base",
          "model_module_version": "1.2.0",
          "model_name": "LayoutModel",
          "state": {
            "_model_module": "@jupyter-widgets/base",
            "_model_module_version": "1.2.0",
            "_model_name": "LayoutModel",
            "_view_count": null,
            "_view_module": "@jupyter-widgets/base",
            "_view_module_version": "1.2.0",
            "_view_name": "LayoutView",
            "align_content": null,
            "align_items": null,
            "align_self": null,
            "border": null,
            "bottom": null,
            "display": null,
            "flex": null,
            "flex_flow": null,
            "grid_area": null,
            "grid_auto_columns": null,
            "grid_auto_flow": null,
            "grid_auto_rows": null,
            "grid_column": null,
            "grid_gap": null,
            "grid_row": null,
            "grid_template_areas": null,
            "grid_template_columns": null,
            "grid_template_rows": null,
            "height": null,
            "justify_content": null,
            "justify_items": null,
            "left": null,
            "margin": null,
            "max_height": null,
            "max_width": null,
            "min_height": null,
            "min_width": null,
            "object_fit": null,
            "object_position": null,
            "order": null,
            "overflow": null,
            "overflow_x": null,
            "overflow_y": null,
            "padding": null,
            "right": null,
            "top": null,
            "visibility": null,
            "width": null
          }
        },
        "a350f9004c8f46138562e44e6b6c86af": {
          "model_module": "@jupyter-widgets/controls",
          "model_module_version": "1.5.0",
          "model_name": "ProgressStyleModel",
          "state": {
            "_model_module": "@jupyter-widgets/controls",
            "_model_module_version": "1.5.0",
            "_model_name": "ProgressStyleModel",
            "_view_count": null,
            "_view_module": "@jupyter-widgets/base",
            "_view_module_version": "1.2.0",
            "_view_name": "StyleView",
            "bar_color": null,
            "description_width": ""
          }
        },
        "a427535f85df41cdb20fe3df9ff2d43a": {
          "model_module": "@jupyter-widgets/controls",
          "model_module_version": "1.5.0",
          "model_name": "HTMLModel",
          "state": {
            "_dom_classes": [],
            "_model_module": "@jupyter-widgets/controls",
            "_model_module_version": "1.5.0",
            "_model_name": "HTMLModel",
            "_view_count": null,
            "_view_module": "@jupyter-widgets/controls",
            "_view_module_version": "1.5.0",
            "_view_name": "HTMLView",
            "description": "",
            "description_tooltip": null,
            "layout": "IPY_MODEL_893aa1acdd8a4238bd5a738c8ac61d67",
            "placeholder": "​",
            "style": "IPY_MODEL_743da34002e34209977ea784f3ea70cc",
            "value": "100%"
          }
        },
        "a83f7d4125f74765b3fbda406e8e2842": {
          "model_module": "@jupyter-widgets/controls",
          "model_module_version": "1.5.0",
          "model_name": "ProgressStyleModel",
          "state": {
            "_model_module": "@jupyter-widgets/controls",
            "_model_module_version": "1.5.0",
            "_model_name": "ProgressStyleModel",
            "_view_count": null,
            "_view_module": "@jupyter-widgets/base",
            "_view_module_version": "1.2.0",
            "_view_name": "StyleView",
            "bar_color": null,
            "description_width": ""
          }
        },
        "a96549024c4a403d8d1ed7674c1f8fac": {
          "model_module": "@jupyter-widgets/controls",
          "model_module_version": "1.5.0",
          "model_name": "DescriptionStyleModel",
          "state": {
            "_model_module": "@jupyter-widgets/controls",
            "_model_module_version": "1.5.0",
            "_model_name": "DescriptionStyleModel",
            "_view_count": null,
            "_view_module": "@jupyter-widgets/base",
            "_view_module_version": "1.2.0",
            "_view_name": "StyleView",
            "description_width": ""
          }
        },
        "aa43d6487ec14856b7e70bdd69c06ee3": {
          "model_module": "@jupyter-widgets/base",
          "model_module_version": "1.2.0",
          "model_name": "LayoutModel",
          "state": {
            "_model_module": "@jupyter-widgets/base",
            "_model_module_version": "1.2.0",
            "_model_name": "LayoutModel",
            "_view_count": null,
            "_view_module": "@jupyter-widgets/base",
            "_view_module_version": "1.2.0",
            "_view_name": "LayoutView",
            "align_content": null,
            "align_items": null,
            "align_self": null,
            "border": null,
            "bottom": null,
            "display": null,
            "flex": null,
            "flex_flow": null,
            "grid_area": null,
            "grid_auto_columns": null,
            "grid_auto_flow": null,
            "grid_auto_rows": null,
            "grid_column": null,
            "grid_gap": null,
            "grid_row": null,
            "grid_template_areas": null,
            "grid_template_columns": null,
            "grid_template_rows": null,
            "height": null,
            "justify_content": null,
            "justify_items": null,
            "left": null,
            "margin": null,
            "max_height": null,
            "max_width": null,
            "min_height": null,
            "min_width": null,
            "object_fit": null,
            "object_position": null,
            "order": null,
            "overflow": null,
            "overflow_x": null,
            "overflow_y": null,
            "padding": null,
            "right": null,
            "top": null,
            "visibility": null,
            "width": null
          }
        },
        "ad7dfc1892b84d3dab9bb853e8990949": {
          "model_module": "@jupyter-widgets/base",
          "model_module_version": "1.2.0",
          "model_name": "LayoutModel",
          "state": {
            "_model_module": "@jupyter-widgets/base",
            "_model_module_version": "1.2.0",
            "_model_name": "LayoutModel",
            "_view_count": null,
            "_view_module": "@jupyter-widgets/base",
            "_view_module_version": "1.2.0",
            "_view_name": "LayoutView",
            "align_content": null,
            "align_items": null,
            "align_self": null,
            "border": null,
            "bottom": null,
            "display": null,
            "flex": null,
            "flex_flow": null,
            "grid_area": null,
            "grid_auto_columns": null,
            "grid_auto_flow": null,
            "grid_auto_rows": null,
            "grid_column": null,
            "grid_gap": null,
            "grid_row": null,
            "grid_template_areas": null,
            "grid_template_columns": null,
            "grid_template_rows": null,
            "height": null,
            "justify_content": null,
            "justify_items": null,
            "left": null,
            "margin": null,
            "max_height": null,
            "max_width": null,
            "min_height": null,
            "min_width": null,
            "object_fit": null,
            "object_position": null,
            "order": null,
            "overflow": null,
            "overflow_x": null,
            "overflow_y": null,
            "padding": null,
            "right": null,
            "top": null,
            "visibility": null,
            "width": null
          }
        },
        "b0f5cf3cc89a4b23913617932bd37434": {
          "model_module": "@jupyter-widgets/base",
          "model_module_version": "1.2.0",
          "model_name": "LayoutModel",
          "state": {
            "_model_module": "@jupyter-widgets/base",
            "_model_module_version": "1.2.0",
            "_model_name": "LayoutModel",
            "_view_count": null,
            "_view_module": "@jupyter-widgets/base",
            "_view_module_version": "1.2.0",
            "_view_name": "LayoutView",
            "align_content": null,
            "align_items": null,
            "align_self": null,
            "border": null,
            "bottom": null,
            "display": null,
            "flex": null,
            "flex_flow": null,
            "grid_area": null,
            "grid_auto_columns": null,
            "grid_auto_flow": null,
            "grid_auto_rows": null,
            "grid_column": null,
            "grid_gap": null,
            "grid_row": null,
            "grid_template_areas": null,
            "grid_template_columns": null,
            "grid_template_rows": null,
            "height": null,
            "justify_content": null,
            "justify_items": null,
            "left": null,
            "margin": null,
            "max_height": null,
            "max_width": null,
            "min_height": null,
            "min_width": null,
            "object_fit": null,
            "object_position": null,
            "order": null,
            "overflow": null,
            "overflow_x": null,
            "overflow_y": null,
            "padding": null,
            "right": null,
            "top": null,
            "visibility": null,
            "width": null
          }
        },
        "b368bc09597f4146a9007494487b52f1": {
          "model_module": "@jupyter-widgets/controls",
          "model_module_version": "1.5.0",
          "model_name": "HTMLModel",
          "state": {
            "_dom_classes": [],
            "_model_module": "@jupyter-widgets/controls",
            "_model_module_version": "1.5.0",
            "_model_name": "HTMLModel",
            "_view_count": null,
            "_view_module": "@jupyter-widgets/controls",
            "_view_module_version": "1.5.0",
            "_view_name": "HTMLView",
            "description": "",
            "description_tooltip": null,
            "layout": "IPY_MODEL_a2bd588ae2154487bbaed6f2be59252c",
            "placeholder": "​",
            "style": "IPY_MODEL_fc403e4c8b6c4027a033f539b2ef073d",
            "value": "Downloading: 100%"
          }
        },
        "b44b050e5b9e41c3883c60fbf57a5ce0": {
          "model_module": "@jupyter-widgets/base",
          "model_module_version": "1.2.0",
          "model_name": "LayoutModel",
          "state": {
            "_model_module": "@jupyter-widgets/base",
            "_model_module_version": "1.2.0",
            "_model_name": "LayoutModel",
            "_view_count": null,
            "_view_module": "@jupyter-widgets/base",
            "_view_module_version": "1.2.0",
            "_view_name": "LayoutView",
            "align_content": null,
            "align_items": null,
            "align_self": null,
            "border": null,
            "bottom": null,
            "display": null,
            "flex": null,
            "flex_flow": null,
            "grid_area": null,
            "grid_auto_columns": null,
            "grid_auto_flow": null,
            "grid_auto_rows": null,
            "grid_column": null,
            "grid_gap": null,
            "grid_row": null,
            "grid_template_areas": null,
            "grid_template_columns": null,
            "grid_template_rows": null,
            "height": null,
            "justify_content": null,
            "justify_items": null,
            "left": null,
            "margin": null,
            "max_height": null,
            "max_width": null,
            "min_height": null,
            "min_width": null,
            "object_fit": null,
            "object_position": null,
            "order": null,
            "overflow": null,
            "overflow_x": null,
            "overflow_y": null,
            "padding": null,
            "right": null,
            "top": null,
            "visibility": null,
            "width": null
          }
        },
        "b6a8c9131f7c4d739167c726fadcdde5": {
          "model_module": "@jupyter-widgets/controls",
          "model_module_version": "1.5.0",
          "model_name": "ProgressStyleModel",
          "state": {
            "_model_module": "@jupyter-widgets/controls",
            "_model_module_version": "1.5.0",
            "_model_name": "ProgressStyleModel",
            "_view_count": null,
            "_view_module": "@jupyter-widgets/base",
            "_view_module_version": "1.2.0",
            "_view_name": "StyleView",
            "bar_color": null,
            "description_width": ""
          }
        },
        "ba3268f645744355947a5e0a8411b505": {
          "model_module": "@jupyter-widgets/base",
          "model_module_version": "1.2.0",
          "model_name": "LayoutModel",
          "state": {
            "_model_module": "@jupyter-widgets/base",
            "_model_module_version": "1.2.0",
            "_model_name": "LayoutModel",
            "_view_count": null,
            "_view_module": "@jupyter-widgets/base",
            "_view_module_version": "1.2.0",
            "_view_name": "LayoutView",
            "align_content": null,
            "align_items": null,
            "align_self": null,
            "border": null,
            "bottom": null,
            "display": null,
            "flex": null,
            "flex_flow": null,
            "grid_area": null,
            "grid_auto_columns": null,
            "grid_auto_flow": null,
            "grid_auto_rows": null,
            "grid_column": null,
            "grid_gap": null,
            "grid_row": null,
            "grid_template_areas": null,
            "grid_template_columns": null,
            "grid_template_rows": null,
            "height": null,
            "justify_content": null,
            "justify_items": null,
            "left": null,
            "margin": null,
            "max_height": null,
            "max_width": null,
            "min_height": null,
            "min_width": null,
            "object_fit": null,
            "object_position": null,
            "order": null,
            "overflow": null,
            "overflow_x": null,
            "overflow_y": null,
            "padding": null,
            "right": null,
            "top": null,
            "visibility": null,
            "width": null
          }
        },
        "bcbf4832dc4a47d9b5eda76c3267c0e1": {
          "model_module": "@jupyter-widgets/controls",
          "model_module_version": "1.5.0",
          "model_name": "DescriptionStyleModel",
          "state": {
            "_model_module": "@jupyter-widgets/controls",
            "_model_module_version": "1.5.0",
            "_model_name": "DescriptionStyleModel",
            "_view_count": null,
            "_view_module": "@jupyter-widgets/base",
            "_view_module_version": "1.2.0",
            "_view_name": "StyleView",
            "description_width": ""
          }
        },
        "bfdb7fa5d4b346d1b7bc47ed79fac8d4": {
          "model_module": "@jupyter-widgets/controls",
          "model_module_version": "1.5.0",
          "model_name": "HTMLModel",
          "state": {
            "_dom_classes": [],
            "_model_module": "@jupyter-widgets/controls",
            "_model_module_version": "1.5.0",
            "_model_name": "HTMLModel",
            "_view_count": null,
            "_view_module": "@jupyter-widgets/controls",
            "_view_module_version": "1.5.0",
            "_view_name": "HTMLView",
            "description": "",
            "description_tooltip": null,
            "layout": "IPY_MODEL_28d335e5e21b4fcca92d8c70f60fd573",
            "placeholder": "​",
            "style": "IPY_MODEL_bcbf4832dc4a47d9b5eda76c3267c0e1",
            "value": "Downloading: 100%"
          }
        },
        "c5dd9d7e7bd141a492fb3dcd85555f20": {
          "model_module": "@jupyter-widgets/base",
          "model_module_version": "1.2.0",
          "model_name": "LayoutModel",
          "state": {
            "_model_module": "@jupyter-widgets/base",
            "_model_module_version": "1.2.0",
            "_model_name": "LayoutModel",
            "_view_count": null,
            "_view_module": "@jupyter-widgets/base",
            "_view_module_version": "1.2.0",
            "_view_name": "LayoutView",
            "align_content": null,
            "align_items": null,
            "align_self": null,
            "border": null,
            "bottom": null,
            "display": null,
            "flex": null,
            "flex_flow": null,
            "grid_area": null,
            "grid_auto_columns": null,
            "grid_auto_flow": null,
            "grid_auto_rows": null,
            "grid_column": null,
            "grid_gap": null,
            "grid_row": null,
            "grid_template_areas": null,
            "grid_template_columns": null,
            "grid_template_rows": null,
            "height": null,
            "justify_content": null,
            "justify_items": null,
            "left": null,
            "margin": null,
            "max_height": null,
            "max_width": null,
            "min_height": null,
            "min_width": null,
            "object_fit": null,
            "object_position": null,
            "order": null,
            "overflow": null,
            "overflow_x": null,
            "overflow_y": null,
            "padding": null,
            "right": null,
            "top": null,
            "visibility": null,
            "width": null
          }
        },
        "c69ca31b54324dd68169e0d3a2e4ad78": {
          "model_module": "@jupyter-widgets/controls",
          "model_module_version": "1.5.0",
          "model_name": "HBoxModel",
          "state": {
            "_dom_classes": [],
            "_model_module": "@jupyter-widgets/controls",
            "_model_module_version": "1.5.0",
            "_model_name": "HBoxModel",
            "_view_count": null,
            "_view_module": "@jupyter-widgets/controls",
            "_view_module_version": "1.5.0",
            "_view_name": "HBoxView",
            "box_style": "",
            "children": [
              "IPY_MODEL_bfdb7fa5d4b346d1b7bc47ed79fac8d4",
              "IPY_MODEL_4f07814a82614f84b4fc15ba245975fa",
              "IPY_MODEL_985b7df52b6b4988818edddafcea4d1e"
            ],
            "layout": "IPY_MODEL_8ca7b68241f143e9a5b3caa34fd16201"
          }
        },
        "c6cc51c72c9e4bb195be07c37f83389e": {
          "model_module": "@jupyter-widgets/base",
          "model_module_version": "1.2.0",
          "model_name": "LayoutModel",
          "state": {
            "_model_module": "@jupyter-widgets/base",
            "_model_module_version": "1.2.0",
            "_model_name": "LayoutModel",
            "_view_count": null,
            "_view_module": "@jupyter-widgets/base",
            "_view_module_version": "1.2.0",
            "_view_name": "LayoutView",
            "align_content": null,
            "align_items": null,
            "align_self": null,
            "border": null,
            "bottom": null,
            "display": null,
            "flex": null,
            "flex_flow": null,
            "grid_area": null,
            "grid_auto_columns": null,
            "grid_auto_flow": null,
            "grid_auto_rows": null,
            "grid_column": null,
            "grid_gap": null,
            "grid_row": null,
            "grid_template_areas": null,
            "grid_template_columns": null,
            "grid_template_rows": null,
            "height": null,
            "justify_content": null,
            "justify_items": null,
            "left": null,
            "margin": null,
            "max_height": null,
            "max_width": null,
            "min_height": null,
            "min_width": null,
            "object_fit": null,
            "object_position": null,
            "order": null,
            "overflow": null,
            "overflow_x": null,
            "overflow_y": null,
            "padding": null,
            "right": null,
            "top": null,
            "visibility": null,
            "width": null
          }
        },
        "c78b052153c24c17883ae4afbf28db82": {
          "model_module": "@jupyter-widgets/controls",
          "model_module_version": "1.5.0",
          "model_name": "HTMLModel",
          "state": {
            "_dom_classes": [],
            "_model_module": "@jupyter-widgets/controls",
            "_model_module_version": "1.5.0",
            "_model_name": "HTMLModel",
            "_view_count": null,
            "_view_module": "@jupyter-widgets/controls",
            "_view_module_version": "1.5.0",
            "_view_name": "HTMLView",
            "description": "",
            "description_tooltip": null,
            "layout": "IPY_MODEL_aa43d6487ec14856b7e70bdd69c06ee3",
            "placeholder": "​",
            "style": "IPY_MODEL_652fc2d468944f948cd5f3815c4925d9",
            "value": "Downloading: 100%"
          }
        },
        "c7fa90698e504ee28aa643238345749b": {
          "model_module": "@jupyter-widgets/controls",
          "model_module_version": "1.5.0",
          "model_name": "HBoxModel",
          "state": {
            "_dom_classes": [],
            "_model_module": "@jupyter-widgets/controls",
            "_model_module_version": "1.5.0",
            "_model_name": "HBoxModel",
            "_view_count": null,
            "_view_module": "@jupyter-widgets/controls",
            "_view_module_version": "1.5.0",
            "_view_name": "HBoxView",
            "box_style": "",
            "children": [
              "IPY_MODEL_29dc19db5e8a4cde907c640ae99d1198",
              "IPY_MODEL_0f1a476d2e4f4e509b7b74573f000d78",
              "IPY_MODEL_45a031a35a0b437b8cbb4cdd6d1428d5"
            ],
            "layout": "IPY_MODEL_5b9533fc414944c7b53fdefca1749ca1"
          }
        },
        "ca19a2b120fc4bbfbf6cae8e6a65a809": {
          "model_module": "@jupyter-widgets/base",
          "model_module_version": "1.2.0",
          "model_name": "LayoutModel",
          "state": {
            "_model_module": "@jupyter-widgets/base",
            "_model_module_version": "1.2.0",
            "_model_name": "LayoutModel",
            "_view_count": null,
            "_view_module": "@jupyter-widgets/base",
            "_view_module_version": "1.2.0",
            "_view_name": "LayoutView",
            "align_content": null,
            "align_items": null,
            "align_self": null,
            "border": null,
            "bottom": null,
            "display": null,
            "flex": null,
            "flex_flow": null,
            "grid_area": null,
            "grid_auto_columns": null,
            "grid_auto_flow": null,
            "grid_auto_rows": null,
            "grid_column": null,
            "grid_gap": null,
            "grid_row": null,
            "grid_template_areas": null,
            "grid_template_columns": null,
            "grid_template_rows": null,
            "height": null,
            "justify_content": null,
            "justify_items": null,
            "left": null,
            "margin": null,
            "max_height": null,
            "max_width": null,
            "min_height": null,
            "min_width": null,
            "object_fit": null,
            "object_position": null,
            "order": null,
            "overflow": null,
            "overflow_x": null,
            "overflow_y": null,
            "padding": null,
            "right": null,
            "top": null,
            "visibility": null,
            "width": null
          }
        },
        "cc48a3eb8c8f48ada0fdad0284e7d578": {
          "model_module": "@jupyter-widgets/controls",
          "model_module_version": "1.5.0",
          "model_name": "HTMLModel",
          "state": {
            "_dom_classes": [],
            "_model_module": "@jupyter-widgets/controls",
            "_model_module_version": "1.5.0",
            "_model_name": "HTMLModel",
            "_view_count": null,
            "_view_module": "@jupyter-widgets/controls",
            "_view_module_version": "1.5.0",
            "_view_name": "HTMLView",
            "description": "",
            "description_tooltip": null,
            "layout": "IPY_MODEL_c5dd9d7e7bd141a492fb3dcd85555f20",
            "placeholder": "​",
            "style": "IPY_MODEL_60aa5fb951244804b7c865ad7506ce8d",
            "value": " 676M/676M [09:36&lt;00:00, 496kB/s]"
          }
        },
        "cdc483e9dd424df9a3b14b24b7a10ead": {
          "model_module": "@jupyter-widgets/base",
          "model_module_version": "1.2.0",
          "model_name": "LayoutModel",
          "state": {
            "_model_module": "@jupyter-widgets/base",
            "_model_module_version": "1.2.0",
            "_model_name": "LayoutModel",
            "_view_count": null,
            "_view_module": "@jupyter-widgets/base",
            "_view_module_version": "1.2.0",
            "_view_name": "LayoutView",
            "align_content": null,
            "align_items": null,
            "align_self": null,
            "border": null,
            "bottom": null,
            "display": null,
            "flex": null,
            "flex_flow": null,
            "grid_area": null,
            "grid_auto_columns": null,
            "grid_auto_flow": null,
            "grid_auto_rows": null,
            "grid_column": null,
            "grid_gap": null,
            "grid_row": null,
            "grid_template_areas": null,
            "grid_template_columns": null,
            "grid_template_rows": null,
            "height": null,
            "justify_content": null,
            "justify_items": null,
            "left": null,
            "margin": null,
            "max_height": null,
            "max_width": null,
            "min_height": null,
            "min_width": null,
            "object_fit": null,
            "object_position": null,
            "order": null,
            "overflow": null,
            "overflow_x": null,
            "overflow_y": null,
            "padding": null,
            "right": null,
            "top": null,
            "visibility": null,
            "width": null
          }
        },
        "ce2adb39b8c44dd9a47ab3df8f3bb0a7": {
          "model_module": "@jupyter-widgets/controls",
          "model_module_version": "1.5.0",
          "model_name": "DescriptionStyleModel",
          "state": {
            "_model_module": "@jupyter-widgets/controls",
            "_model_module_version": "1.5.0",
            "_model_name": "DescriptionStyleModel",
            "_view_count": null,
            "_view_module": "@jupyter-widgets/base",
            "_view_module_version": "1.2.0",
            "_view_name": "StyleView",
            "description_width": ""
          }
        },
        "db0326f194054ef5abedb128c6b8cb18": {
          "model_module": "@jupyter-widgets/base",
          "model_module_version": "1.2.0",
          "model_name": "LayoutModel",
          "state": {
            "_model_module": "@jupyter-widgets/base",
            "_model_module_version": "1.2.0",
            "_model_name": "LayoutModel",
            "_view_count": null,
            "_view_module": "@jupyter-widgets/base",
            "_view_module_version": "1.2.0",
            "_view_name": "LayoutView",
            "align_content": null,
            "align_items": null,
            "align_self": null,
            "border": null,
            "bottom": null,
            "display": null,
            "flex": null,
            "flex_flow": null,
            "grid_area": null,
            "grid_auto_columns": null,
            "grid_auto_flow": null,
            "grid_auto_rows": null,
            "grid_column": null,
            "grid_gap": null,
            "grid_row": null,
            "grid_template_areas": null,
            "grid_template_columns": null,
            "grid_template_rows": null,
            "height": null,
            "justify_content": null,
            "justify_items": null,
            "left": null,
            "margin": null,
            "max_height": null,
            "max_width": null,
            "min_height": null,
            "min_width": null,
            "object_fit": null,
            "object_position": null,
            "order": null,
            "overflow": null,
            "overflow_x": null,
            "overflow_y": null,
            "padding": null,
            "right": null,
            "top": null,
            "visibility": null,
            "width": null
          }
        },
        "dbe968e25df64d2a96b81d98b5ed8cdc": {
          "model_module": "@jupyter-widgets/controls",
          "model_module_version": "1.5.0",
          "model_name": "DescriptionStyleModel",
          "state": {
            "_model_module": "@jupyter-widgets/controls",
            "_model_module_version": "1.5.0",
            "_model_name": "DescriptionStyleModel",
            "_view_count": null,
            "_view_module": "@jupyter-widgets/base",
            "_view_module_version": "1.2.0",
            "_view_name": "StyleView",
            "description_width": ""
          }
        },
        "dd2708e16d7b4740b20407f9082b6bde": {
          "model_module": "@jupyter-widgets/controls",
          "model_module_version": "1.5.0",
          "model_name": "DescriptionStyleModel",
          "state": {
            "_model_module": "@jupyter-widgets/controls",
            "_model_module_version": "1.5.0",
            "_model_name": "DescriptionStyleModel",
            "_view_count": null,
            "_view_module": "@jupyter-widgets/base",
            "_view_module_version": "1.2.0",
            "_view_name": "StyleView",
            "description_width": ""
          }
        },
        "de00e6dbc55a4302884713fc6f43422d": {
          "model_module": "@jupyter-widgets/controls",
          "model_module_version": "1.5.0",
          "model_name": "FloatProgressModel",
          "state": {
            "_dom_classes": [],
            "_model_module": "@jupyter-widgets/controls",
            "_model_module_version": "1.5.0",
            "_model_name": "FloatProgressModel",
            "_view_count": null,
            "_view_module": "@jupyter-widgets/controls",
            "_view_module_version": "1.5.0",
            "_view_name": "ProgressView",
            "bar_style": "success",
            "description": "",
            "description_tooltip": null,
            "layout": "IPY_MODEL_4258f110b73d4407b3a43d67fad81d53",
            "max": 29,
            "min": 0,
            "orientation": "horizontal",
            "style": "IPY_MODEL_04dc4e1d79504b49892ca457522b5074",
            "value": 29
          }
        },
        "dedc103de3cf4d14b13533bf3829c75e": {
          "model_module": "@jupyter-widgets/base",
          "model_module_version": "1.2.0",
          "model_name": "LayoutModel",
          "state": {
            "_model_module": "@jupyter-widgets/base",
            "_model_module_version": "1.2.0",
            "_model_name": "LayoutModel",
            "_view_count": null,
            "_view_module": "@jupyter-widgets/base",
            "_view_module_version": "1.2.0",
            "_view_name": "LayoutView",
            "align_content": null,
            "align_items": null,
            "align_self": null,
            "border": null,
            "bottom": null,
            "display": null,
            "flex": null,
            "flex_flow": null,
            "grid_area": null,
            "grid_auto_columns": null,
            "grid_auto_flow": null,
            "grid_auto_rows": null,
            "grid_column": null,
            "grid_gap": null,
            "grid_row": null,
            "grid_template_areas": null,
            "grid_template_columns": null,
            "grid_template_rows": null,
            "height": null,
            "justify_content": null,
            "justify_items": null,
            "left": null,
            "margin": null,
            "max_height": null,
            "max_width": null,
            "min_height": null,
            "min_width": null,
            "object_fit": null,
            "object_position": null,
            "order": null,
            "overflow": null,
            "overflow_x": null,
            "overflow_y": null,
            "padding": null,
            "right": null,
            "top": null,
            "visibility": null,
            "width": null
          }
        },
        "e291a5bb57584a3caf41fd71b5c34f91": {
          "model_module": "@jupyter-widgets/controls",
          "model_module_version": "1.5.0",
          "model_name": "FloatProgressModel",
          "state": {
            "_dom_classes": [],
            "_model_module": "@jupyter-widgets/controls",
            "_model_module_version": "1.5.0",
            "_model_name": "FloatProgressModel",
            "_view_count": null,
            "_view_module": "@jupyter-widgets/controls",
            "_view_module_version": "1.5.0",
            "_view_name": "ProgressView",
            "bar_style": "success",
            "description": "",
            "description_tooltip": null,
            "layout": "IPY_MODEL_41fd11eb86d64308b30875ae509e0c2f",
            "max": 709131057,
            "min": 0,
            "orientation": "horizontal",
            "style": "IPY_MODEL_a350f9004c8f46138562e44e6b6c86af",
            "value": 709131057
          }
        },
        "e3065f56818b45f68deb199f3a9b066a": {
          "model_module": "@jupyter-widgets/controls",
          "model_module_version": "1.5.0",
          "model_name": "FloatProgressModel",
          "state": {
            "_dom_classes": [],
            "_model_module": "@jupyter-widgets/controls",
            "_model_module_version": "1.5.0",
            "_model_name": "FloatProgressModel",
            "_view_count": null,
            "_view_module": "@jupyter-widgets/controls",
            "_view_module_version": "1.5.0",
            "_view_name": "ProgressView",
            "bar_style": "success",
            "description": "",
            "description_tooltip": null,
            "layout": "IPY_MODEL_5ed639e29558449ea786a43bc9b4ab58",
            "max": 5,
            "min": 0,
            "orientation": "horizontal",
            "style": "IPY_MODEL_b6a8c9131f7c4d739167c726fadcdde5",
            "value": 5
          }
        },
        "e5543bd71ca54883b8a8142ba96301d6": {
          "model_module": "@jupyter-widgets/controls",
          "model_module_version": "1.5.0",
          "model_name": "HBoxModel",
          "state": {
            "_dom_classes": [],
            "_model_module": "@jupyter-widgets/controls",
            "_model_module_version": "1.5.0",
            "_model_name": "HBoxModel",
            "_view_count": null,
            "_view_module": "@jupyter-widgets/controls",
            "_view_module_version": "1.5.0",
            "_view_name": "HBoxView",
            "box_style": "",
            "children": [
              "IPY_MODEL_a427535f85df41cdb20fe3df9ff2d43a",
              "IPY_MODEL_e3065f56818b45f68deb199f3a9b066a",
              "IPY_MODEL_7e375bc143424928a5aac3cdcfc8adbc"
            ],
            "layout": "IPY_MODEL_76fc655b667c4c5392333c2662c584bd"
          }
        },
        "ea6c5ff70a83428e977f74086bef6664": {
          "model_module": "@jupyter-widgets/base",
          "model_module_version": "1.2.0",
          "model_name": "LayoutModel",
          "state": {
            "_model_module": "@jupyter-widgets/base",
            "_model_module_version": "1.2.0",
            "_model_name": "LayoutModel",
            "_view_count": null,
            "_view_module": "@jupyter-widgets/base",
            "_view_module_version": "1.2.0",
            "_view_name": "LayoutView",
            "align_content": null,
            "align_items": null,
            "align_self": null,
            "border": null,
            "bottom": null,
            "display": null,
            "flex": null,
            "flex_flow": null,
            "grid_area": null,
            "grid_auto_columns": null,
            "grid_auto_flow": null,
            "grid_auto_rows": null,
            "grid_column": null,
            "grid_gap": null,
            "grid_row": null,
            "grid_template_areas": null,
            "grid_template_columns": null,
            "grid_template_rows": null,
            "height": null,
            "justify_content": null,
            "justify_items": null,
            "left": null,
            "margin": null,
            "max_height": null,
            "max_width": null,
            "min_height": null,
            "min_width": null,
            "object_fit": null,
            "object_position": null,
            "order": null,
            "overflow": null,
            "overflow_x": null,
            "overflow_y": null,
            "padding": null,
            "right": null,
            "top": null,
            "visibility": null,
            "width": null
          }
        },
        "ef11db03883f48139a82f10d48f84b32": {
          "model_module": "@jupyter-widgets/base",
          "model_module_version": "1.2.0",
          "model_name": "LayoutModel",
          "state": {
            "_model_module": "@jupyter-widgets/base",
            "_model_module_version": "1.2.0",
            "_model_name": "LayoutModel",
            "_view_count": null,
            "_view_module": "@jupyter-widgets/base",
            "_view_module_version": "1.2.0",
            "_view_name": "LayoutView",
            "align_content": null,
            "align_items": null,
            "align_self": null,
            "border": null,
            "bottom": null,
            "display": null,
            "flex": null,
            "flex_flow": null,
            "grid_area": null,
            "grid_auto_columns": null,
            "grid_auto_flow": null,
            "grid_auto_rows": null,
            "grid_column": null,
            "grid_gap": null,
            "grid_row": null,
            "grid_template_areas": null,
            "grid_template_columns": null,
            "grid_template_rows": null,
            "height": null,
            "justify_content": null,
            "justify_items": null,
            "left": null,
            "margin": null,
            "max_height": null,
            "max_width": null,
            "min_height": null,
            "min_width": null,
            "object_fit": null,
            "object_position": null,
            "order": null,
            "overflow": null,
            "overflow_x": null,
            "overflow_y": null,
            "padding": null,
            "right": null,
            "top": null,
            "visibility": null,
            "width": null
          }
        },
        "f1a6c5a0773541f194ee414ca074a2cf": {
          "model_module": "@jupyter-widgets/controls",
          "model_module_version": "1.5.0",
          "model_name": "DescriptionStyleModel",
          "state": {
            "_model_module": "@jupyter-widgets/controls",
            "_model_module_version": "1.5.0",
            "_model_name": "DescriptionStyleModel",
            "_view_count": null,
            "_view_module": "@jupyter-widgets/base",
            "_view_module_version": "1.2.0",
            "_view_name": "StyleView",
            "description_width": ""
          }
        },
        "f333119ee33345f0a76ff66f70a667ae": {
          "model_module": "@jupyter-widgets/controls",
          "model_module_version": "1.5.0",
          "model_name": "FloatProgressModel",
          "state": {
            "_dom_classes": [],
            "_model_module": "@jupyter-widgets/controls",
            "_model_module_version": "1.5.0",
            "_model_name": "FloatProgressModel",
            "_view_count": null,
            "_view_module": "@jupyter-widgets/controls",
            "_view_module_version": "1.5.0",
            "_view_name": "ProgressView",
            "bar_style": "success",
            "description": "",
            "description_tooltip": null,
            "layout": "IPY_MODEL_fb6d943aa4724fecbbfb477f1a2dcdb1",
            "max": 714314041,
            "min": 0,
            "orientation": "horizontal",
            "style": "IPY_MODEL_05bb63adaff041abbba3ef6febe65a97",
            "value": 714314041
          }
        },
        "f737c757087a4a49882514aa969b1d48": {
          "model_module": "@jupyter-widgets/controls",
          "model_module_version": "1.5.0",
          "model_name": "HTMLModel",
          "state": {
            "_dom_classes": [],
            "_model_module": "@jupyter-widgets/controls",
            "_model_module_version": "1.5.0",
            "_model_name": "HTMLModel",
            "_view_count": null,
            "_view_module": "@jupyter-widgets/controls",
            "_view_module_version": "1.5.0",
            "_view_name": "HTMLView",
            "description": "",
            "description_tooltip": null,
            "layout": "IPY_MODEL_243a09d94ecd4e9fb0acfe1df21bcc8d",
            "placeholder": "​",
            "style": "IPY_MODEL_6cee8dfd923d41aaa1101d39d4ef48bc",
            "value": " 972k/972k [00:00&lt;00:00, 1.21MB/s]"
          }
        },
        "f7a48f63ce874a4b83232116289d2032": {
          "model_module": "@jupyter-widgets/base",
          "model_module_version": "1.2.0",
          "model_name": "LayoutModel",
          "state": {
            "_model_module": "@jupyter-widgets/base",
            "_model_module_version": "1.2.0",
            "_model_name": "LayoutModel",
            "_view_count": null,
            "_view_module": "@jupyter-widgets/base",
            "_view_module_version": "1.2.0",
            "_view_name": "LayoutView",
            "align_content": null,
            "align_items": null,
            "align_self": null,
            "border": null,
            "bottom": null,
            "display": null,
            "flex": null,
            "flex_flow": null,
            "grid_area": null,
            "grid_auto_columns": null,
            "grid_auto_flow": null,
            "grid_auto_rows": null,
            "grid_column": null,
            "grid_gap": null,
            "grid_row": null,
            "grid_template_areas": null,
            "grid_template_columns": null,
            "grid_template_rows": null,
            "height": null,
            "justify_content": null,
            "justify_items": null,
            "left": null,
            "margin": null,
            "max_height": null,
            "max_width": null,
            "min_height": null,
            "min_width": null,
            "object_fit": null,
            "object_position": null,
            "order": null,
            "overflow": null,
            "overflow_x": null,
            "overflow_y": null,
            "padding": null,
            "right": null,
            "top": null,
            "visibility": null,
            "width": null
          }
        },
        "fa84bfdbeb1646b8857c2e941f30d1fa": {
          "model_module": "@jupyter-widgets/base",
          "model_module_version": "1.2.0",
          "model_name": "LayoutModel",
          "state": {
            "_model_module": "@jupyter-widgets/base",
            "_model_module_version": "1.2.0",
            "_model_name": "LayoutModel",
            "_view_count": null,
            "_view_module": "@jupyter-widgets/base",
            "_view_module_version": "1.2.0",
            "_view_name": "LayoutView",
            "align_content": null,
            "align_items": null,
            "align_self": null,
            "border": null,
            "bottom": null,
            "display": null,
            "flex": null,
            "flex_flow": null,
            "grid_area": null,
            "grid_auto_columns": null,
            "grid_auto_flow": null,
            "grid_auto_rows": null,
            "grid_column": null,
            "grid_gap": null,
            "grid_row": null,
            "grid_template_areas": null,
            "grid_template_columns": null,
            "grid_template_rows": null,
            "height": null,
            "justify_content": null,
            "justify_items": null,
            "left": null,
            "margin": null,
            "max_height": null,
            "max_width": null,
            "min_height": null,
            "min_width": null,
            "object_fit": null,
            "object_position": null,
            "order": null,
            "overflow": null,
            "overflow_x": null,
            "overflow_y": null,
            "padding": null,
            "right": null,
            "top": null,
            "visibility": null,
            "width": null
          }
        },
        "fb6d943aa4724fecbbfb477f1a2dcdb1": {
          "model_module": "@jupyter-widgets/base",
          "model_module_version": "1.2.0",
          "model_name": "LayoutModel",
          "state": {
            "_model_module": "@jupyter-widgets/base",
            "_model_module_version": "1.2.0",
            "_model_name": "LayoutModel",
            "_view_count": null,
            "_view_module": "@jupyter-widgets/base",
            "_view_module_version": "1.2.0",
            "_view_name": "LayoutView",
            "align_content": null,
            "align_items": null,
            "align_self": null,
            "border": null,
            "bottom": null,
            "display": null,
            "flex": null,
            "flex_flow": null,
            "grid_area": null,
            "grid_auto_columns": null,
            "grid_auto_flow": null,
            "grid_auto_rows": null,
            "grid_column": null,
            "grid_gap": null,
            "grid_row": null,
            "grid_template_areas": null,
            "grid_template_columns": null,
            "grid_template_rows": null,
            "height": null,
            "justify_content": null,
            "justify_items": null,
            "left": null,
            "margin": null,
            "max_height": null,
            "max_width": null,
            "min_height": null,
            "min_width": null,
            "object_fit": null,
            "object_position": null,
            "order": null,
            "overflow": null,
            "overflow_x": null,
            "overflow_y": null,
            "padding": null,
            "right": null,
            "top": null,
            "visibility": null,
            "width": null
          }
        },
        "fc403e4c8b6c4027a033f539b2ef073d": {
          "model_module": "@jupyter-widgets/controls",
          "model_module_version": "1.5.0",
          "model_name": "DescriptionStyleModel",
          "state": {
            "_model_module": "@jupyter-widgets/controls",
            "_model_module_version": "1.5.0",
            "_model_name": "DescriptionStyleModel",
            "_view_count": null,
            "_view_module": "@jupyter-widgets/base",
            "_view_module_version": "1.2.0",
            "_view_name": "StyleView",
            "description_width": ""
          }
        },
        "fce9f37802c84ff98a261f69c7b927fc": {
          "model_module": "@jupyter-widgets/controls",
          "model_module_version": "1.5.0",
          "model_name": "HBoxModel",
          "state": {
            "_dom_classes": [],
            "_model_module": "@jupyter-widgets/controls",
            "_model_module_version": "1.5.0",
            "_model_name": "HBoxModel",
            "_view_count": null,
            "_view_module": "@jupyter-widgets/controls",
            "_view_module_version": "1.5.0",
            "_view_name": "HBoxView",
            "box_style": "",
            "children": [
              "IPY_MODEL_fd112dc0665747fc9fbe9d271c8a029b",
              "IPY_MODEL_de00e6dbc55a4302884713fc6f43422d",
              "IPY_MODEL_8383d81d45ff46da95a9d61e2d4e70f1"
            ],
            "layout": "IPY_MODEL_b44b050e5b9e41c3883c60fbf57a5ce0"
          }
        },
        "fd112dc0665747fc9fbe9d271c8a029b": {
          "model_module": "@jupyter-widgets/controls",
          "model_module_version": "1.5.0",
          "model_name": "HTMLModel",
          "state": {
            "_dom_classes": [],
            "_model_module": "@jupyter-widgets/controls",
            "_model_module_version": "1.5.0",
            "_model_name": "HTMLModel",
            "_view_count": null,
            "_view_module": "@jupyter-widgets/controls",
            "_view_module_version": "1.5.0",
            "_view_name": "HTMLView",
            "description": "",
            "description_tooltip": null,
            "layout": "IPY_MODEL_ba3268f645744355947a5e0a8411b505",
            "placeholder": "​",
            "style": "IPY_MODEL_ce2adb39b8c44dd9a47ab3df8f3bb0a7",
            "value": "Downloading: 100%"
          }
        },
        "fda8529e77c5410a88d9b44f48cb6db9": {
          "model_module": "@jupyter-widgets/controls",
          "model_module_version": "1.5.0",
          "model_name": "ProgressStyleModel",
          "state": {
            "_model_module": "@jupyter-widgets/controls",
            "_model_module_version": "1.5.0",
            "_model_name": "ProgressStyleModel",
            "_view_count": null,
            "_view_module": "@jupyter-widgets/base",
            "_view_module_version": "1.2.0",
            "_view_name": "StyleView",
            "bar_color": null,
            "description_width": ""
          }
        },
        "ff1278c6e899418f859778da4c49162f": {
          "model_module": "@jupyter-widgets/controls",
          "model_module_version": "1.5.0",
          "model_name": "FloatProgressModel",
          "state": {
            "_dom_classes": [],
            "_model_module": "@jupyter-widgets/controls",
            "_model_module_version": "1.5.0",
            "_model_name": "FloatProgressModel",
            "_view_count": null,
            "_view_module": "@jupyter-widgets/controls",
            "_view_module_version": "1.5.0",
            "_view_name": "ProgressView",
            "bar_style": "success",
            "description": "",
            "description_tooltip": null,
            "layout": "IPY_MODEL_31f5f0d53b96475f8926d55ce3004b13",
            "max": 8721,
            "min": 0,
            "orientation": "horizontal",
            "style": "IPY_MODEL_fda8529e77c5410a88d9b44f48cb6db9",
            "value": 8721
          }
        },
        "a4d8302506a8471ea2841906313f7bba": {
          "model_module": "@jupyter-widgets/controls",
          "model_name": "HBoxModel",
          "model_module_version": "1.5.0",
          "state": {
            "_dom_classes": [],
            "_model_module": "@jupyter-widgets/controls",
            "_model_module_version": "1.5.0",
            "_model_name": "HBoxModel",
            "_view_count": null,
            "_view_module": "@jupyter-widgets/controls",
            "_view_module_version": "1.5.0",
            "_view_name": "HBoxView",
            "box_style": "",
            "children": [
              "IPY_MODEL_a92d74d0673b4a9f88fa94a222f20ecf",
              "IPY_MODEL_0721331c1dcc41999ed26aaea1689e90",
              "IPY_MODEL_462ccb934d5541f2b11b825b5b462a4d"
            ],
            "layout": "IPY_MODEL_9596dae9de494e21a0480e6fde07165d"
          }
        },
        "a92d74d0673b4a9f88fa94a222f20ecf": {
          "model_module": "@jupyter-widgets/controls",
          "model_name": "HTMLModel",
          "model_module_version": "1.5.0",
          "state": {
            "_dom_classes": [],
            "_model_module": "@jupyter-widgets/controls",
            "_model_module_version": "1.5.0",
            "_model_name": "HTMLModel",
            "_view_count": null,
            "_view_module": "@jupyter-widgets/controls",
            "_view_module_version": "1.5.0",
            "_view_name": "HTMLView",
            "description": "",
            "description_tooltip": null,
            "layout": "IPY_MODEL_7475859fc27a40028d134aabf4cdd1b1",
            "placeholder": "​",
            "style": "IPY_MODEL_a0a2d8cd4c6847d7aac4fd3a9defeeef",
            "value": "Downloading: 100%"
          }
        },
        "0721331c1dcc41999ed26aaea1689e90": {
          "model_module": "@jupyter-widgets/controls",
          "model_name": "FloatProgressModel",
          "model_module_version": "1.5.0",
          "state": {
            "_dom_classes": [],
            "_model_module": "@jupyter-widgets/controls",
            "_model_module_version": "1.5.0",
            "_model_name": "FloatProgressModel",
            "_view_count": null,
            "_view_module": "@jupyter-widgets/controls",
            "_view_module_version": "1.5.0",
            "_view_name": "ProgressView",
            "bar_style": "success",
            "description": "",
            "description_tooltip": null,
            "layout": "IPY_MODEL_4d2e51c270af4430a13b0732f48c4847",
            "max": 967,
            "min": 0,
            "orientation": "horizontal",
            "style": "IPY_MODEL_f4d20a99296641609062da07edb46909",
            "value": 967
          }
        },
        "462ccb934d5541f2b11b825b5b462a4d": {
          "model_module": "@jupyter-widgets/controls",
          "model_name": "HTMLModel",
          "model_module_version": "1.5.0",
          "state": {
            "_dom_classes": [],
            "_model_module": "@jupyter-widgets/controls",
            "_model_module_version": "1.5.0",
            "_model_name": "HTMLModel",
            "_view_count": null,
            "_view_module": "@jupyter-widgets/controls",
            "_view_module_version": "1.5.0",
            "_view_name": "HTMLView",
            "description": "",
            "description_tooltip": null,
            "layout": "IPY_MODEL_f9d62ca3a4a54034958779d102eb8f95",
            "placeholder": "​",
            "style": "IPY_MODEL_2249199a8c7342a8816e9b9b592e5a70",
            "value": " 967/967 [00:00&lt;00:00, 27.7kB/s]"
          }
        },
        "9596dae9de494e21a0480e6fde07165d": {
          "model_module": "@jupyter-widgets/base",
          "model_name": "LayoutModel",
          "model_module_version": "1.2.0",
          "state": {
            "_model_module": "@jupyter-widgets/base",
            "_model_module_version": "1.2.0",
            "_model_name": "LayoutModel",
            "_view_count": null,
            "_view_module": "@jupyter-widgets/base",
            "_view_module_version": "1.2.0",
            "_view_name": "LayoutView",
            "align_content": null,
            "align_items": null,
            "align_self": null,
            "border": null,
            "bottom": null,
            "display": null,
            "flex": null,
            "flex_flow": null,
            "grid_area": null,
            "grid_auto_columns": null,
            "grid_auto_flow": null,
            "grid_auto_rows": null,
            "grid_column": null,
            "grid_gap": null,
            "grid_row": null,
            "grid_template_areas": null,
            "grid_template_columns": null,
            "grid_template_rows": null,
            "height": null,
            "justify_content": null,
            "justify_items": null,
            "left": null,
            "margin": null,
            "max_height": null,
            "max_width": null,
            "min_height": null,
            "min_width": null,
            "object_fit": null,
            "object_position": null,
            "order": null,
            "overflow": null,
            "overflow_x": null,
            "overflow_y": null,
            "padding": null,
            "right": null,
            "top": null,
            "visibility": null,
            "width": null
          }
        },
        "7475859fc27a40028d134aabf4cdd1b1": {
          "model_module": "@jupyter-widgets/base",
          "model_name": "LayoutModel",
          "model_module_version": "1.2.0",
          "state": {
            "_model_module": "@jupyter-widgets/base",
            "_model_module_version": "1.2.0",
            "_model_name": "LayoutModel",
            "_view_count": null,
            "_view_module": "@jupyter-widgets/base",
            "_view_module_version": "1.2.0",
            "_view_name": "LayoutView",
            "align_content": null,
            "align_items": null,
            "align_self": null,
            "border": null,
            "bottom": null,
            "display": null,
            "flex": null,
            "flex_flow": null,
            "grid_area": null,
            "grid_auto_columns": null,
            "grid_auto_flow": null,
            "grid_auto_rows": null,
            "grid_column": null,
            "grid_gap": null,
            "grid_row": null,
            "grid_template_areas": null,
            "grid_template_columns": null,
            "grid_template_rows": null,
            "height": null,
            "justify_content": null,
            "justify_items": null,
            "left": null,
            "margin": null,
            "max_height": null,
            "max_width": null,
            "min_height": null,
            "min_width": null,
            "object_fit": null,
            "object_position": null,
            "order": null,
            "overflow": null,
            "overflow_x": null,
            "overflow_y": null,
            "padding": null,
            "right": null,
            "top": null,
            "visibility": null,
            "width": null
          }
        },
        "a0a2d8cd4c6847d7aac4fd3a9defeeef": {
          "model_module": "@jupyter-widgets/controls",
          "model_name": "DescriptionStyleModel",
          "model_module_version": "1.5.0",
          "state": {
            "_model_module": "@jupyter-widgets/controls",
            "_model_module_version": "1.5.0",
            "_model_name": "DescriptionStyleModel",
            "_view_count": null,
            "_view_module": "@jupyter-widgets/base",
            "_view_module_version": "1.2.0",
            "_view_name": "StyleView",
            "description_width": ""
          }
        },
        "4d2e51c270af4430a13b0732f48c4847": {
          "model_module": "@jupyter-widgets/base",
          "model_name": "LayoutModel",
          "model_module_version": "1.2.0",
          "state": {
            "_model_module": "@jupyter-widgets/base",
            "_model_module_version": "1.2.0",
            "_model_name": "LayoutModel",
            "_view_count": null,
            "_view_module": "@jupyter-widgets/base",
            "_view_module_version": "1.2.0",
            "_view_name": "LayoutView",
            "align_content": null,
            "align_items": null,
            "align_self": null,
            "border": null,
            "bottom": null,
            "display": null,
            "flex": null,
            "flex_flow": null,
            "grid_area": null,
            "grid_auto_columns": null,
            "grid_auto_flow": null,
            "grid_auto_rows": null,
            "grid_column": null,
            "grid_gap": null,
            "grid_row": null,
            "grid_template_areas": null,
            "grid_template_columns": null,
            "grid_template_rows": null,
            "height": null,
            "justify_content": null,
            "justify_items": null,
            "left": null,
            "margin": null,
            "max_height": null,
            "max_width": null,
            "min_height": null,
            "min_width": null,
            "object_fit": null,
            "object_position": null,
            "order": null,
            "overflow": null,
            "overflow_x": null,
            "overflow_y": null,
            "padding": null,
            "right": null,
            "top": null,
            "visibility": null,
            "width": null
          }
        },
        "f4d20a99296641609062da07edb46909": {
          "model_module": "@jupyter-widgets/controls",
          "model_name": "ProgressStyleModel",
          "model_module_version": "1.5.0",
          "state": {
            "_model_module": "@jupyter-widgets/controls",
            "_model_module_version": "1.5.0",
            "_model_name": "ProgressStyleModel",
            "_view_count": null,
            "_view_module": "@jupyter-widgets/base",
            "_view_module_version": "1.2.0",
            "_view_name": "StyleView",
            "bar_color": null,
            "description_width": ""
          }
        },
        "f9d62ca3a4a54034958779d102eb8f95": {
          "model_module": "@jupyter-widgets/base",
          "model_name": "LayoutModel",
          "model_module_version": "1.2.0",
          "state": {
            "_model_module": "@jupyter-widgets/base",
            "_model_module_version": "1.2.0",
            "_model_name": "LayoutModel",
            "_view_count": null,
            "_view_module": "@jupyter-widgets/base",
            "_view_module_version": "1.2.0",
            "_view_name": "LayoutView",
            "align_content": null,
            "align_items": null,
            "align_self": null,
            "border": null,
            "bottom": null,
            "display": null,
            "flex": null,
            "flex_flow": null,
            "grid_area": null,
            "grid_auto_columns": null,
            "grid_auto_flow": null,
            "grid_auto_rows": null,
            "grid_column": null,
            "grid_gap": null,
            "grid_row": null,
            "grid_template_areas": null,
            "grid_template_columns": null,
            "grid_template_rows": null,
            "height": null,
            "justify_content": null,
            "justify_items": null,
            "left": null,
            "margin": null,
            "max_height": null,
            "max_width": null,
            "min_height": null,
            "min_width": null,
            "object_fit": null,
            "object_position": null,
            "order": null,
            "overflow": null,
            "overflow_x": null,
            "overflow_y": null,
            "padding": null,
            "right": null,
            "top": null,
            "visibility": null,
            "width": null
          }
        },
        "2249199a8c7342a8816e9b9b592e5a70": {
          "model_module": "@jupyter-widgets/controls",
          "model_name": "DescriptionStyleModel",
          "model_module_version": "1.5.0",
          "state": {
            "_model_module": "@jupyter-widgets/controls",
            "_model_module_version": "1.5.0",
            "_model_name": "DescriptionStyleModel",
            "_view_count": null,
            "_view_module": "@jupyter-widgets/base",
            "_view_module_version": "1.2.0",
            "_view_name": "StyleView",
            "description_width": ""
          }
        },
        "a1543a007498419aab7028308a42b656": {
          "model_module": "@jupyter-widgets/controls",
          "model_name": "HBoxModel",
          "model_module_version": "1.5.0",
          "state": {
            "_dom_classes": [],
            "_model_module": "@jupyter-widgets/controls",
            "_model_module_version": "1.5.0",
            "_model_name": "HBoxModel",
            "_view_count": null,
            "_view_module": "@jupyter-widgets/controls",
            "_view_module_version": "1.5.0",
            "_view_name": "HBoxView",
            "box_style": "",
            "children": [
              "IPY_MODEL_9827cafcd77b4c03a91c46f005075df1",
              "IPY_MODEL_778ed375807644b2baaeb2f6677ead5e",
              "IPY_MODEL_29c00b19aea14941950975e155742b0f"
            ],
            "layout": "IPY_MODEL_3612f6e1364241af9ad872d6693e65ae"
          }
        },
        "9827cafcd77b4c03a91c46f005075df1": {
          "model_module": "@jupyter-widgets/controls",
          "model_name": "HTMLModel",
          "model_module_version": "1.5.0",
          "state": {
            "_dom_classes": [],
            "_model_module": "@jupyter-widgets/controls",
            "_model_module_version": "1.5.0",
            "_model_name": "HTMLModel",
            "_view_count": null,
            "_view_module": "@jupyter-widgets/controls",
            "_view_module_version": "1.5.0",
            "_view_name": "HTMLView",
            "description": "",
            "description_tooltip": null,
            "layout": "IPY_MODEL_261ebf8294d649cbb878e905a2bc2478",
            "placeholder": "​",
            "style": "IPY_MODEL_488c611578ea4db3a4301470ea469767",
            "value": "Downloading: 100%"
          }
        },
        "778ed375807644b2baaeb2f6677ead5e": {
          "model_module": "@jupyter-widgets/controls",
          "model_name": "FloatProgressModel",
          "model_module_version": "1.5.0",
          "state": {
            "_dom_classes": [],
            "_model_module": "@jupyter-widgets/controls",
            "_model_module_version": "1.5.0",
            "_model_name": "FloatProgressModel",
            "_view_count": null,
            "_view_module": "@jupyter-widgets/controls",
            "_view_module_version": "1.5.0",
            "_view_name": "ProgressView",
            "bar_style": "success",
            "description": "",
            "description_tooltip": null,
            "layout": "IPY_MODEL_07ef83bd5f994cc3b7cd923d4adc2ea7",
            "max": 709131057,
            "min": 0,
            "orientation": "horizontal",
            "style": "IPY_MODEL_f7faadf58ded4d85aa87fbb8e8b24aab",
            "value": 709131057
          }
        },
        "29c00b19aea14941950975e155742b0f": {
          "model_module": "@jupyter-widgets/controls",
          "model_name": "HTMLModel",
          "model_module_version": "1.5.0",
          "state": {
            "_dom_classes": [],
            "_model_module": "@jupyter-widgets/controls",
            "_model_module_version": "1.5.0",
            "_model_name": "HTMLModel",
            "_view_count": null,
            "_view_module": "@jupyter-widgets/controls",
            "_view_module_version": "1.5.0",
            "_view_name": "HTMLView",
            "description": "",
            "description_tooltip": null,
            "layout": "IPY_MODEL_3b0466f8c82d4bdca51356877ef83bf6",
            "placeholder": "​",
            "style": "IPY_MODEL_ef383be8d51c44e1b542c95aad7141e2",
            "value": " 676M/676M [00:13&lt;00:00, 56.2MB/s]"
          }
        },
        "3612f6e1364241af9ad872d6693e65ae": {
          "model_module": "@jupyter-widgets/base",
          "model_name": "LayoutModel",
          "model_module_version": "1.2.0",
          "state": {
            "_model_module": "@jupyter-widgets/base",
            "_model_module_version": "1.2.0",
            "_model_name": "LayoutModel",
            "_view_count": null,
            "_view_module": "@jupyter-widgets/base",
            "_view_module_version": "1.2.0",
            "_view_name": "LayoutView",
            "align_content": null,
            "align_items": null,
            "align_self": null,
            "border": null,
            "bottom": null,
            "display": null,
            "flex": null,
            "flex_flow": null,
            "grid_area": null,
            "grid_auto_columns": null,
            "grid_auto_flow": null,
            "grid_auto_rows": null,
            "grid_column": null,
            "grid_gap": null,
            "grid_row": null,
            "grid_template_areas": null,
            "grid_template_columns": null,
            "grid_template_rows": null,
            "height": null,
            "justify_content": null,
            "justify_items": null,
            "left": null,
            "margin": null,
            "max_height": null,
            "max_width": null,
            "min_height": null,
            "min_width": null,
            "object_fit": null,
            "object_position": null,
            "order": null,
            "overflow": null,
            "overflow_x": null,
            "overflow_y": null,
            "padding": null,
            "right": null,
            "top": null,
            "visibility": null,
            "width": null
          }
        },
        "261ebf8294d649cbb878e905a2bc2478": {
          "model_module": "@jupyter-widgets/base",
          "model_name": "LayoutModel",
          "model_module_version": "1.2.0",
          "state": {
            "_model_module": "@jupyter-widgets/base",
            "_model_module_version": "1.2.0",
            "_model_name": "LayoutModel",
            "_view_count": null,
            "_view_module": "@jupyter-widgets/base",
            "_view_module_version": "1.2.0",
            "_view_name": "LayoutView",
            "align_content": null,
            "align_items": null,
            "align_self": null,
            "border": null,
            "bottom": null,
            "display": null,
            "flex": null,
            "flex_flow": null,
            "grid_area": null,
            "grid_auto_columns": null,
            "grid_auto_flow": null,
            "grid_auto_rows": null,
            "grid_column": null,
            "grid_gap": null,
            "grid_row": null,
            "grid_template_areas": null,
            "grid_template_columns": null,
            "grid_template_rows": null,
            "height": null,
            "justify_content": null,
            "justify_items": null,
            "left": null,
            "margin": null,
            "max_height": null,
            "max_width": null,
            "min_height": null,
            "min_width": null,
            "object_fit": null,
            "object_position": null,
            "order": null,
            "overflow": null,
            "overflow_x": null,
            "overflow_y": null,
            "padding": null,
            "right": null,
            "top": null,
            "visibility": null,
            "width": null
          }
        },
        "488c611578ea4db3a4301470ea469767": {
          "model_module": "@jupyter-widgets/controls",
          "model_name": "DescriptionStyleModel",
          "model_module_version": "1.5.0",
          "state": {
            "_model_module": "@jupyter-widgets/controls",
            "_model_module_version": "1.5.0",
            "_model_name": "DescriptionStyleModel",
            "_view_count": null,
            "_view_module": "@jupyter-widgets/base",
            "_view_module_version": "1.2.0",
            "_view_name": "StyleView",
            "description_width": ""
          }
        },
        "07ef83bd5f994cc3b7cd923d4adc2ea7": {
          "model_module": "@jupyter-widgets/base",
          "model_name": "LayoutModel",
          "model_module_version": "1.2.0",
          "state": {
            "_model_module": "@jupyter-widgets/base",
            "_model_module_version": "1.2.0",
            "_model_name": "LayoutModel",
            "_view_count": null,
            "_view_module": "@jupyter-widgets/base",
            "_view_module_version": "1.2.0",
            "_view_name": "LayoutView",
            "align_content": null,
            "align_items": null,
            "align_self": null,
            "border": null,
            "bottom": null,
            "display": null,
            "flex": null,
            "flex_flow": null,
            "grid_area": null,
            "grid_auto_columns": null,
            "grid_auto_flow": null,
            "grid_auto_rows": null,
            "grid_column": null,
            "grid_gap": null,
            "grid_row": null,
            "grid_template_areas": null,
            "grid_template_columns": null,
            "grid_template_rows": null,
            "height": null,
            "justify_content": null,
            "justify_items": null,
            "left": null,
            "margin": null,
            "max_height": null,
            "max_width": null,
            "min_height": null,
            "min_width": null,
            "object_fit": null,
            "object_position": null,
            "order": null,
            "overflow": null,
            "overflow_x": null,
            "overflow_y": null,
            "padding": null,
            "right": null,
            "top": null,
            "visibility": null,
            "width": null
          }
        },
        "f7faadf58ded4d85aa87fbb8e8b24aab": {
          "model_module": "@jupyter-widgets/controls",
          "model_name": "ProgressStyleModel",
          "model_module_version": "1.5.0",
          "state": {
            "_model_module": "@jupyter-widgets/controls",
            "_model_module_version": "1.5.0",
            "_model_name": "ProgressStyleModel",
            "_view_count": null,
            "_view_module": "@jupyter-widgets/base",
            "_view_module_version": "1.2.0",
            "_view_name": "StyleView",
            "bar_color": null,
            "description_width": ""
          }
        },
        "3b0466f8c82d4bdca51356877ef83bf6": {
          "model_module": "@jupyter-widgets/base",
          "model_name": "LayoutModel",
          "model_module_version": "1.2.0",
          "state": {
            "_model_module": "@jupyter-widgets/base",
            "_model_module_version": "1.2.0",
            "_model_name": "LayoutModel",
            "_view_count": null,
            "_view_module": "@jupyter-widgets/base",
            "_view_module_version": "1.2.0",
            "_view_name": "LayoutView",
            "align_content": null,
            "align_items": null,
            "align_self": null,
            "border": null,
            "bottom": null,
            "display": null,
            "flex": null,
            "flex_flow": null,
            "grid_area": null,
            "grid_auto_columns": null,
            "grid_auto_flow": null,
            "grid_auto_rows": null,
            "grid_column": null,
            "grid_gap": null,
            "grid_row": null,
            "grid_template_areas": null,
            "grid_template_columns": null,
            "grid_template_rows": null,
            "height": null,
            "justify_content": null,
            "justify_items": null,
            "left": null,
            "margin": null,
            "max_height": null,
            "max_width": null,
            "min_height": null,
            "min_width": null,
            "object_fit": null,
            "object_position": null,
            "order": null,
            "overflow": null,
            "overflow_x": null,
            "overflow_y": null,
            "padding": null,
            "right": null,
            "top": null,
            "visibility": null,
            "width": null
          }
        },
        "ef383be8d51c44e1b542c95aad7141e2": {
          "model_module": "@jupyter-widgets/controls",
          "model_name": "DescriptionStyleModel",
          "model_module_version": "1.5.0",
          "state": {
            "_model_module": "@jupyter-widgets/controls",
            "_model_module_version": "1.5.0",
            "_model_name": "DescriptionStyleModel",
            "_view_count": null,
            "_view_module": "@jupyter-widgets/base",
            "_view_module_version": "1.2.0",
            "_view_name": "StyleView",
            "description_width": ""
          }
        },
        "78581334a5174ceeb3c87b1d0c8969dc": {
          "model_module": "@jupyter-widgets/controls",
          "model_name": "HBoxModel",
          "model_module_version": "1.5.0",
          "state": {
            "_dom_classes": [],
            "_model_module": "@jupyter-widgets/controls",
            "_model_module_version": "1.5.0",
            "_model_name": "HBoxModel",
            "_view_count": null,
            "_view_module": "@jupyter-widgets/controls",
            "_view_module_version": "1.5.0",
            "_view_name": "HBoxView",
            "box_style": "",
            "children": [
              "IPY_MODEL_f1c2c482ac8e4233b6371f379c85a570",
              "IPY_MODEL_9de1e7a610114df583edaf037183820b",
              "IPY_MODEL_f4e3acf7c2cf4242aac8fb162cfcf467"
            ],
            "layout": "IPY_MODEL_f1ead711677145438a560406e2abd781"
          }
        },
        "f1c2c482ac8e4233b6371f379c85a570": {
          "model_module": "@jupyter-widgets/controls",
          "model_name": "HTMLModel",
          "model_module_version": "1.5.0",
          "state": {
            "_dom_classes": [],
            "_model_module": "@jupyter-widgets/controls",
            "_model_module_version": "1.5.0",
            "_model_name": "HTMLModel",
            "_view_count": null,
            "_view_module": "@jupyter-widgets/controls",
            "_view_module_version": "1.5.0",
            "_view_name": "HTMLView",
            "description": "",
            "description_tooltip": null,
            "layout": "IPY_MODEL_954d6ff6f7e04efa95cee7ce61bfd567",
            "placeholder": "​",
            "style": "IPY_MODEL_59470ffceb9c4935ad86deb823dbeb01",
            "value": "Downloading: 100%"
          }
        },
        "9de1e7a610114df583edaf037183820b": {
          "model_module": "@jupyter-widgets/controls",
          "model_name": "FloatProgressModel",
          "model_module_version": "1.5.0",
          "state": {
            "_dom_classes": [],
            "_model_module": "@jupyter-widgets/controls",
            "_model_module_version": "1.5.0",
            "_model_name": "FloatProgressModel",
            "_view_count": null,
            "_view_module": "@jupyter-widgets/controls",
            "_view_module_version": "1.5.0",
            "_view_name": "ProgressView",
            "bar_style": "success",
            "description": "",
            "description_tooltip": null,
            "layout": "IPY_MODEL_ee8da3555cdc48f6bb64aa6ab78751fc",
            "max": 359,
            "min": 0,
            "orientation": "horizontal",
            "style": "IPY_MODEL_8eb7b74ad0c543988b7cfbd9478ec54f",
            "value": 359
          }
        },
        "f4e3acf7c2cf4242aac8fb162cfcf467": {
          "model_module": "@jupyter-widgets/controls",
          "model_name": "HTMLModel",
          "model_module_version": "1.5.0",
          "state": {
            "_dom_classes": [],
            "_model_module": "@jupyter-widgets/controls",
            "_model_module_version": "1.5.0",
            "_model_name": "HTMLModel",
            "_view_count": null,
            "_view_module": "@jupyter-widgets/controls",
            "_view_module_version": "1.5.0",
            "_view_name": "HTMLView",
            "description": "",
            "description_tooltip": null,
            "layout": "IPY_MODEL_7f338348cd864d888922dccdc822434c",
            "placeholder": "​",
            "style": "IPY_MODEL_cb0196f513b0448aa6b5560444b80545",
            "value": " 359/359 [00:00&lt;00:00, 13.2kB/s]"
          }
        },
        "f1ead711677145438a560406e2abd781": {
          "model_module": "@jupyter-widgets/base",
          "model_name": "LayoutModel",
          "model_module_version": "1.2.0",
          "state": {
            "_model_module": "@jupyter-widgets/base",
            "_model_module_version": "1.2.0",
            "_model_name": "LayoutModel",
            "_view_count": null,
            "_view_module": "@jupyter-widgets/base",
            "_view_module_version": "1.2.0",
            "_view_name": "LayoutView",
            "align_content": null,
            "align_items": null,
            "align_self": null,
            "border": null,
            "bottom": null,
            "display": null,
            "flex": null,
            "flex_flow": null,
            "grid_area": null,
            "grid_auto_columns": null,
            "grid_auto_flow": null,
            "grid_auto_rows": null,
            "grid_column": null,
            "grid_gap": null,
            "grid_row": null,
            "grid_template_areas": null,
            "grid_template_columns": null,
            "grid_template_rows": null,
            "height": null,
            "justify_content": null,
            "justify_items": null,
            "left": null,
            "margin": null,
            "max_height": null,
            "max_width": null,
            "min_height": null,
            "min_width": null,
            "object_fit": null,
            "object_position": null,
            "order": null,
            "overflow": null,
            "overflow_x": null,
            "overflow_y": null,
            "padding": null,
            "right": null,
            "top": null,
            "visibility": null,
            "width": null
          }
        },
        "954d6ff6f7e04efa95cee7ce61bfd567": {
          "model_module": "@jupyter-widgets/base",
          "model_name": "LayoutModel",
          "model_module_version": "1.2.0",
          "state": {
            "_model_module": "@jupyter-widgets/base",
            "_model_module_version": "1.2.0",
            "_model_name": "LayoutModel",
            "_view_count": null,
            "_view_module": "@jupyter-widgets/base",
            "_view_module_version": "1.2.0",
            "_view_name": "LayoutView",
            "align_content": null,
            "align_items": null,
            "align_self": null,
            "border": null,
            "bottom": null,
            "display": null,
            "flex": null,
            "flex_flow": null,
            "grid_area": null,
            "grid_auto_columns": null,
            "grid_auto_flow": null,
            "grid_auto_rows": null,
            "grid_column": null,
            "grid_gap": null,
            "grid_row": null,
            "grid_template_areas": null,
            "grid_template_columns": null,
            "grid_template_rows": null,
            "height": null,
            "justify_content": null,
            "justify_items": null,
            "left": null,
            "margin": null,
            "max_height": null,
            "max_width": null,
            "min_height": null,
            "min_width": null,
            "object_fit": null,
            "object_position": null,
            "order": null,
            "overflow": null,
            "overflow_x": null,
            "overflow_y": null,
            "padding": null,
            "right": null,
            "top": null,
            "visibility": null,
            "width": null
          }
        },
        "59470ffceb9c4935ad86deb823dbeb01": {
          "model_module": "@jupyter-widgets/controls",
          "model_name": "DescriptionStyleModel",
          "model_module_version": "1.5.0",
          "state": {
            "_model_module": "@jupyter-widgets/controls",
            "_model_module_version": "1.5.0",
            "_model_name": "DescriptionStyleModel",
            "_view_count": null,
            "_view_module": "@jupyter-widgets/base",
            "_view_module_version": "1.2.0",
            "_view_name": "StyleView",
            "description_width": ""
          }
        },
        "ee8da3555cdc48f6bb64aa6ab78751fc": {
          "model_module": "@jupyter-widgets/base",
          "model_name": "LayoutModel",
          "model_module_version": "1.2.0",
          "state": {
            "_model_module": "@jupyter-widgets/base",
            "_model_module_version": "1.2.0",
            "_model_name": "LayoutModel",
            "_view_count": null,
            "_view_module": "@jupyter-widgets/base",
            "_view_module_version": "1.2.0",
            "_view_name": "LayoutView",
            "align_content": null,
            "align_items": null,
            "align_self": null,
            "border": null,
            "bottom": null,
            "display": null,
            "flex": null,
            "flex_flow": null,
            "grid_area": null,
            "grid_auto_columns": null,
            "grid_auto_flow": null,
            "grid_auto_rows": null,
            "grid_column": null,
            "grid_gap": null,
            "grid_row": null,
            "grid_template_areas": null,
            "grid_template_columns": null,
            "grid_template_rows": null,
            "height": null,
            "justify_content": null,
            "justify_items": null,
            "left": null,
            "margin": null,
            "max_height": null,
            "max_width": null,
            "min_height": null,
            "min_width": null,
            "object_fit": null,
            "object_position": null,
            "order": null,
            "overflow": null,
            "overflow_x": null,
            "overflow_y": null,
            "padding": null,
            "right": null,
            "top": null,
            "visibility": null,
            "width": null
          }
        },
        "8eb7b74ad0c543988b7cfbd9478ec54f": {
          "model_module": "@jupyter-widgets/controls",
          "model_name": "ProgressStyleModel",
          "model_module_version": "1.5.0",
          "state": {
            "_model_module": "@jupyter-widgets/controls",
            "_model_module_version": "1.5.0",
            "_model_name": "ProgressStyleModel",
            "_view_count": null,
            "_view_module": "@jupyter-widgets/base",
            "_view_module_version": "1.2.0",
            "_view_name": "StyleView",
            "bar_color": null,
            "description_width": ""
          }
        },
        "7f338348cd864d888922dccdc822434c": {
          "model_module": "@jupyter-widgets/base",
          "model_name": "LayoutModel",
          "model_module_version": "1.2.0",
          "state": {
            "_model_module": "@jupyter-widgets/base",
            "_model_module_version": "1.2.0",
            "_model_name": "LayoutModel",
            "_view_count": null,
            "_view_module": "@jupyter-widgets/base",
            "_view_module_version": "1.2.0",
            "_view_name": "LayoutView",
            "align_content": null,
            "align_items": null,
            "align_self": null,
            "border": null,
            "bottom": null,
            "display": null,
            "flex": null,
            "flex_flow": null,
            "grid_area": null,
            "grid_auto_columns": null,
            "grid_auto_flow": null,
            "grid_auto_rows": null,
            "grid_column": null,
            "grid_gap": null,
            "grid_row": null,
            "grid_template_areas": null,
            "grid_template_columns": null,
            "grid_template_rows": null,
            "height": null,
            "justify_content": null,
            "justify_items": null,
            "left": null,
            "margin": null,
            "max_height": null,
            "max_width": null,
            "min_height": null,
            "min_width": null,
            "object_fit": null,
            "object_position": null,
            "order": null,
            "overflow": null,
            "overflow_x": null,
            "overflow_y": null,
            "padding": null,
            "right": null,
            "top": null,
            "visibility": null,
            "width": null
          }
        },
        "cb0196f513b0448aa6b5560444b80545": {
          "model_module": "@jupyter-widgets/controls",
          "model_name": "DescriptionStyleModel",
          "model_module_version": "1.5.0",
          "state": {
            "_model_module": "@jupyter-widgets/controls",
            "_model_module_version": "1.5.0",
            "_model_name": "DescriptionStyleModel",
            "_view_count": null,
            "_view_module": "@jupyter-widgets/base",
            "_view_module_version": "1.2.0",
            "_view_name": "StyleView",
            "description_width": ""
          }
        },
        "01b65f157423499f9c4d032068c99473": {
          "model_module": "@jupyter-widgets/controls",
          "model_name": "HBoxModel",
          "model_module_version": "1.5.0",
          "state": {
            "_dom_classes": [],
            "_model_module": "@jupyter-widgets/controls",
            "_model_module_version": "1.5.0",
            "_model_name": "HBoxModel",
            "_view_count": null,
            "_view_module": "@jupyter-widgets/controls",
            "_view_module_version": "1.5.0",
            "_view_name": "HBoxView",
            "box_style": "",
            "children": [
              "IPY_MODEL_9e93decdf45547418dc5c1af978fcbdb",
              "IPY_MODEL_1fa3cb0e522c4d16994a4012021abdc5",
              "IPY_MODEL_61d8e8cbdffc4bdcb2b7c3a30137ee78"
            ],
            "layout": "IPY_MODEL_20a4fc6880924cb5bcacf160183fa30e"
          }
        },
        "9e93decdf45547418dc5c1af978fcbdb": {
          "model_module": "@jupyter-widgets/controls",
          "model_name": "HTMLModel",
          "model_module_version": "1.5.0",
          "state": {
            "_dom_classes": [],
            "_model_module": "@jupyter-widgets/controls",
            "_model_module_version": "1.5.0",
            "_model_name": "HTMLModel",
            "_view_count": null,
            "_view_module": "@jupyter-widgets/controls",
            "_view_module_version": "1.5.0",
            "_view_name": "HTMLView",
            "description": "",
            "description_tooltip": null,
            "layout": "IPY_MODEL_765231473e5d480fa62319b737692a5d",
            "placeholder": "​",
            "style": "IPY_MODEL_397c1f3ca72741208c502cd835f2b50e",
            "value": "Downloading: 100%"
          }
        },
        "1fa3cb0e522c4d16994a4012021abdc5": {
          "model_module": "@jupyter-widgets/controls",
          "model_name": "FloatProgressModel",
          "model_module_version": "1.5.0",
          "state": {
            "_dom_classes": [],
            "_model_module": "@jupyter-widgets/controls",
            "_model_module_version": "1.5.0",
            "_model_name": "FloatProgressModel",
            "_view_count": null,
            "_view_module": "@jupyter-widgets/controls",
            "_view_module_version": "1.5.0",
            "_view_name": "ProgressView",
            "bar_style": "success",
            "description": "",
            "description_tooltip": null,
            "layout": "IPY_MODEL_9f7f3d0d6206462d9dacbea3f37dca10",
            "max": 995526,
            "min": 0,
            "orientation": "horizontal",
            "style": "IPY_MODEL_ab26556262ef4359aa4f69fc82c987d6",
            "value": 995526
          }
        },
        "61d8e8cbdffc4bdcb2b7c3a30137ee78": {
          "model_module": "@jupyter-widgets/controls",
          "model_name": "HTMLModel",
          "model_module_version": "1.5.0",
          "state": {
            "_dom_classes": [],
            "_model_module": "@jupyter-widgets/controls",
            "_model_module_version": "1.5.0",
            "_model_name": "HTMLModel",
            "_view_count": null,
            "_view_module": "@jupyter-widgets/controls",
            "_view_module_version": "1.5.0",
            "_view_name": "HTMLView",
            "description": "",
            "description_tooltip": null,
            "layout": "IPY_MODEL_e6aeab333b944468b517a49ea4c7725b",
            "placeholder": "​",
            "style": "IPY_MODEL_c80cf233e266493d92af24343d48597f",
            "value": " 972k/972k [00:00&lt;00:00, 1.67MB/s]"
          }
        },
        "20a4fc6880924cb5bcacf160183fa30e": {
          "model_module": "@jupyter-widgets/base",
          "model_name": "LayoutModel",
          "model_module_version": "1.2.0",
          "state": {
            "_model_module": "@jupyter-widgets/base",
            "_model_module_version": "1.2.0",
            "_model_name": "LayoutModel",
            "_view_count": null,
            "_view_module": "@jupyter-widgets/base",
            "_view_module_version": "1.2.0",
            "_view_name": "LayoutView",
            "align_content": null,
            "align_items": null,
            "align_self": null,
            "border": null,
            "bottom": null,
            "display": null,
            "flex": null,
            "flex_flow": null,
            "grid_area": null,
            "grid_auto_columns": null,
            "grid_auto_flow": null,
            "grid_auto_rows": null,
            "grid_column": null,
            "grid_gap": null,
            "grid_row": null,
            "grid_template_areas": null,
            "grid_template_columns": null,
            "grid_template_rows": null,
            "height": null,
            "justify_content": null,
            "justify_items": null,
            "left": null,
            "margin": null,
            "max_height": null,
            "max_width": null,
            "min_height": null,
            "min_width": null,
            "object_fit": null,
            "object_position": null,
            "order": null,
            "overflow": null,
            "overflow_x": null,
            "overflow_y": null,
            "padding": null,
            "right": null,
            "top": null,
            "visibility": null,
            "width": null
          }
        },
        "765231473e5d480fa62319b737692a5d": {
          "model_module": "@jupyter-widgets/base",
          "model_name": "LayoutModel",
          "model_module_version": "1.2.0",
          "state": {
            "_model_module": "@jupyter-widgets/base",
            "_model_module_version": "1.2.0",
            "_model_name": "LayoutModel",
            "_view_count": null,
            "_view_module": "@jupyter-widgets/base",
            "_view_module_version": "1.2.0",
            "_view_name": "LayoutView",
            "align_content": null,
            "align_items": null,
            "align_self": null,
            "border": null,
            "bottom": null,
            "display": null,
            "flex": null,
            "flex_flow": null,
            "grid_area": null,
            "grid_auto_columns": null,
            "grid_auto_flow": null,
            "grid_auto_rows": null,
            "grid_column": null,
            "grid_gap": null,
            "grid_row": null,
            "grid_template_areas": null,
            "grid_template_columns": null,
            "grid_template_rows": null,
            "height": null,
            "justify_content": null,
            "justify_items": null,
            "left": null,
            "margin": null,
            "max_height": null,
            "max_width": null,
            "min_height": null,
            "min_width": null,
            "object_fit": null,
            "object_position": null,
            "order": null,
            "overflow": null,
            "overflow_x": null,
            "overflow_y": null,
            "padding": null,
            "right": null,
            "top": null,
            "visibility": null,
            "width": null
          }
        },
        "397c1f3ca72741208c502cd835f2b50e": {
          "model_module": "@jupyter-widgets/controls",
          "model_name": "DescriptionStyleModel",
          "model_module_version": "1.5.0",
          "state": {
            "_model_module": "@jupyter-widgets/controls",
            "_model_module_version": "1.5.0",
            "_model_name": "DescriptionStyleModel",
            "_view_count": null,
            "_view_module": "@jupyter-widgets/base",
            "_view_module_version": "1.2.0",
            "_view_name": "StyleView",
            "description_width": ""
          }
        },
        "9f7f3d0d6206462d9dacbea3f37dca10": {
          "model_module": "@jupyter-widgets/base",
          "model_name": "LayoutModel",
          "model_module_version": "1.2.0",
          "state": {
            "_model_module": "@jupyter-widgets/base",
            "_model_module_version": "1.2.0",
            "_model_name": "LayoutModel",
            "_view_count": null,
            "_view_module": "@jupyter-widgets/base",
            "_view_module_version": "1.2.0",
            "_view_name": "LayoutView",
            "align_content": null,
            "align_items": null,
            "align_self": null,
            "border": null,
            "bottom": null,
            "display": null,
            "flex": null,
            "flex_flow": null,
            "grid_area": null,
            "grid_auto_columns": null,
            "grid_auto_flow": null,
            "grid_auto_rows": null,
            "grid_column": null,
            "grid_gap": null,
            "grid_row": null,
            "grid_template_areas": null,
            "grid_template_columns": null,
            "grid_template_rows": null,
            "height": null,
            "justify_content": null,
            "justify_items": null,
            "left": null,
            "margin": null,
            "max_height": null,
            "max_width": null,
            "min_height": null,
            "min_width": null,
            "object_fit": null,
            "object_position": null,
            "order": null,
            "overflow": null,
            "overflow_x": null,
            "overflow_y": null,
            "padding": null,
            "right": null,
            "top": null,
            "visibility": null,
            "width": null
          }
        },
        "ab26556262ef4359aa4f69fc82c987d6": {
          "model_module": "@jupyter-widgets/controls",
          "model_name": "ProgressStyleModel",
          "model_module_version": "1.5.0",
          "state": {
            "_model_module": "@jupyter-widgets/controls",
            "_model_module_version": "1.5.0",
            "_model_name": "ProgressStyleModel",
            "_view_count": null,
            "_view_module": "@jupyter-widgets/base",
            "_view_module_version": "1.2.0",
            "_view_name": "StyleView",
            "bar_color": null,
            "description_width": ""
          }
        },
        "e6aeab333b944468b517a49ea4c7725b": {
          "model_module": "@jupyter-widgets/base",
          "model_name": "LayoutModel",
          "model_module_version": "1.2.0",
          "state": {
            "_model_module": "@jupyter-widgets/base",
            "_model_module_version": "1.2.0",
            "_model_name": "LayoutModel",
            "_view_count": null,
            "_view_module": "@jupyter-widgets/base",
            "_view_module_version": "1.2.0",
            "_view_name": "LayoutView",
            "align_content": null,
            "align_items": null,
            "align_self": null,
            "border": null,
            "bottom": null,
            "display": null,
            "flex": null,
            "flex_flow": null,
            "grid_area": null,
            "grid_auto_columns": null,
            "grid_auto_flow": null,
            "grid_auto_rows": null,
            "grid_column": null,
            "grid_gap": null,
            "grid_row": null,
            "grid_template_areas": null,
            "grid_template_columns": null,
            "grid_template_rows": null,
            "height": null,
            "justify_content": null,
            "justify_items": null,
            "left": null,
            "margin": null,
            "max_height": null,
            "max_width": null,
            "min_height": null,
            "min_width": null,
            "object_fit": null,
            "object_position": null,
            "order": null,
            "overflow": null,
            "overflow_x": null,
            "overflow_y": null,
            "padding": null,
            "right": null,
            "top": null,
            "visibility": null,
            "width": null
          }
        },
        "c80cf233e266493d92af24343d48597f": {
          "model_module": "@jupyter-widgets/controls",
          "model_name": "DescriptionStyleModel",
          "model_module_version": "1.5.0",
          "state": {
            "_model_module": "@jupyter-widgets/controls",
            "_model_module_version": "1.5.0",
            "_model_name": "DescriptionStyleModel",
            "_view_count": null,
            "_view_module": "@jupyter-widgets/base",
            "_view_module_version": "1.2.0",
            "_view_name": "StyleView",
            "description_width": ""
          }
        },
        "80a3b6a8658c4c94baf655e64c31ac97": {
          "model_module": "@jupyter-widgets/controls",
          "model_name": "HBoxModel",
          "model_module_version": "1.5.0",
          "state": {
            "_dom_classes": [],
            "_model_module": "@jupyter-widgets/controls",
            "_model_module_version": "1.5.0",
            "_model_name": "HBoxModel",
            "_view_count": null,
            "_view_module": "@jupyter-widgets/controls",
            "_view_module_version": "1.5.0",
            "_view_name": "HBoxView",
            "box_style": "",
            "children": [
              "IPY_MODEL_65366ec987d94aaab6bf2875d347fb0d",
              "IPY_MODEL_abdec00e9a7f4979a4fb30f8709fecb7",
              "IPY_MODEL_e80e8aa34ce2424cae5a6ad313e05c59"
            ],
            "layout": "IPY_MODEL_5fb69377d74c43e897de1513770c5710"
          }
        },
        "65366ec987d94aaab6bf2875d347fb0d": {
          "model_module": "@jupyter-widgets/controls",
          "model_name": "HTMLModel",
          "model_module_version": "1.5.0",
          "state": {
            "_dom_classes": [],
            "_model_module": "@jupyter-widgets/controls",
            "_model_module_version": "1.5.0",
            "_model_name": "HTMLModel",
            "_view_count": null,
            "_view_module": "@jupyter-widgets/controls",
            "_view_module_version": "1.5.0",
            "_view_name": "HTMLView",
            "description": "",
            "description_tooltip": null,
            "layout": "IPY_MODEL_fee46e683f6d414fb4b354ed96024207",
            "placeholder": "​",
            "style": "IPY_MODEL_ae9f7304ee734043943f269e6d335d89",
            "value": "Downloading: 100%"
          }
        },
        "abdec00e9a7f4979a4fb30f8709fecb7": {
          "model_module": "@jupyter-widgets/controls",
          "model_name": "FloatProgressModel",
          "model_module_version": "1.5.0",
          "state": {
            "_dom_classes": [],
            "_model_module": "@jupyter-widgets/controls",
            "_model_module_version": "1.5.0",
            "_model_name": "FloatProgressModel",
            "_view_count": null,
            "_view_module": "@jupyter-widgets/controls",
            "_view_module_version": "1.5.0",
            "_view_name": "ProgressView",
            "bar_style": "success",
            "description": "",
            "description_tooltip": null,
            "layout": "IPY_MODEL_8ad98a41592b4924a3160fd6f46cbbf4",
            "max": 2919460,
            "min": 0,
            "orientation": "horizontal",
            "style": "IPY_MODEL_0a07b226458e4c189578c82068c940f1",
            "value": 2919460
          }
        },
        "e80e8aa34ce2424cae5a6ad313e05c59": {
          "model_module": "@jupyter-widgets/controls",
          "model_name": "HTMLModel",
          "model_module_version": "1.5.0",
          "state": {
            "_dom_classes": [],
            "_model_module": "@jupyter-widgets/controls",
            "_model_module_version": "1.5.0",
            "_model_name": "HTMLModel",
            "_view_count": null,
            "_view_module": "@jupyter-widgets/controls",
            "_view_module_version": "1.5.0",
            "_view_name": "HTMLView",
            "description": "",
            "description_tooltip": null,
            "layout": "IPY_MODEL_94a788135a51488884f769b17a3b3116",
            "placeholder": "​",
            "style": "IPY_MODEL_8b6928430df147c599ca38f8aed30be9",
            "value": " 2.78M/2.78M [00:00&lt;00:00, 3.03MB/s]"
          }
        },
        "5fb69377d74c43e897de1513770c5710": {
          "model_module": "@jupyter-widgets/base",
          "model_name": "LayoutModel",
          "model_module_version": "1.2.0",
          "state": {
            "_model_module": "@jupyter-widgets/base",
            "_model_module_version": "1.2.0",
            "_model_name": "LayoutModel",
            "_view_count": null,
            "_view_module": "@jupyter-widgets/base",
            "_view_module_version": "1.2.0",
            "_view_name": "LayoutView",
            "align_content": null,
            "align_items": null,
            "align_self": null,
            "border": null,
            "bottom": null,
            "display": null,
            "flex": null,
            "flex_flow": null,
            "grid_area": null,
            "grid_auto_columns": null,
            "grid_auto_flow": null,
            "grid_auto_rows": null,
            "grid_column": null,
            "grid_gap": null,
            "grid_row": null,
            "grid_template_areas": null,
            "grid_template_columns": null,
            "grid_template_rows": null,
            "height": null,
            "justify_content": null,
            "justify_items": null,
            "left": null,
            "margin": null,
            "max_height": null,
            "max_width": null,
            "min_height": null,
            "min_width": null,
            "object_fit": null,
            "object_position": null,
            "order": null,
            "overflow": null,
            "overflow_x": null,
            "overflow_y": null,
            "padding": null,
            "right": null,
            "top": null,
            "visibility": null,
            "width": null
          }
        },
        "fee46e683f6d414fb4b354ed96024207": {
          "model_module": "@jupyter-widgets/base",
          "model_name": "LayoutModel",
          "model_module_version": "1.2.0",
          "state": {
            "_model_module": "@jupyter-widgets/base",
            "_model_module_version": "1.2.0",
            "_model_name": "LayoutModel",
            "_view_count": null,
            "_view_module": "@jupyter-widgets/base",
            "_view_module_version": "1.2.0",
            "_view_name": "LayoutView",
            "align_content": null,
            "align_items": null,
            "align_self": null,
            "border": null,
            "bottom": null,
            "display": null,
            "flex": null,
            "flex_flow": null,
            "grid_area": null,
            "grid_auto_columns": null,
            "grid_auto_flow": null,
            "grid_auto_rows": null,
            "grid_column": null,
            "grid_gap": null,
            "grid_row": null,
            "grid_template_areas": null,
            "grid_template_columns": null,
            "grid_template_rows": null,
            "height": null,
            "justify_content": null,
            "justify_items": null,
            "left": null,
            "margin": null,
            "max_height": null,
            "max_width": null,
            "min_height": null,
            "min_width": null,
            "object_fit": null,
            "object_position": null,
            "order": null,
            "overflow": null,
            "overflow_x": null,
            "overflow_y": null,
            "padding": null,
            "right": null,
            "top": null,
            "visibility": null,
            "width": null
          }
        },
        "ae9f7304ee734043943f269e6d335d89": {
          "model_module": "@jupyter-widgets/controls",
          "model_name": "DescriptionStyleModel",
          "model_module_version": "1.5.0",
          "state": {
            "_model_module": "@jupyter-widgets/controls",
            "_model_module_version": "1.5.0",
            "_model_name": "DescriptionStyleModel",
            "_view_count": null,
            "_view_module": "@jupyter-widgets/base",
            "_view_module_version": "1.2.0",
            "_view_name": "StyleView",
            "description_width": ""
          }
        },
        "8ad98a41592b4924a3160fd6f46cbbf4": {
          "model_module": "@jupyter-widgets/base",
          "model_name": "LayoutModel",
          "model_module_version": "1.2.0",
          "state": {
            "_model_module": "@jupyter-widgets/base",
            "_model_module_version": "1.2.0",
            "_model_name": "LayoutModel",
            "_view_count": null,
            "_view_module": "@jupyter-widgets/base",
            "_view_module_version": "1.2.0",
            "_view_name": "LayoutView",
            "align_content": null,
            "align_items": null,
            "align_self": null,
            "border": null,
            "bottom": null,
            "display": null,
            "flex": null,
            "flex_flow": null,
            "grid_area": null,
            "grid_auto_columns": null,
            "grid_auto_flow": null,
            "grid_auto_rows": null,
            "grid_column": null,
            "grid_gap": null,
            "grid_row": null,
            "grid_template_areas": null,
            "grid_template_columns": null,
            "grid_template_rows": null,
            "height": null,
            "justify_content": null,
            "justify_items": null,
            "left": null,
            "margin": null,
            "max_height": null,
            "max_width": null,
            "min_height": null,
            "min_width": null,
            "object_fit": null,
            "object_position": null,
            "order": null,
            "overflow": null,
            "overflow_x": null,
            "overflow_y": null,
            "padding": null,
            "right": null,
            "top": null,
            "visibility": null,
            "width": null
          }
        },
        "0a07b226458e4c189578c82068c940f1": {
          "model_module": "@jupyter-widgets/controls",
          "model_name": "ProgressStyleModel",
          "model_module_version": "1.5.0",
          "state": {
            "_model_module": "@jupyter-widgets/controls",
            "_model_module_version": "1.5.0",
            "_model_name": "ProgressStyleModel",
            "_view_count": null,
            "_view_module": "@jupyter-widgets/base",
            "_view_module_version": "1.2.0",
            "_view_name": "StyleView",
            "bar_color": null,
            "description_width": ""
          }
        },
        "94a788135a51488884f769b17a3b3116": {
          "model_module": "@jupyter-widgets/base",
          "model_name": "LayoutModel",
          "model_module_version": "1.2.0",
          "state": {
            "_model_module": "@jupyter-widgets/base",
            "_model_module_version": "1.2.0",
            "_model_name": "LayoutModel",
            "_view_count": null,
            "_view_module": "@jupyter-widgets/base",
            "_view_module_version": "1.2.0",
            "_view_name": "LayoutView",
            "align_content": null,
            "align_items": null,
            "align_self": null,
            "border": null,
            "bottom": null,
            "display": null,
            "flex": null,
            "flex_flow": null,
            "grid_area": null,
            "grid_auto_columns": null,
            "grid_auto_flow": null,
            "grid_auto_rows": null,
            "grid_column": null,
            "grid_gap": null,
            "grid_row": null,
            "grid_template_areas": null,
            "grid_template_columns": null,
            "grid_template_rows": null,
            "height": null,
            "justify_content": null,
            "justify_items": null,
            "left": null,
            "margin": null,
            "max_height": null,
            "max_width": null,
            "min_height": null,
            "min_width": null,
            "object_fit": null,
            "object_position": null,
            "order": null,
            "overflow": null,
            "overflow_x": null,
            "overflow_y": null,
            "padding": null,
            "right": null,
            "top": null,
            "visibility": null,
            "width": null
          }
        },
        "8b6928430df147c599ca38f8aed30be9": {
          "model_module": "@jupyter-widgets/controls",
          "model_name": "DescriptionStyleModel",
          "model_module_version": "1.5.0",
          "state": {
            "_model_module": "@jupyter-widgets/controls",
            "_model_module_version": "1.5.0",
            "_model_name": "DescriptionStyleModel",
            "_view_count": null,
            "_view_module": "@jupyter-widgets/base",
            "_view_module_version": "1.2.0",
            "_view_name": "StyleView",
            "description_width": ""
          }
        },
        "f22f82fde5fc42ae8fc8d344a9cc8168": {
          "model_module": "@jupyter-widgets/controls",
          "model_name": "HBoxModel",
          "model_module_version": "1.5.0",
          "state": {
            "_dom_classes": [],
            "_model_module": "@jupyter-widgets/controls",
            "_model_module_version": "1.5.0",
            "_model_name": "HBoxModel",
            "_view_count": null,
            "_view_module": "@jupyter-widgets/controls",
            "_view_module_version": "1.5.0",
            "_view_name": "HBoxView",
            "box_style": "",
            "children": [
              "IPY_MODEL_c67991df708e49128889c1998af6ca3a",
              "IPY_MODEL_844f567620414ca982596bc039b35bbe",
              "IPY_MODEL_ee12048aae2e41d09456fa362b513eed"
            ],
            "layout": "IPY_MODEL_c6fa1a11a22d412a95c5f7fb574b5e81"
          }
        },
        "c67991df708e49128889c1998af6ca3a": {
          "model_module": "@jupyter-widgets/controls",
          "model_name": "HTMLModel",
          "model_module_version": "1.5.0",
          "state": {
            "_dom_classes": [],
            "_model_module": "@jupyter-widgets/controls",
            "_model_module_version": "1.5.0",
            "_model_name": "HTMLModel",
            "_view_count": null,
            "_view_module": "@jupyter-widgets/controls",
            "_view_module_version": "1.5.0",
            "_view_name": "HTMLView",
            "description": "",
            "description_tooltip": null,
            "layout": "IPY_MODEL_862595115d9e477aac9022d89c994cd3",
            "placeholder": "​",
            "style": "IPY_MODEL_b40872801bab46bcad2832182ebb9314",
            "value": "Downloading: 100%"
          }
        },
        "844f567620414ca982596bc039b35bbe": {
          "model_module": "@jupyter-widgets/controls",
          "model_name": "FloatProgressModel",
          "model_module_version": "1.5.0",
          "state": {
            "_dom_classes": [],
            "_model_module": "@jupyter-widgets/controls",
            "_model_module_version": "1.5.0",
            "_model_name": "FloatProgressModel",
            "_view_count": null,
            "_view_module": "@jupyter-widgets/controls",
            "_view_module_version": "1.5.0",
            "_view_name": "ProgressView",
            "bar_style": "success",
            "description": "",
            "description_tooltip": null,
            "layout": "IPY_MODEL_170cea3808014d12a4325ef5f4203d62",
            "max": 112,
            "min": 0,
            "orientation": "horizontal",
            "style": "IPY_MODEL_a07095400feb4ab3923a01fdb423a64e",
            "value": 112
          }
        },
        "ee12048aae2e41d09456fa362b513eed": {
          "model_module": "@jupyter-widgets/controls",
          "model_name": "HTMLModel",
          "model_module_version": "1.5.0",
          "state": {
            "_dom_classes": [],
            "_model_module": "@jupyter-widgets/controls",
            "_model_module_version": "1.5.0",
            "_model_name": "HTMLModel",
            "_view_count": null,
            "_view_module": "@jupyter-widgets/controls",
            "_view_module_version": "1.5.0",
            "_view_name": "HTMLView",
            "description": "",
            "description_tooltip": null,
            "layout": "IPY_MODEL_2a016601cbea450890914ea5e9d237aa",
            "placeholder": "​",
            "style": "IPY_MODEL_588ef054e5944b819a3465552793e746",
            "value": " 112/112 [00:00&lt;00:00, 4.56kB/s]"
          }
        },
        "c6fa1a11a22d412a95c5f7fb574b5e81": {
          "model_module": "@jupyter-widgets/base",
          "model_name": "LayoutModel",
          "model_module_version": "1.2.0",
          "state": {
            "_model_module": "@jupyter-widgets/base",
            "_model_module_version": "1.2.0",
            "_model_name": "LayoutModel",
            "_view_count": null,
            "_view_module": "@jupyter-widgets/base",
            "_view_module_version": "1.2.0",
            "_view_name": "LayoutView",
            "align_content": null,
            "align_items": null,
            "align_self": null,
            "border": null,
            "bottom": null,
            "display": null,
            "flex": null,
            "flex_flow": null,
            "grid_area": null,
            "grid_auto_columns": null,
            "grid_auto_flow": null,
            "grid_auto_rows": null,
            "grid_column": null,
            "grid_gap": null,
            "grid_row": null,
            "grid_template_areas": null,
            "grid_template_columns": null,
            "grid_template_rows": null,
            "height": null,
            "justify_content": null,
            "justify_items": null,
            "left": null,
            "margin": null,
            "max_height": null,
            "max_width": null,
            "min_height": null,
            "min_width": null,
            "object_fit": null,
            "object_position": null,
            "order": null,
            "overflow": null,
            "overflow_x": null,
            "overflow_y": null,
            "padding": null,
            "right": null,
            "top": null,
            "visibility": null,
            "width": null
          }
        },
        "862595115d9e477aac9022d89c994cd3": {
          "model_module": "@jupyter-widgets/base",
          "model_name": "LayoutModel",
          "model_module_version": "1.2.0",
          "state": {
            "_model_module": "@jupyter-widgets/base",
            "_model_module_version": "1.2.0",
            "_model_name": "LayoutModel",
            "_view_count": null,
            "_view_module": "@jupyter-widgets/base",
            "_view_module_version": "1.2.0",
            "_view_name": "LayoutView",
            "align_content": null,
            "align_items": null,
            "align_self": null,
            "border": null,
            "bottom": null,
            "display": null,
            "flex": null,
            "flex_flow": null,
            "grid_area": null,
            "grid_auto_columns": null,
            "grid_auto_flow": null,
            "grid_auto_rows": null,
            "grid_column": null,
            "grid_gap": null,
            "grid_row": null,
            "grid_template_areas": null,
            "grid_template_columns": null,
            "grid_template_rows": null,
            "height": null,
            "justify_content": null,
            "justify_items": null,
            "left": null,
            "margin": null,
            "max_height": null,
            "max_width": null,
            "min_height": null,
            "min_width": null,
            "object_fit": null,
            "object_position": null,
            "order": null,
            "overflow": null,
            "overflow_x": null,
            "overflow_y": null,
            "padding": null,
            "right": null,
            "top": null,
            "visibility": null,
            "width": null
          }
        },
        "b40872801bab46bcad2832182ebb9314": {
          "model_module": "@jupyter-widgets/controls",
          "model_name": "DescriptionStyleModel",
          "model_module_version": "1.5.0",
          "state": {
            "_model_module": "@jupyter-widgets/controls",
            "_model_module_version": "1.5.0",
            "_model_name": "DescriptionStyleModel",
            "_view_count": null,
            "_view_module": "@jupyter-widgets/base",
            "_view_module_version": "1.2.0",
            "_view_name": "StyleView",
            "description_width": ""
          }
        },
        "170cea3808014d12a4325ef5f4203d62": {
          "model_module": "@jupyter-widgets/base",
          "model_name": "LayoutModel",
          "model_module_version": "1.2.0",
          "state": {
            "_model_module": "@jupyter-widgets/base",
            "_model_module_version": "1.2.0",
            "_model_name": "LayoutModel",
            "_view_count": null,
            "_view_module": "@jupyter-widgets/base",
            "_view_module_version": "1.2.0",
            "_view_name": "LayoutView",
            "align_content": null,
            "align_items": null,
            "align_self": null,
            "border": null,
            "bottom": null,
            "display": null,
            "flex": null,
            "flex_flow": null,
            "grid_area": null,
            "grid_auto_columns": null,
            "grid_auto_flow": null,
            "grid_auto_rows": null,
            "grid_column": null,
            "grid_gap": null,
            "grid_row": null,
            "grid_template_areas": null,
            "grid_template_columns": null,
            "grid_template_rows": null,
            "height": null,
            "justify_content": null,
            "justify_items": null,
            "left": null,
            "margin": null,
            "max_height": null,
            "max_width": null,
            "min_height": null,
            "min_width": null,
            "object_fit": null,
            "object_position": null,
            "order": null,
            "overflow": null,
            "overflow_x": null,
            "overflow_y": null,
            "padding": null,
            "right": null,
            "top": null,
            "visibility": null,
            "width": null
          }
        },
        "a07095400feb4ab3923a01fdb423a64e": {
          "model_module": "@jupyter-widgets/controls",
          "model_name": "ProgressStyleModel",
          "model_module_version": "1.5.0",
          "state": {
            "_model_module": "@jupyter-widgets/controls",
            "_model_module_version": "1.5.0",
            "_model_name": "ProgressStyleModel",
            "_view_count": null,
            "_view_module": "@jupyter-widgets/base",
            "_view_module_version": "1.2.0",
            "_view_name": "StyleView",
            "bar_color": null,
            "description_width": ""
          }
        },
        "2a016601cbea450890914ea5e9d237aa": {
          "model_module": "@jupyter-widgets/base",
          "model_name": "LayoutModel",
          "model_module_version": "1.2.0",
          "state": {
            "_model_module": "@jupyter-widgets/base",
            "_model_module_version": "1.2.0",
            "_model_name": "LayoutModel",
            "_view_count": null,
            "_view_module": "@jupyter-widgets/base",
            "_view_module_version": "1.2.0",
            "_view_name": "LayoutView",
            "align_content": null,
            "align_items": null,
            "align_self": null,
            "border": null,
            "bottom": null,
            "display": null,
            "flex": null,
            "flex_flow": null,
            "grid_area": null,
            "grid_auto_columns": null,
            "grid_auto_flow": null,
            "grid_auto_rows": null,
            "grid_column": null,
            "grid_gap": null,
            "grid_row": null,
            "grid_template_areas": null,
            "grid_template_columns": null,
            "grid_template_rows": null,
            "height": null,
            "justify_content": null,
            "justify_items": null,
            "left": null,
            "margin": null,
            "max_height": null,
            "max_width": null,
            "min_height": null,
            "min_width": null,
            "object_fit": null,
            "object_position": null,
            "order": null,
            "overflow": null,
            "overflow_x": null,
            "overflow_y": null,
            "padding": null,
            "right": null,
            "top": null,
            "visibility": null,
            "width": null
          }
        },
        "588ef054e5944b819a3465552793e746": {
          "model_module": "@jupyter-widgets/controls",
          "model_name": "DescriptionStyleModel",
          "model_module_version": "1.5.0",
          "state": {
            "_model_module": "@jupyter-widgets/controls",
            "_model_module_version": "1.5.0",
            "_model_name": "DescriptionStyleModel",
            "_view_count": null,
            "_view_module": "@jupyter-widgets/base",
            "_view_module_version": "1.2.0",
            "_view_name": "StyleView",
            "description_width": ""
          }
        }
      }
    }
  },
  "nbformat": 4,
  "nbformat_minor": 0
}